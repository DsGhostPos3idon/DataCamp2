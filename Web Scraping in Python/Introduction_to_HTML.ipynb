{
  "nbformat": 4,
  "nbformat_minor": 0,
  "metadata": {
    "colab": {
      "name": "Introduction to HTML.ipynb",
      "provenance": [],
      "collapsed_sections": []
    },
    "kernelspec": {
      "name": "python3",
      "display_name": "Python 3"
    },
    "language_info": {
      "name": "python"
    }
  },
  "cells": [
    {
      "cell_type": "markdown",
      "source": [
        "#**From Tree to HTML**\n",
        "Here you are given the chance to create your own bit of HTML code (as a python string). More specifically, below is an HTML tree image and you will finish the missing code within the string html which produces this HTML tree.\n",
        "\n",
        "\n",
        "![](https://drive.google.com/uc?id=1wRMGFSOhUaNg7Dd1e-TVttzDhItglSir)"
      ],
      "metadata": {
        "id": "TiLKuQkfhtrC"
      }
    },
    {
      "cell_type": "code",
      "source": [
        "from scrapy.selector import Selector"
      ],
      "metadata": {
        "id": "iUITjC5ahsXb"
      },
      "execution_count": 9,
      "outputs": []
    },
    {
      "cell_type": "markdown",
      "source": [
        "#**Keep it Classy**\n",
        "In this exercise, you will have a chance to show off what you've learned about attributes; in this case, we focus on the class attribute. Fill in the blank in the HTML code string html to assign a class attribute to the second div element which has the value \"you-are-classy\"."
      ],
      "metadata": {
        "id": "tVzK-PsCm9HH"
      }
    },
    {
      "cell_type": "code",
      "source": [
        "def whats_my_class( html ):\n",
        "  sel = Selector( text = html )\n",
        "  try:\n",
        "  \tprint( \"The class you assigned to the second div element is:\", sel.xpath( '//div' )[1].xpath('./@class' )[0].extract() )\n",
        "  except:\n",
        "    print(\"No second div element class found!\")"
      ],
      "metadata": {
        "id": "csjufmS3nTKK"
      },
      "execution_count": 10,
      "outputs": []
    },
    {
      "cell_type": "code",
      "source": [
        "# HTML code string\n",
        "html = '''\n",
        "<html>\n",
        "  <body>\n",
        "    <div class=\"class1\" id=\"div1\">\n",
        "      <p class=\"class2\">Visit DataCamp!</p>\n",
        "    </div>\n",
        "    <div class=\"you-are-classy\">\n",
        "      <p class=\"class2\">Keep up the good work!</p>\n",
        "    </div>\n",
        "  </body>\n",
        "</html>\n",
        "'''\n",
        "# Print out the class of the second div element\n",
        "whats_my_class( html )"
      ],
      "metadata": {
        "colab": {
          "base_uri": "https://localhost:8080/"
        },
        "id": "eTFqaX5xm7Ik",
        "outputId": "b98759f8-cc37-4e39-8cb2-e86714f7ae7b"
      },
      "execution_count": 11,
      "outputs": [
        {
          "output_type": "stream",
          "name": "stdout",
          "text": [
            "The class you assigned to the second div element is: you-are-classy\n"
          ]
        }
      ]
    },
    {
      "cell_type": "markdown",
      "source": [
        "#**Where am I?**\n",
        "In this exercise, you will navigate to a specific element using your new knowledge of XPath notation.\n",
        "\n",
        "Consider the HTML code:\n",
        "```\n",
        "<html>\n",
        "  <body>\n",
        "    <div>\n",
        "      <p>Good Luck!</p>\n",
        "      <p>Not here...</p>\n",
        "    </div>\n",
        "    <div>\n",
        "      <p>Where am I?</p>\n",
        "    </div>\n",
        "  </body>\n",
        "</html>\n",
        "```\n",
        "\n",
        "\n",
        "Your job will be to create an XPath string using single forward-slashes and brackets which navigates to the paragraph p element which contains the text \"Where am I?\"."
      ],
      "metadata": {
        "id": "h7RKTrm_pTGg"
      }
    },
    {
      "cell_type": "code",
      "source": [
        "# Fill in the blank\n",
        "xpath = '/html/body/div[2]/p'"
      ],
      "metadata": {
        "id": "chEOeVz-nLyA"
      },
      "execution_count": 12,
      "outputs": []
    },
    {
      "cell_type": "markdown",
      "source": [
        "#**It's Time to P**\n",
        "In the lecture, we learned how to use double forward-slashes to navigate to all future generations. In this exercise, you will select all paragraph p elements within the HTML. Because we want you to navigate to all paragraph elements, it is not important that you know what the HTML code is, since the task can be accomplished with a simple XPath string using the double forward-slash notation you have learned.\n",
        "\n",
        "Using double forward-slash notation, assign to the variable xpath a simple XPath string navigating to all paragraph p elements within any HTML code."
      ],
      "metadata": {
        "id": "HojBFas9plw8"
      }
    },
    {
      "cell_type": "code",
      "source": [
        "# Fill in the blank\n",
        "xpath = '//p'"
      ],
      "metadata": {
        "id": "Iy2sExIhpkV-"
      },
      "execution_count": 13,
      "outputs": []
    },
    {
      "cell_type": "markdown",
      "source": [
        "#**A classy span**\n",
        "Although we haven't yet gone deep into XPath, one thing we can do is select elements by their attributes using an XPath. For example, if we want to direct to the div element within the HTML document whose id attribute is \"uid\", then we could write the XPath string '//div[@id=\"uid\"]'. The first part of this string, //div, first looks at all div elements in the HTML document. Then, using the brackets, we specify that we want only the div element with a specific id attribute (in this case uid). To note, the phrase @id=\"uid\" in the brackets would be read as \"attribute id equals uid\".\n",
        "\n",
        "In this exercise, you will select all span elements whose class attribute equals \"span-class\". (Note: span is just another possible tag-name)."
      ],
      "metadata": {
        "id": "EbXKlbGDpucG"
      }
    },
    {
      "cell_type": "code",
      "source": [
        "# Fill in the blank\n",
        "xpath = '//span[@class=\"span-class\"]'"
      ],
      "metadata": {
        "id": "zAJUyYR2ptwt"
      },
      "execution_count": 14,
      "outputs": []
    }
  ]
}