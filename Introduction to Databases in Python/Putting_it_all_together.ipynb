{
  "nbformat": 4,
  "nbformat_minor": 0,
  "metadata": {
    "colab": {
      "name": "Putting it all together.ipynb",
      "provenance": [],
      "collapsed_sections": []
    },
    "kernelspec": {
      "name": "python3",
      "display_name": "Python 3"
    },
    "language_info": {
      "name": "python"
    }
  },
  "cells": [
    {
      "cell_type": "markdown",
      "source": [
        "#**Setup the engine and metadata**\n",
        "In this exercise, your job is to create an engine to the database that will be used in this chapter. Then, you need to initialize its metadata.\n",
        "\n",
        "Recall how you did this in Chapter 1 by leveraging create_engine() and MetaData()."
      ],
      "metadata": {
        "id": "1PqOosF0fFfQ"
      }
    },
    {
      "cell_type": "code",
      "execution_count": 1,
      "metadata": {
        "id": "w-GPzQDRegGM"
      },
      "outputs": [],
      "source": [
        "# Import create_engine, MetaData\n",
        "from sqlalchemy import create_engine, MetaData\n",
        "\n",
        "# Define an engine to connect to chapter5.sqlite: engine\n",
        "engine = create_engine('sqlite:///chapter5.sqlite')\n",
        "\n",
        "# Initialize MetaData: metadata\n",
        "metadata = MetaData()"
      ]
    },
    {
      "cell_type": "markdown",
      "source": [
        "#**Create the table to the database**\n",
        "Having setup the engine and initialized the metadata, you will now define the census table object and then create it in the database using the metadata and engine from the previous exercise. To create it in the database, you will have to use the .create_all() method on the metadata with engine as the argument.\n",
        "\n",
        "It may help to refer back to the Chapter 4 exercise in which you learned how to create a table."
      ],
      "metadata": {
        "id": "enxKxBkffOmD"
      }
    },
    {
      "cell_type": "code",
      "source": [
        "# Import Table, Column, String, and Integer\n",
        "from sqlalchemy import Table, Column, String, Integer\n",
        "\n",
        "# Build a census table: census\n",
        "census = Table('census', metadata,\n",
        "               Column('state', String(30)),\n",
        "               Column('sex', String(1)),\n",
        "               Column('age', Integer()),\n",
        "               Column('pop2000', Integer()),\n",
        "               Column('pop2008', Integer()))\n",
        "\n",
        "# Create the table in the database\n",
        "metadata.create_all(engine)"
      ],
      "metadata": {
        "id": "GQ8xjTWofKNr"
      },
      "execution_count": 2,
      "outputs": []
    },
    {
      "cell_type": "markdown",
      "source": [
        "#**Reading the data from the CSV**\n",
        "Leverage the Python CSV module from the standard library and load the data into a list of dictionaries.\n",
        "\n",
        "It may help to refer back to the Chapter 4 exercise in which you did something similar."
      ],
      "metadata": {
        "id": "crmVEcUKfTK6"
      }
    },
    {
      "cell_type": "code",
      "source": [
        "import csv\n",
        "\n",
        "# Create an empty list: values_list\n",
        "values_list = []\n",
        "\n",
        "with open('census.csv') as file_obj:\n",
        "    csv_reader = csv.reader(file_obj)\n",
        "\n",
        "    # Iterate over the rows\n",
        "    for row in csv_reader:\n",
        "    # Create a dictionary with the values\n",
        "      data = {'state': row[0], 'sex': row[1], 'age':row[2], 'pop2000': row[3],\n",
        "            'pop2008': row[4]}\n",
        "    # Append the dictionary to the values list\n",
        "      values_list.append(data)\n",
        "\n",
        "print(values_list[0:5])\n",
        "print(len(values_list))"
      ],
      "metadata": {
        "colab": {
          "base_uri": "https://localhost:8080/"
        },
        "id": "zudHbA6_fR3B",
        "outputId": "2f46eac3-1f11-4a89-b33a-f61533754991"
      },
      "execution_count": 8,
      "outputs": [
        {
          "output_type": "stream",
          "name": "stdout",
          "text": [
            "[{'state': 'Illinois', 'sex': 'M', 'age': '0', 'pop2000': '89600', 'pop2008': '95012'}, {'state': 'Illinois', 'sex': 'M', 'age': '1', 'pop2000': '88445', 'pop2008': '91829'}, {'state': 'Illinois', 'sex': 'M', 'age': '2', 'pop2000': '88729', 'pop2008': '89547'}, {'state': 'Illinois', 'sex': 'M', 'age': '3', 'pop2000': '88868', 'pop2008': '90037'}, {'state': 'Illinois', 'sex': 'M', 'age': '4', 'pop2000': '91947', 'pop2008': '91111'}]\n",
            "8772\n"
          ]
        }
      ]
    },
    {
      "cell_type": "code",
      "source": [
        "# Import insert\n",
        "from sqlalchemy import insert\n",
        "\n",
        "connection = engine.connect()\n",
        "\n",
        "# Build insert statement: stmt\n",
        "stmt = insert(census)\n",
        "\n",
        "# Use values_list to insert data: results\n",
        "results = connection.execute(stmt, values_list)\n",
        "\n",
        "# Print rowcount\n",
        "print(results.rowcount)"
      ],
      "metadata": {
        "colab": {
          "base_uri": "https://localhost:8080/"
        },
        "id": "xDL1x6yAft7a",
        "outputId": "2f0ed53f-f7ac-4feb-eb6d-aca5ee103f91"
      },
      "execution_count": 7,
      "outputs": [
        {
          "output_type": "stream",
          "name": "stdout",
          "text": [
            "8772\n"
          ]
        }
      ]
    },
    {
      "cell_type": "markdown",
      "source": [
        "#**Determine the average age by population**\n",
        "As Jason discussed in the video, to calculate a weighted average, we first find the total sum of weights multiplied by the values we're averaging, then divide by the sum of all the weights.\n",
        "\n",
        "For example, if we wanted to find a weighted average of data = [10, 30, 50] weighted by weights = [2,4,6], we would compute \n",
        " \n",
        ", or sum(weights * data) / sum(weights).\n",
        "\n",
        "In this exercise, however, you will make use of func.sum() together with select to select the weighted average of a column from a table. You will still work with the census data, and you will compute the average of age weighted by state population in the year 2000, and then group this weighted average by sex."
      ],
      "metadata": {
        "id": "SmJkWFzYhQfV"
      }
    },
    {
      "cell_type": "code",
      "source": [
        "# Import select and func\n",
        "from sqlalchemy import select, func\n",
        "\n",
        "# Select sex and average age weighted by 2000 population\n",
        "stmt = select([(func.sum(census.columns.pop2000 * census.columns.age) \n",
        "  \t\t\t\t\t/ func.sum(census.columns.pop2000)).label('average_age'),\n",
        "               census.columns.sex\n",
        "\t\t\t  ])\n",
        "\n",
        "# Group by sex\n",
        "stmt = stmt.group_by(census.columns.sex)\n",
        "\n",
        "# Execute the query and fetch all the results\n",
        "results = connection.execute(stmt).fetchall()\n",
        "\n",
        "# Print the sex and average age column for each result\n",
        "for result in results:\n",
        "    print(result['sex'], result['average_age'])"
      ],
      "metadata": {
        "colab": {
          "base_uri": "https://localhost:8080/"
        },
        "id": "e3KDVMtngMmN",
        "outputId": "66b5a2b0-3733-403f-883a-f6c50e41c3fb"
      },
      "execution_count": 9,
      "outputs": [
        {
          "output_type": "stream",
          "name": "stdout",
          "text": [
            "F 37\n",
            "M 34\n"
          ]
        }
      ]
    },
    {
      "cell_type": "markdown",
      "source": [
        "#**Determine the percentage of population by gender and state**\n",
        "In this exercise, you will write a query to determine the percentage of the population in 2000 that comprised of women. You will group this query by state."
      ],
      "metadata": {
        "id": "KtBKBS5ciB5v"
      }
    },
    {
      "cell_type": "code",
      "source": [
        "# import case, cast and Float from sqlalchemy\n",
        "from sqlalchemy import case, cast, Float, func\n",
        "\n",
        "# Build a query to calculate the percentage of women in 2000: stmt\n",
        "stmt = select([census.columns.state,\n",
        "    (func.sum(\n",
        "        case([\n",
        "            (census.columns.sex == 'F', census.columns.pop2000)\n",
        "        ], else_=0)) /\n",
        "     cast(func.sum(census.columns.pop2000), Float) * 100).label('percent_female')\n",
        "])\n",
        "\n",
        "# Group By state\n",
        "stmt = stmt.group_by(census.columns.state)\n",
        "\n",
        "# Execute the query and store the results: results\n",
        "results = connection.execute(stmt).fetchall()\n",
        "\n",
        "# Print the percentage\n",
        "for result in results:\n",
        "    print(result.state, result.percent_female)"
      ],
      "metadata": {
        "colab": {
          "base_uri": "https://localhost:8080/"
        },
        "id": "Nh61CT9Ch-Ro",
        "outputId": "72292924-7614-45dc-fbf1-8031f04a956c"
      },
      "execution_count": 10,
      "outputs": [
        {
          "output_type": "stream",
          "name": "stdout",
          "text": [
            "Alabama 51.832407770179465\n",
            "Alaska 49.301497893484594\n",
            "Arizona 50.22361303057914\n",
            "Arkansas 51.26992846221834\n",
            "California 50.35233214901979\n",
            "Colorado 49.84767060299562\n",
            "Connecticut 51.66816507130644\n",
            "Delaware 51.61109733558627\n",
            "District of Columbia 53.129626141738385\n",
            "Florida 51.36488001165242\n",
            "Georgia 51.11408350339436\n",
            "Hawaii 51.118011836915514\n",
            "Idaho 49.98972623903102\n",
            "Illinois 51.11224234802867\n",
            "Indiana 50.95480313297678\n",
            "Iowa 50.950398342534264\n",
            "Kansas 50.821864107754735\n",
            "Kentucky 51.32687036927168\n",
            "Louisiana 51.75351596554121\n",
            "Maine 51.50570813418951\n",
            "Maryland 51.93575549972231\n",
            "Massachusetts 51.843023571316785\n",
            "Michigan 50.97246518318712\n",
            "Minnesota 50.49332944301148\n",
            "Mississippi 51.92229481794672\n",
            "Missouri 51.46888602639692\n",
            "Montana 50.32202690728538\n",
            "Nebraska 50.8584549336086\n",
            "Nevada 49.36736361384359\n",
            "New Hampshire 50.858019844961746\n",
            "New Jersey 51.51713956125773\n",
            "New Mexico 51.0471720798335\n",
            "New York 51.83453865150073\n",
            "North Carolina 51.482262322084594\n",
            "North Dakota 50.50069363231332\n",
            "Ohio 51.46550350015544\n",
            "Oklahoma 51.11362457075227\n",
            "Oregon 50.4294670361772\n",
            "Pennsylvania 51.74043473051053\n",
            "Rhode Island 52.07343391902215\n",
            "South Carolina 51.73072129765755\n",
            "South Dakota 50.52583581373275\n",
            "Tennessee 51.430689699449275\n",
            "Texas 50.515721664207966\n",
            "Utah 49.97295275106927\n",
            "Vermont 51.018573209949466\n",
            "Virginia 51.657252447241795\n",
            "Washington 50.518565087218334\n",
            "West Virginia 51.40042318092286\n",
            "Wisconsin 50.61486452653393\n",
            "Wyoming 49.94595542648306\n"
          ]
        }
      ]
    },
    {
      "cell_type": "markdown",
      "source": [
        "#**Determine the difference by state from the 2000 and 2008 censuses**\n",
        "In this final exercise, you will write a query to calculate the states that changed the most in population. You will limit your query to display only the top 10 states."
      ],
      "metadata": {
        "id": "mBZG1TdLin60"
      }
    },
    {
      "cell_type": "code",
      "source": [
        "from sqlalchemy import desc\n",
        "\n",
        "# Build query to return state name and population difference from 2008 to 2000\n",
        "stmt = select([census.columns.state,\n",
        "     (census.columns.pop2008-census.columns.pop2000).label('pop_change')\n",
        "])\n",
        "\n",
        "# Group by State\n",
        "stmt = stmt.group_by(census.columns.state)\n",
        "\n",
        "# Order by Population Change\n",
        "stmt = stmt.order_by(desc('pop_change'))\n",
        "\n",
        "# Limit to top 10\n",
        "stmt = stmt.limit(10)\n",
        "\n",
        "# Use connection to execute the statement and fetch all results\n",
        "results = connection.execute(stmt).fetchall()\n",
        "\n",
        "# Print the state and population change for each record\n",
        "for result in results:\n",
        "    print('{}:{}'.format(result.state, result.pop_change))"
      ],
      "metadata": {
        "colab": {
          "base_uri": "https://localhost:8080/"
        },
        "id": "E966s0iXijpa",
        "outputId": "58c7e086-1d16-4a55-c1f5-d5657f41ece4"
      },
      "execution_count": 12,
      "outputs": [
        {
          "output_type": "stream",
          "name": "stdout",
          "text": [
            "California:105705\n",
            "Florida:100984\n",
            "Texas:51901\n",
            "New York:47098\n",
            "Pennsylvania:42387\n",
            "Arizona:29509\n",
            "Ohio:29392\n",
            "Illinois:26221\n",
            "Michigan:25126\n",
            "North Carolina:24108\n"
          ]
        }
      ]
    }
  ]
}