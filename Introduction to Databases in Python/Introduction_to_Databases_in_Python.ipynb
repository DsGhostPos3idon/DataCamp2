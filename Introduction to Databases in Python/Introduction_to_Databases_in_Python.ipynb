{
  "nbformat": 4,
  "nbformat_minor": 0,
  "metadata": {
    "colab": {
      "name": "Introduction to Databases in Python.ipynb",
      "provenance": [],
      "collapsed_sections": []
    },
    "kernelspec": {
      "name": "python3",
      "display_name": "Python 3"
    },
    "language_info": {
      "name": "python"
    }
  },
  "cells": [
    {
      "cell_type": "code",
      "execution_count": 1,
      "metadata": {
        "id": "wEmKl1tJdExv"
      },
      "outputs": [],
      "source": [
        "from sqlalchemy import create_engine, MetaData, Table, select"
      ]
    },
    {
      "cell_type": "markdown",
      "source": [
        "#**Engines and connection strings**\n",
        "Alright, it's time to create your first engine! An engine is just a common interface to a database, and the information it requires to connect to one is contained in a connection string, for example sqlite:///example.sqlite. Here, sqlite in sqlite:/// is the database driver, while example.sqlite is a SQLite file contained in the local directory.\n",
        "\n",
        "You can learn a lot more about connection strings in the SQLAlchemy documentation.\n",
        "\n",
        "Your job in this exercise is to create an engine that connects to a local SQLite file named census.sqlite. Then, print the names of the tables the engine contains using the .table_names() method. Note that when you just want to print the table names, you do not need to use engine.connect() after creating the engine."
      ],
      "metadata": {
        "id": "B_vrZl0Jde40"
      }
    },
    {
      "cell_type": "code",
      "source": [
        "# Create an engine that connects to the census.sqlite file: engine\n",
        "engine = create_engine('sqlite:///census.sqlite')\n",
        "\n",
        "# Print table names\n",
        "print(engine.table_names())\n"
      ],
      "metadata": {
        "colab": {
          "base_uri": "https://localhost:8080/"
        },
        "id": "jUbTq2zldfbk",
        "outputId": "14ed34bd-93a0-4da5-9012-f86c7daee5bc"
      },
      "execution_count": 2,
      "outputs": [
        {
          "output_type": "stream",
          "name": "stdout",
          "text": [
            "['census', 'state_fact']\n"
          ]
        },
        {
          "output_type": "stream",
          "name": "stderr",
          "text": [
            "/usr/local/lib/python3.7/dist-packages/ipykernel_launcher.py:5: SADeprecationWarning: The Engine.table_names() method is deprecated and will be removed in a future release.  Please refer to Inspector.get_table_names(). (deprecated since: 1.4)\n",
            "  \"\"\"\n"
          ]
        }
      ]
    },
    {
      "cell_type": "markdown",
      "source": [
        "#**Autoloading Tables from a database**\n",
        "SQLAlchemy can be used to automatically load tables from a database using something called reflection. Reflection is the process of reading the database and building the metadata based on that information. It's the opposite of creating a Table by hand and is very useful for working with existing databases.\n",
        "\n",
        "To perform reflection, you will first need to import and initialize a MetaData object. MetaData objects contain information about tables stored in a database. During reflection, the MetaData object will be populated with information about the reflected table automatically, so we only need to initialize it before reflecting by calling MetaData().\n",
        "\n",
        "You will also need to import the Table object from the SQLAlchemy package. Then, you use this Table object to read your table from the engine, autoload the columns, and populate the metadata. This can be done with a single call to Table(): using the Table object in this manner is a lot like passing arguments to a function. For example, to autoload the columns with the engine, you have to specify the keyword arguments autoload=True and autoload_with=engine to Table().\n",
        "\n",
        "Finally, to view information about the object you just created, you will use the repr() function. For any Python object, repr() returns a text representation of that object. For SQLAlchemy Table objects, it will return the information about that table contained in the metadata.\n",
        "\n",
        "In this exercise, your job is to reflect the \"census\" table available on your engine into a variable called census. We already pre-filled the code to create the engine that you wrote in the previous exercise."
      ],
      "metadata": {
        "id": "frtvT2uNduS1"
      }
    },
    {
      "cell_type": "code",
      "source": [
        "# Create engine: engine\n",
        "engine = create_engine('sqlite:///census.sqlite')\n",
        "\n",
        "# Create a metadata object: metadata\n",
        "metadata = MetaData()\n",
        "\n",
        "# Reflect census table from the engine: census\n",
        "census = Table('census', metadata, autoload=True, autoload_with=engine)\n",
        "\n",
        "# Print census table metadata\n",
        "print(repr(census))"
      ],
      "metadata": {
        "colab": {
          "base_uri": "https://localhost:8080/"
        },
        "id": "dK64sXandlkm",
        "outputId": "9ec4881c-252c-4a87-b258-87323d4bea6e"
      },
      "execution_count": 3,
      "outputs": [
        {
          "output_type": "stream",
          "name": "stdout",
          "text": [
            "Table('census', MetaData(), Column('state', VARCHAR(length=30), table=<census>), Column('sex', VARCHAR(length=1), table=<census>), Column('age', INTEGER(), table=<census>), Column('pop2000', INTEGER(), table=<census>), Column('pop2008', INTEGER(), table=<census>), schema=None)\n"
          ]
        }
      ]
    },
    {
      "cell_type": "markdown",
      "source": [
        "#**Viewing Table details**\n",
        "Great job reflecting the census table! Now you can begin to learn more about the columns and structure of your table. It is important to get an understanding of your database by examining the column names. This can be done by using the .columns attribute and accessing the .keys() method. For example, census.columns.keys() would return a list of column names of the census table.\n",
        "\n",
        "Following this, we can use the metadata container to find out more details about the reflected table such as the columns and their types. For example, information about the table objects are stored in the metadata.tables dictionary, so you can get the metadata of your census table with metadata.tables['census']. This is similar to your use of the repr() function on the census table from the previous exercise.\n",
        "\n",
        "The code for connecting to the engine and initializing the metadata you wrote in the previous exercises is displayed for you again and for the last time. From now on and until Chapter 5, this will usually be done behind the scenes."
      ],
      "metadata": {
        "id": "jCF-LwJTev6w"
      }
    },
    {
      "cell_type": "code",
      "source": [
        "engine = create_engine('sqlite:///census.sqlite')\n",
        "\n",
        "metadata = MetaData()\n",
        "\n",
        "# Reflect the census table from the engine: census\n",
        "census = Table('census', metadata, autoload=True, autoload_with=engine)\n",
        "\n",
        "# Print the column names\n",
        "print(census.columns.keys())\n",
        "\n",
        "# Print full metadata of census\n",
        "print(repr(metadata.tables['census']))"
      ],
      "metadata": {
        "colab": {
          "base_uri": "https://localhost:8080/"
        },
        "id": "lhDN5h7RetJD",
        "outputId": "8c879f42-ff0f-4270-9e6d-24978c7a2457"
      },
      "execution_count": 4,
      "outputs": [
        {
          "output_type": "stream",
          "name": "stdout",
          "text": [
            "['state', 'sex', 'age', 'pop2000', 'pop2008']\n",
            "Table('census', MetaData(), Column('state', VARCHAR(length=30), table=<census>), Column('sex', VARCHAR(length=1), table=<census>), Column('age', INTEGER(), table=<census>), Column('pop2000', INTEGER(), table=<census>), Column('pop2008', INTEGER(), table=<census>), schema=None)\n"
          ]
        }
      ]
    },
    {
      "cell_type": "markdown",
      "source": [
        "#**Selecting data from a Table: raw SQL**\n",
        "As you have seen in the video, to access and manipulate the data in the database, we will first need to establish a connection to it by using the .connect() method on the engine. This is because the create_engine() function that you have used before returns an instance of an engine, but it does not actually open a connection until an action is called that would require a connection, such as a query.\n",
        "\n",
        "Using what we just learned about SQL and applying the .execute() method on our connection, we can leverage a raw SQL query to query all the records in our census table. The object returned by the .execute() method is a ResultProxy. On this ResultProxy, we can then use the .fetchall() method to get our results - that is, the ResultSet.\n",
        "\n",
        "In this exercise, you'll use a traditional SQL query. Notice that when you execute a query using raw SQL, you will query the table in the database directly. In particular, no reflection step is needed.\n",
        "\n",
        "In the next exercise, you'll move to SQLAlchemy and begin to understand its advantages. Go for it!"
      ],
      "metadata": {
        "id": "DpbtStjtfWRb"
      }
    },
    {
      "cell_type": "code",
      "source": [
        "engine = create_engine('sqlite:///census.sqlite')\n",
        "\n",
        "# Create a connection on engine\n",
        "connection = engine.connect()\n",
        "\n",
        "# Build select statement for census table: stmt\n",
        "stmt = 'SELECT * FROM census LIMIT 10'\n",
        "\n",
        "# Execute the statement and fetch the results: results\n",
        "results = connection.execute(stmt).fetchall()\n",
        "\n",
        "# Print results\n",
        "print(results)"
      ],
      "metadata": {
        "colab": {
          "base_uri": "https://localhost:8080/"
        },
        "id": "IcPGjYohfQPE",
        "outputId": "3a714d9d-402f-4347-b6c0-51295358aa0b"
      },
      "execution_count": 5,
      "outputs": [
        {
          "output_type": "stream",
          "name": "stdout",
          "text": [
            "[('Illinois', 'M', 0, 89600, 95012), ('Illinois', 'M', 1, 88445, 91829), ('Illinois', 'M', 2, 88729, 89547), ('Illinois', 'M', 3, 88868, 90037), ('Illinois', 'M', 4, 91947, 91111), ('Illinois', 'M', 5, 93894, 89802), ('Illinois', 'M', 6, 93676, 88931), ('Illinois', 'M', 7, 94818, 90940), ('Illinois', 'M', 8, 95035, 86943), ('Illinois', 'M', 9, 96436, 86055)]\n"
          ]
        }
      ]
    },
    {
      "cell_type": "markdown",
      "source": [
        "#**Selecting data from a Table with SQLAlchemy**\n",
        "Excellent work so far! It's now time to build your first select statement using SQLAlchemy. SQLAlchemy provides a nice \"Pythonic\" way of interacting with databases. When you used raw SQL in the last exercise, you queried the database directly. When using SQLAlchemy, you will go through a Table object instead, and SQLAlchemy will take case of translating your query to an appropriate SQL statement for you. So rather than dealing with the differences between specific dialects of traditional SQL such as MySQL or PostgreSQL, you can leverage the Pythonic framework of SQLAlchemy to streamline your workflow and more efficiently query your data. For this reason, it is worth learning even if you may already be familiar with traditional SQL.\n",
        "\n",
        "In this exercise, you'll once again build a statement to query all records from the census table. This time, however, you'll make use of the select() function of the sqlalchemy module. This function requires a list of tables or columns as the only required argument: for example, select([my_table]).\n",
        "\n",
        "You will also fetch only a few records of the ResultProxy by using .fetchmany() with a size argument specifying the number of records to fetch.\n",
        "\n",
        "Table and MetaData have already been imported. The metadata is available as metadata and the connection to the database as connection."
      ],
      "metadata": {
        "id": "ROfIwcctg2_I"
      }
    },
    {
      "cell_type": "code",
      "source": [
        "# Reflect census table via engine: census\n",
        "census = Table('census', metadata, autoload=True, autoload_with=engine)\n",
        "\n",
        "# Build select statement for census table: stmt\n",
        "stmt = select([census])\n",
        "\n",
        "# Print the emitted statement to see the SQL string\n",
        "print(stmt)"
      ],
      "metadata": {
        "colab": {
          "base_uri": "https://localhost:8080/"
        },
        "id": "xMYWlyLJg3Kq",
        "outputId": "b70a83eb-016b-43df-f0a9-0143f30dcc40"
      },
      "execution_count": 6,
      "outputs": [
        {
          "output_type": "stream",
          "name": "stdout",
          "text": [
            "SELECT census.state, census.sex, census.age, census.pop2000, census.pop2008 \n",
            "FROM census\n"
          ]
        }
      ]
    },
    {
      "cell_type": "code",
      "source": [
        "# Execute the statement on connection and fetch 10 records: result\n",
        "results = connection.execute(stmt).fetchmany(size=10)\n",
        "\n",
        "# Execute the statement and print the results\n",
        "print(results)"
      ],
      "metadata": {
        "colab": {
          "base_uri": "https://localhost:8080/"
        },
        "id": "MaltXb6biTnp",
        "outputId": "9963a3dc-1046-4539-a12e-60bae8a5fe9a"
      },
      "execution_count": 7,
      "outputs": [
        {
          "output_type": "stream",
          "name": "stdout",
          "text": [
            "[('Illinois', 'M', 0, 89600, 95012), ('Illinois', 'M', 1, 88445, 91829), ('Illinois', 'M', 2, 88729, 89547), ('Illinois', 'M', 3, 88868, 90037), ('Illinois', 'M', 4, 91947, 91111), ('Illinois', 'M', 5, 93894, 89802), ('Illinois', 'M', 6, 93676, 88931), ('Illinois', 'M', 7, 94818, 90940), ('Illinois', 'M', 8, 95035, 86943), ('Illinois', 'M', 9, 96436, 86055)]\n"
          ]
        }
      ]
    },
    {
      "cell_type": "markdown",
      "source": [
        "#**Handling a ResultSet**\n",
        "Recall the differences between a ResultProxy and a ResultSet:\n",
        "\n",
        "* ResultProxy: The object returned by the .execute() method. It can be used in a variety of ways to get the data returned by the query.\n",
        "\n",
        "* ResultSet: The actual data asked for in the query when using a fetch method such as .fetchall() on a ResultProxy.\n",
        "\n",
        "This separation between the ResultSet and ResultProxy allows us to fetch as much or as little data as we desire.\n",
        "\n",
        "Once we have a ResultSet, we can use Python to access all the data within it by column name and by list style indexes. For example, you can get the first row of the results by using results[0]. With that first row then assigned to a variable first_row, you can get data from the first column by either using first_row[0] or by column name such as first_row['column_name']. You'll now practice exactly this using the ResultSet you obtained from the census table in the previous exercise. It is stored in the variable results. Enjoy!"
      ],
      "metadata": {
        "id": "vUJsSTI0g39K"
      }
    },
    {
      "cell_type": "code",
      "source": [
        "# Get the first row of the results by using an index: first_row\n",
        "first_row = results[0]\n",
        "\n",
        "# Print the first row of the results\n",
        "print(first_row)\n",
        "\n",
        "# Print the first column of the first row by accessing it by its index\n",
        "print(first_row[0])\n",
        "\n",
        "# Print the 'state' column of the first row by using its name\n",
        "print(first_row.state)"
      ],
      "metadata": {
        "colab": {
          "base_uri": "https://localhost:8080/"
        },
        "id": "cJN-gTLHg4hW",
        "outputId": "7c601451-c9e8-4a19-d773-cddb6213de9b"
      },
      "execution_count": 8,
      "outputs": [
        {
          "output_type": "stream",
          "name": "stdout",
          "text": [
            "('Illinois', 'M', 0, 89600, 95012)\n",
            "Illinois\n",
            "Illinois\n"
          ]
        }
      ]
    }
  ]
}