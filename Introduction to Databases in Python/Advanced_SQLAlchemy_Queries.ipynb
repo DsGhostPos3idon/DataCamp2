{
  "nbformat": 4,
  "nbformat_minor": 0,
  "metadata": {
    "colab": {
      "name": "Advanced SQLAlchemy Queries.ipynb",
      "provenance": [],
      "collapsed_sections": []
    },
    "kernelspec": {
      "name": "python3",
      "display_name": "Python 3"
    },
    "language_info": {
      "name": "python"
    }
  },
  "cells": [
    {
      "cell_type": "code",
      "execution_count": 16,
      "metadata": {
        "id": "9kNOHIPAU5s9"
      },
      "outputs": [],
      "source": [
        "from sqlalchemy import create_engine, MetaData, Table, select, cast"
      ]
    },
    {
      "cell_type": "markdown",
      "source": [
        "#**Connecting to a MySQL database**\n",
        "Before you jump into the calculation exercises, let's begin by connecting to our database. Recall that in the last chapter you connected to a PostgreSQL database. Now, you'll connect to a MySQL database, for which many prefer to use the pymysql database driver, which, like psycopg2 for PostgreSQL, you have to install prior to use.\n",
        "\n",
        "This connection string is going to start with 'mysql+pymysql://', indicating which dialect and driver you're using to establish the connection. The dialect block is followed by the 'username:password' combo. Next, you specify the host and port with the following '@host:port/'. Finally, you wrap up the connection string with the 'database_name'.\n",
        "\n",
        "Now you'll practice connecting to a MySQL database: it will be the same census database that you have already been working with. One of the great things about SQLAlchemy is that, after connecting, it abstracts over the type of database it has connected to and you can write the same SQLAlchemy code, regardless!"
      ],
      "metadata": {
        "id": "aVn5tAftVEpA"
      }
    },
    {
      "cell_type": "code",
      "source": [
        "# Create an engine to the census database\n",
        "engine = create_engine('sqlite:///census.sqlite')\n",
        "connection = engine.connect()\n",
        "\n",
        "# Print the table names\n",
        "print(engine.table_names())"
      ],
      "metadata": {
        "colab": {
          "base_uri": "https://localhost:8080/"
        },
        "id": "alHHbZU7VE6p",
        "outputId": "cbcdd874-5934-4a50-873d-e935ea36ab44"
      },
      "execution_count": 40,
      "outputs": [
        {
          "output_type": "stream",
          "name": "stdout",
          "text": [
            "['census', 'state_fact']\n"
          ]
        },
        {
          "output_type": "stream",
          "name": "stderr",
          "text": [
            "/usr/local/lib/python3.7/dist-packages/ipykernel_launcher.py:6: SADeprecationWarning: The Engine.table_names() method is deprecated and will be removed in a future release.  Please refer to Inspector.get_table_names(). (deprecated since: 1.4)\n",
            "  \n"
          ]
        }
      ]
    },
    {
      "cell_type": "markdown",
      "source": [
        "#**Calculating a difference between two columns**\n",
        "Often, you'll need to perform math operations as part of a query, such as if you wanted to calculate the change in population from 2000 to 2008. For math operations on numbers, the operators in SQLAlchemy work the same way as they do in Python.\n",
        "\n",
        "You can use these operators to perform addition (+), subtraction (-), multiplication (*), division (/), and modulus (%) operations. Note: They behave differently when used with non-numeric column types.\n",
        "\n",
        "Let's now find the top 5 states by population growth between 2000 and 2008."
      ],
      "metadata": {
        "id": "ermBzTq7VFTT"
      }
    },
    {
      "cell_type": "code",
      "source": [
        "metadata = MetaData()\n",
        "\n",
        "# Reflect census table from the engine: census\n",
        "census = Table('census', metadata, autoload=True, autoload_with=engine)\n",
        "\n",
        "# Build query to return state names by population difference from 2008 to 2000: stmt\n",
        "stmt = select([census.columns.state, (census.columns.pop2008-census.columns.pop2000).label('pop_change')])\n",
        "\n",
        "# Append group by for the state: stmt_grouped\n",
        "stmt_grouped = stmt.group_by(census.columns.state)\n",
        "\n",
        "# Append order by for pop_change descendingly: stmt_ordered\n",
        "stmt_ordered = stmt_grouped.order_by(desc('pop_change'))\n",
        "\n",
        "# Return only 5 results: stmt_top5\n",
        "stmt_top5 = stmt_ordered.limit(5)\n",
        "\n",
        "# Use connection to execute stmt_top5 and fetch all results\n",
        "results = connection.execute(stmt_top5).fetchall()\n",
        "\n",
        "# Print the state and population change for each record\n",
        "for result in results:\n",
        "    print('{}:{}'.format(result.state, result.pop_change))"
      ],
      "metadata": {
        "colab": {
          "base_uri": "https://localhost:8080/"
        },
        "id": "e9s_aAOFVFgE",
        "outputId": "d0a90103-9958-4235-a10a-ff31812b3cb4"
      },
      "execution_count": 41,
      "outputs": [
        {
          "output_type": "stream",
          "name": "stdout",
          "text": [
            "California:105705\n",
            "Florida:100984\n",
            "Texas:51901\n",
            "New York:47098\n",
            "Pennsylvania:42387\n"
          ]
        }
      ]
    },
    {
      "cell_type": "markdown",
      "source": [
        "#**Determining the overall percentage of women**\n",
        "It's possible to combine functions and operators in a single select statement as well. These combinations can be exceptionally handy when we want to calculate percentages or averages, and we can also use the case() expression to operate on data that meets specific criteria while not affecting the query as a whole. The case() expression accepts a list of conditions to match and the column to return if the condition matches, followed by an else_ if none of the conditions match. We can wrap this entire expression in any function or math operation we like.\n",
        "\n",
        "Often when performing integer division, we want to get a float back. While some databases will do this automatically, you can use the cast() function to convert an expression to a particular type."
      ],
      "metadata": {
        "id": "rDzRGXykVFu2"
      }
    },
    {
      "cell_type": "code",
      "source": [
        "# import case, cast and Float from sqlalchemy\n",
        "from sqlalchemy import case, cast, Float, func\n",
        "\n",
        "# Build an expression to calculate female population in 2000\n",
        "female_pop2000 = func.sum(\n",
        "    case([\n",
        "        (census.columns.sex == 'F', census.columns.pop2000)\n",
        "    ], else_=0))\n",
        "\n",
        "# Cast an expression to calculate total population in 2000 to Float\n",
        "total_pop2000 = cast(func.sum(census.columns.pop2000), Float)\n",
        "\n",
        "# Build a query to calculate the percentage of women in 2000: stmt\n",
        "stmt = select([female_pop2000 / total_pop2000* 100])\n",
        "\n",
        "# Execute the query and store the scalar result: percent_female\n",
        "percent_female = connection.execute(stmt).scalar()\n",
        "\n",
        "# Print the percentage\n",
        "print(percent_female)"
      ],
      "metadata": {
        "colab": {
          "base_uri": "https://localhost:8080/"
        },
        "id": "EyVD5CWFVF82",
        "outputId": "ec5b52f7-187b-4b45-8b46-1c671ec82ed1"
      },
      "execution_count": 21,
      "outputs": [
        {
          "output_type": "stream",
          "name": "stdout",
          "text": [
            "51.09467432293413\n"
          ]
        }
      ]
    },
    {
      "cell_type": "markdown",
      "source": [
        "#**Automatic joins with an established relationship**\n",
        "If you have two tables that already have an established relationship, you can automatically use that relationship by just adding the columns we want from each table to the select statement. Recall that Jason constructed the following query:\n",
        "\n",
        "`stmt = select([census.columns.pop2008, state_fact.columns.abbreviation])`\n",
        "\n",
        "in order to join the census and state_fact tables and select the pop2008 column from the first and the abbreviation column from the second. In this case, the census and state_fact tables had a pre-defined relationship: the state column of the former corresponded to the name column of the latter.\n",
        "\n",
        "In this exercise, you'll use the same predefined relationship to select the pop2000 and abbreviation columns!"
      ],
      "metadata": {
        "id": "-nQZxYyLyi4D"
      }
    },
    {
      "cell_type": "code",
      "source": [
        "import sys\n",
        "state_fact = Table('state_fact', metadata, autoload=True, autoload_with=engine)\n",
        "\n",
        "# Build a statement to join census and state_fact tables: stmt\n",
        "stmt = select([census.columns.pop2000, state_fact.columns.abbreviation])\n",
        "\n",
        "# Execute the statement and get the first result: result\n",
        "result = connection.execute(stmt).first()\n",
        "\n",
        "# Loop over the keys in the result object and print the key and value\n",
        "for key in result.keys():\n",
        "    print(key, getattr(result, key))\n"
      ],
      "metadata": {
        "colab": {
          "base_uri": "https://localhost:8080/"
        },
        "id": "mHHbwmBhyjGx",
        "outputId": "983a61cd-10e4-4657-dce0-e35dccf7817b"
      },
      "execution_count": 24,
      "outputs": [
        {
          "output_type": "stream",
          "name": "stdout",
          "text": [
            "pop2000 89600\n",
            "abbreviation IL\n"
          ]
        }
      ]
    },
    {
      "cell_type": "markdown",
      "source": [
        "#**Joins**\n",
        "If you aren't selecting columns from both tables or the two tables don't have a defined relationship, you can still use the .join() method on a table to join it with another table and get extra data related to our query. The join() takes the table object you want to join in as the first argument and a condition that indicates how the tables are related to the second argument. Finally, you use the .select_from() method on the select statement to wrap the join clause. For example, in the video, Jason executed the following code to join the census table to the state_fact table such that the state column of the census table corresponded to the name column of the state_fact table."
      ],
      "metadata": {
        "id": "345hpc95yjSx"
      }
    },
    {
      "cell_type": "code",
      "source": [
        "# Build a statement to select the census and state_fact tables: stmt\n",
        "stmt = select([census, state_fact])\n",
        "\n",
        "# Add a select_from clause that wraps a join for the census and state_fact\n",
        "# tables where the census state column and state_fact name column match\n",
        "stmt_join = stmt.select_from(\n",
        "    census.join(state_fact, census.columns.state == state_fact.columns.name))\n",
        "\n",
        "# Execute the statement and get the first result: result\n",
        "result = connection.execute(stmt_join).first()\n",
        "\n",
        "# Loop over the keys in the result object and print the key and value\n",
        "for key in result.keys():\n",
        "    print(key, getattr(result, key))\n"
      ],
      "metadata": {
        "colab": {
          "base_uri": "https://localhost:8080/"
        },
        "id": "E9jDNAAnyje2",
        "outputId": "cc87770d-7020-44c2-85d2-e614ce28948d"
      },
      "execution_count": 25,
      "outputs": [
        {
          "output_type": "stream",
          "name": "stdout",
          "text": [
            "state Illinois\n",
            "sex M\n",
            "age 0\n",
            "pop2000 89600\n",
            "pop2008 95012\n",
            "id 13\n",
            "name Illinois\n",
            "abbreviation IL\n",
            "country USA\n",
            "type state\n",
            "sort 10\n",
            "status current\n",
            "occupied occupied\n",
            "notes \n",
            "fips_state 17\n",
            "assoc_press Ill.\n",
            "standard_federal_region V\n",
            "census_region 2\n",
            "census_region_name Midwest\n",
            "census_division 3\n",
            "census_division_name East North Central\n",
            "circuit_court 7\n"
          ]
        }
      ]
    },
    {
      "cell_type": "markdown",
      "source": [
        "#**More practice with joins**\n",
        "You can use the same select statement you built in the last exercise, however, let's add a twist and only return a few columns and use the other table in a group_by() clause."
      ],
      "metadata": {
        "id": "tDxfLuFr3e0a"
      }
    },
    {
      "cell_type": "code",
      "source": [
        "# Build a statement to select the state, sum of 2008 population and census\n",
        "# division name: stmt\n",
        "stmt = select([\n",
        "    census.columns.state,\n",
        "    func.sum(census.columns.pop2008),\n",
        "    state_fact.columns.census_division_name\n",
        "])\n",
        "\n",
        "# Append select_from to join the census and state_fact tables by the census state and state_fact name columns\n",
        "stmt_joined = stmt.select_from(\n",
        "    census.join(state_fact, census.columns.state == state_fact.columns.name)\n",
        ")\n",
        "\n",
        "# Append a group by for the state_fact name column\n",
        "stmt_grouped = stmt_joined.group_by(state_fact.columns.name)\n",
        "\n",
        "# Execute the statement and get the results: results\n",
        "results = connection.execute(stmt_grouped).fetchall()\n",
        "\n",
        "# Loop over the results object and print each record.\n",
        "for record in results:\n",
        "    print(record)\n"
      ],
      "metadata": {
        "colab": {
          "base_uri": "https://localhost:8080/"
        },
        "id": "lUl6GOt_3bU9",
        "outputId": "4a523341-6739-460b-b392-e1a2102cf48c"
      },
      "execution_count": 26,
      "outputs": [
        {
          "output_type": "stream",
          "name": "stdout",
          "text": [
            "('Alabama', 4649367, 'East South Central')\n",
            "('Alaska', 664546, 'Pacific')\n",
            "('Arizona', 6480767, 'Mountain')\n",
            "('Arkansas', 2848432, 'West South Central')\n",
            "('California', 36609002, 'Pacific')\n",
            "('Colorado', 4912947, 'Mountain')\n",
            "('Connecticut', 3493783, 'New England')\n",
            "('Delaware', 869221, 'South Atlantic')\n",
            "('Florida', 18257662, 'South Atlantic')\n",
            "('Georgia', 9622508, 'South Atlantic')\n",
            "('Hawaii', 1250676, 'Pacific')\n",
            "('Idaho', 1518914, 'Mountain')\n",
            "('Illinois', 12867077, 'East North Central')\n",
            "('Indiana', 6373299, 'East North Central')\n",
            "('Iowa', 3000490, 'West North Central')\n",
            "('Kansas', 2782245, 'West North Central')\n",
            "('Kentucky', 4254964, 'East South Central')\n",
            "('Louisiana', 4395797, 'West South Central')\n",
            "('Maine', 1312972, 'New England')\n",
            "('Maryland', 5604174, 'South Atlantic')\n",
            "('Massachusetts', 6492024, 'New England')\n",
            "('Michigan', 9998854, 'East North Central')\n",
            "('Minnesota', 5215815, 'West North Central')\n",
            "('Mississippi', 2922355, 'East South Central')\n",
            "('Missouri', 5891974, 'West North Central')\n",
            "('Montana', 963802, 'Mountain')\n",
            "('Nebraska', 1776757, 'West North Central')\n",
            "('Nevada', 2579387, 'Mountain')\n",
            "('New Hampshire', 1314533, 'New England')\n",
            "('New Jersey', 8670204, 'Mid-Atlantic')\n",
            "('New Mexico', 1974993, 'Mountain')\n",
            "('New York', 19465159, 'Mid-Atlantic')\n",
            "('North Carolina', 9121606, 'South Atlantic')\n",
            "('North Dakota', 634282, 'West North Central')\n",
            "('Ohio', 11476782, 'East North Central')\n",
            "('Oklahoma', 3620620, 'West South Central')\n",
            "('Oregon', 3786824, 'Pacific')\n",
            "('Pennsylvania', 12440129, 'Mid-Atlantic')\n",
            "('Rhode Island', 1046535, 'New England')\n",
            "('South Carolina', 4438870, 'South Atlantic')\n",
            "('South Dakota', 800997, 'West North Central')\n",
            "('Tennessee', 6202407, 'East South Central')\n",
            "('Texas', 24214127, 'West South Central')\n",
            "('Utah', 2730919, 'Mountain')\n",
            "('Vermont', 620602, 'New England')\n",
            "('Virginia', 7648902, 'South Atlantic')\n",
            "('Washington', 6502019, 'Pacific')\n",
            "('West Virginia', 1812879, 'South Atlantic')\n",
            "('Wisconsin', 5625013, 'East North Central')\n",
            "('Wyoming', 529490, 'Mountain')\n"
          ]
        }
      ]
    },
    {
      "cell_type": "markdown",
      "source": [
        "#**Using alias to handle same table joined queries**\n",
        "Often, you'll have tables that contain hierarchical data, such as employees and managers who are also employees. For this reason, you may wish to join a table to itself on different columns. The .alias() method, which creates a copy of a table, helps accomplish this task. Because it's the same table, you only need a where clause to specify the join condition.\n",
        "\n",
        "Here, you'll use the .alias() method to build a query to join the employees table against itself to determine to whom everyone reports."
      ],
      "metadata": {
        "id": "iIwkhgBU4dMP"
      }
    },
    {
      "cell_type": "code",
      "source": [
        "engine_empl = create_engine('sqlite:///employees.sqlite')\n",
        "connection_empl = engine_empl.connect()\n",
        "\n",
        "print(engine_empl.table_names())"
      ],
      "metadata": {
        "colab": {
          "base_uri": "https://localhost:8080/"
        },
        "id": "Vwunpjsb4bnc",
        "outputId": "ee448487-6282-4945-8f91-f5f60cc32adf"
      },
      "execution_count": 29,
      "outputs": [
        {
          "output_type": "stream",
          "name": "stdout",
          "text": [
            "['employees']\n"
          ]
        },
        {
          "output_type": "stream",
          "name": "stderr",
          "text": [
            "/usr/local/lib/python3.7/dist-packages/ipykernel_launcher.py:6: SADeprecationWarning: The Engine.table_names() method is deprecated and will be removed in a future release.  Please refer to Inspector.get_table_names(). (deprecated since: 1.4)\n",
            "  \n"
          ]
        }
      ]
    },
    {
      "cell_type": "code",
      "source": [
        "metadata = MetaData()\n",
        "employees = Table('employees', metadata, autoload=True, autoload_with=engine)"
      ],
      "metadata": {
        "id": "fl8lp0gW6fyW"
      },
      "execution_count": 30,
      "outputs": []
    },
    {
      "cell_type": "code",
      "source": [
        "# Make an alias of the employees table: managers\n",
        "managers = employees.alias()\n",
        "\n",
        "# Build a query to select names of managers and their employees: stmt\n",
        "stmt = select(\n",
        "    [managers.columns.name.label('manager'),\n",
        "     employees.columns.name.label('employee')]\n",
        ")\n",
        "\n",
        "# Match managers id with employees mgr: stmt_matched\n",
        "stmt_matched = stmt.where(managers.columns.id == employees.columns.mgr)\n",
        "\n",
        "# Order the statement by the managers name: stmt_ordered\n",
        "stmt_ordered = stmt_matched.order_by(managers.columns.name)\n",
        "\n",
        "# Execute statement: results\n",
        "results = connection.execute(stmt_ordered).fetchall()\n",
        "\n",
        "# Print records\n",
        "for record in results:\n",
        "    print(record)"
      ],
      "metadata": {
        "colab": {
          "base_uri": "https://localhost:8080/"
        },
        "id": "lquK6Prr7VJ7",
        "outputId": "c32b839a-599c-4fb6-c77f-33464abc1b32"
      },
      "execution_count": 32,
      "outputs": [
        {
          "output_type": "stream",
          "name": "stdout",
          "text": [
            "('FILLMORE', 'GRANT')\n",
            "('FILLMORE', 'ADAMS')\n",
            "('FILLMORE', 'MONROE')\n",
            "('GARFIELD', 'JOHNSON')\n",
            "('GARFIELD', 'LINCOLN')\n",
            "('GARFIELD', 'POLK')\n",
            "('GARFIELD', 'WASHINGTON')\n",
            "('HARDING', 'TAFT')\n",
            "('HARDING', 'HOOVER')\n",
            "('JACKSON', 'HARDING')\n",
            "('JACKSON', 'GARFIELD')\n",
            "('JACKSON', 'FILLMORE')\n",
            "('JACKSON', 'ROOSEVELT')\n"
          ]
        }
      ]
    },
    {
      "cell_type": "markdown",
      "source": [
        "#**Leveraging functions and group_bys with hierarchical data**\n",
        "It's also common to want to roll up data which is in a hierarchical table. Rolling up data requires making sure you're careful which alias you use to perform the group_bys and which table you use for the function.\n",
        "\n",
        "Here, your job is to get a count of employees for each manager."
      ],
      "metadata": {
        "id": "VMOGuwnk4d9I"
      }
    },
    {
      "cell_type": "code",
      "source": [
        "# Make an alias of the employees table: managers\n",
        "managers = employees.alias()\n",
        "\n",
        "# Build a query to select names of managers and counts of their employees: stmt\n",
        "stmt = select([managers.columns.name, func.count(employees.columns.id)])\n",
        "\n",
        "# Append a where clause that ensures the manager id and employee mgr are equal\n",
        "stmt_matched = stmt.where(managers.columns.id == employees.columns.mgr)\n",
        "\n",
        "# Group by Managers Name\n",
        "stmt_grouped = stmt_matched.group_by(managers.columns.name)\n",
        "\n",
        "# Execute statement: results\n",
        "results = connection.execute(stmt_grouped).fetchall()\n",
        "\n",
        "# print manager\n",
        "for record in results:\n",
        "    print(record)"
      ],
      "metadata": {
        "colab": {
          "base_uri": "https://localhost:8080/"
        },
        "id": "SZmIeRjA4eKP",
        "outputId": "d1a10c70-9e21-4d7c-a2da-9aaad48c4b10"
      },
      "execution_count": 33,
      "outputs": [
        {
          "output_type": "stream",
          "name": "stdout",
          "text": [
            "('FILLMORE', 3)\n",
            "('GARFIELD', 4)\n",
            "('HARDING', 2)\n",
            "('JACKSON', 4)\n"
          ]
        }
      ]
    },
    {
      "cell_type": "markdown",
      "source": [
        "#**Working on blocks of records**\n",
        "Fantastic work so far! As Jason discussed in the video, sometimes you may have the need to work on a large ResultProxy, and you may not have the memory to load all the results at once. To work around that issue, you can get blocks of rows from the ResultProxy by using the .fetchmany() method inside a loop. With .fetchmany(), give it an argument of the number of records you want. When you reach an empty list, there are no more rows left to fetch, and you have processed all the results of the query. Then you need to use the .close() method to close out the connection to the database.\n",
        "\n",
        "You'll now have the chance to practice this on a large ResultProxy called results_proxy that has been pre-loaded for you to work with."
      ],
      "metadata": {
        "id": "tXFX8S_d7YOZ"
      }
    },
    {
      "cell_type": "code",
      "source": [
        "results_proxy = connection.execute(stmt_grouped)\n",
        "more_results = True\n",
        "\n",
        "# Start a while loop checking for more results\n",
        "while more_results:\n",
        "    # Fetch the first 50 results from the ResultProxy: partial_results\n",
        "    partial_results = results_proxy.fetchmany(50)\n",
        "\n",
        "    # if empty list, set more_results to False\n",
        "    if partial_results == []:\n",
        "        more_results = False\n",
        "\n",
        "    print('\\n' + str(more_results))\n",
        "    for record in partial_results:\n",
        "        print(record)\n",
        "\n",
        "# Close the ResultProxy, and thus the connection\n",
        "results_proxy.close()"
      ],
      "metadata": {
        "colab": {
          "base_uri": "https://localhost:8080/"
        },
        "id": "0KcpVJkH7Ybf",
        "outputId": "26d8e099-7303-41ab-8c9a-20281f454b82"
      },
      "execution_count": 37,
      "outputs": [
        {
          "output_type": "stream",
          "name": "stdout",
          "text": [
            "\n",
            "True\n",
            "('FILLMORE', 3)\n",
            "('GARFIELD', 4)\n",
            "('HARDING', 2)\n",
            "('JACKSON', 4)\n",
            "\n",
            "False\n"
          ]
        }
      ]
    },
    {
      "cell_type": "code",
      "source": [
        "stmt = select([census.columns.state])\n",
        "results_proxy = connection.execute(stmt)\n",
        "more_results = True\n",
        "i = 0\n",
        "\n",
        "# Start a while loop checking for more results\n",
        "while more_results:\n",
        "    # Fetch the first 50 results from the ResultProxy: partial_results\n",
        "    partial_results = results_proxy.fetchmany(50)\n",
        "\n",
        "    # if empty list, set more_results to False\n",
        "    if partial_results == []:\n",
        "        more_results = False\n",
        "\n",
        "    print('\\n' + str(more_results) + ' ' + str(i))\n",
        "    for record in partial_results:\n",
        "        print(record)\n",
        "    \n",
        "    i = i + 1\n",
        "    if i == 3: break\n",
        "\n",
        "# Close the ResultProxy, and thus the connection\n",
        "results_proxy.close()"
      ],
      "metadata": {
        "colab": {
          "base_uri": "https://localhost:8080/"
        },
        "id": "7iTUZqDi-CQG",
        "outputId": "abb0f682-daab-40c3-e7ad-b4143411d826"
      },
      "execution_count": 45,
      "outputs": [
        {
          "output_type": "stream",
          "name": "stdout",
          "text": [
            "\n",
            "True 0\n",
            "('Illinois',)\n",
            "('Illinois',)\n",
            "('Illinois',)\n",
            "('Illinois',)\n",
            "('Illinois',)\n",
            "('Illinois',)\n",
            "('Illinois',)\n",
            "('Illinois',)\n",
            "('Illinois',)\n",
            "('Illinois',)\n",
            "('Illinois',)\n",
            "('Illinois',)\n",
            "('Illinois',)\n",
            "('Illinois',)\n",
            "('Illinois',)\n",
            "('Illinois',)\n",
            "('Illinois',)\n",
            "('Illinois',)\n",
            "('Illinois',)\n",
            "('Illinois',)\n",
            "('Illinois',)\n",
            "('Illinois',)\n",
            "('Illinois',)\n",
            "('Illinois',)\n",
            "('Illinois',)\n",
            "('Illinois',)\n",
            "('Illinois',)\n",
            "('Illinois',)\n",
            "('Illinois',)\n",
            "('Illinois',)\n",
            "('Illinois',)\n",
            "('Illinois',)\n",
            "('Illinois',)\n",
            "('Illinois',)\n",
            "('Illinois',)\n",
            "('Illinois',)\n",
            "('Illinois',)\n",
            "('Illinois',)\n",
            "('Illinois',)\n",
            "('Illinois',)\n",
            "('Illinois',)\n",
            "('Illinois',)\n",
            "('Illinois',)\n",
            "('Illinois',)\n",
            "('Illinois',)\n",
            "('Illinois',)\n",
            "('Illinois',)\n",
            "('Illinois',)\n",
            "('Illinois',)\n",
            "('Illinois',)\n",
            "\n",
            "True 1\n",
            "('Illinois',)\n",
            "('Illinois',)\n",
            "('Illinois',)\n",
            "('Illinois',)\n",
            "('Illinois',)\n",
            "('Illinois',)\n",
            "('Illinois',)\n",
            "('Illinois',)\n",
            "('Illinois',)\n",
            "('Illinois',)\n",
            "('Illinois',)\n",
            "('Illinois',)\n",
            "('Illinois',)\n",
            "('Illinois',)\n",
            "('Illinois',)\n",
            "('Illinois',)\n",
            "('Illinois',)\n",
            "('Illinois',)\n",
            "('Illinois',)\n",
            "('Illinois',)\n",
            "('Illinois',)\n",
            "('Illinois',)\n",
            "('Illinois',)\n",
            "('Illinois',)\n",
            "('Illinois',)\n",
            "('Illinois',)\n",
            "('Illinois',)\n",
            "('Illinois',)\n",
            "('Illinois',)\n",
            "('Illinois',)\n",
            "('Illinois',)\n",
            "('Illinois',)\n",
            "('Illinois',)\n",
            "('Illinois',)\n",
            "('Illinois',)\n",
            "('Illinois',)\n",
            "('Illinois',)\n",
            "('Illinois',)\n",
            "('Illinois',)\n",
            "('Illinois',)\n",
            "('Illinois',)\n",
            "('Illinois',)\n",
            "('Illinois',)\n",
            "('Illinois',)\n",
            "('Illinois',)\n",
            "('Illinois',)\n",
            "('Illinois',)\n",
            "('Illinois',)\n",
            "('Illinois',)\n",
            "('Illinois',)\n",
            "\n",
            "True 2\n",
            "('Illinois',)\n",
            "('Illinois',)\n",
            "('Illinois',)\n",
            "('Illinois',)\n",
            "('Illinois',)\n",
            "('Illinois',)\n",
            "('Illinois',)\n",
            "('Illinois',)\n",
            "('Illinois',)\n",
            "('Illinois',)\n",
            "('Illinois',)\n",
            "('Illinois',)\n",
            "('Illinois',)\n",
            "('Illinois',)\n",
            "('Illinois',)\n",
            "('Illinois',)\n",
            "('Illinois',)\n",
            "('Illinois',)\n",
            "('Illinois',)\n",
            "('Illinois',)\n",
            "('Illinois',)\n",
            "('Illinois',)\n",
            "('Illinois',)\n",
            "('Illinois',)\n",
            "('Illinois',)\n",
            "('Illinois',)\n",
            "('Illinois',)\n",
            "('Illinois',)\n",
            "('Illinois',)\n",
            "('Illinois',)\n",
            "('Illinois',)\n",
            "('Illinois',)\n",
            "('Illinois',)\n",
            "('Illinois',)\n",
            "('Illinois',)\n",
            "('Illinois',)\n",
            "('Illinois',)\n",
            "('Illinois',)\n",
            "('Illinois',)\n",
            "('Illinois',)\n",
            "('Illinois',)\n",
            "('Illinois',)\n",
            "('Illinois',)\n",
            "('Illinois',)\n",
            "('Illinois',)\n",
            "('Illinois',)\n",
            "('Illinois',)\n",
            "('Illinois',)\n",
            "('Illinois',)\n",
            "('Illinois',)\n"
          ]
        }
      ]
    }
  ]
}