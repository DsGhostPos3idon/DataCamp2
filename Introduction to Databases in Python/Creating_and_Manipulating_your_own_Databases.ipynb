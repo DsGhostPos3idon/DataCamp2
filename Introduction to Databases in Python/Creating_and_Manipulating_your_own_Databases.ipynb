{
  "nbformat": 4,
  "nbformat_minor": 0,
  "metadata": {
    "colab": {
      "name": "Creating and Manipulating your own Databases.ipynb",
      "provenance": [],
      "collapsed_sections": []
    },
    "kernelspec": {
      "name": "python3",
      "display_name": "Python 3"
    },
    "language_info": {
      "name": "python"
    }
  },
  "cells": [
    {
      "cell_type": "code",
      "source": [
        "# Import Table, Column, String, Integer, Float, Boolean from sqlalchemy\n",
        "from sqlalchemy import Table, Column, String, Integer, Float, Boolean, create_engine, MetaData\n",
        "\n",
        "# Import insert and select from sqlalchemy\n",
        "from sqlalchemy import insert, select, update, func, and_\n",
        "\n",
        "# import pandas\n",
        "import pandas as pd"
      ],
      "metadata": {
        "id": "iqN1--CUOM1u"
      },
      "execution_count": 33,
      "outputs": []
    },
    {
      "cell_type": "markdown",
      "source": [
        "#**Creating tables with SQLAlchemy**\n",
        "Previously, you used the Table object to reflect a table from an existing database, but what if you wanted to create a new table? You'd still use the Table object; however, you'd need to replace the autoload and autoload_with parameters with Column objects.\n",
        "\n",
        "The Column object takes a name, a SQLAlchemy type with an optional format, and optional keyword arguments for different constraints.\n",
        "\n",
        "When defining the table, recall how in the video Jason passed in 255 as the maximum length of a String by using Column('name', String(255)). Checking out the slides from the video may help: you can download them by clicking on 'Slides' next to the IPython Shell.\n",
        "\n",
        "After defining the table, you can create the table in the database by using the .create_all() method on metadata and supplying the engine as the only parameter. Go for it!"
      ],
      "metadata": {
        "id": "0k7HglCmEN38"
      }
    },
    {
      "cell_type": "code",
      "execution_count": 2,
      "metadata": {
        "colab": {
          "base_uri": "https://localhost:8080/"
        },
        "id": "c5cVwAOqA_Cq",
        "outputId": "a9fe0a99-43cc-4422-9d86-09437ae69153"
      },
      "outputs": [
        {
          "output_type": "stream",
          "name": "stdout",
          "text": [
            "Table('data_test', MetaData(), Column('name', String(length=255), table=<data_test>), Column('count', Integer(), table=<data_test>), Column('amount', Float(), table=<data_test>), Column('valid', Boolean(), table=<data_test>), schema=None)\n"
          ]
        }
      ],
      "source": [
        "engine = create_engine('sqlite:///test_database.sqlite')\n",
        "metadata = MetaData()\n",
        "\n",
        "# Define a new table with a name, count, amount, and valid column: data\n",
        "data_test = Table('data_test', metadata,\n",
        "             Column('name', String(255)),\n",
        "             Column('count', Integer()),\n",
        "             Column('amount', Float()),\n",
        "             Column('valid', Boolean())\n",
        ")\n",
        "\n",
        "# Use the metadata to create the table\n",
        "metadata.create_all(engine)\n",
        "\n",
        "# Print table details\n",
        "print(repr(data_test))"
      ]
    },
    {
      "cell_type": "markdown",
      "source": [
        "#**Constraints and data defaults**\n",
        "You're now going to practice creating a table with some constraints! Often, you'll need to make sure that a column is unique, nullable, a positive value, or related to a column in another table. This is where constraints come in.\n",
        "\n",
        "As Jason showed you in the video, in addition to constraints, you can also set a default value for the column if no data is passed to it via the default keyword on the column."
      ],
      "metadata": {
        "id": "kIR_ACgxEQ4m"
      }
    },
    {
      "cell_type": "code",
      "source": [
        "# Define a new table with a name, count, amount, and valid column: data\n",
        "data = Table('data', metadata,\n",
        "             Column('name', String(255), unique=True),\n",
        "             Column('count', Integer(), default=1),\n",
        "             Column('amount', Float()),\n",
        "             Column('valid', Boolean(), default=False)\n",
        ")\n",
        "\n",
        "# Use the metadata to create the table\n",
        "metadata.create_all(engine)\n",
        "\n",
        "# Print the table details\n",
        "print(repr(metadata.tables['data']))\n",
        "\n",
        "print(repr(metadata.tables['data_test']))\n"
      ],
      "metadata": {
        "colab": {
          "base_uri": "https://localhost:8080/"
        },
        "id": "REn_dMQMERDw",
        "outputId": "52f90388-e2c3-4f40-e98f-b0c007d949a7"
      },
      "execution_count": 3,
      "outputs": [
        {
          "output_type": "stream",
          "name": "stdout",
          "text": [
            "Table('data', MetaData(), Column('name', String(length=255), table=<data>), Column('count', Integer(), table=<data>, default=ColumnDefault(1)), Column('amount', Float(), table=<data>), Column('valid', Boolean(), table=<data>, default=ColumnDefault(False)), schema=None)\n",
            "Table('data_test', MetaData(), Column('name', String(length=255), table=<data_test>), Column('count', Integer(), table=<data_test>), Column('amount', Float(), table=<data_test>), Column('valid', Boolean(), table=<data_test>), schema=None)\n"
          ]
        }
      ]
    },
    {
      "cell_type": "markdown",
      "source": [
        "#**Inserting a single row**\n",
        "There are several ways to perform an insert with SQLAlchemy; however, we are going to focus on the one that follows the same pattern as the select statement.\n",
        "\n",
        "It uses an insert statement where you specify the table as an argument, and supply the data you wish to insert into the value via the .values() method as keyword arguments. For example, if my_table contains columns my_col_1 and my_col_2, then insert(my_table).values(my_col_1=5, my_col_2=\"Example\") will create a row in my_table with the value in my_col_1 equal to 5 and value in my_col_2 equal to \"Example\".\n",
        "\n",
        "Notice the difference in syntax: when appending a where statement to an existing statement, we include the name of the table as well as the name of the column, for example new_stmt = old_stmt.where(my_tbl.columns.my_col == 15). This is necessary because the existing statement might involve several tables.\n",
        "\n",
        "On the other hand, you can only insert a record into a single table, so you do not need to include the name of the table when using values() to insert, e.g. stmt = insert(my_table).values(my_col = 10)."
      ],
      "metadata": {
        "id": "pOtn1cemERPK"
      }
    },
    {
      "cell_type": "code",
      "source": [
        "connection = engine.connect()\n",
        "\n",
        "# Build an insert statement to insert a record into the data table: insert_stmt\n",
        "insert_stmt = insert(data).values(name='Anna', count=1, amount=1000.00, valid=True)\n",
        "\n",
        "# Execute the insert statement via the connection: results\n",
        "results = connection.execute(insert_stmt)\n",
        "\n",
        "# Print result rowcount\n",
        "print(results.rowcount)\n",
        "\n",
        "# Build a select statement to validate the insert: select_stmt\n",
        "select_stmt = select([data]).where(data.columns.name == 'Anna')\n",
        "\n",
        "# Print the result of executing the query.\n",
        "print(connection.execute(select_stmt).first())\n"
      ],
      "metadata": {
        "colab": {
          "base_uri": "https://localhost:8080/"
        },
        "id": "C9kwJoDuERbN",
        "outputId": "7a8f7966-9bb3-442f-f20d-defb799765b4"
      },
      "execution_count": 4,
      "outputs": [
        {
          "output_type": "stream",
          "name": "stdout",
          "text": [
            "1\n",
            "('Anna', 1, 1000.0, True)\n"
          ]
        }
      ]
    },
    {
      "cell_type": "markdown",
      "source": [
        "#**Inserting multiple records at once**\n",
        "It's time to practice inserting multiple records at once!\n",
        "\n",
        "As Jason showed you in the video, when inserting multiple records at once, you do not use the .values() method. Instead, you'll want to first build a list of dictionaries that represents the data you want to insert, with keys being the names of the columns. in the .execute() method, you can pair this list of dictionaries with an insert statement, which will insert all the records in your list of dictionaries."
      ],
      "metadata": {
        "id": "GHkCNzCLER5O"
      }
    },
    {
      "cell_type": "code",
      "source": [
        "# Build a list of dictionaries: values_list\n",
        "values_list = [\n",
        "    {'name': 'Anna', 'count': 1, 'amount': 1000.00, 'valid': True},\n",
        "    {'name': 'Taylor', 'count': 1, 'amount': 750.00, 'valid': False}\n",
        "]\n",
        "\n",
        "# Build an insert statement for the data table: stmt\n",
        "stmt = insert(data)\n",
        "\n",
        "# Execute stmt with the values_list: results\n",
        "results = connection.execute(stmt, values_list)\n",
        "\n",
        "# Print rowcount\n",
        "print(results.rowcount)"
      ],
      "metadata": {
        "colab": {
          "base_uri": "https://localhost:8080/"
        },
        "id": "l2p_mTXRESpU",
        "outputId": "f1efe7bc-77a5-4345-c900-224ffafe8d3f"
      },
      "execution_count": 5,
      "outputs": [
        {
          "output_type": "stream",
          "name": "stdout",
          "text": [
            "2\n"
          ]
        }
      ]
    },
    {
      "cell_type": "markdown",
      "source": [
        "#**Loading a CSV into a table**\n",
        "You've done a great job so far at inserting data into tables! You're now going to learn how to load the contents of a CSV file into a table.\n",
        "\n",
        "One way to do that would be to read a CSV file line by line, create a dictionary from each line, and then use insert(), like you did in the previous exercise.\n",
        "\n",
        "But there is a faster way using pandas. You can read a CSV file into a DataFrame using the read_csv() function (this function should be familiar to you, but you can run help(pd.read_csv) in the console to refresh your memory!). Then, you can call the .to_sql() method on the DataFrame to load it into a SQL table in a database. The columns of the DataFrame should match the columns of the SQL table.\n",
        "\n",
        ".to_sql() has many parameters, but in this exercise we will use the following:\n",
        "\n",
        "* `name` is the name of the SQL table (as a string).\n",
        "* `con` is the connection to the database that you will use to upload the data.\n",
        "* `if_exists` specifies how to behave if the table already exists in the database; possible values are \"fail\", \"replace\", and \"append\".\n",
        "* `index` (True or False) specifies whether to write the DataFrame's index as a column.\n",
        "\n",
        "In this exercise, you will upload the data contained in the census.csv file into an existing table \"census\". The connection to the database has already been created for you."
      ],
      "metadata": {
        "id": "r34qsjhRES2S"
      }
    },
    {
      "cell_type": "code",
      "source": [
        "connection.close()\n",
        "\n",
        "engine = create_engine('sqlite:///census.sqlite')\n",
        "metadata = MetaData()\n",
        "\n",
        "print(engine.table_names())\n",
        "\n",
        "census = Table('census', metadata, autoload=True, autoload_with=engine)\n",
        "\n",
        "print(repr(census))"
      ],
      "metadata": {
        "colab": {
          "base_uri": "https://localhost:8080/"
        },
        "id": "uO5LOSLZNaUJ",
        "outputId": "8f303561-e957-4c1a-bd74-277a0eee5e80"
      },
      "execution_count": 6,
      "outputs": [
        {
          "output_type": "stream",
          "name": "stdout",
          "text": [
            "['census', 'state_fact']\n",
            "Table('census', MetaData(), Column('state', VARCHAR(length=30), table=<census>), Column('sex', VARCHAR(length=1), table=<census>), Column('age', INTEGER(), table=<census>), Column('pop2000', INTEGER(), table=<census>), Column('pop2008', INTEGER(), table=<census>), schema=None)\n"
          ]
        },
        {
          "output_type": "stream",
          "name": "stderr",
          "text": [
            "/usr/local/lib/python3.7/dist-packages/ipykernel_launcher.py:6: SADeprecationWarning: The Engine.table_names() method is deprecated and will be removed in a future release.  Please refer to Inspector.get_table_names(). (deprecated since: 1.4)\n",
            "  \n"
          ]
        }
      ]
    },
    {
      "cell_type": "code",
      "source": [
        "connection = engine.connect()\n",
        "stmt = 'SELECT count(*) FROM census'\n",
        "results = connection.execute(stmt).fetchall()\n",
        "results"
      ],
      "metadata": {
        "colab": {
          "base_uri": "https://localhost:8080/"
        },
        "id": "a8gKi3XOPdc-",
        "outputId": "0fade554-aa26-437e-c826-3ef8dd5c3a71"
      },
      "execution_count": 7,
      "outputs": [
        {
          "output_type": "execute_result",
          "data": {
            "text/plain": [
              "[(8772,)]"
            ]
          },
          "metadata": {},
          "execution_count": 7
        }
      ]
    },
    {
      "cell_type": "code",
      "source": [
        "# read census.csv into a DataFrame : census_df\n",
        "census_df = pd.read_csv(\"census.csv\", header=None)\n",
        "\n",
        "# rename the columns of the census DataFrame\n",
        "census_df.columns = ['state', 'sex', 'age', 'pop2000', 'pop2008']\n",
        "\n",
        "# append the data from census_df to the \"census\" table via connection\n",
        "census_df.to_sql(name='census', con=connection, if_exists=\"append\", index=False)"
      ],
      "metadata": {
        "id": "wgBXNdOMETCM"
      },
      "execution_count": 8,
      "outputs": []
    },
    {
      "cell_type": "code",
      "source": [
        "census_df.head()"
      ],
      "metadata": {
        "colab": {
          "base_uri": "https://localhost:8080/",
          "height": 206
        },
        "id": "4n4OXUdzPsbZ",
        "outputId": "8a21517e-e647-4240-a23b-7920f3be1371"
      },
      "execution_count": 9,
      "outputs": [
        {
          "output_type": "execute_result",
          "data": {
            "text/plain": [
              "      state sex  age  pop2000  pop2008\n",
              "0  Illinois   M    0    89600    95012\n",
              "1  Illinois   M    1    88445    91829\n",
              "2  Illinois   M    2    88729    89547\n",
              "3  Illinois   M    3    88868    90037\n",
              "4  Illinois   M    4    91947    91111"
            ],
            "text/html": [
              "\n",
              "  <div id=\"df-a5292e76-6843-4301-83ea-a7fadb3aa0ce\">\n",
              "    <div class=\"colab-df-container\">\n",
              "      <div>\n",
              "<style scoped>\n",
              "    .dataframe tbody tr th:only-of-type {\n",
              "        vertical-align: middle;\n",
              "    }\n",
              "\n",
              "    .dataframe tbody tr th {\n",
              "        vertical-align: top;\n",
              "    }\n",
              "\n",
              "    .dataframe thead th {\n",
              "        text-align: right;\n",
              "    }\n",
              "</style>\n",
              "<table border=\"1\" class=\"dataframe\">\n",
              "  <thead>\n",
              "    <tr style=\"text-align: right;\">\n",
              "      <th></th>\n",
              "      <th>state</th>\n",
              "      <th>sex</th>\n",
              "      <th>age</th>\n",
              "      <th>pop2000</th>\n",
              "      <th>pop2008</th>\n",
              "    </tr>\n",
              "  </thead>\n",
              "  <tbody>\n",
              "    <tr>\n",
              "      <th>0</th>\n",
              "      <td>Illinois</td>\n",
              "      <td>M</td>\n",
              "      <td>0</td>\n",
              "      <td>89600</td>\n",
              "      <td>95012</td>\n",
              "    </tr>\n",
              "    <tr>\n",
              "      <th>1</th>\n",
              "      <td>Illinois</td>\n",
              "      <td>M</td>\n",
              "      <td>1</td>\n",
              "      <td>88445</td>\n",
              "      <td>91829</td>\n",
              "    </tr>\n",
              "    <tr>\n",
              "      <th>2</th>\n",
              "      <td>Illinois</td>\n",
              "      <td>M</td>\n",
              "      <td>2</td>\n",
              "      <td>88729</td>\n",
              "      <td>89547</td>\n",
              "    </tr>\n",
              "    <tr>\n",
              "      <th>3</th>\n",
              "      <td>Illinois</td>\n",
              "      <td>M</td>\n",
              "      <td>3</td>\n",
              "      <td>88868</td>\n",
              "      <td>90037</td>\n",
              "    </tr>\n",
              "    <tr>\n",
              "      <th>4</th>\n",
              "      <td>Illinois</td>\n",
              "      <td>M</td>\n",
              "      <td>4</td>\n",
              "      <td>91947</td>\n",
              "      <td>91111</td>\n",
              "    </tr>\n",
              "  </tbody>\n",
              "</table>\n",
              "</div>\n",
              "      <button class=\"colab-df-convert\" onclick=\"convertToInteractive('df-a5292e76-6843-4301-83ea-a7fadb3aa0ce')\"\n",
              "              title=\"Convert this dataframe to an interactive table.\"\n",
              "              style=\"display:none;\">\n",
              "        \n",
              "  <svg xmlns=\"http://www.w3.org/2000/svg\" height=\"24px\"viewBox=\"0 0 24 24\"\n",
              "       width=\"24px\">\n",
              "    <path d=\"M0 0h24v24H0V0z\" fill=\"none\"/>\n",
              "    <path d=\"M18.56 5.44l.94 2.06.94-2.06 2.06-.94-2.06-.94-.94-2.06-.94 2.06-2.06.94zm-11 1L8.5 8.5l.94-2.06 2.06-.94-2.06-.94L8.5 2.5l-.94 2.06-2.06.94zm10 10l.94 2.06.94-2.06 2.06-.94-2.06-.94-.94-2.06-.94 2.06-2.06.94z\"/><path d=\"M17.41 7.96l-1.37-1.37c-.4-.4-.92-.59-1.43-.59-.52 0-1.04.2-1.43.59L10.3 9.45l-7.72 7.72c-.78.78-.78 2.05 0 2.83L4 21.41c.39.39.9.59 1.41.59.51 0 1.02-.2 1.41-.59l7.78-7.78 2.81-2.81c.8-.78.8-2.07 0-2.86zM5.41 20L4 18.59l7.72-7.72 1.47 1.35L5.41 20z\"/>\n",
              "  </svg>\n",
              "      </button>\n",
              "      \n",
              "  <style>\n",
              "    .colab-df-container {\n",
              "      display:flex;\n",
              "      flex-wrap:wrap;\n",
              "      gap: 12px;\n",
              "    }\n",
              "\n",
              "    .colab-df-convert {\n",
              "      background-color: #E8F0FE;\n",
              "      border: none;\n",
              "      border-radius: 50%;\n",
              "      cursor: pointer;\n",
              "      display: none;\n",
              "      fill: #1967D2;\n",
              "      height: 32px;\n",
              "      padding: 0 0 0 0;\n",
              "      width: 32px;\n",
              "    }\n",
              "\n",
              "    .colab-df-convert:hover {\n",
              "      background-color: #E2EBFA;\n",
              "      box-shadow: 0px 1px 2px rgba(60, 64, 67, 0.3), 0px 1px 3px 1px rgba(60, 64, 67, 0.15);\n",
              "      fill: #174EA6;\n",
              "    }\n",
              "\n",
              "    [theme=dark] .colab-df-convert {\n",
              "      background-color: #3B4455;\n",
              "      fill: #D2E3FC;\n",
              "    }\n",
              "\n",
              "    [theme=dark] .colab-df-convert:hover {\n",
              "      background-color: #434B5C;\n",
              "      box-shadow: 0px 1px 3px 1px rgba(0, 0, 0, 0.15);\n",
              "      filter: drop-shadow(0px 1px 2px rgba(0, 0, 0, 0.3));\n",
              "      fill: #FFFFFF;\n",
              "    }\n",
              "  </style>\n",
              "\n",
              "      <script>\n",
              "        const buttonEl =\n",
              "          document.querySelector('#df-a5292e76-6843-4301-83ea-a7fadb3aa0ce button.colab-df-convert');\n",
              "        buttonEl.style.display =\n",
              "          google.colab.kernel.accessAllowed ? 'block' : 'none';\n",
              "\n",
              "        async function convertToInteractive(key) {\n",
              "          const element = document.querySelector('#df-a5292e76-6843-4301-83ea-a7fadb3aa0ce');\n",
              "          const dataTable =\n",
              "            await google.colab.kernel.invokeFunction('convertToInteractive',\n",
              "                                                     [key], {});\n",
              "          if (!dataTable) return;\n",
              "\n",
              "          const docLinkHtml = 'Like what you see? Visit the ' +\n",
              "            '<a target=\"_blank\" href=https://colab.research.google.com/notebooks/data_table.ipynb>data table notebook</a>'\n",
              "            + ' to learn more about interactive tables.';\n",
              "          element.innerHTML = '';\n",
              "          dataTable['output_type'] = 'display_data';\n",
              "          await google.colab.output.renderOutput(dataTable, element);\n",
              "          const docLink = document.createElement('div');\n",
              "          docLink.innerHTML = docLinkHtml;\n",
              "          element.appendChild(docLink);\n",
              "        }\n",
              "      </script>\n",
              "    </div>\n",
              "  </div>\n",
              "  "
            ]
          },
          "metadata": {},
          "execution_count": 9
        }
      ]
    },
    {
      "cell_type": "code",
      "source": [
        "stmt_upd = 'SELECT count(*) FROM census'\n",
        "results_upd = connection.execute(stmt_upd).fetchall()\n",
        "results_upd"
      ],
      "metadata": {
        "colab": {
          "base_uri": "https://localhost:8080/"
        },
        "id": "k4hKhO9-Pm2d",
        "outputId": "0e11cf89-ed2b-4081-8adc-ac2735a151fa"
      },
      "execution_count": 10,
      "outputs": [
        {
          "output_type": "execute_result",
          "data": {
            "text/plain": [
              "[(17544,)]"
            ]
          },
          "metadata": {},
          "execution_count": 10
        }
      ]
    },
    {
      "cell_type": "code",
      "source": [
        "results_upd[0][0] == results[0][0] + census_df.shape[0]"
      ],
      "metadata": {
        "colab": {
          "base_uri": "https://localhost:8080/"
        },
        "id": "vE_8gdCiPpEn",
        "outputId": "23f19b4e-0aaa-4b58-c37f-cb94e986f373"
      },
      "execution_count": 11,
      "outputs": [
        {
          "output_type": "execute_result",
          "data": {
            "text/plain": [
              "True"
            ]
          },
          "metadata": {},
          "execution_count": 11
        }
      ]
    },
    {
      "cell_type": "markdown",
      "source": [
        "#**Updating individual records**\n",
        "The update statement is very similar to an insert statement. For example, you can update all wages in the employees table as follows:\n",
        "\n",
        "`stmt = update(employees).values(wage=100.00)`\n",
        "\n",
        "The update statement also typically uses a where clause to help us determine what data to update. For example, to only update the record for the employee with ID 15, you would append the previous statement as follows:\n",
        "\n",
        "`stmt = stmt.where(employees.id == 15)`\n",
        "\n",
        "You'll be using the FIPS state code here, which is appropriated by the U.S. government to identify U.S. states and certain other associated areas.\n",
        "\n",
        "For your convenience, the names of the tables and columns of interest in this exercise are: state_fact (Table), name (Column), and fips_state (Column)."
      ],
      "metadata": {
        "id": "EXNIwT9rQXC8"
      }
    },
    {
      "cell_type": "code",
      "source": [
        "connection.close()\n",
        "\n",
        "engine = create_engine('sqlite:///census.sqlite')\n",
        "metadata = MetaData()\n",
        "connection = engine.connect()\n",
        "state_fact = Table('state_fact', metadata, autoload=True, autoload_with=engine)\n",
        "\n",
        "print(repr(state_fact))"
      ],
      "metadata": {
        "colab": {
          "base_uri": "https://localhost:8080/"
        },
        "id": "8pBuvsehP81W",
        "outputId": "3f7b0c82-166d-49e9-d1ee-5e2da7cc7876"
      },
      "execution_count": 24,
      "outputs": [
        {
          "output_type": "stream",
          "name": "stdout",
          "text": [
            "Table('state_fact', MetaData(), Column('id', VARCHAR(length=256), table=<state_fact>), Column('name', VARCHAR(length=256), table=<state_fact>), Column('abbreviation', VARCHAR(length=256), table=<state_fact>), Column('country', VARCHAR(length=256), table=<state_fact>), Column('type', VARCHAR(length=256), table=<state_fact>), Column('sort', VARCHAR(length=256), table=<state_fact>), Column('status', VARCHAR(length=256), table=<state_fact>), Column('occupied', VARCHAR(length=256), table=<state_fact>), Column('notes', VARCHAR(length=256), table=<state_fact>), Column('fips_state', VARCHAR(length=256), table=<state_fact>), Column('assoc_press', VARCHAR(length=256), table=<state_fact>), Column('standard_federal_region', VARCHAR(length=256), table=<state_fact>), Column('census_region', VARCHAR(length=256), table=<state_fact>), Column('census_region_name', VARCHAR(length=256), table=<state_fact>), Column('census_division', VARCHAR(length=256), table=<state_fact>), Column('census_division_name', VARCHAR(length=256), table=<state_fact>), Column('circuit_court', VARCHAR(length=256), table=<state_fact>), schema=None)\n"
          ]
        }
      ]
    },
    {
      "cell_type": "code",
      "source": [
        "select_stmt = select([state_fact]).where(state_fact.columns.name == 'New York')\n",
        "results = connection.execute(select_stmt).fetchall()\n",
        "\n",
        "print(results[0]['fips_state'])\n",
        "\n",
        "update_stmt = update(state_fact).values(fips_state = 360)\n",
        "update_stmt = update_stmt.where(state_fact.columns.name == 'New York')\n",
        "update_results = connection.execute(update_stmt)\n",
        "\n",
        "# Execute select_stmt again and fetch the new results\n",
        "new_results = connection.execute(select_stmt).fetchall()\n",
        "\n",
        "# Print the new_results\n",
        "print(new_results)\n",
        "\n",
        "# Print the FIPS code for the first row of the new_results\n",
        "print(new_results[0]['fips_state'])"
      ],
      "metadata": {
        "colab": {
          "base_uri": "https://localhost:8080/"
        },
        "id": "QtkQlVzHT1MH",
        "outputId": "5559fa35-3221-4328-9d2f-ff59d49b0be5"
      },
      "execution_count": 25,
      "outputs": [
        {
          "output_type": "stream",
          "name": "stdout",
          "text": [
            "36\n",
            "[('32', 'New York', 'NY', 'USA', 'state', '10', 'current', 'occupied', '', '360', 'N.Y.', 'II', '1', 'Northeast', '2', 'Mid-Atlantic', '2')]\n",
            "360\n"
          ]
        }
      ]
    },
    {
      "cell_type": "markdown",
      "source": [
        "#**Updating multiple records**\n",
        "As Jason discussed in the video, by using a where clause that selects more records, you can update multiple records at once. Unlike inserting, updating multiple records works exactly the same way as updating a single record (as long as you are updating them with the same value). It's time now to practice this!\n",
        "\n",
        "For your convenience, the names of the tables and columns of interest in this exercise are: state_fact (Table), notes (Column), and census_region_name (Column)."
      ],
      "metadata": {
        "id": "amxhr5cIWNhR"
      }
    },
    {
      "cell_type": "code",
      "source": [
        "# Build a statement to update the notes to 'The Wild West': stmt\n",
        "stmt = update(state_fact).values(notes='The Wild West')\n",
        "\n",
        "# Append a where clause to match the West census region records: stmt_west\n",
        "stmt_west = stmt.where(state_fact.columns.census_region_name == 'West')\n",
        "\n",
        "# Execute the statement: results\n",
        "results = connection.execute(stmt_west)\n",
        "\n",
        "# Print rowcount\n",
        "print(results.rowcount)"
      ],
      "metadata": {
        "colab": {
          "base_uri": "https://localhost:8080/"
        },
        "id": "z27qWQYLVEvW",
        "outputId": "46664ed0-2725-48a1-d0ec-783cf17c4967"
      },
      "execution_count": 26,
      "outputs": [
        {
          "output_type": "stream",
          "name": "stdout",
          "text": [
            "13\n"
          ]
        }
      ]
    },
    {
      "cell_type": "markdown",
      "source": [
        "#**Deleting all the records from a table**\n",
        "Often, you'll need to empty a table of all of its records so you can reload the data. You can do this with a delete statement with just the table as an argument. For example, in the video, Jason deleted the table extra_employees by executing as follows:\n",
        "\n",
        "```\n",
        "delete_stmt = delete(extra_employees)\n",
        "result_proxy = connection.execute(delete_stmt)\n",
        "```\n",
        "\n",
        "Do be careful, though, as deleting cannot be undone!"
      ],
      "metadata": {
        "id": "ncj46W5iYI9O"
      }
    },
    {
      "cell_type": "code",
      "source": [
        "# Import delete, select\n",
        "from sqlalchemy import delete, select\n",
        "\n",
        "# Build a statement to empty the census table: stmt\n",
        "delete_stmt = delete(census)\n",
        "\n",
        "# Execute the statement: results\n",
        "results = connection.execute(delete_stmt)\n",
        "\n",
        "# Print affected rowcount\n",
        "print(results.rowcount)\n",
        "\n",
        "# Build a statement to select all records from the census table : select_stmt\n",
        "select_stmt = select([census])\n",
        "\n",
        "# Print the results of executing the statement to verify there are no rows\n",
        "print(connection.execute(select_stmt).fetchall())"
      ],
      "metadata": {
        "colab": {
          "base_uri": "https://localhost:8080/"
        },
        "id": "BmA7fmM9YJL4",
        "outputId": "9a7d38d0-94a2-4eb1-aa3f-c7d1997e0894"
      },
      "execution_count": 28,
      "outputs": [
        {
          "output_type": "stream",
          "name": "stdout",
          "text": [
            "8772\n",
            "[]\n"
          ]
        }
      ]
    },
    {
      "cell_type": "markdown",
      "source": [
        "#**Deleting specific records**\n",
        "By using a where() clause, you can target the delete statement to remove only certain records. For example, Jason deleted all rows from the employees table that had id 3 with the following delete statement:\n",
        "\n",
        "`delete(employees).where(employees.columns.id == 3)`\n",
        "\n",
        "Here you'll delete ALL rows which have 'M' in the sex column and 36 in the age column. We have included code at the start which computes the total number of these rows. It is important to make sure that this is the number of rows that you actually delete."
      ],
      "metadata": {
        "id": "o4rp67OfZT8l"
      }
    },
    {
      "cell_type": "code",
      "source": [
        "connection.close()\n",
        "\n",
        "engine = create_engine('sqlite:///census.sqlite')\n",
        "metadata = MetaData()\n",
        "connection = engine.connect()\n",
        "census = Table('census', metadata, autoload=True, autoload_with=engine)\n",
        "\n",
        "print(repr(state_fact))"
      ],
      "metadata": {
        "colab": {
          "base_uri": "https://localhost:8080/"
        },
        "id": "z3dBPk6uZJY_",
        "outputId": "d42e7ffa-2284-4f75-e9fb-ac42c4c9d8f9"
      },
      "execution_count": 45,
      "outputs": [
        {
          "output_type": "stream",
          "name": "stdout",
          "text": [
            "Table('state_fact', MetaData(), Column('id', VARCHAR(length=256), table=<state_fact>), Column('name', VARCHAR(length=256), table=<state_fact>), Column('abbreviation', VARCHAR(length=256), table=<state_fact>), Column('country', VARCHAR(length=256), table=<state_fact>), Column('type', VARCHAR(length=256), table=<state_fact>), Column('sort', VARCHAR(length=256), table=<state_fact>), Column('status', VARCHAR(length=256), table=<state_fact>), Column('occupied', VARCHAR(length=256), table=<state_fact>), Column('notes', VARCHAR(length=256), table=<state_fact>), Column('fips_state', VARCHAR(length=256), table=<state_fact>), Column('assoc_press', VARCHAR(length=256), table=<state_fact>), Column('standard_federal_region', VARCHAR(length=256), table=<state_fact>), Column('census_region', VARCHAR(length=256), table=<state_fact>), Column('census_region_name', VARCHAR(length=256), table=<state_fact>), Column('census_division', VARCHAR(length=256), table=<state_fact>), Column('census_division_name', VARCHAR(length=256), table=<state_fact>), Column('circuit_court', VARCHAR(length=256), table=<state_fact>), schema=None)\n"
          ]
        }
      ]
    },
    {
      "cell_type": "code",
      "source": [
        "# Build a statement to count records using the sex column for Men ('M') age 36: count_stmt\n",
        "count_stmt = select([func.count(census.columns.sex)]).where(\n",
        "    and_(census.columns.sex == 'M',\n",
        "         census.columns.age == 36)\n",
        ")\n",
        "\n",
        "# Execute the select statement and use the scalar() fetch method to save the record count\n",
        "to_delete = connection.execute(count_stmt).scalar()\n",
        "\n",
        "# Build a statement to delete records from the census table: delete_stmt\n",
        "delete_stmt = delete(census)\n",
        "\n",
        "# Append a where clause to target Men ('M') age 36: delete_stmt\n",
        "delete_stmt = delete_stmt.where(\n",
        "    and_(census.columns.sex == 'M',\n",
        "         census.columns.age == 36)\n",
        ")\n",
        "\n",
        "# Execute the statement: results\n",
        "results = connection.execute(delete_stmt)\n",
        "\n",
        "# Print affected rowcount and to_delete record count, make sure they match\n",
        "print(results.rowcount, to_delete)"
      ],
      "metadata": {
        "colab": {
          "base_uri": "https://localhost:8080/"
        },
        "id": "fmUzc39saoFN",
        "outputId": "e54c3923-ca08-487f-b893-0f60e009278e"
      },
      "execution_count": 34,
      "outputs": [
        {
          "output_type": "stream",
          "name": "stdout",
          "text": [
            "51 51\n"
          ]
        }
      ]
    },
    {
      "cell_type": "markdown",
      "source": [
        "#**Deleting a table completely**\n",
        "You're now going to practice dropping individual tables from a database with the .drop() method, as well as all tables in a database with the .drop_all() method!\n",
        "\n",
        "As Spider-Man's Uncle Ben (as well as Jason, in the video!) said: With great power, comes great responsibility. Do be careful when deleting tables, as it's not simple or fast to restore large databases! Remember, you can check to see if a table exists on an engine with the .exists(engine) method.\n",
        "\n",
        "This is the final exercise in this chapter: After this, you'll be ready to apply everything you've learned to a case study in the final chapter of this course!"
      ],
      "metadata": {
        "id": "gTCRjUTba5AC"
      }
    },
    {
      "cell_type": "code",
      "source": [
        "# Drop the state_fact table\n",
        "state_fact.drop(engine)\n",
        "\n",
        "# Check to see if state_fact exists\n",
        "print(state_fact.exists(engine))\n",
        "\n",
        "# Drop all tables\n",
        "metadata.drop_all(engine)\n",
        "\n",
        "# Check to see if census exists\n",
        "print(census.exists(engine))"
      ],
      "metadata": {
        "colab": {
          "base_uri": "https://localhost:8080/"
        },
        "id": "3a6zKTc8aqv6",
        "outputId": "2aedf0df-0b99-4f0e-ca8a-c4f7ff5dfd0f"
      },
      "execution_count": 46,
      "outputs": [
        {
          "output_type": "stream",
          "name": "stdout",
          "text": [
            "False\n",
            "False\n"
          ]
        },
        {
          "output_type": "stream",
          "name": "stderr",
          "text": [
            "/usr/local/lib/python3.7/dist-packages/ipykernel_launcher.py:5: SADeprecationWarning: The Table.exists() method is deprecated and will be removed in a future release.  Please refer to Inspector.has_table(). (deprecated since: 1.4)\n",
            "  \"\"\"\n",
            "/usr/local/lib/python3.7/dist-packages/ipykernel_launcher.py:11: SADeprecationWarning: The Table.exists() method is deprecated and will be removed in a future release.  Please refer to Inspector.has_table(). (deprecated since: 1.4)\n",
            "  # This is added back by InteractiveShellApp.init_path()\n"
          ]
        }
      ]
    }
  ]
}