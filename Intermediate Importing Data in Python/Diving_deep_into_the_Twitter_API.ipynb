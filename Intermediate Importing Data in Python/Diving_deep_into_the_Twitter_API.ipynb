{
  "nbformat": 4,
  "nbformat_minor": 0,
  "metadata": {
    "colab": {
      "name": "Diving deep into the Twitter API.ipynb",
      "provenance": []
    },
    "kernelspec": {
      "name": "python3",
      "display_name": "Python 3"
    },
    "language_info": {
      "name": "python"
    }
  },
  "cells": [
    {
      "cell_type": "code",
      "execution_count": 23,
      "metadata": {
        "id": "O73G6-5S8oWH"
      },
      "outputs": [],
      "source": [
        "import tweepy, json\n",
        "import re\n",
        "import matplotlib.pyplot as plt\n",
        "import seaborn as sns"
      ]
    },
    {
      "cell_type": "markdown",
      "source": [
        "#**Streaming tweets**\n",
        "It's time to stream some tweets! Your task is to create the Streamobject and to filter tweets according to particular keywords. tweepy has been imported for you."
      ],
      "metadata": {
        "id": "IJXy_fnR8tIc"
      }
    },
    {
      "cell_type": "code",
      "source": [
        "class MyStreamListener(tweepy.StreamListener):\n",
        "  def __init__(self, api=None):\n",
        "    super(MyStreamListener, self).__init__()        \n",
        "    self.num_tweets = 0        \n",
        "    self.file = open(\"tweets.txt\", \"w\")\n",
        "    \n",
        "  def on_status(self, status):  \n",
        "    tweet = status._json        \n",
        "    self.file.write(json.dumps(tweet) + '\\\\n')        \n",
        "    tweet_list.append(status)        \n",
        "    self.num_tweets += 1\n",
        "    if self.num_tweets < 100:\n",
        "      return True\n",
        "    else:\n",
        "      return False        \n",
        "    self.file.close()"
      ],
      "metadata": {
        "id": "4bO6-CCi8vW1"
      },
      "execution_count": 14,
      "outputs": []
    },
    {
      "cell_type": "code",
      "source": [
        "# Store credentials in relevant variables\n",
        "consumer_key = \"nZ6EA0FxZ293SxGNg8g8aP0HM\"\n",
        "consumer_secret = \"fJGEodwe3KiKUnsYJC3VRndj7jevVvXbK2D5EiJ2nehafRgA6i\"\n",
        "access_token = \"1092294848-aHN7DcRP9B4VMTQIhwqOYiB14YkW92fFO8k8EPy\"\n",
        "access_token_secret = \"X4dHmhPfaksHcQ7SCbmZa2oYBBVSD2g8uIHXsp5CTaksx\"\n",
        "\n",
        "# Create your Stream object with credentials\n",
        "auth = tweepy.OAuthHandler(consumer_key, consumer_secret)\n",
        "auth.set_access_token(access_token, access_token_secret)\n",
        "\n",
        "l = MyStreamListener()\n",
        "stream = tweepy.Stream(auth, l)\n",
        "\n",
        "# Filter your Stream variable\n",
        "stream.filter([\"clinton\", \"trump\", \"sanders\", \"cruz\"])"
      ],
      "metadata": {
        "id": "JXA2k4lS9L42"
      },
      "execution_count": 15,
      "outputs": []
    },
    {
      "cell_type": "code",
      "source": [
        "print(stream)"
      ],
      "metadata": {
        "colab": {
          "base_uri": "https://localhost:8080/"
        },
        "id": "1UbOAQ7l-jJa",
        "outputId": "ba77b91e-7222-4fd2-df9a-6fe242be4f78"
      },
      "execution_count": 16,
      "outputs": [
        {
          "output_type": "stream",
          "name": "stdout",
          "text": [
            "<tweepy.streaming.Stream object at 0x7f6f78ba8310>\n"
          ]
        }
      ]
    },
    {
      "cell_type": "markdown",
      "source": [
        "#**Load and explore your Twitter data**\n",
        "Now that you've got your Twitter data sitting locally in a text file, it's time to explore it! This is what you'll do in the next few interactive exercises. In this exercise, you'll read the Twitter data into a list: tweets_data.\n",
        "\n",
        "Be aware that this is real data from Twitter and as such there is always a risk that it may contain profanity or other offensive content (in this exercise, and any following exercises that also use real Twitter data)."
      ],
      "metadata": {
        "id": "7K-4_Pp4_MpZ"
      }
    },
    {
      "cell_type": "code",
      "source": [
        "# String of path to file: tweets_data_path\n",
        "tweets_data_path = 'tweets3.txt'\n",
        "\n",
        "# Initialize empty list to store tweets: tweets_data\n",
        "tweets_data = []\n",
        "\n",
        "# Open connection to file\n",
        "tweets_file = open(tweets_data_path, \"r\")\n",
        "\n",
        "# Read in tweets and store in list: tweets_data\n",
        "for line in tweets_file:\n",
        "    tweet = json.loads(line)\n",
        "    tweets_data.append(tweet)\n",
        "\n",
        "# Close connection to file\n",
        "tweets_file.close()\n",
        "\n",
        "# Print the keys of the first tweet dict\n",
        "print(tweets_data[0].keys())"
      ],
      "metadata": {
        "colab": {
          "base_uri": "https://localhost:8080/"
        },
        "id": "KcQ1b8Pf-qt_",
        "outputId": "00527919-9c59-437e-ef09-9208ad4f22d4"
      },
      "execution_count": 13,
      "outputs": [
        {
          "output_type": "stream",
          "name": "stdout",
          "text": [
            "dict_keys(['in_reply_to_user_id', 'created_at', 'filter_level', 'truncated', 'possibly_sensitive', 'timestamp_ms', 'user', 'text', 'extended_entities', 'in_reply_to_status_id', 'entities', 'favorited', 'retweeted', 'is_quote_status', 'id', 'favorite_count', 'retweeted_status', 'in_reply_to_status_id_str', 'in_reply_to_user_id_str', 'id_str', 'in_reply_to_screen_name', 'coordinates', 'lang', 'place', 'contributors', 'geo', 'retweet_count', 'source'])\n"
          ]
        }
      ]
    },
    {
      "cell_type": "markdown",
      "source": [
        "#**Twitter data to DataFrame**\n",
        "Now you have the Twitter data in a list of dictionaries, tweets_data, where each dictionary corresponds to a single tweet. Next, you're going to extract the text and language of each tweet. The text in a tweet, t1, is stored as the value t1['text']; similarly, the language is stored in t1['lang']. Your task is to build a DataFrame in which each row is a tweet and the columns are 'text' and 'lang'."
      ],
      "metadata": {
        "id": "GTMyh2zT_1bZ"
      }
    },
    {
      "cell_type": "code",
      "source": [
        "# Import package\n",
        "import pandas as pd\n",
        "\n",
        "# Build DataFrame of tweet texts and languages\n",
        "df = pd.DataFrame(tweets_data, columns=['text', 'lang'])\n",
        "\n",
        "# Print head of DataFrame\n",
        "print(df.head())"
      ],
      "metadata": {
        "colab": {
          "base_uri": "https://localhost:8080/"
        },
        "id": "7jzQa69L_Rjz",
        "outputId": "927a18b3-f096-413f-be0b-9d045c2c1837"
      },
      "execution_count": 17,
      "outputs": [
        {
          "output_type": "stream",
          "name": "stdout",
          "text": [
            "                                                text lang\n",
            "0  RT @bpolitics: .@krollbondrating's Christopher...   en\n",
            "1  RT @HeidiAlpine: @dmartosko Cruz video found.....   en\n",
            "2  Njihuni me Zonjën Trump !!! | Ekskluzive https...   et\n",
            "3  Your an idiot she shouldn't have tried to grab...   en\n",
            "4  RT @AlanLohner: The anti-American D.C. elites ...   en\n"
          ]
        }
      ]
    },
    {
      "cell_type": "markdown",
      "source": [
        "#**A little bit of Twitter text analysis**\n",
        "Now that you have your DataFrame of tweets set up, you're going to do a bit of text analysis to count how many tweets contain the words 'clinton', 'trump', 'sanders' and 'cruz'. In the pre-exercise code, we have defined the following function word_in_text(), which will tell you whether the first argument (a word) occurs within the 2nd argument (a tweet).\n",
        "You're going to iterate over the rows of the DataFrame and calculate how many tweets contain each of our keywords! The list of objects for each candidate has been initialized to 0."
      ],
      "metadata": {
        "id": "SdZukH7lAPNH"
      }
    },
    {
      "cell_type": "code",
      "source": [
        "def word_in_text(word, text):\n",
        "    word = word.lower()\n",
        "    text = text.lower()\n",
        "    match = re.search(word, text)\n",
        "\n",
        "    if match:\n",
        "        return True\n",
        "    return False"
      ],
      "metadata": {
        "id": "twGP0RDn__p9"
      },
      "execution_count": 19,
      "outputs": []
    },
    {
      "cell_type": "code",
      "source": [
        "# Initialize list to store tweet counts\n",
        "[clinton, trump, sanders, cruz] = [0, 0, 0, 0]\n",
        "\n",
        "# Iterate through df, counting the number of tweets in which\n",
        "# each candidate is mentioned\n",
        "for index, row in df.iterrows():\n",
        "    clinton += word_in_text('clinton', row['text'])\n",
        "    trump += word_in_text('trump', row['text'])\n",
        "    sanders += word_in_text('sanders', row['text'])\n",
        "    cruz += word_in_text('cruz', row['text'])\n",
        "\n",
        "print(clinton)"
      ],
      "metadata": {
        "colab": {
          "base_uri": "https://localhost:8080/"
        },
        "id": "tWxHvH8GAX_l",
        "outputId": "2560e3ca-ba2e-4acd-ac10-45efa7edc35e"
      },
      "execution_count": 22,
      "outputs": [
        {
          "output_type": "stream",
          "name": "stdout",
          "text": [
            "9\n"
          ]
        }
      ]
    },
    {
      "cell_type": "markdown",
      "source": [
        "#**Plotting your Twitter data**\n",
        "Now that you have the number of tweets that each candidate was mentioned in, you can plot a bar chart of this data. You'll use the statistical data visualization library seaborn, which you may not have seen before, but we'll guide you through. You'll first import seaborn as sns. You'll then construct a barplot of the data using sns.barplot, passing it two arguments:\n",
        "\n",
        "a list of labels and\n",
        "a list containing the variables you wish to plot (clinton, trump and so on.)\n",
        "Hopefully, you'll see that Trump was unreasonably represented! We have already run the previous exercise solutions in your environment."
      ],
      "metadata": {
        "id": "g0p8wqe3AlD-"
      }
    },
    {
      "cell_type": "code",
      "source": [
        "# Set seaborn style\n",
        "sns.set(color_codes=True)\n",
        "\n",
        "# Create a list of labels:cd\n",
        "cd = ['clinton', 'trump', 'sanders', 'cruz']\n",
        "\n",
        "# Plot the bar chart\n",
        "ax = sns.barplot(cd, [clinton, trump, sanders, cruz])\n",
        "ax.set(ylabel=\"count\")\n",
        "plt.show()"
      ],
      "metadata": {
        "colab": {
          "base_uri": "https://localhost:8080/",
          "height": 325
        },
        "id": "mIM30LyIAZcM",
        "outputId": "47c06b41-d32c-4c6d-bb2b-dcd37546205f"
      },
      "execution_count": 24,
      "outputs": [
        {
          "output_type": "stream",
          "name": "stderr",
          "text": [
            "/usr/local/lib/python3.7/dist-packages/seaborn/_decorators.py:43: FutureWarning: Pass the following variables as keyword args: x, y. From version 0.12, the only valid positional argument will be `data`, and passing other arguments without an explicit keyword will result in an error or misinterpretation.\n",
            "  FutureWarning\n"
          ]
        },
        {
          "output_type": "display_data",
          "data": {
            "text/plain": [
              "<Figure size 432x288 with 1 Axes>"
            ],
            "image/png": "[encoded data removed]"
          },
          "metadata": {}
        }
      ]
    }
  ]
}