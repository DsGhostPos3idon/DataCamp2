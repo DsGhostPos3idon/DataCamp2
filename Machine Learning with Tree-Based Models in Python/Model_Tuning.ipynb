{
  "nbformat": 4,
  "nbformat_minor": 0,
  "metadata": {
    "colab": {
      "name": "Model Tuning.ipynb",
      "provenance": [],
      "collapsed_sections": []
    },
    "kernelspec": {
      "name": "python3",
      "display_name": "Python 3"
    },
    "language_info": {
      "name": "python"
    }
  },
  "cells": [
    {
      "cell_type": "code",
      "execution_count": 18,
      "metadata": {
        "id": "nMb6cVjbCld2"
      },
      "outputs": [],
      "source": [
        "from sklearn.tree import DecisionTreeClassifier\n",
        "from sklearn.tree import DecisionTreeRegressor\n",
        "from sklearn.ensemble import RandomForestRegressor\n",
        "from sklearn.model_selection import train_test_split\n",
        "import pandas as pd\n",
        "from sklearn.metrics import mean_squared_error as MSE\n",
        "\n",
        "SEED = 1"
      ]
    },
    {
      "cell_type": "code",
      "source": [
        "df = pd.read_csv('indian_liver_patient_preprocessed.csv')\n",
        "df.head()"
      ],
      "metadata": {
        "colab": {
          "base_uri": "https://localhost:8080/",
          "height": 287
        },
        "id": "ZTC6WVonDFRF",
        "outputId": "926f4ec0-8195-4a09-c791-9e76b23a6215"
      },
      "execution_count": 3,
      "outputs": [
        {
          "output_type": "execute_result",
          "data": {
            "text/plain": [
              "   Unnamed: 0   Age_std  Total_Bilirubin_std  Direct_Bilirubin_std  \\\n",
              "0           0  1.247403            -0.420320             -0.495414   \n",
              "1           1  1.062306             1.218936              1.423518   \n",
              "2           2  1.062306             0.640375              0.926017   \n",
              "3           3  0.815511            -0.372106             -0.388807   \n",
              "4           4  1.679294             0.093956              0.179766   \n",
              "\n",
              "   Alkaline_Phosphotase_std  Alamine_Aminotransferase_std  \\\n",
              "0                 -0.428870                     -0.355832   \n",
              "1                  1.675083                     -0.093573   \n",
              "2                  0.816243                     -0.115428   \n",
              "3                 -0.449416                     -0.366760   \n",
              "4                 -0.395996                     -0.295731   \n",
              "\n",
              "   Aspartate_Aminotransferase_std  Total_Protiens_std  Albumin_std  \\\n",
              "0                       -0.319111            0.293722     0.203446   \n",
              "1                       -0.035962            0.939655     0.077462   \n",
              "2                       -0.146459            0.478274     0.203446   \n",
              "3                       -0.312205            0.293722     0.329431   \n",
              "4                       -0.177537            0.755102    -0.930414   \n",
              "\n",
              "   Albumin_and_Globulin_Ratio_std  Is_male_std  Liver_disease  \n",
              "0                       -0.147390            0              1  \n",
              "1                       -0.648461            1              1  \n",
              "2                       -0.178707            1              1  \n",
              "3                        0.165780            1              1  \n",
              "4                       -1.713237            1              1  "
            ],
            "text/html": [
              "\n",
              "  <div id=\"df-49252ff9-775c-42ed-964b-e08220a55378\">\n",
              "    <div class=\"colab-df-container\">\n",
              "      <div>\n",
              "<style scoped>\n",
              "    .dataframe tbody tr th:only-of-type {\n",
              "        vertical-align: middle;\n",
              "    }\n",
              "\n",
              "    .dataframe tbody tr th {\n",
              "        vertical-align: top;\n",
              "    }\n",
              "\n",
              "    .dataframe thead th {\n",
              "        text-align: right;\n",
              "    }\n",
              "</style>\n",
              "<table border=\"1\" class=\"dataframe\">\n",
              "  <thead>\n",
              "    <tr style=\"text-align: right;\">\n",
              "      <th></th>\n",
              "      <th>Unnamed: 0</th>\n",
              "      <th>Age_std</th>\n",
              "      <th>Total_Bilirubin_std</th>\n",
              "      <th>Direct_Bilirubin_std</th>\n",
              "      <th>Alkaline_Phosphotase_std</th>\n",
              "      <th>Alamine_Aminotransferase_std</th>\n",
              "      <th>Aspartate_Aminotransferase_std</th>\n",
              "      <th>Total_Protiens_std</th>\n",
              "      <th>Albumin_std</th>\n",
              "      <th>Albumin_and_Globulin_Ratio_std</th>\n",
              "      <th>Is_male_std</th>\n",
              "      <th>Liver_disease</th>\n",
              "    </tr>\n",
              "  </thead>\n",
              "  <tbody>\n",
              "    <tr>\n",
              "      <th>0</th>\n",
              "      <td>0</td>\n",
              "      <td>1.247403</td>\n",
              "      <td>-0.420320</td>\n",
              "      <td>-0.495414</td>\n",
              "      <td>-0.428870</td>\n",
              "      <td>-0.355832</td>\n",
              "      <td>-0.319111</td>\n",
              "      <td>0.293722</td>\n",
              "      <td>0.203446</td>\n",
              "      <td>-0.147390</td>\n",
              "      <td>0</td>\n",
              "      <td>1</td>\n",
              "    </tr>\n",
              "    <tr>\n",
              "      <th>1</th>\n",
              "      <td>1</td>\n",
              "      <td>1.062306</td>\n",
              "      <td>1.218936</td>\n",
              "      <td>1.423518</td>\n",
              "      <td>1.675083</td>\n",
              "      <td>-0.093573</td>\n",
              "      <td>-0.035962</td>\n",
              "      <td>0.939655</td>\n",
              "      <td>0.077462</td>\n",
              "      <td>-0.648461</td>\n",
              "      <td>1</td>\n",
              "      <td>1</td>\n",
              "    </tr>\n",
              "    <tr>\n",
              "      <th>2</th>\n",
              "      <td>2</td>\n",
              "      <td>1.062306</td>\n",
              "      <td>0.640375</td>\n",
              "      <td>0.926017</td>\n",
              "      <td>0.816243</td>\n",
              "      <td>-0.115428</td>\n",
              "      <td>-0.146459</td>\n",
              "      <td>0.478274</td>\n",
              "      <td>0.203446</td>\n",
              "      <td>-0.178707</td>\n",
              "      <td>1</td>\n",
              "      <td>1</td>\n",
              "    </tr>\n",
              "    <tr>\n",
              "      <th>3</th>\n",
              "      <td>3</td>\n",
              "      <td>0.815511</td>\n",
              "      <td>-0.372106</td>\n",
              "      <td>-0.388807</td>\n",
              "      <td>-0.449416</td>\n",
              "      <td>-0.366760</td>\n",
              "      <td>-0.312205</td>\n",
              "      <td>0.293722</td>\n",
              "      <td>0.329431</td>\n",
              "      <td>0.165780</td>\n",
              "      <td>1</td>\n",
              "      <td>1</td>\n",
              "    </tr>\n",
              "    <tr>\n",
              "      <th>4</th>\n",
              "      <td>4</td>\n",
              "      <td>1.679294</td>\n",
              "      <td>0.093956</td>\n",
              "      <td>0.179766</td>\n",
              "      <td>-0.395996</td>\n",
              "      <td>-0.295731</td>\n",
              "      <td>-0.177537</td>\n",
              "      <td>0.755102</td>\n",
              "      <td>-0.930414</td>\n",
              "      <td>-1.713237</td>\n",
              "      <td>1</td>\n",
              "      <td>1</td>\n",
              "    </tr>\n",
              "  </tbody>\n",
              "</table>\n",
              "</div>\n",
              "      <button class=\"colab-df-convert\" onclick=\"convertToInteractive('df-49252ff9-775c-42ed-964b-e08220a55378')\"\n",
              "              title=\"Convert this dataframe to an interactive table.\"\n",
              "              style=\"display:none;\">\n",
              "        \n",
              "  <svg xmlns=\"http://www.w3.org/2000/svg\" height=\"24px\"viewBox=\"0 0 24 24\"\n",
              "       width=\"24px\">\n",
              "    <path d=\"M0 0h24v24H0V0z\" fill=\"none\"/>\n",
              "    <path d=\"M18.56 5.44l.94 2.06.94-2.06 2.06-.94-2.06-.94-.94-2.06-.94 2.06-2.06.94zm-11 1L8.5 8.5l.94-2.06 2.06-.94-2.06-.94L8.5 2.5l-.94 2.06-2.06.94zm10 10l.94 2.06.94-2.06 2.06-.94-2.06-.94-.94-2.06-.94 2.06-2.06.94z\"/><path d=\"M17.41 7.96l-1.37-1.37c-.4-.4-.92-.59-1.43-.59-.52 0-1.04.2-1.43.59L10.3 9.45l-7.72 7.72c-.78.78-.78 2.05 0 2.83L4 21.41c.39.39.9.59 1.41.59.51 0 1.02-.2 1.41-.59l7.78-7.78 2.81-2.81c.8-.78.8-2.07 0-2.86zM5.41 20L4 18.59l7.72-7.72 1.47 1.35L5.41 20z\"/>\n",
              "  </svg>\n",
              "      </button>\n",
              "      \n",
              "  <style>\n",
              "    .colab-df-container {\n",
              "      display:flex;\n",
              "      flex-wrap:wrap;\n",
              "      gap: 12px;\n",
              "    }\n",
              "\n",
              "    .colab-df-convert {\n",
              "      background-color: #E8F0FE;\n",
              "      border: none;\n",
              "      border-radius: 50%;\n",
              "      cursor: pointer;\n",
              "      display: none;\n",
              "      fill: #1967D2;\n",
              "      height: 32px;\n",
              "      padding: 0 0 0 0;\n",
              "      width: 32px;\n",
              "    }\n",
              "\n",
              "    .colab-df-convert:hover {\n",
              "      background-color: #E2EBFA;\n",
              "      box-shadow: 0px 1px 2px rgba(60, 64, 67, 0.3), 0px 1px 3px 1px rgba(60, 64, 67, 0.15);\n",
              "      fill: #174EA6;\n",
              "    }\n",
              "\n",
              "    [theme=dark] .colab-df-convert {\n",
              "      background-color: #3B4455;\n",
              "      fill: #D2E3FC;\n",
              "    }\n",
              "\n",
              "    [theme=dark] .colab-df-convert:hover {\n",
              "      background-color: #434B5C;\n",
              "      box-shadow: 0px 1px 3px 1px rgba(0, 0, 0, 0.15);\n",
              "      filter: drop-shadow(0px 1px 2px rgba(0, 0, 0, 0.3));\n",
              "      fill: #FFFFFF;\n",
              "    }\n",
              "  </style>\n",
              "\n",
              "      <script>\n",
              "        const buttonEl =\n",
              "          document.querySelector('#df-49252ff9-775c-42ed-964b-e08220a55378 button.colab-df-convert');\n",
              "        buttonEl.style.display =\n",
              "          google.colab.kernel.accessAllowed ? 'block' : 'none';\n",
              "\n",
              "        async function convertToInteractive(key) {\n",
              "          const element = document.querySelector('#df-49252ff9-775c-42ed-964b-e08220a55378');\n",
              "          const dataTable =\n",
              "            await google.colab.kernel.invokeFunction('convertToInteractive',\n",
              "                                                     [key], {});\n",
              "          if (!dataTable) return;\n",
              "\n",
              "          const docLinkHtml = 'Like what you see? Visit the ' +\n",
              "            '<a target=\"_blank\" href=https://colab.research.google.com/notebooks/data_table.ipynb>data table notebook</a>'\n",
              "            + ' to learn more about interactive tables.';\n",
              "          element.innerHTML = '';\n",
              "          dataTable['output_type'] = 'display_data';\n",
              "          await google.colab.output.renderOutput(dataTable, element);\n",
              "          const docLink = document.createElement('div');\n",
              "          docLink.innerHTML = docLinkHtml;\n",
              "          element.appendChild(docLink);\n",
              "        }\n",
              "      </script>\n",
              "    </div>\n",
              "  </div>\n",
              "  "
            ]
          },
          "metadata": {},
          "execution_count": 3
        }
      ]
    },
    {
      "cell_type": "code",
      "source": [
        "df = df.drop(['Unnamed: 0'], axis=1)\n",
        "df.head()"
      ],
      "metadata": {
        "colab": {
          "base_uri": "https://localhost:8080/",
          "height": 270
        },
        "id": "_4xyMBKGFHCa",
        "outputId": "48efb9c6-39b1-44e7-92eb-f01585cbb0ea"
      },
      "execution_count": 4,
      "outputs": [
        {
          "output_type": "execute_result",
          "data": {
            "text/plain": [
              "    Age_std  Total_Bilirubin_std  Direct_Bilirubin_std  \\\n",
              "0  1.247403            -0.420320             -0.495414   \n",
              "1  1.062306             1.218936              1.423518   \n",
              "2  1.062306             0.640375              0.926017   \n",
              "3  0.815511            -0.372106             -0.388807   \n",
              "4  1.679294             0.093956              0.179766   \n",
              "\n",
              "   Alkaline_Phosphotase_std  Alamine_Aminotransferase_std  \\\n",
              "0                 -0.428870                     -0.355832   \n",
              "1                  1.675083                     -0.093573   \n",
              "2                  0.816243                     -0.115428   \n",
              "3                 -0.449416                     -0.366760   \n",
              "4                 -0.395996                     -0.295731   \n",
              "\n",
              "   Aspartate_Aminotransferase_std  Total_Protiens_std  Albumin_std  \\\n",
              "0                       -0.319111            0.293722     0.203446   \n",
              "1                       -0.035962            0.939655     0.077462   \n",
              "2                       -0.146459            0.478274     0.203446   \n",
              "3                       -0.312205            0.293722     0.329431   \n",
              "4                       -0.177537            0.755102    -0.930414   \n",
              "\n",
              "   Albumin_and_Globulin_Ratio_std  Is_male_std  Liver_disease  \n",
              "0                       -0.147390            0              1  \n",
              "1                       -0.648461            1              1  \n",
              "2                       -0.178707            1              1  \n",
              "3                        0.165780            1              1  \n",
              "4                       -1.713237            1              1  "
            ],
            "text/html": [
              "\n",
              "  <div id=\"df-5eb64959-40f7-4d0c-869d-84355829c2ee\">\n",
              "    <div class=\"colab-df-container\">\n",
              "      <div>\n",
              "<style scoped>\n",
              "    .dataframe tbody tr th:only-of-type {\n",
              "        vertical-align: middle;\n",
              "    }\n",
              "\n",
              "    .dataframe tbody tr th {\n",
              "        vertical-align: top;\n",
              "    }\n",
              "\n",
              "    .dataframe thead th {\n",
              "        text-align: right;\n",
              "    }\n",
              "</style>\n",
              "<table border=\"1\" class=\"dataframe\">\n",
              "  <thead>\n",
              "    <tr style=\"text-align: right;\">\n",
              "      <th></th>\n",
              "      <th>Age_std</th>\n",
              "      <th>Total_Bilirubin_std</th>\n",
              "      <th>Direct_Bilirubin_std</th>\n",
              "      <th>Alkaline_Phosphotase_std</th>\n",
              "      <th>Alamine_Aminotransferase_std</th>\n",
              "      <th>Aspartate_Aminotransferase_std</th>\n",
              "      <th>Total_Protiens_std</th>\n",
              "      <th>Albumin_std</th>\n",
              "      <th>Albumin_and_Globulin_Ratio_std</th>\n",
              "      <th>Is_male_std</th>\n",
              "      <th>Liver_disease</th>\n",
              "    </tr>\n",
              "  </thead>\n",
              "  <tbody>\n",
              "    <tr>\n",
              "      <th>0</th>\n",
              "      <td>1.247403</td>\n",
              "      <td>-0.420320</td>\n",
              "      <td>-0.495414</td>\n",
              "      <td>-0.428870</td>\n",
              "      <td>-0.355832</td>\n",
              "      <td>-0.319111</td>\n",
              "      <td>0.293722</td>\n",
              "      <td>0.203446</td>\n",
              "      <td>-0.147390</td>\n",
              "      <td>0</td>\n",
              "      <td>1</td>\n",
              "    </tr>\n",
              "    <tr>\n",
              "      <th>1</th>\n",
              "      <td>1.062306</td>\n",
              "      <td>1.218936</td>\n",
              "      <td>1.423518</td>\n",
              "      <td>1.675083</td>\n",
              "      <td>-0.093573</td>\n",
              "      <td>-0.035962</td>\n",
              "      <td>0.939655</td>\n",
              "      <td>0.077462</td>\n",
              "      <td>-0.648461</td>\n",
              "      <td>1</td>\n",
              "      <td>1</td>\n",
              "    </tr>\n",
              "    <tr>\n",
              "      <th>2</th>\n",
              "      <td>1.062306</td>\n",
              "      <td>0.640375</td>\n",
              "      <td>0.926017</td>\n",
              "      <td>0.816243</td>\n",
              "      <td>-0.115428</td>\n",
              "      <td>-0.146459</td>\n",
              "      <td>0.478274</td>\n",
              "      <td>0.203446</td>\n",
              "      <td>-0.178707</td>\n",
              "      <td>1</td>\n",
              "      <td>1</td>\n",
              "    </tr>\n",
              "    <tr>\n",
              "      <th>3</th>\n",
              "      <td>0.815511</td>\n",
              "      <td>-0.372106</td>\n",
              "      <td>-0.388807</td>\n",
              "      <td>-0.449416</td>\n",
              "      <td>-0.366760</td>\n",
              "      <td>-0.312205</td>\n",
              "      <td>0.293722</td>\n",
              "      <td>0.329431</td>\n",
              "      <td>0.165780</td>\n",
              "      <td>1</td>\n",
              "      <td>1</td>\n",
              "    </tr>\n",
              "    <tr>\n",
              "      <th>4</th>\n",
              "      <td>1.679294</td>\n",
              "      <td>0.093956</td>\n",
              "      <td>0.179766</td>\n",
              "      <td>-0.395996</td>\n",
              "      <td>-0.295731</td>\n",
              "      <td>-0.177537</td>\n",
              "      <td>0.755102</td>\n",
              "      <td>-0.930414</td>\n",
              "      <td>-1.713237</td>\n",
              "      <td>1</td>\n",
              "      <td>1</td>\n",
              "    </tr>\n",
              "  </tbody>\n",
              "</table>\n",
              "</div>\n",
              "      <button class=\"colab-df-convert\" onclick=\"convertToInteractive('df-5eb64959-40f7-4d0c-869d-84355829c2ee')\"\n",
              "              title=\"Convert this dataframe to an interactive table.\"\n",
              "              style=\"display:none;\">\n",
              "        \n",
              "  <svg xmlns=\"http://www.w3.org/2000/svg\" height=\"24px\"viewBox=\"0 0 24 24\"\n",
              "       width=\"24px\">\n",
              "    <path d=\"M0 0h24v24H0V0z\" fill=\"none\"/>\n",
              "    <path d=\"M18.56 5.44l.94 2.06.94-2.06 2.06-.94-2.06-.94-.94-2.06-.94 2.06-2.06.94zm-11 1L8.5 8.5l.94-2.06 2.06-.94-2.06-.94L8.5 2.5l-.94 2.06-2.06.94zm10 10l.94 2.06.94-2.06 2.06-.94-2.06-.94-.94-2.06-.94 2.06-2.06.94z\"/><path d=\"M17.41 7.96l-1.37-1.37c-.4-.4-.92-.59-1.43-.59-.52 0-1.04.2-1.43.59L10.3 9.45l-7.72 7.72c-.78.78-.78 2.05 0 2.83L4 21.41c.39.39.9.59 1.41.59.51 0 1.02-.2 1.41-.59l7.78-7.78 2.81-2.81c.8-.78.8-2.07 0-2.86zM5.41 20L4 18.59l7.72-7.72 1.47 1.35L5.41 20z\"/>\n",
              "  </svg>\n",
              "      </button>\n",
              "      \n",
              "  <style>\n",
              "    .colab-df-container {\n",
              "      display:flex;\n",
              "      flex-wrap:wrap;\n",
              "      gap: 12px;\n",
              "    }\n",
              "\n",
              "    .colab-df-convert {\n",
              "      background-color: #E8F0FE;\n",
              "      border: none;\n",
              "      border-radius: 50%;\n",
              "      cursor: pointer;\n",
              "      display: none;\n",
              "      fill: #1967D2;\n",
              "      height: 32px;\n",
              "      padding: 0 0 0 0;\n",
              "      width: 32px;\n",
              "    }\n",
              "\n",
              "    .colab-df-convert:hover {\n",
              "      background-color: #E2EBFA;\n",
              "      box-shadow: 0px 1px 2px rgba(60, 64, 67, 0.3), 0px 1px 3px 1px rgba(60, 64, 67, 0.15);\n",
              "      fill: #174EA6;\n",
              "    }\n",
              "\n",
              "    [theme=dark] .colab-df-convert {\n",
              "      background-color: #3B4455;\n",
              "      fill: #D2E3FC;\n",
              "    }\n",
              "\n",
              "    [theme=dark] .colab-df-convert:hover {\n",
              "      background-color: #434B5C;\n",
              "      box-shadow: 0px 1px 3px 1px rgba(0, 0, 0, 0.15);\n",
              "      filter: drop-shadow(0px 1px 2px rgba(0, 0, 0, 0.3));\n",
              "      fill: #FFFFFF;\n",
              "    }\n",
              "  </style>\n",
              "\n",
              "      <script>\n",
              "        const buttonEl =\n",
              "          document.querySelector('#df-5eb64959-40f7-4d0c-869d-84355829c2ee button.colab-df-convert');\n",
              "        buttonEl.style.display =\n",
              "          google.colab.kernel.accessAllowed ? 'block' : 'none';\n",
              "\n",
              "        async function convertToInteractive(key) {\n",
              "          const element = document.querySelector('#df-5eb64959-40f7-4d0c-869d-84355829c2ee');\n",
              "          const dataTable =\n",
              "            await google.colab.kernel.invokeFunction('convertToInteractive',\n",
              "                                                     [key], {});\n",
              "          if (!dataTable) return;\n",
              "\n",
              "          const docLinkHtml = 'Like what you see? Visit the ' +\n",
              "            '<a target=\"_blank\" href=https://colab.research.google.com/notebooks/data_table.ipynb>data table notebook</a>'\n",
              "            + ' to learn more about interactive tables.';\n",
              "          element.innerHTML = '';\n",
              "          dataTable['output_type'] = 'display_data';\n",
              "          await google.colab.output.renderOutput(dataTable, element);\n",
              "          const docLink = document.createElement('div');\n",
              "          docLink.innerHTML = docLinkHtml;\n",
              "          element.appendChild(docLink);\n",
              "        }\n",
              "      </script>\n",
              "    </div>\n",
              "  </div>\n",
              "  "
            ]
          },
          "metadata": {},
          "execution_count": 4
        }
      ]
    },
    {
      "cell_type": "code",
      "source": [
        "X = df.drop(['Liver_disease'], axis=1)\n",
        "y = df[\"Liver_disease\"]"
      ],
      "metadata": {
        "id": "SCt0X5I9FRs5"
      },
      "execution_count": 5,
      "outputs": []
    },
    {
      "cell_type": "code",
      "source": [
        "X_train, X_test, y_train, y_test = train_test_split(X, y, test_size=0.3, random_state=SEED)"
      ],
      "metadata": {
        "id": "3XwKxXndFTek"
      },
      "execution_count": 6,
      "outputs": []
    },
    {
      "cell_type": "markdown",
      "source": [
        "#**Set the tree's hyperparameter grid**\n",
        "In this exercise, you'll manually set the grid of hyperparameters that will be used to tune the classification tree dt and find the optimal classifier in the next exercise."
      ],
      "metadata": {
        "id": "uiFIM0HAFHZY"
      }
    },
    {
      "cell_type": "code",
      "source": [
        "dt = DecisionTreeClassifier(random_state=1)\n",
        "\n",
        "dt.get_params()"
      ],
      "metadata": {
        "colab": {
          "base_uri": "https://localhost:8080/"
        },
        "id": "RI2-qIrVFKTO",
        "outputId": "ad10acf4-0ed8-4e38-8799-7a7cae83a3c7"
      },
      "execution_count": 9,
      "outputs": [
        {
          "output_type": "execute_result",
          "data": {
            "text/plain": [
              "{'ccp_alpha': 0.0,\n",
              " 'class_weight': None,\n",
              " 'criterion': 'gini',\n",
              " 'max_depth': None,\n",
              " 'max_features': None,\n",
              " 'max_leaf_nodes': None,\n",
              " 'min_impurity_decrease': 0.0,\n",
              " 'min_samples_leaf': 1,\n",
              " 'min_samples_split': 2,\n",
              " 'min_weight_fraction_leaf': 0.0,\n",
              " 'random_state': 1,\n",
              " 'splitter': 'best'}"
            ]
          },
          "metadata": {},
          "execution_count": 9
        }
      ]
    },
    {
      "cell_type": "code",
      "source": [
        "# Define params_dt\n",
        "params_dt = {'max_depth':[2,3,4],'min_samples_leaf':[0.12,0.14,0.16,0.18]}"
      ],
      "metadata": {
        "id": "vM_fvAopGR86"
      },
      "execution_count": 11,
      "outputs": []
    },
    {
      "cell_type": "markdown",
      "source": [
        "#**Search for the optimal tree**\n",
        "In this exercise, you'll perform grid search using 5-fold cross validation to find dt's optimal hyperparameters. Note that because grid search is an exhaustive process, it may take a lot time to train the model. Here you'll only be instantiating the GridSearchCV object without fitting it to the training set. As discussed in the video, you can train such an object similar to any scikit-learn estimator by using the .fit() method:\n",
        "\n",
        "`grid_object.fit(X_train, y_train)`\n",
        "\n",
        "An untuned classification tree dt as well as the dictionary params_dt that you defined in the previous exercise are available in your workspace."
      ],
      "metadata": {
        "id": "xoH-ukbhF7CT"
      }
    },
    {
      "cell_type": "code",
      "source": [
        "# Import GridSearchCV\n",
        "from sklearn.model_selection import GridSearchCV \n",
        "\n",
        "# Instantiate grid_dt\n",
        "grid_dt = GridSearchCV(estimator=dt,\n",
        "                       param_grid=params_dt,\n",
        "                       scoring='roc_auc',\n",
        "                       cv=5,\n",
        "                       n_jobs=-1)"
      ],
      "metadata": {
        "id": "myHPuX0IFlfs"
      },
      "execution_count": 12,
      "outputs": []
    },
    {
      "cell_type": "markdown",
      "source": [
        "#**Evaluate the optimal tree**\n",
        "In this exercise, you'll evaluate the test set ROC AUC score of grid_dt's optimal model.\n",
        "\n",
        "In order to do so, you will first determine the probability of obtaining the positive label for each test set observation. You can use the methodpredict_proba() of an sklearn classifier to compute a 2D array containing the probabilities of the negative and positive class-labels respectively along columns.\n",
        "\n",
        "The dataset is already loaded and processed for you (numerical features are standardized); it is split into 80% train and 20% test. X_test, y_test are available in your workspace. In addition, we have also loaded the trained GridSearchCV object grid_dt that you instantiated in the previous exercise. Note that grid_dt was trained as follows:\n",
        "\n",
        "`grid_dt.fit(X_train, y_train)`"
      ],
      "metadata": {
        "id": "45e8NflKGXNq"
      }
    },
    {
      "cell_type": "code",
      "source": [
        "grid_dt.fit(X_train, y_train)"
      ],
      "metadata": {
        "colab": {
          "base_uri": "https://localhost:8080/"
        },
        "id": "j498zT4xGT_s",
        "outputId": "c56c9c67-a516-4986-ed21-4827d82293e2"
      },
      "execution_count": 13,
      "outputs": [
        {
          "output_type": "execute_result",
          "data": {
            "text/plain": [
              "GridSearchCV(cv=5, estimator=DecisionTreeClassifier(random_state=1), n_jobs=-1,\n",
              "             param_grid={'max_depth': [2, 3, 4],\n",
              "                         'min_samples_leaf': [0.12, 0.14, 0.16, 0.18]},\n",
              "             scoring='roc_auc')"
            ]
          },
          "metadata": {},
          "execution_count": 13
        }
      ]
    },
    {
      "cell_type": "code",
      "source": [
        "# Import roc_auc_score from sklearn.metrics\n",
        "from sklearn.metrics import roc_auc_score\n",
        "\n",
        "# Extract the best estimator\n",
        "best_model = grid_dt.best_estimator_\n",
        "\n",
        "# Predict the test set probabilities of the positive class\n",
        "y_pred_proba = best_model.predict_proba(X_test)[:,1]\n",
        "\n",
        "# Compute test_roc_auc\n",
        "test_roc_auc = roc_auc_score(y_test,y_pred_proba)\n",
        "\n",
        "# Print test_roc_auc\n",
        "print('Test set ROC AUC score: {:.3f}'.format(test_roc_auc))"
      ],
      "metadata": {
        "colab": {
          "base_uri": "https://localhost:8080/"
        },
        "id": "KzBSsof4GoaF",
        "outputId": "7dccc8e3-a8e9-4dcb-ccae-fd8ad7f977e5"
      },
      "execution_count": 14,
      "outputs": [
        {
          "output_type": "stream",
          "name": "stdout",
          "text": [
            "Test set ROC AUC score: 0.707\n"
          ]
        }
      ]
    },
    {
      "cell_type": "markdown",
      "source": [
        "#**Set the hyperparameter grid of RF**\n",
        "In this exercise, you'll manually set the grid of hyperparameters that will be used to tune rf's hyperparameters and find the optimal regressor. For this purpose, you will be constructing a grid of hyperparameters and tune the number of estimators, the maximum number of features used when splitting each node and the minimum number of samples (or fraction) per leaf."
      ],
      "metadata": {
        "id": "DyeAF24mISdF"
      }
    },
    {
      "cell_type": "code",
      "source": [
        "rf = RandomForestRegressor(n_jobs=-1, random_state=2)\n",
        "rf.get_params()"
      ],
      "metadata": {
        "colab": {
          "base_uri": "https://localhost:8080/"
        },
        "id": "j7L6HrxhI-8l",
        "outputId": "85843cc0-5adf-443d-953e-36722d5d6006"
      },
      "execution_count": 19,
      "outputs": [
        {
          "output_type": "execute_result",
          "data": {
            "text/plain": [
              "{'bootstrap': True,\n",
              " 'ccp_alpha': 0.0,\n",
              " 'criterion': 'squared_error',\n",
              " 'max_depth': None,\n",
              " 'max_features': 'auto',\n",
              " 'max_leaf_nodes': None,\n",
              " 'max_samples': None,\n",
              " 'min_impurity_decrease': 0.0,\n",
              " 'min_samples_leaf': 1,\n",
              " 'min_samples_split': 2,\n",
              " 'min_weight_fraction_leaf': 0.0,\n",
              " 'n_estimators': 100,\n",
              " 'n_jobs': -1,\n",
              " 'oob_score': False,\n",
              " 'random_state': 2,\n",
              " 'verbose': 0,\n",
              " 'warm_start': False}"
            ]
          },
          "metadata": {},
          "execution_count": 19
        }
      ]
    },
    {
      "cell_type": "code",
      "source": [
        "# Define the dictionary 'params_rf'\n",
        "params_rf = {'n_estimators':[100, 350, 500], 'max_features':['log2', 'auto', 'sqrt'], 'min_samples_leaf':[2, 10, 30]}"
      ],
      "metadata": {
        "id": "mkGi4AwdHKL6"
      },
      "execution_count": 15,
      "outputs": []
    },
    {
      "cell_type": "markdown",
      "source": [
        "#**Search for the optimal forest**\n",
        "In this exercise, you'll perform grid search using 3-fold cross validation to find rf's optimal hyperparameters. To evaluate each model in the grid, you'll be using the negative mean squared error metric.\n",
        "\n",
        "Note that because grid search is an exhaustive search process, it may take a lot time to train the model. Here you'll only be instantiating the GridSearchCV object without fitting it to the training set. As discussed in the video, you can train such an object similar to any scikit-learn estimator by using the .fit() method:\n",
        "\n",
        "`grid_object.fit(X_train, y_train)`\n",
        "\n",
        "The untuned random forests regressor model rf as well as the dictionary params_rf that you defined in the previous exercise are available in your workspace."
      ],
      "metadata": {
        "id": "M4QDE4yHIshz"
      }
    },
    {
      "cell_type": "code",
      "source": [
        "# Import GridSearchCV\n",
        "from sklearn.model_selection import GridSearchCV \n",
        "\n",
        "# Instantiate grid_rf\n",
        "grid_rf = GridSearchCV(estimator=rf,\n",
        "                       param_grid=params_rf,\n",
        "                       scoring='neg_mean_squared_error',\n",
        "                       cv=3,\n",
        "                       verbose=1,\n",
        "                       n_jobs=-1)"
      ],
      "metadata": {
        "id": "Q2L6CXIHIl1R"
      },
      "execution_count": 20,
      "outputs": []
    },
    {
      "cell_type": "markdown",
      "source": [
        "#**Evaluate the optimal forest**\n",
        "In this last exercise of the course, you'll evaluate the test set RMSE of grid_rf's optimal model.\n",
        "\n",
        "The dataset is already loaded and processed for you and is split into 80% train and 20% test. In your environment are available X_test, y_test and the function mean_squared_error from sklearn.metrics under the alias MSE. In addition, we have also loaded the trained GridSearchCV object grid_rf that you instantiated in the previous exercise. Note that grid_rf was trained as follows:\n",
        "\n",
        "`grid_rf.fit(X_train, y_train)`"
      ],
      "metadata": {
        "id": "gLsqlcZQJdel"
      }
    },
    {
      "cell_type": "code",
      "source": [
        "grid_rf.fit(X_train, y_train)"
      ],
      "metadata": {
        "colab": {
          "base_uri": "https://localhost:8080/"
        },
        "id": "OvUhig9lJV-c",
        "outputId": "f6d673df-2aa7-4777-f1d1-44aba329f587"
      },
      "execution_count": 21,
      "outputs": [
        {
          "output_type": "stream",
          "name": "stdout",
          "text": [
            "Fitting 3 folds for each of 27 candidates, totalling 81 fits\n"
          ]
        },
        {
          "output_type": "execute_result",
          "data": {
            "text/plain": [
              "GridSearchCV(cv=3, estimator=RandomForestRegressor(n_jobs=-1, random_state=2),\n",
              "             n_jobs=-1,\n",
              "             param_grid={'max_features': ['log2', 'auto', 'sqrt'],\n",
              "                         'min_samples_leaf': [2, 10, 30],\n",
              "                         'n_estimators': [100, 350, 500]},\n",
              "             scoring='neg_mean_squared_error', verbose=1)"
            ]
          },
          "metadata": {},
          "execution_count": 21
        }
      ]
    },
    {
      "cell_type": "code",
      "source": [
        "# Import mean_squared_error from sklearn.metrics as MSE \n",
        "from sklearn.metrics import mean_squared_error as MSE\n",
        "\n",
        "# Extract the best estimator\n",
        "best_model = grid_rf.best_estimator_\n",
        "\n",
        "# Predict test set labels\n",
        "y_pred = best_model.predict(X_test)\n",
        "\n",
        "# Compute rmse_test\n",
        "rmse_test = MSE(y_pred, y_test)**(1/2)\n",
        "\n",
        "# Print rmse_test\n",
        "print('Test RMSE of best model: {:.3f}'.format(rmse_test)) "
      ],
      "metadata": {
        "colab": {
          "base_uri": "https://localhost:8080/"
        },
        "id": "qahpWRwLJ2mC",
        "outputId": "d7c27895-01cb-46d9-96c6-16bc3753752e"
      },
      "execution_count": 22,
      "outputs": [
        {
          "output_type": "stream",
          "name": "stdout",
          "text": [
            "Test RMSE of best model: 0.413\n"
          ]
        }
      ]
    }
  ]
}