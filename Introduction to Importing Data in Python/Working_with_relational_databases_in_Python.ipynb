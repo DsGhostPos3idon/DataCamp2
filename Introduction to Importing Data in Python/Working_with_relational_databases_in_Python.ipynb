{
  "nbformat": 4,
  "nbformat_minor": 0,
  "metadata": {
    "colab": {
      "name": "Working with relational databases in Python.ipynb",
      "provenance": [],
      "collapsed_sections": []
    },
    "kernelspec": {
      "name": "python3",
      "display_name": "Python 3"
    },
    "language_info": {
      "name": "python"
    }
  },
  "cells": [
    {
      "cell_type": "code",
      "execution_count": 37,
      "metadata": {
        "id": "j0rUNd5BEWO3"
      },
      "outputs": [],
      "source": [
        "from sqlalchemy import create_engine\n",
        "import pandas as pd"
      ]
    },
    {
      "cell_type": "markdown",
      "source": [
        "#**Creating a database engine**\n",
        "Here, you're going to fire up your very first SQL engine. You'll create an engine to connect to the SQLite database 'Chinook.sqlite', which is in your working directory. Remember that to create an engine to connect to 'Northwind.sqlite', Hugo executed the command\n",
        "\n",
        "engine = create_engine('sqlite:///Northwind.sqlite')\n",
        "Here, 'sqlite:///Northwind.sqlite' is called the connection string to the SQLite database Northwind.sqlite. A little bit of background on the Chinook database: the Chinook database contains information about a semi-fictional digital media store in which media data is real and customer, employee and sales data has been manually created."
      ],
      "metadata": {
        "id": "XvcFgqNdGSEq"
      }
    },
    {
      "cell_type": "code",
      "source": [
        "# Create engine: engine\n",
        "engine = create_engine('sqlite:///Chinook.sqlite')"
      ],
      "metadata": {
        "id": "639WzRbJGEgG"
      },
      "execution_count": 31,
      "outputs": []
    },
    {
      "cell_type": "code",
      "source": [
        "print(engine)"
      ],
      "metadata": {
        "colab": {
          "base_uri": "https://localhost:8080/"
        },
        "id": "svT2Jy6uGNKt",
        "outputId": "7d24fe22-389a-4e5f-9508-808711d28ac6"
      },
      "execution_count": 32,
      "outputs": [
        {
          "output_type": "stream",
          "name": "stdout",
          "text": [
            "Engine(sqlite:///Chinook.sqlite)\n"
          ]
        }
      ]
    },
    {
      "cell_type": "markdown",
      "source": [
        "#**What are the tables in the database?**\n",
        "In this exercise, you'll once again create an engine to connect to 'Chinook.sqlite'. Before you can get any data out of the database, however, you'll need to know what tables it contains!\n",
        "\n",
        "To this end, you'll save the table names to a list using the method table_names() on the engine and then you will print the list."
      ],
      "metadata": {
        "id": "oc-saZZdJYNw"
      }
    },
    {
      "cell_type": "code",
      "source": [
        "# Save the table names to a list: table_names\n",
        "table_names = engine.table_names()\n",
        "\n",
        "# Print the table names to the shell\n",
        "print(table_names)"
      ],
      "metadata": {
        "colab": {
          "base_uri": "https://localhost:8080/"
        },
        "id": "bvfIcjK9JNx6",
        "outputId": "11f8ed3a-3468-452d-c139-a4a054babece"
      },
      "execution_count": 33,
      "outputs": [
        {
          "output_type": "stream",
          "name": "stdout",
          "text": [
            "['Album', 'Artist', 'Customer', 'Employee', 'Genre', 'Invoice', 'InvoiceLine', 'MediaType', 'Playlist', 'PlaylistTrack', 'Track']\n"
          ]
        },
        {
          "output_type": "stream",
          "name": "stderr",
          "text": [
            "/usr/local/lib/python3.7/dist-packages/ipykernel_launcher.py:2: SADeprecationWarning: The Engine.table_names() method is deprecated and will be removed in a future release.  Please refer to Inspector.get_table_names(). (deprecated since: 1.4)\n",
            "  \n"
          ]
        }
      ]
    },
    {
      "cell_type": "code",
      "source": [
        "from sqlalchemy import inspect\n",
        "\n",
        "inspector = inspect(engine)\n",
        "schemas = inspector.get_schema_names()"
      ],
      "metadata": {
        "id": "tlI1hMnVJx0b"
      },
      "execution_count": 34,
      "outputs": []
    },
    {
      "cell_type": "code",
      "source": [
        "print(schemas)"
      ],
      "metadata": {
        "colab": {
          "base_uri": "https://localhost:8080/"
        },
        "id": "BsL7Q68oKBBq",
        "outputId": "f911e967-5524-4e30-e454-cfb622160ebe"
      },
      "execution_count": 35,
      "outputs": [
        {
          "output_type": "stream",
          "name": "stdout",
          "text": [
            "['main']\n"
          ]
        }
      ]
    },
    {
      "cell_type": "code",
      "source": [
        "for schema in schemas:\n",
        "    print(\"schema: %s\" % schema)\n",
        "    for table_name in inspector.get_table_names(schema=schema):\n",
        "        for column in inspector.get_columns(table_name, schema=schema):\n",
        "            print(\"Column: %s\" % column)"
      ],
      "metadata": {
        "colab": {
          "base_uri": "https://localhost:8080/"
        },
        "id": "41r_pwDPKOEc",
        "outputId": "23d16854-c68a-4dd8-d715-65a1748f1aa7"
      },
      "execution_count": 36,
      "outputs": [
        {
          "output_type": "stream",
          "name": "stdout",
          "text": [
            "schema: main\n",
            "Column: {'name': 'AlbumId', 'type': INTEGER(), 'nullable': False, 'default': None, 'autoincrement': 'auto', 'primary_key': 1}\n",
            "Column: {'name': 'Title', 'type': NVARCHAR(length=160), 'nullable': False, 'default': None, 'autoincrement': 'auto', 'primary_key': 0}\n",
            "Column: {'name': 'ArtistId', 'type': INTEGER(), 'nullable': False, 'default': None, 'autoincrement': 'auto', 'primary_key': 0}\n",
            "Column: {'name': 'ArtistId', 'type': INTEGER(), 'nullable': False, 'default': None, 'autoincrement': 'auto', 'primary_key': 1}\n",
            "Column: {'name': 'Name', 'type': NVARCHAR(length=120), 'nullable': True, 'default': None, 'autoincrement': 'auto', 'primary_key': 0}\n",
            "Column: {'name': 'CustomerId', 'type': INTEGER(), 'nullable': False, 'default': None, 'autoincrement': 'auto', 'primary_key': 1}\n",
            "Column: {'name': 'FirstName', 'type': NVARCHAR(length=40), 'nullable': False, 'default': None, 'autoincrement': 'auto', 'primary_key': 0}\n",
            "Column: {'name': 'LastName', 'type': NVARCHAR(length=20), 'nullable': False, 'default': None, 'autoincrement': 'auto', 'primary_key': 0}\n",
            "Column: {'name': 'Company', 'type': NVARCHAR(length=80), 'nullable': True, 'default': None, 'autoincrement': 'auto', 'primary_key': 0}\n",
            "Column: {'name': 'Address', 'type': NVARCHAR(length=70), 'nullable': True, 'default': None, 'autoincrement': 'auto', 'primary_key': 0}\n",
            "Column: {'name': 'City', 'type': NVARCHAR(length=40), 'nullable': True, 'default': None, 'autoincrement': 'auto', 'primary_key': 0}\n",
            "Column: {'name': 'State', 'type': NVARCHAR(length=40), 'nullable': True, 'default': None, 'autoincrement': 'auto', 'primary_key': 0}\n",
            "Column: {'name': 'Country', 'type': NVARCHAR(length=40), 'nullable': True, 'default': None, 'autoincrement': 'auto', 'primary_key': 0}\n",
            "Column: {'name': 'PostalCode', 'type': NVARCHAR(length=10), 'nullable': True, 'default': None, 'autoincrement': 'auto', 'primary_key': 0}\n",
            "Column: {'name': 'Phone', 'type': NVARCHAR(length=24), 'nullable': True, 'default': None, 'autoincrement': 'auto', 'primary_key': 0}\n",
            "Column: {'name': 'Fax', 'type': NVARCHAR(length=24), 'nullable': True, 'default': None, 'autoincrement': 'auto', 'primary_key': 0}\n",
            "Column: {'name': 'Email', 'type': NVARCHAR(length=60), 'nullable': False, 'default': None, 'autoincrement': 'auto', 'primary_key': 0}\n",
            "Column: {'name': 'SupportRepId', 'type': INTEGER(), 'nullable': True, 'default': None, 'autoincrement': 'auto', 'primary_key': 0}\n",
            "Column: {'name': 'EmployeeId', 'type': INTEGER(), 'nullable': False, 'default': None, 'autoincrement': 'auto', 'primary_key': 1}\n",
            "Column: {'name': 'LastName', 'type': NVARCHAR(length=20), 'nullable': False, 'default': None, 'autoincrement': 'auto', 'primary_key': 0}\n",
            "Column: {'name': 'FirstName', 'type': NVARCHAR(length=20), 'nullable': False, 'default': None, 'autoincrement': 'auto', 'primary_key': 0}\n",
            "Column: {'name': 'Title', 'type': NVARCHAR(length=30), 'nullable': True, 'default': None, 'autoincrement': 'auto', 'primary_key': 0}\n",
            "Column: {'name': 'ReportsTo', 'type': INTEGER(), 'nullable': True, 'default': None, 'autoincrement': 'auto', 'primary_key': 0}\n",
            "Column: {'name': 'BirthDate', 'type': DATETIME(), 'nullable': True, 'default': None, 'autoincrement': 'auto', 'primary_key': 0}\n",
            "Column: {'name': 'HireDate', 'type': DATETIME(), 'nullable': True, 'default': None, 'autoincrement': 'auto', 'primary_key': 0}\n",
            "Column: {'name': 'Address', 'type': NVARCHAR(length=70), 'nullable': True, 'default': None, 'autoincrement': 'auto', 'primary_key': 0}\n",
            "Column: {'name': 'City', 'type': NVARCHAR(length=40), 'nullable': True, 'default': None, 'autoincrement': 'auto', 'primary_key': 0}\n",
            "Column: {'name': 'State', 'type': NVARCHAR(length=40), 'nullable': True, 'default': None, 'autoincrement': 'auto', 'primary_key': 0}\n",
            "Column: {'name': 'Country', 'type': NVARCHAR(length=40), 'nullable': True, 'default': None, 'autoincrement': 'auto', 'primary_key': 0}\n",
            "Column: {'name': 'PostalCode', 'type': NVARCHAR(length=10), 'nullable': True, 'default': None, 'autoincrement': 'auto', 'primary_key': 0}\n",
            "Column: {'name': 'Phone', 'type': NVARCHAR(length=24), 'nullable': True, 'default': None, 'autoincrement': 'auto', 'primary_key': 0}\n",
            "Column: {'name': 'Fax', 'type': NVARCHAR(length=24), 'nullable': True, 'default': None, 'autoincrement': 'auto', 'primary_key': 0}\n",
            "Column: {'name': 'Email', 'type': NVARCHAR(length=60), 'nullable': True, 'default': None, 'autoincrement': 'auto', 'primary_key': 0}\n",
            "Column: {'name': 'GenreId', 'type': INTEGER(), 'nullable': False, 'default': None, 'autoincrement': 'auto', 'primary_key': 1}\n",
            "Column: {'name': 'Name', 'type': NVARCHAR(length=120), 'nullable': True, 'default': None, 'autoincrement': 'auto', 'primary_key': 0}\n",
            "Column: {'name': 'InvoiceId', 'type': INTEGER(), 'nullable': False, 'default': None, 'autoincrement': 'auto', 'primary_key': 1}\n",
            "Column: {'name': 'CustomerId', 'type': INTEGER(), 'nullable': False, 'default': None, 'autoincrement': 'auto', 'primary_key': 0}\n",
            "Column: {'name': 'InvoiceDate', 'type': DATETIME(), 'nullable': False, 'default': None, 'autoincrement': 'auto', 'primary_key': 0}\n",
            "Column: {'name': 'BillingAddress', 'type': NVARCHAR(length=70), 'nullable': True, 'default': None, 'autoincrement': 'auto', 'primary_key': 0}\n",
            "Column: {'name': 'BillingCity', 'type': NVARCHAR(length=40), 'nullable': True, 'default': None, 'autoincrement': 'auto', 'primary_key': 0}\n",
            "Column: {'name': 'BillingState', 'type': NVARCHAR(length=40), 'nullable': True, 'default': None, 'autoincrement': 'auto', 'primary_key': 0}\n",
            "Column: {'name': 'BillingCountry', 'type': NVARCHAR(length=40), 'nullable': True, 'default': None, 'autoincrement': 'auto', 'primary_key': 0}\n",
            "Column: {'name': 'BillingPostalCode', 'type': NVARCHAR(length=10), 'nullable': True, 'default': None, 'autoincrement': 'auto', 'primary_key': 0}\n",
            "Column: {'name': 'Total', 'type': NUMERIC(precision=10, scale=2), 'nullable': False, 'default': None, 'autoincrement': 'auto', 'primary_key': 0}\n",
            "Column: {'name': 'InvoiceLineId', 'type': INTEGER(), 'nullable': False, 'default': None, 'autoincrement': 'auto', 'primary_key': 1}\n",
            "Column: {'name': 'InvoiceId', 'type': INTEGER(), 'nullable': False, 'default': None, 'autoincrement': 'auto', 'primary_key': 0}\n",
            "Column: {'name': 'TrackId', 'type': INTEGER(), 'nullable': False, 'default': None, 'autoincrement': 'auto', 'primary_key': 0}\n",
            "Column: {'name': 'UnitPrice', 'type': NUMERIC(precision=10, scale=2), 'nullable': False, 'default': None, 'autoincrement': 'auto', 'primary_key': 0}\n",
            "Column: {'name': 'Quantity', 'type': INTEGER(), 'nullable': False, 'default': None, 'autoincrement': 'auto', 'primary_key': 0}\n",
            "Column: {'name': 'MediaTypeId', 'type': INTEGER(), 'nullable': False, 'default': None, 'autoincrement': 'auto', 'primary_key': 1}\n",
            "Column: {'name': 'Name', 'type': NVARCHAR(length=120), 'nullable': True, 'default': None, 'autoincrement': 'auto', 'primary_key': 0}\n",
            "Column: {'name': 'PlaylistId', 'type': INTEGER(), 'nullable': False, 'default': None, 'autoincrement': 'auto', 'primary_key': 1}\n",
            "Column: {'name': 'Name', 'type': NVARCHAR(length=120), 'nullable': True, 'default': None, 'autoincrement': 'auto', 'primary_key': 0}\n",
            "Column: {'name': 'PlaylistId', 'type': INTEGER(), 'nullable': False, 'default': None, 'autoincrement': 'auto', 'primary_key': 1}\n",
            "Column: {'name': 'TrackId', 'type': INTEGER(), 'nullable': False, 'default': None, 'autoincrement': 'auto', 'primary_key': 2}\n",
            "Column: {'name': 'TrackId', 'type': INTEGER(), 'nullable': False, 'default': None, 'autoincrement': 'auto', 'primary_key': 1}\n",
            "Column: {'name': 'Name', 'type': NVARCHAR(length=200), 'nullable': False, 'default': None, 'autoincrement': 'auto', 'primary_key': 0}\n",
            "Column: {'name': 'AlbumId', 'type': INTEGER(), 'nullable': True, 'default': None, 'autoincrement': 'auto', 'primary_key': 0}\n",
            "Column: {'name': 'MediaTypeId', 'type': INTEGER(), 'nullable': False, 'default': None, 'autoincrement': 'auto', 'primary_key': 0}\n",
            "Column: {'name': 'GenreId', 'type': INTEGER(), 'nullable': True, 'default': None, 'autoincrement': 'auto', 'primary_key': 0}\n",
            "Column: {'name': 'Composer', 'type': NVARCHAR(length=220), 'nullable': True, 'default': None, 'autoincrement': 'auto', 'primary_key': 0}\n",
            "Column: {'name': 'Milliseconds', 'type': INTEGER(), 'nullable': False, 'default': None, 'autoincrement': 'auto', 'primary_key': 0}\n",
            "Column: {'name': 'Bytes', 'type': INTEGER(), 'nullable': True, 'default': None, 'autoincrement': 'auto', 'primary_key': 0}\n",
            "Column: {'name': 'UnitPrice', 'type': NUMERIC(precision=10, scale=2), 'nullable': False, 'default': None, 'autoincrement': 'auto', 'primary_key': 0}\n"
          ]
        }
      ]
    },
    {
      "cell_type": "markdown",
      "source": [
        "#**The Hello World of SQL Queries!**\n",
        "Now, it's time for liftoff! In this exercise, you'll perform the Hello World of SQL queries, SELECT, in order to retrieve all columns of the table Album in the Chinook database. Recall that the query SELECT * selects all columns."
      ],
      "metadata": {
        "id": "RkyrhsGNNiQk"
      }
    },
    {
      "cell_type": "code",
      "source": [
        "# Open engine connection: con\n",
        "con = engine.connect()\n",
        "\n",
        "# Perform query: rs\n",
        "rs = con.execute(\"SELECT * FROM Album\")\n",
        "\n",
        "# Save results of the query to DataFrame: df\n",
        "df = pd.DataFrame(rs.fetchall())\n",
        "\n",
        "# Close connection\n",
        "con.close()\n",
        "\n",
        "# Print head of DataFrame df\n",
        "print(df.head())"
      ],
      "metadata": {
        "colab": {
          "base_uri": "https://localhost:8080/"
        },
        "id": "_WwGsiDtKt_n",
        "outputId": "16d7cf80-99c7-4719-e317-e2857835b49d"
      },
      "execution_count": 38,
      "outputs": [
        {
          "output_type": "stream",
          "name": "stdout",
          "text": [
            "   0                                      1  2\n",
            "0  1  For Those About To Rock We Salute You  1\n",
            "1  2                      Balls to the Wall  2\n",
            "2  3                      Restless and Wild  2\n",
            "3  4                      Let There Be Rock  1\n",
            "4  5                               Big Ones  3\n"
          ]
        }
      ]
    },
    {
      "cell_type": "markdown",
      "source": [
        "#**Customizing the Hello World of SQL Queries**\n",
        "Congratulations on executing your first SQL query! Now you're going to figure out how to customize your query in order to:\n",
        "\n",
        "Select specified columns from a table;\n",
        "Select a specified number of rows;\n",
        "Import column names from the database table."
      ],
      "metadata": {
        "id": "wvuR2_IcNvQT"
      }
    },
    {
      "cell_type": "code",
      "source": [
        "# Open engine in context manager\n",
        "# Perform query and save results to DataFrame: df\n",
        "with engine.connect() as con:\n",
        "    rs = con.execute(\"SELECT LastName, Title FROM Employee\")\n",
        "    df = pd.DataFrame(rs.fetchmany(size=3))\n",
        "    df.columns = rs.keys()\n",
        "\n",
        "# Print the length of the DataFrame df\n",
        "print(len(df))\n",
        "\n",
        "# Print the head of the DataFrame df\n",
        "print(df.head())"
      ],
      "metadata": {
        "colab": {
          "base_uri": "https://localhost:8080/"
        },
        "id": "BZHv3OxzMwmY",
        "outputId": "7ae985ec-6f13-48f5-940a-51533acc1560"
      },
      "execution_count": 39,
      "outputs": [
        {
          "output_type": "stream",
          "name": "stdout",
          "text": [
            "3\n",
            "  LastName                Title\n",
            "0    Adams      General Manager\n",
            "1  Edwards        Sales Manager\n",
            "2  Peacock  Sales Support Agent\n"
          ]
        }
      ]
    },
    {
      "cell_type": "markdown",
      "source": [
        "#**Filtering your database records using SQL's WHERE**\n",
        "You can now execute a basic SQL query to select records from any table in your database and you can also perform simple query customizations to select particular columns and numbers of rows.\n",
        "\n",
        "There are a couple more standard SQL query chops that will aid you in your journey to becoming an SQL ninja.\n",
        "\n",
        "Let's say, for example that you wanted to get all records from the Customer table of the Chinook database for which the Country is 'Canada'. You can do this very easily in SQL using a SELECT statement followed by a WHERE clause as follows:\n",
        "\n",
        "SELECT * FROM Customer WHERE Country = 'Canada'\n",
        "In fact, you can filter any SELECT statement by any condition using a WHERE clause. This is called filtering your records.\n",
        "\n",
        "In this interactive exercise, you'll select all records of the Employee table for which 'EmployeeId' is greater than or equal to 6."
      ],
      "metadata": {
        "id": "EBDtIWFSOQnV"
      }
    },
    {
      "cell_type": "code",
      "source": [
        "with engine.connect() as con:\n",
        "    rs = con.execute(\"SELECT * FROM Employee WHERE EmployeeId>=6\")\n",
        "    df = pd.DataFrame(rs.fetchmany(size=100))\n",
        "    df.columns = rs.keys()\n",
        "\n",
        "print(df.head())"
      ],
      "metadata": {
        "colab": {
          "base_uri": "https://localhost:8080/"
        },
        "id": "ebYKKpAQOK85",
        "outputId": "41574b06-73cc-4018-e01b-3dd68fab5f82"
      },
      "execution_count": 40,
      "outputs": [
        {
          "output_type": "stream",
          "name": "stdout",
          "text": [
            "   EmployeeId  LastName FirstName       Title  ReportsTo            BirthDate  \\\n",
            "0           6  Mitchell   Michael  IT Manager          1  1973-07-01 00:00:00   \n",
            "1           7      King    Robert    IT Staff          6  1970-05-29 00:00:00   \n",
            "2           8  Callahan     Laura    IT Staff          6  1968-01-09 00:00:00   \n",
            "\n",
            "              HireDate                      Address        City State Country  \\\n",
            "0  2003-10-17 00:00:00         5827 Bowness Road NW     Calgary    AB  Canada   \n",
            "1  2004-01-02 00:00:00  590 Columbia Boulevard West  Lethbridge    AB  Canada   \n",
            "2  2004-03-04 00:00:00                  923 7 ST NW  Lethbridge    AB  Canada   \n",
            "\n",
            "  PostalCode              Phone                Fax                    Email  \n",
            "0    T3B 0C5  +1 (403) 246-9887  +1 (403) 246-9899  michael@chinookcorp.com  \n",
            "1    T1K 5N8  +1 (403) 456-9986  +1 (403) 456-8485   robert@chinookcorp.com  \n",
            "2    T1H 1Y8  +1 (403) 467-3351  +1 (403) 467-8772    laura@chinookcorp.com  \n"
          ]
        }
      ]
    },
    {
      "cell_type": "markdown",
      "source": [
        "#**Ordering your SQL records with ORDER BY**\n",
        "You can also order your SQL query results. For example, if you wanted to get all records from the Customer table of the Chinook database and order them in increasing order by the column SupportRepId, you could do so with the following query:\n",
        "\n",
        "\"SELECT * FROM Customer ORDER BY SupportRepId\"\n",
        "\n",
        "In fact, you can order any SELECT statement by any column.\n",
        "\n",
        "In this interactive exercise, you'll select all records of the Employee table and order them in increasing order by the column BirthDate"
      ],
      "metadata": {
        "id": "ULSahx1QQORt"
      }
    },
    {
      "cell_type": "code",
      "source": [
        "with engine.connect() as con:\n",
        "    rs = con.execute(\"SELECT * FROM Employee ORDER BY BirthDate\")\n",
        "    df = pd.DataFrame(rs.fetchmany(size=100))\n",
        "\n",
        "    # Set the DataFrame's column names\n",
        "    df.columns = rs.keys()\n",
        "\n",
        "# Print head of DataFrame\n",
        "print(df.head())"
      ],
      "metadata": {
        "colab": {
          "base_uri": "https://localhost:8080/"
        },
        "id": "Ub2_yt5kPsq_",
        "outputId": "35be181a-7ef9-4afd-b80c-38c84c7f1ee1"
      },
      "execution_count": 41,
      "outputs": [
        {
          "output_type": "stream",
          "name": "stdout",
          "text": [
            "   EmployeeId  LastName FirstName                Title  ReportsTo  \\\n",
            "0           4      Park  Margaret  Sales Support Agent        2.0   \n",
            "1           2   Edwards     Nancy        Sales Manager        1.0   \n",
            "2           1     Adams    Andrew      General Manager        NaN   \n",
            "3           5   Johnson     Steve  Sales Support Agent        2.0   \n",
            "4           8  Callahan     Laura             IT Staff        6.0   \n",
            "\n",
            "             BirthDate             HireDate              Address        City  \\\n",
            "0  1947-09-19 00:00:00  2003-05-03 00:00:00     683 10 Street SW     Calgary   \n",
            "1  1958-12-08 00:00:00  2002-05-01 00:00:00         825 8 Ave SW     Calgary   \n",
            "2  1962-02-18 00:00:00  2002-08-14 00:00:00  11120 Jasper Ave NW    Edmonton   \n",
            "3  1965-03-03 00:00:00  2003-10-17 00:00:00         7727B 41 Ave     Calgary   \n",
            "4  1968-01-09 00:00:00  2004-03-04 00:00:00          923 7 ST NW  Lethbridge   \n",
            "\n",
            "  State Country PostalCode              Phone                Fax  \\\n",
            "0    AB  Canada    T2P 5G3  +1 (403) 263-4423  +1 (403) 263-4289   \n",
            "1    AB  Canada    T2P 2T3  +1 (403) 262-3443  +1 (403) 262-3322   \n",
            "2    AB  Canada    T5K 2N1  +1 (780) 428-9482  +1 (780) 428-3457   \n",
            "3    AB  Canada    T3B 1Y7   1 (780) 836-9987   1 (780) 836-9543   \n",
            "4    AB  Canada    T1H 1Y8  +1 (403) 467-3351  +1 (403) 467-8772   \n",
            "\n",
            "                      Email  \n",
            "0  margaret@chinookcorp.com  \n",
            "1     nancy@chinookcorp.com  \n",
            "2    andrew@chinookcorp.com  \n",
            "3     steve@chinookcorp.com  \n",
            "4     laura@chinookcorp.com  \n"
          ]
        }
      ]
    },
    {
      "cell_type": "markdown",
      "source": [
        "#**Pandas and The Hello World of SQL Queries!**\n",
        "Here, you'll take advantage of the power of pandas to write the results of your SQL query to a DataFrame in one swift line of Python code!\n",
        "\n",
        "You'll first import pandas and create the SQLite 'Chinook.sqlite' engine. Then you'll query the database to select all records from the Album table."
      ],
      "metadata": {
        "id": "32EJB47iR81J"
      }
    },
    {
      "cell_type": "code",
      "source": [
        "# Create engine: engine\n",
        "engine = create_engine('sqlite:///Chinook.sqlite')\n",
        "\n",
        "# Execute query and store records in DataFrame: df\n",
        "df = pd.read_sql_query(\"SELECT * FROM Album\", engine)\n",
        "\n",
        "# Print head of DataFrame\n",
        "print(df.head())"
      ],
      "metadata": {
        "colab": {
          "base_uri": "https://localhost:8080/"
        },
        "id": "_fca8UIjQXnN",
        "outputId": "7c9d8533-50aa-4c54-dc8a-1eb3190c0a7a"
      },
      "execution_count": 42,
      "outputs": [
        {
          "output_type": "stream",
          "name": "stdout",
          "text": [
            "   AlbumId                                  Title  ArtistId\n",
            "0        1  For Those About To Rock We Salute You         1\n",
            "1        2                      Balls to the Wall         2\n",
            "2        3                      Restless and Wild         2\n",
            "3        4                      Let There Be Rock         1\n",
            "4        5                               Big Ones         3\n"
          ]
        }
      ]
    },
    {
      "cell_type": "code",
      "source": [
        "# Open engine in context manager and store query result in df1\n",
        "with engine.connect() as con:\n",
        "    rs = con.execute(\"SELECT * FROM Album\")\n",
        "    df1 = pd.DataFrame(rs.fetchall())\n",
        "    df1.columns = rs.keys()\n",
        "\n",
        "# Confirm that both methods yield the same result\n",
        "print(df.equals(df1))"
      ],
      "metadata": {
        "colab": {
          "base_uri": "https://localhost:8080/"
        },
        "id": "5Sf5ShZlR_Mq",
        "outputId": "262e29bd-8de3-44cc-ac64-44540f96c80d"
      },
      "execution_count": 43,
      "outputs": [
        {
          "output_type": "stream",
          "name": "stdout",
          "text": [
            "True\n"
          ]
        }
      ]
    },
    {
      "cell_type": "markdown",
      "source": [
        "#**Pandas for more complex querying**\n",
        "Here, you'll become more familiar with the pandas function read_sql_query() by using it to execute a more complex query: a SELECT statement followed by both a WHERE clause AND an ORDER BY clause.\n",
        "\n",
        "You'll build a DataFrame that contains the rows of the Employee table for which the EmployeeId is greater than or equal to 6 and you'll order these entries by BirthDate."
      ],
      "metadata": {
        "id": "dHpbva2cSMNY"
      }
    },
    {
      "cell_type": "code",
      "source": [
        "# Execute query and store records in DataFrame: df\n",
        "df = pd.read_sql_query(\"SELECT * FROM Employee WHERE EmployeeId >= 6 ORDER BY BirthDate\", engine)\n",
        "\n",
        "# Print head of DataFrame\n",
        "print(df.head())"
      ],
      "metadata": {
        "colab": {
          "base_uri": "https://localhost:8080/"
        },
        "id": "YG1H4iMQSHHk",
        "outputId": "f1c16240-8ca6-40a7-e2ce-a44672cbc267"
      },
      "execution_count": 44,
      "outputs": [
        {
          "output_type": "stream",
          "name": "stdout",
          "text": [
            "   EmployeeId  LastName FirstName       Title  ReportsTo            BirthDate  \\\n",
            "0           8  Callahan     Laura    IT Staff          6  1968-01-09 00:00:00   \n",
            "1           7      King    Robert    IT Staff          6  1970-05-29 00:00:00   \n",
            "2           6  Mitchell   Michael  IT Manager          1  1973-07-01 00:00:00   \n",
            "\n",
            "              HireDate                      Address        City State Country  \\\n",
            "0  2004-03-04 00:00:00                  923 7 ST NW  Lethbridge    AB  Canada   \n",
            "1  2004-01-02 00:00:00  590 Columbia Boulevard West  Lethbridge    AB  Canada   \n",
            "2  2003-10-17 00:00:00         5827 Bowness Road NW     Calgary    AB  Canada   \n",
            "\n",
            "  PostalCode              Phone                Fax                    Email  \n",
            "0    T1H 1Y8  +1 (403) 467-3351  +1 (403) 467-8772    laura@chinookcorp.com  \n",
            "1    T1K 5N8  +1 (403) 456-9986  +1 (403) 456-8485   robert@chinookcorp.com  \n",
            "2    T3B 0C5  +1 (403) 246-9887  +1 (403) 246-9899  michael@chinookcorp.com  \n"
          ]
        }
      ]
    },
    {
      "cell_type": "markdown",
      "source": [
        "#**The power of SQL lies in relationships between tables: INNER JOIN**\n",
        "Here, you'll perform your first INNER JOIN! You'll be working with your favourite SQLite database, Chinook.sqlite. For each record in the Album table, you'll extract the Title along with the Name of the Artist. The latter will come from the Artist table and so you will need to INNER JOIN these two tables on the ArtistID column of both."
      ],
      "metadata": {
        "id": "2r34_1LgTm4j"
      }
    },
    {
      "cell_type": "code",
      "source": [
        "# Open engine in context manager\n",
        "# Perform query and save results to DataFrame: df\n",
        "with engine.connect() as con:\n",
        "    rs = con.execute(\"SELECT a.Title, ar.Name FROM Album as a JOIN Artist ar ON ar.ArtistID = a.ArtistID\")\n",
        "    df = pd.DataFrame(rs.fetchall())\n",
        "    df.columns = rs.keys()\n",
        "\n",
        "# Print head of DataFrame df\n",
        "print(df.head())"
      ],
      "metadata": {
        "colab": {
          "base_uri": "https://localhost:8080/"
        },
        "id": "ZaDJ6xJnSroq",
        "outputId": "f832376e-877a-48c6-91b9-dcb935048c81"
      },
      "execution_count": 45,
      "outputs": [
        {
          "output_type": "stream",
          "name": "stdout",
          "text": [
            "                                   Title       Name\n",
            "0  For Those About To Rock We Salute You      AC/DC\n",
            "1                      Balls to the Wall     Accept\n",
            "2                      Restless and Wild     Accept\n",
            "3                      Let There Be Rock      AC/DC\n",
            "4                               Big Ones  Aerosmith\n"
          ]
        }
      ]
    },
    {
      "cell_type": "markdown",
      "source": [
        "#**Filtering your INNER JOIN**\n",
        "Congrats on performing your first INNER JOIN! You're now going to finish this chapter with one final exercise in which you perform an INNER JOIN and filter the result using a WHERE clause. Use the pandas function read_sql_query() to assign to the variable df the DataFrame of results from the following query: select all records from PlaylistTrack INNER JOIN Track on PlaylistTrack.TrackId = Track.TrackId that satisfy the condition Milliseconds < 250000."
      ],
      "metadata": {
        "id": "08egiEtTUGHZ"
      }
    },
    {
      "cell_type": "code",
      "source": [
        "# Execute query and store records in DataFrame: df\n",
        "df = pd.read_sql_query(\"SELECT * FROM PlaylistTrack INNER JOIN Track on PlaylistTrack.TrackId = Track.TrackId WHERE Milliseconds < 250000\", engine)\n",
        "\n",
        "# Print head of DataFrame\n",
        "print(df.head())"
      ],
      "metadata": {
        "colab": {
          "base_uri": "https://localhost:8080/"
        },
        "id": "uDqWNYPvTsLO",
        "outputId": "aafd8c8a-9395-4eec-ac64-d96706f39eba"
      },
      "execution_count": 46,
      "outputs": [
        {
          "output_type": "stream",
          "name": "stdout",
          "text": [
            "   PlaylistId  TrackId  TrackId              Name  AlbumId  MediaTypeId  \\\n",
            "0           1     3390     3390  One and the Same      271            2   \n",
            "1           1     3392     3392     Until We Fall      271            2   \n",
            "2           1     3393     3393     Original Fire      271            2   \n",
            "3           1     3394     3394       Broken City      271            2   \n",
            "4           1     3395     3395          Somedays      271            2   \n",
            "\n",
            "   GenreId Composer  Milliseconds    Bytes  UnitPrice  \n",
            "0       23     None        217732  3559040       0.99  \n",
            "1       23     None        230758  3766605       0.99  \n",
            "2       23     None        218916  3577821       0.99  \n",
            "3       23     None        228366  3728955       0.99  \n",
            "4       23     None        213831  3497176       0.99  \n"
          ]
        }
      ]
    }
  ]
}