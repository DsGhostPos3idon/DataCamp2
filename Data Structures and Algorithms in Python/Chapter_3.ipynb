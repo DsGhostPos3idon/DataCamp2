{
  "nbformat": 4,
  "nbformat_minor": 0,
  "metadata": {
    "colab": {
      "provenance": []
    },
    "kernelspec": {
      "name": "python3",
      "display_name": "Python 3"
    },
    "language_info": {
      "name": "python"
    }
  },
  "cells": [
    {
      "cell_type": "markdown",
      "source": [
        "# **Data Structures and Algorithms in Python**"
      ],
      "metadata": {
        "id": "8RL_iBL-I-5Y"
      }
    },
    {
      "cell_type": "markdown",
      "source": [
        "## **Chapter 3: Searching algorithms**"
      ],
      "metadata": {
        "id": "Ji6mYPb3qlSj"
      }
    },
    {
      "cell_type": "markdown",
      "source": [
        "#### **Linear Search and Binary Search**"
      ],
      "metadata": {
        "id": "IsMDjyrgqujA"
      }
    },
    {
      "cell_type": "markdown",
      "source": [
        "Implementing binary search\n",
        "\n",
        "In this video, you learned how to implement linear search and binary search and saw the differences between them.\n",
        "\n",
        "In this exercise, you need to implement the binary_search() function."
      ],
      "metadata": {
        "id": "2sE6rTJXrqpM"
      }
    },
    {
      "cell_type": "code",
      "source": [
        "def binary_search(ordered_list, search_value):\n",
        "  first = 0\n",
        "  last = len(ordered_list) - 1\n",
        "  \n",
        "  while first <= last:\n",
        "    middle = (first + last)//2\n",
        "    # Check whether the search value equals the value in the middle\n",
        "    if search_value == ordered_list[middle]:\n",
        "      return True\n",
        "    # Check whether the search value is smaller than the value in the middle\n",
        "    elif search_value < ordered_list[middle]:\n",
        "      # Set last to the value of middle minus one\n",
        "      last = middle - 1\n",
        "    else:\n",
        "      first = middle + 1\n",
        "  return False\n",
        "  \n",
        "print(binary_search([1,5,8,9,15,20,70,72], 5))"
      ],
      "metadata": {
        "id": "kUuwlscq3xxF",
        "colab": {
          "base_uri": "https://localhost:8080/"
        },
        "outputId": "f01419d3-97a5-47c2-91ed-8d472331e019"
      },
      "execution_count": 1,
      "outputs": [
        {
          "output_type": "stream",
          "name": "stdout",
          "text": [
            "True\n"
          ]
        }
      ]
    },
    {
      "cell_type": "markdown",
      "source": [
        "Binary search using recursion\n",
        "\n",
        "In this exercise, you will implement the binary search algorithm you just learned using recursion. Recall that a recursive function refers to a function calling itself."
      ],
      "metadata": {
        "id": "i5C_I_iWr7c5"
      }
    },
    {
      "cell_type": "code",
      "source": [
        "def binary_search_recursive(ordered_list, search_value):\n",
        "  # Define the base case\n",
        "  if len(ordered_list) == 0:\n",
        "    return False\n",
        "  else:\n",
        "    middle = len(ordered_list)//2\n",
        "    # Check whether the search value equals the value in the middle\n",
        "    if search_value == ordered_list[middle]:\n",
        "        return True\n",
        "    elif search_value < ordered_list[middle]:\n",
        "        # Call recursively with the left half of the list\n",
        "        return binary_search_recursive(ordered_list[:middle], search_value)\n",
        "    else:\n",
        "        # Call recursively with the right half of the list\n",
        "        return binary_search_recursive(ordered_list[middle+1:], search_value)\n",
        "  \n",
        "print(binary_search_recursive([1,5,8,9,15,20,70,72], 5))"
      ],
      "metadata": {
        "colab": {
          "base_uri": "https://localhost:8080/"
        },
        "id": "aBu9K7mIr2hQ",
        "outputId": "c5361ea5-9ea2-43f8-87ee-b942d0bf619d"
      },
      "execution_count": 2,
      "outputs": [
        {
          "output_type": "stream",
          "name": "stdout",
          "text": [
            "True\n"
          ]
        }
      ]
    },
    {
      "cell_type": "markdown",
      "source": [
        "#### **Binary Search Tree (BST)**"
      ],
      "metadata": {
        "id": "5axdcYdGsa84"
      }
    },
    {
      "cell_type": "markdown",
      "source": [
        "Inserting a node into a binary search tree\n",
        "\n",
        "In the video, you learned what binary search trees (BSTs) are and how to implement their main operations.\n",
        "\n",
        "In this exercise, you will implement a function to insert a node into a BST.\n",
        "\n",
        "The nodes contain titles of books, building a BST based on alphabetical order.\n",
        "\n",
        "This tree has been preloaded in the bst variable:\n",
        "```\n",
        "bst = CreateTree()\n",
        "```\n",
        "You can check if the node is correctly inserted with this code:\n",
        "```\n",
        "bst.insert(\"Pride and Prejudice\")\n",
        "print(search(bst, \"Pride and Prejudice\"))\n",
        "```"
      ],
      "metadata": {
        "id": "EXln-Oc8uLnW"
      }
    },
    {
      "cell_type": "code",
      "source": [
        "class TreeNode:   \n",
        "  def __init__(self, data, left=None, right=None): \n",
        "    self.data = data \n",
        "    self.left_child = left \n",
        "    self.right_child = right "
      ],
      "metadata": {
        "id": "F82onNLxvAZg"
      },
      "execution_count": 3,
      "outputs": []
    },
    {
      "cell_type": "markdown",
      "source": [
        "```\n",
        "import inspect\n",
        "source_text = inspect.getsource(CreateTree)\n",
        "print(source_text)\n",
        "```"
      ],
      "metadata": {
        "id": "F7ik6tP1wrni"
      }
    },
    {
      "cell_type": "code",
      "source": [
        "def CreateTree():\n",
        "  dracula = TreeNode(\"Dracula\")\n",
        "  jane = TreeNode(\"Jane Eyre\")\n",
        "  moby = TreeNode(\"Moby Dick\")\n",
        "  vanity = TreeNode(\"Vanity\")\n",
        "  heidi = TreeNode(\"Heidi\", dracula, jane)\n",
        "  oliver = TreeNode(\"Oliver Twist\", moby, vanity)\n",
        "  root_node = TreeNode(\"Little women\", heidi, oliver)\n",
        "  bst = BinarySearchTree()\n",
        "  bst.root = root_node\n",
        "  return bst"
      ],
      "metadata": {
        "id": "A9euhP1Xwuq1"
      },
      "execution_count": 4,
      "outputs": []
    },
    {
      "cell_type": "code",
      "source": [
        "def search(bst, search_value):\n",
        "    current_node = bst.root\n",
        "    while current_node:\n",
        "      if search_value == current_node.data:\n",
        "        return True\n",
        "      elif search_value < current_node.data:\n",
        "        current_node = current_node.left_child\n",
        "      else:\n",
        "        current_node = current_node.right_child\n",
        "    return False"
      ],
      "metadata": {
        "id": "iBr6CbgEw-8J"
      },
      "execution_count": 5,
      "outputs": []
    },
    {
      "cell_type": "code",
      "source": [
        "class BinarySearchTree:\n",
        "  def __init__(self):\n",
        "    self.root = None\n",
        "\n",
        "  def insert(self, data):\n",
        "    new_node = TreeNode(data)\n",
        "    # Check if the BST is empty\n",
        "    if self.root == None:\n",
        "      self.root = new_node\n",
        "      return\n",
        "    else:\n",
        "      current_node = self.root\n",
        "      while True:\n",
        "        # Check if the data to insert is smaller than the current node's data\n",
        "        if data < current_node.data:\n",
        "          if current_node.left_child == None:\n",
        "            current_node.left_child = new_node\n",
        "            return \n",
        "          else:\n",
        "            current_node = current_node.left_child\n",
        "        # Check if the data to insert is greater than the current node's data\n",
        "        elif data > current_node.data:\n",
        "          if current_node.right_child == None:\n",
        "            current_node.right_child = new_node\n",
        "            return\n",
        "          else:\n",
        "            current_node = current_node.right_child\n",
        "\n",
        "bst = CreateTree()\n",
        "bst.insert(\"Pride and Prejudice\")\n",
        "print(search(bst, \"Pride and Prejudice\"))"
      ],
      "metadata": {
        "colab": {
          "base_uri": "https://localhost:8080/"
        },
        "id": "INGeuQcysQyV",
        "outputId": "54091e8b-6995-43df-de35-c91db74e1f12"
      },
      "execution_count": 6,
      "outputs": [
        {
          "output_type": "stream",
          "name": "stdout",
          "text": [
            "True\n"
          ]
        }
      ]
    },
    {
      "cell_type": "code",
      "source": [
        "print(search(bst, \"Jenkins\"))"
      ],
      "metadata": {
        "colab": {
          "base_uri": "https://localhost:8080/"
        },
        "id": "oJGpD_jKxBEn",
        "outputId": "d1bc2ec4-fbcd-488b-cd2f-1d78eb8d835e"
      },
      "execution_count": 7,
      "outputs": [
        {
          "output_type": "stream",
          "name": "stdout",
          "text": [
            "False\n"
          ]
        }
      ]
    },
    {
      "cell_type": "markdown",
      "source": [
        "Finding the minimum node of a BST\n",
        "\n",
        "In this exercise, you will practice on a BST to find the minimum node.\n",
        "\n",
        "You can print the result that returns the find_min() method with this code:\n",
        "```\n",
        "print(bst.find_min())\n",
        "```"
      ],
      "metadata": {
        "id": "g0i_z0UCxORo"
      }
    },
    {
      "cell_type": "code",
      "source": [
        "class BinarySearchTree:\n",
        "  def __init__(self):\n",
        "    self.root = None\n",
        "\n",
        "  def find_min(self):\n",
        "    # Set current_node as the root\n",
        "    current_node = self.root\n",
        "    # Iterate over the nodes of the appropriate subtree\n",
        "    while current_node.left_child:\n",
        "      # Update the value for current_node\n",
        "      current_node = current_node.left_child\n",
        "    return current_node.data\n",
        "  \n",
        "bst = CreateTree()\n",
        "print(bst.find_min())"
      ],
      "metadata": {
        "colab": {
          "base_uri": "https://localhost:8080/"
        },
        "id": "jZLu6g7hxExB",
        "outputId": "51fe3afd-970f-4547-807d-b91b10986bed"
      },
      "execution_count": 8,
      "outputs": [
        {
          "output_type": "stream",
          "name": "stdout",
          "text": [
            "Dracula\n"
          ]
        }
      ]
    },
    {
      "cell_type": "markdown",
      "source": [
        "#### **Depth First Search (DFS)**"
      ],
      "metadata": {
        "id": "2FrYgRfQyh2p"
      }
    },
    {
      "cell_type": "markdown",
      "source": [
        "Printing book titles in alphabetical order\n",
        "\n",
        "This video taught you three ways of implementing the depth first search traversal into binary trees: in-order, pre-order, and post-order.\n",
        "\n",
        "In the following binary search tree, you have stored the titles of some books.\n",
        "\n",
        "Can you apply the in-order traversal so that the titles of the books appear alphabetically ordered?"
      ],
      "metadata": {
        "id": "eWeIIe3Bs-Gn"
      }
    },
    {
      "cell_type": "code",
      "source": [
        "class BinarySearchTree:\n",
        "  def __init__(self):\n",
        "    self.root = None\n",
        "\n",
        "  def in_order(self, current_node):\n",
        "    # Check if current_node exists\n",
        "    if current_node:\n",
        "      # Call recursively with the appropriate half of the tree\n",
        "      self.in_order(current_node.left_child)\n",
        "      # Print the value of the current_node\n",
        "      print(current_node.data)\n",
        "      # Call recursively with the appropriate half of the tree\n",
        "      self.in_order(current_node.right_child)\n",
        "  \n",
        "bst = CreateTree()\n",
        "bst.in_order(bst.root)"
      ],
      "metadata": {
        "colab": {
          "base_uri": "https://localhost:8080/"
        },
        "id": "wdzVYumPthJ3",
        "outputId": "684292b8-b5a8-4e0d-ae91-4e1376b69480"
      },
      "execution_count": 9,
      "outputs": [
        {
          "output_type": "stream",
          "name": "stdout",
          "text": [
            "Dracula\n",
            "Heidi\n",
            "Jane Eyre\n",
            "Little women\n",
            "Moby Dick\n",
            "Oliver Twist\n",
            "Vanity\n"
          ]
        }
      ]
    },
    {
      "cell_type": "markdown",
      "source": [
        "Using pre-order traversal with Polish notation\n",
        "\n",
        "Expression trees are a kind of binary tree that represent arithmetic expressions.\n",
        "\n",
        "By applying in-order traversal to an expression tree, you can obtain the infix notation. This notation for the given tree will be (10-5)*3.\n",
        "\n",
        "By applying pre-order traversal to an expression tree, you can obtain the prefix notation, aka Polish notation, where the operator appears before its operands. This notation for the given tree will be *-10 5 3.\n",
        "\n",
        "By applying post-order traversal to an expression tree, you can obtain the postfix notation, aka reverse Polish notation, where the operator appears after its operands. This notation for the given tree will be 10 5- 3*.\n",
        "\n",
        "Code the pre-order traversal so that you can obtain the prefix notation of this expression tree."
      ],
      "metadata": {
        "id": "ofQqJPoGt4mu"
      }
    },
    {
      "cell_type": "code",
      "source": [
        "class TreeNode:   \n",
        "  def __init__(self, data, left=None, right=None): \n",
        "    self.data = data \n",
        "    self.left_child = left \n",
        "    self.right_child = right "
      ],
      "metadata": {
        "id": "17xzTT3ns70q"
      },
      "execution_count": 10,
      "outputs": []
    },
    {
      "cell_type": "code",
      "source": [
        "def CreateExpressionTree():    \n",
        "  node10 = TreeNode(\"10\")\n",
        "  node5 = TreeNode(\"5\")\n",
        "  node_minus = TreeNode(\"-\", node10, node5)\n",
        "\n",
        "  node3 = TreeNode(\"3\")\n",
        "  root_node = TreeNode(\"*\", node_minus, node3)\n",
        "  \n",
        "  et = ExpressionTree()\n",
        "  et.root = root_node\n",
        "  return et"
      ],
      "metadata": {
        "id": "cDTELH7rw9QN"
      },
      "execution_count": 11,
      "outputs": []
    },
    {
      "cell_type": "code",
      "source": [
        "import queue\n",
        "\n",
        "class ExpressionTree:\n",
        "  def __init__(self):\n",
        "    self.root = None\n",
        "\n",
        "  def pre_order(self, current_node):\n",
        "    # Check if current_node exists\n",
        "    if current_node:\n",
        "      # Print the value of the current_node\n",
        "      print(current_node.data)\n",
        "      # Call pre_order recursively on the appropriate half of the tree\n",
        "      self.pre_order(current_node.left_child)\n",
        "      self.pre_order(current_node.right_child)\n",
        "          \n",
        "et = CreateExpressionTree()\n",
        "et.pre_order(et.root)"
      ],
      "metadata": {
        "colab": {
          "base_uri": "https://localhost:8080/"
        },
        "id": "35D7hCwlw0pW",
        "outputId": "5b2c4319-69cb-444c-c69d-0986d763eaee"
      },
      "execution_count": 12,
      "outputs": [
        {
          "output_type": "stream",
          "name": "stdout",
          "text": [
            "*\n",
            "-\n",
            "10\n",
            "5\n",
            "3\n"
          ]
        }
      ]
    },
    {
      "cell_type": "markdown",
      "source": [
        "Implementing DFS for graphs\n",
        "\n",
        "In this exercise, you will implement a depth first search algorithm to traverse a graph.\n",
        "\n",
        "Recall the steps:\n",
        "\n",
        "Start at any vertex\n",
        "1) Add the vertex to the visited vertices list\n",
        "2) For each current node's adjacent vertex\n",
        "* If it has been visited -> ignore it\n",
        "* If it hasn't been visited -> recursively perform DFS\n",
        "\n",
        "To help you test your code, the following graph has been loaded using a dictionary.\n",
        "\n",
        "```\n",
        "graph = {\n",
        "  '0' : ['1','2'],\n",
        "  '1' : ['0', '2', '3'],\n",
        "  '2' : ['0', '1', '4'],\n",
        "  '3' : ['1', '4'],\n",
        "  '4' : ['2', '3']\n",
        "}\n",
        "```"
      ],
      "metadata": {
        "id": "5iTnZTPhxc2m"
      }
    },
    {
      "cell_type": "code",
      "source": [
        "graph = {\n",
        "  '0' : ['1','2'],\n",
        "  '1' : ['0', '2', '3'],\n",
        "  '2' : ['0', '1', '4'],\n",
        "  '3' : ['1', '4'],\n",
        "  '4' : ['2', '3']\n",
        "}"
      ],
      "metadata": {
        "id": "UQaJe0ePxDuf"
      },
      "execution_count": 13,
      "outputs": []
    },
    {
      "cell_type": "code",
      "source": [
        "def dfs(visited_vertices, graph, current_vertex):\n",
        "    # Check if current_vertex hasn't been visited yet\n",
        "    if current_vertex not in visited_vertices:\n",
        "        print(current_vertex)\n",
        "        # Add current_vertex to visited_vertices\n",
        "        visited_vertices.add(current_vertex)\n",
        "        for adjacent_vertex in graph[current_vertex]:\n",
        "            # Call recursively with the appropriate values\n",
        "            dfs(visited_vertices, graph, adjacent_vertex)\n",
        "            \n",
        "dfs(set(), graph, '0')"
      ],
      "metadata": {
        "colab": {
          "base_uri": "https://localhost:8080/"
        },
        "id": "yJtx7QEUxbmS",
        "outputId": "0c2ee7e7-bb59-4856-c47d-65a64ae0034f"
      },
      "execution_count": 14,
      "outputs": [
        {
          "output_type": "stream",
          "name": "stdout",
          "text": [
            "0\n",
            "1\n",
            "2\n",
            "4\n",
            "3\n"
          ]
        }
      ]
    },
    {
      "cell_type": "markdown",
      "source": [
        "Finding a graph vertex using BFS\n",
        "\n",
        "In this exercise, you will modify the BFS algorithm to search for a given vertex within a graph.\n",
        "\n",
        "To help you test your code, the following graph has been loaded using a dictionary.\n",
        "```\n",
        "graph = {\n",
        "  '4' : ['6','7'],\n",
        "  '6' : ['4', '7', '8'],\n",
        "  '7' : ['4', '6', '9'],\n",
        "  '8' : ['6', '9'],\n",
        "  '9' : ['7', '8']\n",
        "}\n",
        "```"
      ],
      "metadata": {
        "id": "ykgcOU-X0K9v"
      }
    },
    {
      "cell_type": "code",
      "source": [
        "graph = {\n",
        "  '4' : ['6','7'],\n",
        "  '6' : ['4', '7', '8'],\n",
        "  '7' : ['4', '6', '9'],\n",
        "  '8' : ['6', '9'],\n",
        "  '9' : ['7', '8']\n",
        "}"
      ],
      "metadata": {
        "id": "8MY2WKbyySLw"
      },
      "execution_count": 15,
      "outputs": []
    },
    {
      "cell_type": "code",
      "source": [
        "import queue\n",
        "\n",
        "def bfs(graph, initial_vertex, search_value):\n",
        "  visited_vertices = []\n",
        "  bfs_queue = queue.SimpleQueue()\n",
        "  visited_vertices.append(initial_vertex)\n",
        "  bfs_queue.put(initial_vertex)\n",
        "\n",
        "  while not bfs_queue.empty():\n",
        "    current_vertex = bfs_queue.get()\n",
        "    # Check if you found the search value\n",
        "    if search_value == current_vertex:\n",
        "      # Return True if you find the search value\n",
        "      return True    \n",
        "    for adjacent_vertex in graph[current_vertex]:\n",
        "      # Check if the adjacent vertex has been visited\n",
        "      if adjacent_vertex not in visited_vertices:\n",
        "        visited_vertices.append(adjacent_vertex)\n",
        "        bfs_queue.put(adjacent_vertex)\n",
        "  # Return False if you didn't find the search value\n",
        "  return False\n",
        "\n",
        "print(bfs(graph, '4', '8'))"
      ],
      "metadata": {
        "colab": {
          "base_uri": "https://localhost:8080/"
        },
        "id": "1eEemi1q0PQj",
        "outputId": "32979244-ceef-450a-9d0e-4f3a8991c9c9"
      },
      "execution_count": 16,
      "outputs": [
        {
          "output_type": "stream",
          "name": "stdout",
          "text": [
            "True\n"
          ]
        }
      ]
    },
    {
      "cell_type": "code",
      "source": [
        "print(bfs(graph, '4', '1'))"
      ],
      "metadata": {
        "colab": {
          "base_uri": "https://localhost:8080/"
        },
        "id": "5xvjuqu10c3F",
        "outputId": "711c238f-3195-4955-f397-de4a1779dd7f"
      },
      "execution_count": 17,
      "outputs": [
        {
          "output_type": "stream",
          "name": "stdout",
          "text": [
            "False\n"
          ]
        }
      ]
    },
    {
      "cell_type": "code",
      "source": [
        "print(bfs(graph, '4', '9'))"
      ],
      "metadata": {
        "colab": {
          "base_uri": "https://localhost:8080/"
        },
        "id": "_1dAB1Y30gIL",
        "outputId": "ee72fd96-048e-45bf-c462-dd22f8af9c16"
      },
      "execution_count": 18,
      "outputs": [
        {
          "output_type": "stream",
          "name": "stdout",
          "text": [
            "True\n"
          ]
        }
      ]
    }
  ]
}