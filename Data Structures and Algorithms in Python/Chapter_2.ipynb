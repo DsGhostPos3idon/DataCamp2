{
  "nbformat": 4,
  "nbformat_minor": 0,
  "metadata": {
    "colab": {
      "provenance": []
    },
    "kernelspec": {
      "name": "python3",
      "display_name": "Python 3"
    },
    "language_info": {
      "name": "python"
    }
  },
  "cells": [
    {
      "cell_type": "markdown",
      "source": [
        "# **Data Structures and Algorithms in Python**"
      ],
      "metadata": {
        "id": "RFfcWau-IKzf"
      }
    },
    {
      "cell_type": "markdown",
      "source": [
        "## **Chapter 2: Queues, Hash Tables, Trees, Graphs, and Recursion**"
      ],
      "metadata": {
        "id": "22402Pg2OIBS"
      }
    },
    {
      "cell_type": "markdown",
      "source": [
        "#### **Working with queues**"
      ],
      "metadata": {
        "id": "VsynSAxoX9ES"
      }
    },
    {
      "cell_type": "markdown",
      "source": [
        "In this exercise, you will implement a class called PrinterTasks(), which will represent a simplified queue for a printer. Queue() clasы includes the following methods:\n",
        "\n",
        "* enqueue(data): adds an element to the queue\n",
        "* dequeue(): removes an element from the queue\n",
        "* has_elements(): checks if the queue has elements. \n",
        "\n",
        "\n",
        "You will start coding the PrinterTasks() class with its add_document() and print_documents() methods. After that, you will simulate the execution of a program that uses the PrinterTasks() class."
      ],
      "metadata": {
        "id": "GFqLSnNbQGmM"
      }
    },
    {
      "cell_type": "code",
      "source": [
        "class Node:\n",
        "  def __init__(self,data):    \n",
        "    self.data = data    \n",
        "    self.next = None\n",
        "    \n",
        "class Queue:\n",
        "  def __init__(self):    \n",
        "    self.head = None    \n",
        "    self.tail = None\n",
        "\n",
        "  def enqueue(self,data):  \n",
        "    new_node = Node(data)\n",
        "    if self.head == None:    \n",
        "      self.head = new_node    \n",
        "      self.tail = new_node\n",
        "    else:    \n",
        "      self.tail.next = new_node\n",
        "      self.tail = new_node \n",
        "\n",
        "    print(\"Head: \" + str(self.head) +\" Tail: \" + str(self.tail))\n",
        "\n",
        "  def dequeue(self):\n",
        "    if self.head:    \n",
        "      current_node = self.head    \n",
        "      self.head = current_node.next    \n",
        "      current_node.next = None\n",
        "\n",
        "    if self.head == None:      \n",
        "      self.tail = None \n",
        "\n",
        "    return current_node\n",
        "  \n",
        "  def has_elements(self):\n",
        "    return self.head != None"
      ],
      "metadata": {
        "id": "h2-m8NxJSLQa"
      },
      "execution_count": 1,
      "outputs": []
    },
    {
      "cell_type": "code",
      "source": [
        "class PrinterTasks:\n",
        "  def __init__(self):\n",
        "    self.queue = Queue()\n",
        "      \n",
        "  def add_document(self, document):\n",
        "    # Add the document to the queue\n",
        "    self.queue.enqueue(document)\n",
        "      \n",
        "  def print_documents(self):\n",
        "    # Iterate over the queue while it has elements\n",
        "    while self.queue.has_elements():\n",
        "      # Remove the document from the queue\n",
        "      print(\"Printing\", self.queue.dequeue())"
      ],
      "metadata": {
        "id": "Fq0AJ_fGOL49"
      },
      "execution_count": 2,
      "outputs": []
    },
    {
      "cell_type": "code",
      "source": [
        "printer_tasks = PrinterTasks()\n",
        "# Add some documents to print\n",
        "printer_tasks.add_document(\"Document 1\")"
      ],
      "metadata": {
        "colab": {
          "base_uri": "https://localhost:8080/"
        },
        "id": "4LdtFOBwRiPz",
        "outputId": "9c7ccbab-4965-4452-e3ad-b56bb76171e8"
      },
      "execution_count": 3,
      "outputs": [
        {
          "output_type": "stream",
          "name": "stdout",
          "text": [
            "Head: <__main__.Node object at 0x7fccf5242700> Tail: <__main__.Node object at 0x7fccf5242700>\n"
          ]
        }
      ]
    },
    {
      "cell_type": "code",
      "source": [
        "printer_tasks.add_document(\"Document 2\")"
      ],
      "metadata": {
        "colab": {
          "base_uri": "https://localhost:8080/"
        },
        "id": "b-D1BQxpU_fx",
        "outputId": "417c8dc7-1eb5-4fb9-fb6c-50bf45031f90"
      },
      "execution_count": 4,
      "outputs": [
        {
          "output_type": "stream",
          "name": "stdout",
          "text": [
            "Head: <__main__.Node object at 0x7fccf5242700> Tail: <__main__.Node object at 0x7fccf5242b50>\n"
          ]
        }
      ]
    },
    {
      "cell_type": "code",
      "source": [
        "printer_tasks.add_document(\"Document 3\")"
      ],
      "metadata": {
        "colab": {
          "base_uri": "https://localhost:8080/"
        },
        "id": "GOceWqVjVAfa",
        "outputId": "92f2b7a8-b093-451c-dc81-5a85950e83a0"
      },
      "execution_count": 5,
      "outputs": [
        {
          "output_type": "stream",
          "name": "stdout",
          "text": [
            "Head: <__main__.Node object at 0x7fccf5242700> Tail: <__main__.Node object at 0x7fccf5242970>\n"
          ]
        }
      ]
    },
    {
      "cell_type": "code",
      "source": [
        "# Print all the documents in the queue\n",
        "printer_tasks.print_documents()"
      ],
      "metadata": {
        "colab": {
          "base_uri": "https://localhost:8080/"
        },
        "id": "6w31I4dKTt4z",
        "outputId": "a13afe1d-d455-4d47-c107-8050d60f9691"
      },
      "execution_count": 6,
      "outputs": [
        {
          "output_type": "stream",
          "name": "stdout",
          "text": [
            "Printing <__main__.Node object at 0x7fccf5242700>\n",
            "Printing <__main__.Node object at 0x7fccf5242b50>\n",
            "Printing <__main__.Node object at 0x7fccf5242970>\n"
          ]
        }
      ]
    },
    {
      "cell_type": "markdown",
      "source": [
        "**Question**\n",
        "\n",
        "The following code shows you how to enqueue() an element into a queue and dequeue() an element from a queue using singly linked lists. Can you calculate the complexity of both methods using Big O Notation?\n",
        "\n",
        "```\n",
        "  def enqueue(self,data):\n",
        "    new_node = Node(data)\n",
        "    if self.head == None:\n",
        "      self.head = new_node\n",
        "      self.tail = new_node\n",
        "    else:\n",
        "      self.tail.next = new_node\n",
        "      self.tail = new_node\n",
        "```\n",
        "``` \n",
        "  def dequeue(self):\n",
        "    if self.head:\n",
        "      current_node = self.head\n",
        "      self.head = current_node.next\n",
        "      current_node.next = None\n",
        "\n",
        "      if self.head == None:\n",
        "        self.tail = None\n",
        "```"
      ],
      "metadata": {
        "id": "9MYrKcENRx0i"
      }
    },
    {
      "cell_type": "markdown",
      "source": [
        "**Answer**: O(1)"
      ],
      "metadata": {
        "id": "9fFuvHyiR-dZ"
      }
    },
    {
      "cell_type": "markdown",
      "source": [
        "In this exercise, you will work with Python's SimpleQueue(). You will create a queue called my_orders_queue to add the orders of a restaurant and remove them from it when required."
      ],
      "metadata": {
        "id": "hLaLk4aLXlz6"
      }
    },
    {
      "cell_type": "code",
      "source": [
        "import queue\n",
        "\n",
        "# Create the queue\n",
        "my_orders_queue = queue.SimpleQueue()\n",
        "\n",
        "# Add an element to the queue\n",
        "my_orders_queue.put(\"samosas\")\n",
        "\n",
        "# Remove an element from the queue\n",
        "my_orders_queue.get()"
      ],
      "metadata": {
        "colab": {
          "base_uri": "https://localhost:8080/",
          "height": 36
        },
        "id": "THN5Q363R87J",
        "outputId": "4fe81ff7-e9c2-4d48-ce34-3eeca240f677"
      },
      "execution_count": 7,
      "outputs": [
        {
          "output_type": "execute_result",
          "data": {
            "text/plain": [
              "'samosas'"
            ],
            "application/vnd.google.colaboratory.intrinsic+json": {
              "type": "string"
            }
          },
          "metadata": {},
          "execution_count": 7
        }
      ]
    },
    {
      "cell_type": "markdown",
      "source": [
        "#### **Correcting bugs in a dictionary**"
      ],
      "metadata": {
        "id": "ORfpTW3q_6KW"
      }
    },
    {
      "cell_type": "markdown",
      "source": [
        "You have been given a program that is supposed to iterate over the dishes of a menu, printing the name and its value. Correct the mistake in the for loop.\n",
        "Correct the mistake in the print() function."
      ],
      "metadata": {
        "id": "lZdFVn8nBEA6"
      }
    },
    {
      "cell_type": "code",
      "source": [
        "my_menu = {\n",
        "  'lasagna': 14.75,\n",
        "  'moussaka': 21.15,\n",
        "  'sushi': 16.05,\n",
        "  'paella': 21,\n",
        "  'samosas': 14\n",
        "}\n",
        "\n",
        "# Correct the mistake\n",
        "for key, value in my_menu.items():\n",
        "  # Correct the mistake\n",
        "  print(f\"The price of the {key} is {value}.\")"
      ],
      "metadata": {
        "colab": {
          "base_uri": "https://localhost:8080/"
        },
        "id": "5YvhmIJOAH0P",
        "outputId": "5337ac3b-299a-470e-abe5-fd0240f16bb9"
      },
      "execution_count": 8,
      "outputs": [
        {
          "output_type": "stream",
          "name": "stdout",
          "text": [
            "The price of the lasagna is 14.75.\n",
            "The price of the moussaka is 21.15.\n",
            "The price of the sushi is 16.05.\n",
            "The price of the paella is 21.\n",
            "The price of the samosas is 14.\n"
          ]
        }
      ]
    },
    {
      "cell_type": "markdown",
      "source": [
        "You are writing a program that iterates over the following nested dictionary to determine if the dishes need to be served cold or hot. Can you complete the program so that it outputs the following?\n",
        "```\n",
        "Sushi is best served cold.\n",
        "Paella is best served hot.\n",
        "Samosa is best served hot.\n",
        "Gazpacho is best served cold.\n",
        "```"
      ],
      "metadata": {
        "id": "9ZeUlzDOAXZE"
      }
    },
    {
      "cell_type": "code",
      "source": [
        "my_menu = {\n",
        "  'sushi' : {\n",
        "    'price' : 19.25,\n",
        "    'best_served' : 'cold'\n",
        "  },\n",
        "  'paella' : {\n",
        "    'price' : 15,\n",
        "    'best_served' : 'hot'\n",
        "  },\n",
        "  'samosa' : {\n",
        "    'price' : 14,\n",
        "    'best_served' : 'hot'\n",
        "  },\n",
        "  'gazpacho' : {\n",
        "    'price' : 8,\n",
        "    'best_served' : 'cold'\n",
        "  }\n",
        "}"
      ],
      "metadata": {
        "id": "OUmwCvmMAKv7"
      },
      "execution_count": 9,
      "outputs": []
    },
    {
      "cell_type": "code",
      "source": [
        "# Iterate the elements of the menu\n",
        "for dish, values in my_menu.items():\n",
        "  # Print whether the dish must be served cold or hot\n",
        "  print(f\"{dish.title()} is best served {values['best_served']}.\")"
      ],
      "metadata": {
        "colab": {
          "base_uri": "https://localhost:8080/"
        },
        "id": "8emFV_XAAfFH",
        "outputId": "8a7c42c4-5775-42b2-f3dd-7dc1369f3096"
      },
      "execution_count": 10,
      "outputs": [
        {
          "output_type": "stream",
          "name": "stdout",
          "text": [
            "Sushi is best served cold.\n",
            "Paella is best served hot.\n",
            "Samosa is best served hot.\n",
            "Gazpacho is best served cold.\n"
          ]
        }
      ]
    },
    {
      "cell_type": "markdown",
      "source": [
        "#### **Trees and graphs**"
      ],
      "metadata": {
        "id": "PAaVg22kA_IH"
      }
    },
    {
      "cell_type": "markdown",
      "source": [
        "You have been given a program that is supposed to create a simple binary tree:\n",
        "\n",
        "Testing it, you realize that the program is not correct. Could you correct it so that it works correctly?"
      ],
      "metadata": {
        "id": "J0cK8dGQBFn1"
      }
    },
    {
      "cell_type": "code",
      "source": [
        "class TreeNode:\n",
        "  \n",
        "  def __init__(self, data, left=None, right=None):\n",
        "    # Correct the mistakes\n",
        "    self.data = data\n",
        "    self.left_child = left\n",
        "    self.right_child = right\n",
        "    \n",
        "node1 = TreeNode(\"B\")\n",
        "node2 = TreeNode(\"C\")\n",
        "# Correct the mistake\n",
        "root_node = TreeNode(\"A\", node1, node2)"
      ],
      "metadata": {
        "id": "qcr2adkFAyDX"
      },
      "execution_count": 11,
      "outputs": []
    },
    {
      "cell_type": "markdown",
      "source": [
        "Building a weighted graph\n",
        "In the last video, you learned how to implement a graph in Python.\n",
        "```\n",
        "class Graph:\n",
        "  def __init__(self):\n",
        "    self.vertices = {}\n",
        "\n",
        "  def add_vertex(self, vertex):\n",
        "    self.vertices[vertex] = []\n",
        "\n",
        "  def add_edge(self, source, target):\n",
        "    self.vertices[source].append(target)\n",
        "```\n",
        "This exercise has two steps. In the first one, you will modify this code so that it can be used to create a weighted graph. To do this, you can use a hash table to represent the adjacent vertices with their weights. In the second step, you will build the weighted graph."
      ],
      "metadata": {
        "id": "uD0zx8H1yKZp"
      }
    },
    {
      "cell_type": "code",
      "source": [
        "class WeightedGraph:\n",
        "  def __init__(self):\n",
        "    self.vertices = {}\n",
        "  \n",
        "  def add_vertex(self, vertex):\n",
        "    # Set the data for the vertex\n",
        "    self.vertices[vertex] = []\n",
        "    \n",
        "  def add_edge(self, source, target, weight):\n",
        "    # Set the weight\n",
        "    self.vertices[source].append([target, weight])"
      ],
      "metadata": {
        "id": "p9_JGFYtyBaI"
      },
      "execution_count": 12,
      "outputs": []
    },
    {
      "cell_type": "code",
      "source": [
        "my_graph = WeightedGraph()\n",
        "\n",
        "# Create the vertices\n",
        "my_graph.add_vertex('Paris')\n",
        "my_graph.add_vertex('Toulouse')\n",
        "my_graph.add_vertex('Biarritz')\n",
        "\n",
        "# Create the edges\n",
        "my_graph.add_edge('Paris', 'Toulouse', 678)\n",
        "my_graph.add_edge('Toulouse', 'Biarritz', 312)\n",
        "my_graph.add_edge('Biarritz', 'Paris', 783)"
      ],
      "metadata": {
        "id": "iebg7uSzyWy9"
      },
      "execution_count": 13,
      "outputs": []
    },
    {
      "cell_type": "markdown",
      "source": [
        "#### **Understanding Recursion**"
      ],
      "metadata": {
        "id": "twRndZCMzB3s"
      }
    },
    {
      "cell_type": "markdown",
      "source": [
        "Fibonacci sequence\n",
        "\n",
        "In this exercise, you will implement the Fibonacci sequence, which is ubiquitous in nature. The sequence looks like this: \"0, 1, 1, 2, 3, 5, 8…\". You will create a recursive implementation of an algorithm that generates the sequence.\n",
        "\n",
        "The first numbers are 0 and 1, and the rest are the sum of the two preceding numbers.\n",
        "\n",
        "In the first step, you will code Fibonacci using recursion. In the second step, you will improve it by using dynamic programming, saving the solutions of the subproblems in the cache variable."
      ],
      "metadata": {
        "id": "E2nqBYX_zlD0"
      }
    },
    {
      "cell_type": "code",
      "source": [
        "def fibonacci(n):\n",
        "  # Define the base case\n",
        "  if n <= 1:\n",
        "    return n\n",
        "  else:\n",
        "    # Call recursively to fibonacci\n",
        "    return fibonacci(n-1) + fibonacci(n-2)\n",
        "    \n",
        "print(fibonacci(6))"
      ],
      "metadata": {
        "colab": {
          "base_uri": "https://localhost:8080/"
        },
        "id": "g9HQK29EykfE",
        "outputId": "62274655-b89a-4a23-d065-a274094f6131"
      },
      "execution_count": 14,
      "outputs": [
        {
          "output_type": "stream",
          "name": "stdout",
          "text": [
            "8\n"
          ]
        }
      ]
    },
    {
      "cell_type": "code",
      "source": [
        "for i in range(20):\n",
        "  print(fibonacci(i))"
      ],
      "metadata": {
        "colab": {
          "base_uri": "https://localhost:8080/"
        },
        "id": "GHtwH3S608Yu",
        "outputId": "784397e4-605b-4d9e-9bcf-00a466269f2e"
      },
      "execution_count": 15,
      "outputs": [
        {
          "output_type": "stream",
          "name": "stdout",
          "text": [
            "0\n",
            "1\n",
            "1\n",
            "2\n",
            "3\n",
            "5\n",
            "8\n",
            "13\n",
            "21\n",
            "34\n",
            "55\n",
            "89\n",
            "144\n",
            "233\n",
            "377\n",
            "610\n",
            "987\n",
            "1597\n",
            "2584\n",
            "4181\n"
          ]
        }
      ]
    },
    {
      "cell_type": "code",
      "source": [
        "cache = [None]*(100)\n",
        "\n",
        "def fibonacci(n): \n",
        "    if n <= 1:\n",
        "        return n\n",
        "    \n",
        "    # Check if the value exists\n",
        "    if not cache[n]:\n",
        "        # Save the result in cache\n",
        "        cache[n] = fibonacci(n-1) + fibonacci(n-2)\n",
        "    \n",
        "    return cache[n]\n",
        "    \n",
        "\n",
        "print(fibonacci(6))"
      ],
      "metadata": {
        "colab": {
          "base_uri": "https://localhost:8080/"
        },
        "id": "Lzsp8RAj0CQ7",
        "outputId": "c9c0710c-3473-4897-cabe-96fe7a326be8"
      },
      "execution_count": 16,
      "outputs": [
        {
          "output_type": "stream",
          "name": "stdout",
          "text": [
            "8\n"
          ]
        }
      ]
    },
    {
      "cell_type": "code",
      "source": [
        "for i in range(20):\n",
        "  print(fibonacci(i))"
      ],
      "metadata": {
        "colab": {
          "base_uri": "https://localhost:8080/"
        },
        "id": "Z_a0zCzf0fQ-",
        "outputId": "7a3dc570-78a6-4d01-ee12-f80e5fa442f2"
      },
      "execution_count": 17,
      "outputs": [
        {
          "output_type": "stream",
          "name": "stdout",
          "text": [
            "0\n",
            "1\n",
            "1\n",
            "2\n",
            "3\n",
            "5\n",
            "8\n",
            "13\n",
            "21\n",
            "34\n",
            "55\n",
            "89\n",
            "144\n",
            "233\n",
            "377\n",
            "610\n",
            "987\n",
            "1597\n",
            "2584\n",
            "4181\n"
          ]
        }
      ]
    },
    {
      "cell_type": "markdown",
      "source": [
        "Towers of Hanoi\n",
        "\n",
        "In this exercise, you will implement the Towers of Hanoi puzzle with a recursive algorithm. The aim of this game is to transfer all the disks from one of the three rods to another, following these rules:\n",
        "\n",
        "You can only move one disk at a time.\n",
        "You can only take the upper disk from one of the stacks and place it on top of another stack.\n",
        "You cannot put a larger disk on top of a smaller one.\n",
        "Picture of the game Tower of Hanoi\n",
        "\n",
        "The algorithm shown is an implementation of this game with four disks and three rods called 'A', 'B' and 'C'. The code contains two mistakes. In fact, if you execute it, it crashes the console because it exceeds the maximum recursion depth. Can you find the bugs and fix them?"
      ],
      "metadata": {
        "id": "TFXXW7JW3uFm"
      }
    },
    {
      "cell_type": "code",
      "source": [
        "def hanoi(num_disks, from_rod, to_rod, aux_rod):\n",
        "  # Correct the base case\n",
        "  if num_disks >= 1:\n",
        "    # Correct the calls to the hanoi function\n",
        "    hanoi(num_disks - 1, from_rod, aux_rod, to_rod)\n",
        "    print(\"Moving disk\", num_disks, \"from rod\", from_rod,\"to rod\",to_rod)\n",
        "    hanoi(num_disks - 1, aux_rod, to_rod, from_rod)   \n",
        "\n",
        "num_disks = 4\n",
        "source_rod = 'A'\n",
        "auxiliar_rod = 'B'\n",
        "target_rod = 'C'\n",
        "\n",
        "hanoi(num_disks, source_rod, target_rod, auxiliar_rod)"
      ],
      "metadata": {
        "colab": {
          "base_uri": "https://localhost:8080/"
        },
        "id": "xKqbQwoo1UB7",
        "outputId": "244aaaa3-3e1a-4d48-b279-8c288e27a87b"
      },
      "execution_count": 18,
      "outputs": [
        {
          "output_type": "stream",
          "name": "stdout",
          "text": [
            "Moving disk 1 from rod A to rod B\n",
            "Moving disk 2 from rod A to rod C\n",
            "Moving disk 1 from rod B to rod C\n",
            "Moving disk 3 from rod A to rod B\n",
            "Moving disk 1 from rod C to rod A\n",
            "Moving disk 2 from rod C to rod B\n",
            "Moving disk 1 from rod A to rod B\n",
            "Moving disk 4 from rod A to rod C\n",
            "Moving disk 1 from rod B to rod C\n",
            "Moving disk 2 from rod B to rod A\n",
            "Moving disk 1 from rod C to rod A\n",
            "Moving disk 3 from rod B to rod C\n",
            "Moving disk 1 from rod A to rod B\n",
            "Moving disk 2 from rod A to rod C\n",
            "Moving disk 1 from rod B to rod C\n"
          ]
        }
      ]
    }
  ]
}