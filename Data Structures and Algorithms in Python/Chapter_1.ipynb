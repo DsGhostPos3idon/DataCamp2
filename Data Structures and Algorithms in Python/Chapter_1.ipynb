{
  "nbformat": 4,
  "nbformat_minor": 0,
  "metadata": {
    "colab": {
      "provenance": []
    },
    "kernelspec": {
      "name": "python3",
      "display_name": "Python 3"
    },
    "language_info": {
      "name": "python"
    }
  },
  "cells": [
    {
      "cell_type": "markdown",
      "source": [
        "# **Data Structures and Algorithms in Python**"
      ],
      "metadata": {
        "id": "2b2LueG-vBN5"
      }
    },
    {
      "cell_type": "markdown",
      "source": [
        "## **Chapter 1: Work with Linked Lists and Stacks and Understand Big O notation**\n"
      ],
      "metadata": {
        "id": "wBNgEYA9YGiK"
      }
    },
    {
      "cell_type": "markdown",
      "source": [
        "\n",
        "#### **Implementing a linked list**"
      ],
      "metadata": {
        "id": "cajR-SzYYIfa"
      }
    },
    {
      "cell_type": "markdown",
      "source": [
        "In the first step, we will implement the Node() class, and in the second step the LinkedList() class. "
      ],
      "metadata": {
        "id": "pmEcy0WQYJyb"
      }
    },
    {
      "cell_type": "code",
      "source": [
        "class Node:\n",
        "  def __init__(self, data):\n",
        "    self.value = data\n",
        "    # Leave the node initially without a next value\n",
        "    self.next = None\n",
        "\n",
        "class LinkedList:\n",
        "  def __init__(self):\n",
        "    # Set the head and the tail with null values\n",
        "    self.head = None\n",
        "    self.tail = None"
      ],
      "metadata": {
        "id": "arWAw3CwvLQW"
      },
      "execution_count": 1,
      "outputs": []
    },
    {
      "cell_type": "markdown",
      "source": [
        "In the previous exercise, you learned how to implement a Node() and LinkedList() class.\n",
        "\n",
        "In this exercise, you will prepare the code for the insert_at_beginning() method to add a new node at the beginning of a linked list.\n",
        "\n",
        "* Create the new node.\n",
        "* Check whether the linked list has a head node.\n",
        "* If the linked list has a head node, point the next node of the new node to the head."
      ],
      "metadata": {
        "id": "Dc7_ZwhUw2c8"
      }
    },
    {
      "cell_type": "code",
      "source": [
        "def insert_at_beginning(self, data):\n",
        "    # Create the new node\n",
        "    new_node = Node(data)\n",
        "    # Check whether the linked list has a head node\n",
        "    if self.head:\n",
        "      # Point the next node of the new node to the head\n",
        "      new_node.next = self.head\n",
        "      self.head = new_node\n",
        "    else:\n",
        "      self.tail = new_node      \n",
        "      self.head = new_node"
      ],
      "metadata": {
        "id": "q_XNWpRrvIdr"
      },
      "execution_count": 2,
      "outputs": []
    },
    {
      "cell_type": "markdown",
      "source": [
        "In this exercise, you will prepare the code for the remove_at_beginning() method. To do it, you will need to point the head of the linked list to the next node of the head"
      ],
      "metadata": {
        "id": "Rw5au7hexVWS"
      }
    },
    {
      "cell_type": "code",
      "execution_count": 3,
      "metadata": {
        "id": "vnRKQoTVu9b1"
      },
      "outputs": [],
      "source": [
        "def remove_at_beginning(self):\n",
        "    # The \"next\" node of the head becomes the new head node\n",
        "    self.head = self.head.next"
      ]
    },
    {
      "cell_type": "code",
      "source": [
        "def insert_at_end(self, data):    \n",
        "  new_node = Node(data)\n",
        "  if self.head:        \n",
        "    self.tail.next = new_node      \n",
        "    self.tail = new_node\n",
        "  else:      \n",
        "    self.head = new_node      \n",
        "    self.tail = new_node"
      ],
      "metadata": {
        "id": "FM504nyUxsSU"
      },
      "execution_count": 4,
      "outputs": []
    },
    {
      "cell_type": "code",
      "source": [
        "def search(self, data):  \n",
        "  current_node = self.head\n",
        "  while current_node:\n",
        "    if current_node.data == data:\n",
        "      return True\n",
        "    else:      \n",
        "      current_node = current_node.next\n",
        "  return False"
      ],
      "metadata": {
        "id": "TMIPIHwqx8Ks"
      },
      "execution_count": 5,
      "outputs": []
    },
    {
      "cell_type": "code",
      "source": [
        "class Node:\n",
        "  def __init__(self, data):\n",
        "    self.value = data\n",
        "    # Leave the node initially without a next value\n",
        "    self.next = None\n",
        "\n",
        "class LinkedList:\n",
        "  def __init__(self):\n",
        "    # Set the head and the tail with null values\n",
        "    self.head = None\n",
        "    self.tail = None\n",
        "\n",
        "  def insert_at_beginning(self, data):\n",
        "    # Create the new node\n",
        "    new_node = Node(data)\n",
        "    # Check whether the linked list has a head node\n",
        "    if self.head:\n",
        "      # Point the next node of the new node to the head\n",
        "      new_node.next = self.head\n",
        "      self.head = new_node\n",
        "    else:\n",
        "      self.tail = new_node      \n",
        "      self.head = new_node\n",
        "\n",
        "  def insert_at_end(self, data):    \n",
        "    new_node = Node(data)\n",
        "    if self.head:        \n",
        "      self.tail.next = new_node      \n",
        "      self.tail = new_node\n",
        "    else:      \n",
        "      self.head = new_node      \n",
        "      self.tail = new_node\n",
        "\n",
        "  def search(self, data):  \n",
        "    current_node = self.head\n",
        "    while current_node:\n",
        "      if current_node.value == data:\n",
        "        return True\n",
        "      else:      \n",
        "        current_node = current_node.next\n",
        "    return False"
      ],
      "metadata": {
        "id": "5d4rjMpRytiT"
      },
      "execution_count": 6,
      "outputs": []
    },
    {
      "cell_type": "code",
      "source": [
        "LinkedList_example = LinkedList()\n",
        "LinkedList_example.insert_at_end(1)\n",
        "LinkedList_example.insert_at_end(2) \n",
        "LinkedList_example.insert_at_beginning(3)"
      ],
      "metadata": {
        "id": "Z7TWcnW5yRa3"
      },
      "execution_count": 7,
      "outputs": []
    },
    {
      "cell_type": "code",
      "source": [
        "LinkedList_example.search(1)"
      ],
      "metadata": {
        "colab": {
          "base_uri": "https://localhost:8080/"
        },
        "id": "DgH2FqmzykjP",
        "outputId": "2bdb296d-d51a-4c79-c660-feeb3fb8fb35"
      },
      "execution_count": 8,
      "outputs": [
        {
          "output_type": "execute_result",
          "data": {
            "text/plain": [
              "True"
            ]
          },
          "metadata": {},
          "execution_count": 8
        }
      ]
    },
    {
      "cell_type": "code",
      "source": [
        "LinkedList_example.search(0)"
      ],
      "metadata": {
        "colab": {
          "base_uri": "https://localhost:8080/"
        },
        "id": "LsE61SlwzC4K",
        "outputId": "6d746c10-0923-47c3-af7b-2959968dbeff"
      },
      "execution_count": 9,
      "outputs": [
        {
          "output_type": "execute_result",
          "data": {
            "text/plain": [
              "False"
            ]
          },
          "metadata": {},
          "execution_count": 9
        }
      ]
    },
    {
      "cell_type": "code",
      "source": [
        "LinkedList_example.search(2)"
      ],
      "metadata": {
        "colab": {
          "base_uri": "https://localhost:8080/"
        },
        "id": "0HeGMbW20KEJ",
        "outputId": "d19daf9f-25be-4e21-8412-9c93904fc723"
      },
      "execution_count": 10,
      "outputs": [
        {
          "output_type": "execute_result",
          "data": {
            "text/plain": [
              "True"
            ]
          },
          "metadata": {},
          "execution_count": 10
        }
      ]
    },
    {
      "cell_type": "code",
      "source": [
        "LinkedList_example.search(3)"
      ],
      "metadata": {
        "colab": {
          "base_uri": "https://localhost:8080/"
        },
        "id": "MYPswK2H0LEM",
        "outputId": "cd958a51-4d8b-4657-f956-cd10f5d14123"
      },
      "execution_count": 11,
      "outputs": [
        {
          "output_type": "execute_result",
          "data": {
            "text/plain": [
              "True"
            ]
          },
          "metadata": {},
          "execution_count": 11
        }
      ]
    },
    {
      "cell_type": "code",
      "source": [
        "LinkedList_example.search(5)"
      ],
      "metadata": {
        "colab": {
          "base_uri": "https://localhost:8080/"
        },
        "id": "eatJEtMO0LxE",
        "outputId": "497f9a47-ef93-4fa7-b471-b562d27901f7"
      },
      "execution_count": 12,
      "outputs": [
        {
          "output_type": "execute_result",
          "data": {
            "text/plain": [
              "False"
            ]
          },
          "metadata": {},
          "execution_count": 12
        }
      ]
    },
    {
      "cell_type": "markdown",
      "source": [
        "#### **Practicing with Big O Notation**"
      ],
      "metadata": {
        "id": "2562PjLd2_Xz"
      }
    },
    {
      "cell_type": "markdown",
      "source": [
        "**Question**\n",
        "\n",
        "The following algorithm shows you how to add a node at the beginning of a singly linked list using the Node() class and the insert_at_beginning() method. What is the complexity of this algorithm?\n",
        "```\n",
        " def insert_at_beginning(self,data):\n",
        "    new_node = Node(data)\n",
        "    if self.head:\n",
        "      new_node.next = self.head\n",
        "      self.head = new_node\n",
        "    else:\n",
        "      self.tail = new_node      \n",
        "      self.head = new_node\n",
        "```"
      ],
      "metadata": {
        "id": "AY55t95K3TFz"
      }
    },
    {
      "cell_type": "markdown",
      "source": [
        "**Answer:** O(1)"
      ],
      "metadata": {
        "id": "s6fFQGgM3b3g"
      }
    },
    {
      "cell_type": "markdown",
      "source": [
        "**Question**\n",
        "\n",
        "The following algorithm searches for a given value within a linked list. What is its complexity?\n",
        "\n",
        "This method uses the Node() class and search() method.\n",
        "\n",
        "```\n",
        "def search(self, data):\n",
        "    current_node = self.head\n",
        "    while current_node:\n",
        "        if current_node.data == data:\n",
        "            return True\n",
        "        else:\n",
        "            current_node = current_node.next\n",
        "    return False\n",
        "```"
      ],
      "metadata": {
        "id": "89n_tAZm3jOS"
      }
    },
    {
      "cell_type": "markdown",
      "source": [
        "**Answer:** O(n)"
      ],
      "metadata": {
        "id": "Sp9QsR1T3jVK"
      }
    },
    {
      "cell_type": "markdown",
      "source": [
        "#### **Working with stacks**"
      ],
      "metadata": {
        "id": "SKBEiSFVIcs0"
      }
    },
    {
      "cell_type": "markdown",
      "source": [
        "In this exercise, you will follow two steps to implement a stack with the push() operation using a singly linked list. You will also define a new attribute called size to track the number of items in the stack. You will start coding the class to build a Stack(), and after that, you will implement the push() operation."
      ],
      "metadata": {
        "id": "6V5Nk7tdIc0F"
      }
    },
    {
      "cell_type": "code",
      "source": [
        "class Node:\n",
        "  def __init__(self, value):\n",
        "    self.data = value\n",
        "    self.next = None\n",
        "\n",
        "class Stack:\n",
        "  def __init__(self):\n",
        "    self.top = None\n",
        "    self.size = 0\n",
        "    \n",
        "  def push(self, data):\n",
        "    # Create a node with the data\n",
        "    new_node = Node(data)\n",
        "    if self.top:\n",
        "      new_node.next = self.top\n",
        "    # Set the created node to the top node\n",
        "    self.top = new_node\n",
        "    # Increase the size of the stack by one\n",
        "    self.size += 1"
      ],
      "metadata": {
        "id": "_IzQAVX9Ij3t"
      },
      "execution_count": 13,
      "outputs": []
    },
    {
      "cell_type": "markdown",
      "source": [
        "In this exercise, you will implement the pop() operation for a stack. pop() will be used to remove an element from the top of the stack. Again, we will consider the size attribute to know the number of elements in the stack."
      ],
      "metadata": {
        "id": "10ZOhmBcJcok"
      }
    },
    {
      "cell_type": "code",
      "source": [
        "class Node:\n",
        "  def __init__(self, value):\n",
        "    self.data = value\n",
        "    self.next = None\n",
        "\n",
        "class Stack:\n",
        "  def __init__(self):\n",
        "    self.top = None\n",
        "    self.size = 0\n",
        "    \n",
        "  def push(self, data):\n",
        "    # Create a node with the data\n",
        "    new_node = Node(data)\n",
        "    if self.top:\n",
        "      new_node.next = self.top\n",
        "    # Set the created node to the top node\n",
        "    self.top = new_node\n",
        "    # Increase the size of the stack by one\n",
        "    self.size += 1\n",
        "\n",
        "  def pop(self):\n",
        "    # Check if there is a top element\n",
        "    if self.top is None:\n",
        "      return None\n",
        "    else:\n",
        "      popped_node = self.top\n",
        "      # Decrement the size of the stack\n",
        "      self.size -= 1\n",
        "      # Update the new value for the top node\n",
        "      self.top = self.top.next\n",
        "      popped_node.next = None\n",
        "      return popped_node.data \n",
        "    \n",
        "  def peek(self):\n",
        "    if self.top:\n",
        "      return self.top.data\n",
        "    else:\n",
        "      return None"
      ],
      "metadata": {
        "id": "yXpZ28kCJUcC"
      },
      "execution_count": 14,
      "outputs": []
    },
    {
      "cell_type": "code",
      "source": [
        "Stack_test = Stack()\n",
        "Stack_test.push(1)"
      ],
      "metadata": {
        "id": "niWtPrG6L8wl"
      },
      "execution_count": 15,
      "outputs": []
    },
    {
      "cell_type": "code",
      "source": [
        "Stack_test.peek()"
      ],
      "metadata": {
        "colab": {
          "base_uri": "https://localhost:8080/"
        },
        "id": "rQrSkbitMvaC",
        "outputId": "04559bbf-3793-4903-84ff-fa31cf7fcdac"
      },
      "execution_count": 16,
      "outputs": [
        {
          "output_type": "execute_result",
          "data": {
            "text/plain": [
              "1"
            ]
          },
          "metadata": {},
          "execution_count": 16
        }
      ]
    },
    {
      "cell_type": "code",
      "source": [
        "Stack_test.push(5)"
      ],
      "metadata": {
        "id": "6_MBrWG3Mu2T"
      },
      "execution_count": 17,
      "outputs": []
    },
    {
      "cell_type": "code",
      "source": [
        "Stack_test.peek()"
      ],
      "metadata": {
        "colab": {
          "base_uri": "https://localhost:8080/"
        },
        "id": "rpOp78_sM0Ly",
        "outputId": "de1ceaca-abbe-492c-a2b0-192a37c205ee"
      },
      "execution_count": 18,
      "outputs": [
        {
          "output_type": "execute_result",
          "data": {
            "text/plain": [
              "5"
            ]
          },
          "metadata": {},
          "execution_count": 18
        }
      ]
    },
    {
      "cell_type": "code",
      "source": [
        "Stack_test.push(2)"
      ],
      "metadata": {
        "id": "DfqdptQGMxvC"
      },
      "execution_count": 19,
      "outputs": []
    },
    {
      "cell_type": "code",
      "source": [
        "Stack_test.peek()"
      ],
      "metadata": {
        "colab": {
          "base_uri": "https://localhost:8080/"
        },
        "id": "mabuErEHMpX1",
        "outputId": "4f3dc8ae-f37d-4195-8577-d0156f391393"
      },
      "execution_count": 20,
      "outputs": [
        {
          "output_type": "execute_result",
          "data": {
            "text/plain": [
              "2"
            ]
          },
          "metadata": {},
          "execution_count": 20
        }
      ]
    },
    {
      "cell_type": "code",
      "source": [
        "Stack_test.pop()"
      ],
      "metadata": {
        "colab": {
          "base_uri": "https://localhost:8080/"
        },
        "id": "1vpUnZ35MsQq",
        "outputId": "3ddae520-8d72-4ebe-9903-f5c986991887"
      },
      "execution_count": 21,
      "outputs": [
        {
          "output_type": "execute_result",
          "data": {
            "text/plain": [
              "2"
            ]
          },
          "metadata": {},
          "execution_count": 21
        }
      ]
    },
    {
      "cell_type": "code",
      "source": [
        "Stack_test.peek()"
      ],
      "metadata": {
        "colab": {
          "base_uri": "https://localhost:8080/"
        },
        "id": "OT3J_7_ZMtUs",
        "outputId": "895b8737-1bad-4159-ef93-5c1f7a12db98"
      },
      "execution_count": 22,
      "outputs": [
        {
          "output_type": "execute_result",
          "data": {
            "text/plain": [
              "5"
            ]
          },
          "metadata": {},
          "execution_count": 22
        }
      ]
    },
    {
      "cell_type": "markdown",
      "source": [
        "**Question**\n",
        "\n",
        "The following code shows you how to push() an element onto a stack and pop() an element from a stack using singly linked lists. Can you calculate the complexity of both methods using Big O Notation?\n",
        "\n",
        "```\n",
        "def push(self, data):\n",
        "    new_node = Node(data)\n",
        "    if self.top:\n",
        "      new_node.next = self.top\n",
        "    self.top = new_node\n",
        "```\n",
        "\n",
        "```\n",
        "def pop(self):\n",
        "    if self.top is None:\n",
        "      return None\n",
        "    else:\n",
        "      popped_node = self.top\n",
        "      self.top = self.top.next\n",
        "      popped_node.next = None\n",
        "      return popped_node.data \n",
        "```"
      ],
      "metadata": {
        "id": "vaG1LHkVKSSu"
      }
    },
    {
      "cell_type": "markdown",
      "source": [
        "**Answer**: O(1)"
      ],
      "metadata": {
        "id": "voc4AkSzK9J8"
      }
    },
    {
      "cell_type": "markdown",
      "source": [
        "In this exercise, you will work with Python's LifoQueue(). You will create a stack called my_book_stack to add books and remove them from it."
      ],
      "metadata": {
        "id": "0srqL13JNW1S"
      }
    },
    {
      "cell_type": "code",
      "source": [
        "# Import the module to work with Python's LifoQueue\n",
        "import queue\n",
        "\n",
        "# Create an infinite LifoQueue\n",
        "my_book_stack = queue.LifoQueue(maxsize=0)\n",
        "\n",
        "# Add an element to the stack\n",
        "my_book_stack.put(\"Don Quixote\")\n",
        "\n",
        "# Remove an element from the stack\n",
        "my_book_stack.get()"
      ],
      "metadata": {
        "colab": {
          "base_uri": "https://localhost:8080/",
          "height": 36
        },
        "id": "IE024zEqKGm3",
        "outputId": "8a4d97a5-e4c2-44e3-c672-58b70057ed43"
      },
      "execution_count": 23,
      "outputs": [
        {
          "output_type": "execute_result",
          "data": {
            "text/plain": [
              "'Don Quixote'"
            ],
            "application/vnd.google.colaboratory.intrinsic+json": {
              "type": "string"
            }
          },
          "metadata": {},
          "execution_count": 23
        }
      ]
    }
  ]
}