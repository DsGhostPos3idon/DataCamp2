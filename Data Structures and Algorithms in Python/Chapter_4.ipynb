{
  "nbformat": 4,
  "nbformat_minor": 0,
  "metadata": {
    "colab": {
      "provenance": []
    },
    "kernelspec": {
      "name": "python3",
      "display_name": "Python 3"
    },
    "language_info": {
      "name": "python"
    }
  },
  "cells": [
    {
      "cell_type": "markdown",
      "source": [
        "# **Data Structures and Algorithms in Python**"
      ],
      "metadata": {
        "id": "4r82m8yMK7BS"
      }
    },
    {
      "cell_type": "markdown",
      "source": [
        "## **Chapter 4: Sorting algorithms**"
      ],
      "metadata": {
        "id": "kOclt9y-13f3"
      }
    },
    {
      "cell_type": "markdown",
      "source": [
        "#### **Bubble sort**"
      ],
      "metadata": {
        "id": "XrmtQkuJqAz4"
      }
    },
    {
      "cell_type": "markdown",
      "source": [
        "Correcting a bug in the bubble sort algorithm\n",
        "\n",
        "You have been given a program that sorts a list of numbers using the bubble sort algorithm. While testing it, you realize that the code is not correct. Could you correct the algorithm so that it works correctly?"
      ],
      "metadata": {
        "id": "L4eJ14k7p_tr"
      }
    },
    {
      "cell_type": "code",
      "source": [
        "def bubble_sort(my_list):\n",
        "  list_length = len(my_list)\n",
        "  # Correct the mistake\n",
        "  is_sorted = False\n",
        "  while not is_sorted:\n",
        "    is_sorted = True\n",
        "    for i in range(list_length-1):\n",
        "      # Correct the mistake\n",
        "      if my_list[i] > my_list[i+1]:\n",
        "        my_list[i] , my_list[i+1] = my_list[i+1] , my_list[i]\n",
        "        is_sorted = False\n",
        "    # Correct the mistake\n",
        "    list_length -= 1\n",
        "  return my_list\n",
        "\n",
        "print(bubble_sort([5, 7, 9, 1, 4, 2]))"
      ],
      "metadata": {
        "id": "R_rJcQFp0kaP",
        "colab": {
          "base_uri": "https://localhost:8080/"
        },
        "outputId": "43a41608-d966-409c-8154-3214f176a224"
      },
      "execution_count": 2,
      "outputs": [
        {
          "output_type": "stream",
          "name": "stdout",
          "text": [
            "[1, 2, 4, 5, 7, 9]\n"
          ]
        }
      ]
    },
    {
      "cell_type": "markdown",
      "source": [
        "#### **Selection Sort**"
      ],
      "metadata": {
        "id": "PdgvNpJhuFBY"
      }
    },
    {
      "cell_type": "code",
      "source": [
        "def selection_sort(my_list):\n",
        "  list_length = len(my_list)\n",
        "  for i in range(list_length - 1):\n",
        "    # Set lowest to the element of the list located at index i\n",
        "    lowest = my_list[i]\n",
        "    index = i\n",
        "    # Iterate again over the list starting on the next position of the i variable\n",
        "    for j in range(i+1, list_length):\n",
        "      # Compare whether the element of the list located at index j is smaller than lowest\n",
        "      if my_list[j] < lowest:\n",
        "        index = j\n",
        "        lowest = my_list[j]\n",
        "    my_list[i] , my_list[index] = my_list[index] , my_list[i]\n",
        "  return my_list\n",
        "\n",
        "my_list = [6, 2, 9, 7, 4, 8] \n",
        "selection_sort(my_list)\n",
        "print(my_list)"
      ],
      "metadata": {
        "colab": {
          "base_uri": "https://localhost:8080/"
        },
        "id": "IUO44R7-t9hs",
        "outputId": "f829d1ba-c91a-447c-eef3-1d528238fde4"
      },
      "execution_count": 3,
      "outputs": [
        {
          "output_type": "stream",
          "name": "stdout",
          "text": [
            "[2, 4, 6, 7, 8, 9]\n"
          ]
        }
      ]
    },
    {
      "cell_type": "code",
      "source": [
        "def insertion_sort(my_list): \n",
        "  for i in range(1, len(my_list)):  \n",
        "      number_to_order = my_list[i]  \n",
        "      j = i - 1  \n",
        "      while j >= 0 and number_to_order < my_list[j]:  \n",
        "          my_list[j + 1] = my_list[j]  \n",
        "          j -= 1  \n",
        "      my_list[j + 1] = number_to_order  \n",
        "  return my_list "
      ],
      "metadata": {
        "id": "WSsq4p9z7PjO"
      },
      "execution_count": 4,
      "outputs": []
    },
    {
      "cell_type": "code",
      "source": [
        "my_list = [6, 2, 9, 7, 4, 8] \n",
        "insertion_sort(my_list)\n",
        "print(my_list)"
      ],
      "metadata": {
        "colab": {
          "base_uri": "https://localhost:8080/"
        },
        "id": "1L1BqJ4r7ciH",
        "outputId": "0472e732-b7d7-419c-f40d-19f6796fc7fd"
      },
      "execution_count": 5,
      "outputs": [
        {
          "output_type": "stream",
          "name": "stdout",
          "text": [
            "[2, 4, 6, 7, 8, 9]\n"
          ]
        }
      ]
    },
    {
      "cell_type": "markdown",
      "source": [
        "#### **Merge Sort**"
      ],
      "metadata": {
        "id": "j17XnTfW5S_G"
      }
    },
    {
      "cell_type": "code",
      "source": [
        "def merge_sort(my_list):\n",
        "    if len(my_list) > 1: \n",
        "        mid = len(my_list)//2\n",
        "        left_half = my_list[:mid]\n",
        "        right_half = my_list[mid:]\n",
        "        \n",
        "        merge_sort(left_half)\n",
        "        merge_sort(right_half)\n",
        " \n",
        "        i = j = k = 0\n",
        " \n",
        "        while i < len(left_half) and j < len(right_half):\n",
        "            if left_half[i] < right_half[j]:\n",
        "                my_list[k] = left_half[i]                \n",
        "                i += 1\n",
        "            else:\n",
        "                my_list[k] = right_half[j]\n",
        "                j += 1\n",
        "            k += 1\n",
        "            \n",
        "        while i < len(left_half):\n",
        "            my_list[k] = left_half[i]\n",
        "            i += 1\n",
        "            k += 1\n",
        " \n",
        "        while j < len(right_half):\n",
        "            my_list[k] = right_half[j]\n",
        "            j += 1\n",
        "            k += 1\n",
        "\n",
        "my_list = [35,22,90,4,50,20,30,40,1]\n",
        "merge_sort(my_list)\n",
        "print(my_list)"
      ],
      "metadata": {
        "colab": {
          "base_uri": "https://localhost:8080/"
        },
        "id": "NRTNmKEc5OD8",
        "outputId": "dca7ea17-c05e-4edf-9fb7-636e268f827e"
      },
      "execution_count": 6,
      "outputs": [
        {
          "output_type": "stream",
          "name": "stdout",
          "text": [
            "[1, 4, 20, 22, 30, 35, 40, 50, 90]\n"
          ]
        }
      ]
    },
    {
      "cell_type": "markdown",
      "source": [
        "#### **Implementing the quicksort algorithm**"
      ],
      "metadata": {
        "id": "pQiXiPYcEXF5"
      }
    },
    {
      "cell_type": "markdown",
      "source": [
        "In this exercise, you will implement the quicksort algorithm to sort a list of numbers.\n",
        "\n",
        "In the first step, you will implement the partition() function, which returns the index of the pivot after having processed the list of numbers so that all the elements that are to the left of the pivot are less than the pivot and all the elements that are to the right of the pivot are greater than the pivot.\n",
        "\n",
        "In the second step, you will implement the quicksort() function, which will call the partition() function."
      ],
      "metadata": {
        "id": "dhjm0J9nEVuS"
      }
    },
    {
      "cell_type": "code",
      "source": [
        "def partition(my_list, first_index, last_index):\n",
        "  pivot = my_list[first_index]\n",
        "  left_pointer = first_index + 1\n",
        "  right_pointer = last_index\n",
        " \n",
        "  while True:\n",
        "    while pivot < my_list[left_pointer] and last_index < left_pointer:\n",
        "      left_pointer += 1\n",
        "    \n",
        "    while my_list[right_pointer] > pivot and right_pointer >= first_index:\n",
        "      right_pointer -= 1 \n",
        "    if left_pointer >= right_pointer:\n",
        "        break\n",
        "    my_list[left_pointer], my_list[right_pointer] = my_list[right_pointer], my_list[left_pointer]\n",
        "   \n",
        "  my_list[first_index], my_list[right_pointer] = my_list[right_pointer], my_list[first_index]\n",
        "  return right_pointer"
      ],
      "metadata": {
        "id": "ahk5YD3z8Jzq"
      },
      "execution_count": 7,
      "outputs": []
    },
    {
      "cell_type": "code",
      "source": [
        "def quicksort(my_list, first_index, last_index):\n",
        "  if first_index < last_index:\n",
        "    # Call the partition() function with the appropriate parameters\n",
        "    partition_index = partition(my_list, first_index, last_index)\n",
        "    # Call quicksort() on the elements to the left of the partition\n",
        "    quicksort(my_list, first_index, partition_index)\n",
        "    quicksort(my_list, partition_index + 1, last_index)\n",
        "    \n",
        "my_list = [6, 2, 9, 7] \n",
        "quicksort(my_list, 0, len(my_list) - 1)\n",
        "print(my_list)"
      ],
      "metadata": {
        "colab": {
          "base_uri": "https://localhost:8080/"
        },
        "id": "lKtc7eRoE5jT",
        "outputId": "06405272-8397-487c-dd58-67d226f94b83"
      },
      "execution_count": 8,
      "outputs": [
        {
          "output_type": "stream",
          "name": "stdout",
          "text": [
            "[2, 6, 7, 9]\n"
          ]
        }
      ]
    }
  ]
}