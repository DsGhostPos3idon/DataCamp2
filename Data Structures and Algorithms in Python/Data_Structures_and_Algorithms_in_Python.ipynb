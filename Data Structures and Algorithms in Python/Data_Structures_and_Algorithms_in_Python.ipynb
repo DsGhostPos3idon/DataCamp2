{
  "nbformat": 4,
  "nbformat_minor": 0,
  "metadata": {
    "colab": {
      "provenance": []
    },
    "kernelspec": {
      "name": "python3",
      "display_name": "Python 3"
    },
    "language_info": {
      "name": "python"
    }
  },
  "cells": [
    {
      "cell_type": "markdown",
      "source": [
        "# **Data Structures and Algorithms in Python**"
      ],
      "metadata": {
        "id": "2b2LueG-vBN5"
      }
    },
    {
      "cell_type": "markdown",
      "source": [
        "## **Chapter 1: Work with Linked Lists and Stacks and Understand Big O notation**\n"
      ],
      "metadata": {
        "id": "wBNgEYA9YGiK"
      }
    },
    {
      "cell_type": "markdown",
      "source": [
        "\n",
        "#### **Implementing a linked list**"
      ],
      "metadata": {
        "id": "cajR-SzYYIfa"
      }
    },
    {
      "cell_type": "markdown",
      "source": [
        "In the first step, we will implement the Node() class, and in the second step the LinkedList() class. "
      ],
      "metadata": {
        "id": "pmEcy0WQYJyb"
      }
    },
    {
      "cell_type": "code",
      "source": [
        "class Node:\n",
        "  def __init__(self, data):\n",
        "    self.value = data\n",
        "    # Leave the node initially without a next value\n",
        "    self.next = None\n",
        "\n",
        "class LinkedList:\n",
        "  def __init__(self):\n",
        "    # Set the head and the tail with null values\n",
        "    self.head = None\n",
        "    self.tail = None"
      ],
      "metadata": {
        "id": "arWAw3CwvLQW"
      },
      "execution_count": null,
      "outputs": []
    },
    {
      "cell_type": "markdown",
      "source": [
        "In the previous exercise, you learned how to implement a Node() and LinkedList() class.\n",
        "\n",
        "In this exercise, you will prepare the code for the insert_at_beginning() method to add a new node at the beginning of a linked list.\n",
        "\n",
        "* Create the new node.\n",
        "* Check whether the linked list has a head node.\n",
        "* If the linked list has a head node, point the next node of the new node to the head."
      ],
      "metadata": {
        "id": "Dc7_ZwhUw2c8"
      }
    },
    {
      "cell_type": "code",
      "source": [
        "def insert_at_beginning(self, data):\n",
        "    # Create the new node\n",
        "    new_node = Node(data)\n",
        "    # Check whether the linked list has a head node\n",
        "    if self.head:\n",
        "      # Point the next node of the new node to the head\n",
        "      new_node.next = self.head\n",
        "      self.head = new_node\n",
        "    else:\n",
        "      self.tail = new_node      \n",
        "      self.head = new_node"
      ],
      "metadata": {
        "id": "q_XNWpRrvIdr"
      },
      "execution_count": null,
      "outputs": []
    },
    {
      "cell_type": "markdown",
      "source": [
        "In this exercise, you will prepare the code for the remove_at_beginning() method. To do it, you will need to point the head of the linked list to the next node of the head"
      ],
      "metadata": {
        "id": "Rw5au7hexVWS"
      }
    },
    {
      "cell_type": "code",
      "execution_count": null,
      "metadata": {
        "id": "vnRKQoTVu9b1"
      },
      "outputs": [],
      "source": [
        "def remove_at_beginning(self):\n",
        "    # The \"next\" node of the head becomes the new head node\n",
        "    self.head = self.head.next"
      ]
    },
    {
      "cell_type": "code",
      "source": [
        "def insert_at_end(self, data):    \n",
        "  new_node = Node(data)\n",
        "  if self.head:        \n",
        "    self.tail.next = new_node      \n",
        "    self.tail = new_node\n",
        "  else:      \n",
        "    self.head = new_node      \n",
        "    self.tail = new_node"
      ],
      "metadata": {
        "id": "FM504nyUxsSU"
      },
      "execution_count": null,
      "outputs": []
    },
    {
      "cell_type": "code",
      "source": [
        "def search(self, data):  \n",
        "  current_node = self.head\n",
        "  while current_node:\n",
        "    if current_node.data == data:\n",
        "      return True\n",
        "    else:      \n",
        "      current_node = current_node.next\n",
        "  return False"
      ],
      "metadata": {
        "id": "TMIPIHwqx8Ks"
      },
      "execution_count": null,
      "outputs": []
    },
    {
      "cell_type": "code",
      "source": [
        "class Node:\n",
        "  def __init__(self, data):\n",
        "    self.value = data\n",
        "    # Leave the node initially without a next value\n",
        "    self.next = None\n",
        "\n",
        "class LinkedList:\n",
        "  def __init__(self):\n",
        "    # Set the head and the tail with null values\n",
        "    self.head = None\n",
        "    self.tail = None\n",
        "\n",
        "  def insert_at_beginning(self, data):\n",
        "    # Create the new node\n",
        "    new_node = Node(data)\n",
        "    # Check whether the linked list has a head node\n",
        "    if self.head:\n",
        "      # Point the next node of the new node to the head\n",
        "      new_node.next = self.head\n",
        "      self.head = new_node\n",
        "    else:\n",
        "      self.tail = new_node      \n",
        "      self.head = new_node\n",
        "\n",
        "  def insert_at_end(self, data):    \n",
        "    new_node = Node(data)\n",
        "    if self.head:        \n",
        "      self.tail.next = new_node      \n",
        "      self.tail = new_node\n",
        "    else:      \n",
        "      self.head = new_node      \n",
        "      self.tail = new_node\n",
        "\n",
        "  def search(self, data):  \n",
        "    current_node = self.head\n",
        "    while current_node:\n",
        "      if current_node.value == data:\n",
        "        return True\n",
        "      else:      \n",
        "        current_node = current_node.next\n",
        "    return False"
      ],
      "metadata": {
        "id": "5d4rjMpRytiT"
      },
      "execution_count": null,
      "outputs": []
    },
    {
      "cell_type": "code",
      "source": [
        "LinkedList_example = LinkedList()\n",
        "LinkedList_example.insert_at_end(1)\n",
        "LinkedList_example.insert_at_end(2) \n",
        "LinkedList_example.insert_at_beginning(3)"
      ],
      "metadata": {
        "id": "Z7TWcnW5yRa3"
      },
      "execution_count": null,
      "outputs": []
    },
    {
      "cell_type": "code",
      "source": [
        "LinkedList_example.search(1)"
      ],
      "metadata": {
        "colab": {
          "base_uri": "https://localhost:8080/"
        },
        "id": "DgH2FqmzykjP",
        "outputId": "b19cf72f-1104-4c47-a7c8-d52098187b41"
      },
      "execution_count": null,
      "outputs": [
        {
          "output_type": "execute_result",
          "data": {
            "text/plain": [
              "True"
            ]
          },
          "metadata": {},
          "execution_count": 18
        }
      ]
    },
    {
      "cell_type": "code",
      "source": [
        "LinkedList_example.search(0)"
      ],
      "metadata": {
        "colab": {
          "base_uri": "https://localhost:8080/"
        },
        "id": "LsE61SlwzC4K",
        "outputId": "182b58d8-9f16-4b15-96ab-ae9e418a57fa"
      },
      "execution_count": null,
      "outputs": [
        {
          "output_type": "execute_result",
          "data": {
            "text/plain": [
              "False"
            ]
          },
          "metadata": {},
          "execution_count": 19
        }
      ]
    },
    {
      "cell_type": "code",
      "source": [
        "LinkedList_example.search(2)"
      ],
      "metadata": {
        "colab": {
          "base_uri": "https://localhost:8080/"
        },
        "id": "0HeGMbW20KEJ",
        "outputId": "4b66961c-9a5b-4cee-a565-7ba2e40a0f9a"
      },
      "execution_count": null,
      "outputs": [
        {
          "output_type": "execute_result",
          "data": {
            "text/plain": [
              "True"
            ]
          },
          "metadata": {},
          "execution_count": 20
        }
      ]
    },
    {
      "cell_type": "code",
      "source": [
        "LinkedList_example.search(3)"
      ],
      "metadata": {
        "colab": {
          "base_uri": "https://localhost:8080/"
        },
        "id": "MYPswK2H0LEM",
        "outputId": "46f29778-cacb-45b8-8d91-871e10e1d29f"
      },
      "execution_count": null,
      "outputs": [
        {
          "output_type": "execute_result",
          "data": {
            "text/plain": [
              "True"
            ]
          },
          "metadata": {},
          "execution_count": 21
        }
      ]
    },
    {
      "cell_type": "code",
      "source": [
        "LinkedList_example.search(5)"
      ],
      "metadata": {
        "colab": {
          "base_uri": "https://localhost:8080/"
        },
        "id": "eatJEtMO0LxE",
        "outputId": "ae889873-9ea3-4258-9439-25bae0e32a2f"
      },
      "execution_count": null,
      "outputs": [
        {
          "output_type": "execute_result",
          "data": {
            "text/plain": [
              "False"
            ]
          },
          "metadata": {},
          "execution_count": 22
        }
      ]
    },
    {
      "cell_type": "markdown",
      "source": [
        "#### **Practicing with Big O Notation**"
      ],
      "metadata": {
        "id": "2562PjLd2_Xz"
      }
    },
    {
      "cell_type": "markdown",
      "source": [
        "**Question**\n",
        "\n",
        "The following algorithm shows you how to add a node at the beginning of a singly linked list using the Node() class and the insert_at_beginning() method. What is the complexity of this algorithm?\n",
        "```\n",
        " def insert_at_beginning(self,data):\n",
        "    new_node = Node(data)\n",
        "    if self.head:\n",
        "      new_node.next = self.head\n",
        "      self.head = new_node\n",
        "    else:\n",
        "      self.tail = new_node      \n",
        "      self.head = new_node\n",
        "```"
      ],
      "metadata": {
        "id": "AY55t95K3TFz"
      }
    },
    {
      "cell_type": "markdown",
      "source": [
        "**Answer:** O(1)"
      ],
      "metadata": {
        "id": "s6fFQGgM3b3g"
      }
    },
    {
      "cell_type": "markdown",
      "source": [
        "**Question**\n",
        "\n",
        "The following algorithm searches for a given value within a linked list. What is its complexity?\n",
        "\n",
        "This method uses the Node() class and search() method.\n",
        "\n",
        "```\n",
        "def search(self, data):\n",
        "    current_node = self.head\n",
        "    while current_node:\n",
        "        if current_node.data == data:\n",
        "            return True\n",
        "        else:\n",
        "            current_node = current_node.next\n",
        "    return False\n",
        "```"
      ],
      "metadata": {
        "id": "89n_tAZm3jOS"
      }
    },
    {
      "cell_type": "markdown",
      "source": [
        "**Answer:** O(n)"
      ],
      "metadata": {
        "id": "Sp9QsR1T3jVK"
      }
    },
    {
      "cell_type": "markdown",
      "source": [
        "#### **Working with stacks**"
      ],
      "metadata": {
        "id": "SKBEiSFVIcs0"
      }
    },
    {
      "cell_type": "markdown",
      "source": [
        "In this exercise, you will follow two steps to implement a stack with the push() operation using a singly linked list. You will also define a new attribute called size to track the number of items in the stack. You will start coding the class to build a Stack(), and after that, you will implement the push() operation."
      ],
      "metadata": {
        "id": "6V5Nk7tdIc0F"
      }
    },
    {
      "cell_type": "code",
      "source": [
        "class Node:\n",
        "  def __init__(self, value):\n",
        "    self.data = value\n",
        "    self.next = None\n",
        "\n",
        "class Stack:\n",
        "  def __init__(self):\n",
        "    self.top = None\n",
        "    self.size = 0\n",
        "    \n",
        "  def push(self, data):\n",
        "    # Create a node with the data\n",
        "    new_node = Node(data)\n",
        "    if self.top:\n",
        "      new_node.next = self.top\n",
        "    # Set the created node to the top node\n",
        "    self.top = new_node\n",
        "    # Increase the size of the stack by one\n",
        "    self.size += 1"
      ],
      "metadata": {
        "id": "_IzQAVX9Ij3t"
      },
      "execution_count": null,
      "outputs": []
    },
    {
      "cell_type": "markdown",
      "source": [
        "In this exercise, you will implement the pop() operation for a stack. pop() will be used to remove an element from the top of the stack. Again, we will consider the size attribute to know the number of elements in the stack."
      ],
      "metadata": {
        "id": "10ZOhmBcJcok"
      }
    },
    {
      "cell_type": "code",
      "source": [
        "class Node:\n",
        "  def __init__(self, value):\n",
        "    self.data = value\n",
        "    self.next = None\n",
        "\n",
        "class Stack:\n",
        "  def __init__(self):\n",
        "    self.top = None\n",
        "    self.size = 0\n",
        "    \n",
        "  def push(self, data):\n",
        "    # Create a node with the data\n",
        "    new_node = Node(data)\n",
        "    if self.top:\n",
        "      new_node.next = self.top\n",
        "    # Set the created node to the top node\n",
        "    self.top = new_node\n",
        "    # Increase the size of the stack by one\n",
        "    self.size += 1\n",
        "\n",
        "  def pop(self):\n",
        "    # Check if there is a top element\n",
        "    if self.top is None:\n",
        "      return None\n",
        "    else:\n",
        "      popped_node = self.top\n",
        "      # Decrement the size of the stack\n",
        "      self.size -= 1\n",
        "      # Update the new value for the top node\n",
        "      self.top = self.top.next\n",
        "      popped_node.next = None\n",
        "      return popped_node.data \n",
        "    \n",
        "  def peek(self):\n",
        "    if self.top:\n",
        "      return self.top.data\n",
        "    else:\n",
        "      return None"
      ],
      "metadata": {
        "id": "yXpZ28kCJUcC"
      },
      "execution_count": null,
      "outputs": []
    },
    {
      "cell_type": "code",
      "source": [
        "Stack_test = Stack()\n",
        "Stack_test.push(1)"
      ],
      "metadata": {
        "id": "niWtPrG6L8wl"
      },
      "execution_count": null,
      "outputs": []
    },
    {
      "cell_type": "code",
      "source": [
        "Stack_test.peek()"
      ],
      "metadata": {
        "colab": {
          "base_uri": "https://localhost:8080/"
        },
        "id": "rQrSkbitMvaC",
        "outputId": "e1c84799-642e-4737-999f-427e92648735"
      },
      "execution_count": null,
      "outputs": [
        {
          "output_type": "execute_result",
          "data": {
            "text/plain": [
              "1"
            ]
          },
          "metadata": {},
          "execution_count": 16
        }
      ]
    },
    {
      "cell_type": "code",
      "source": [
        "Stack_test.push(5)"
      ],
      "metadata": {
        "id": "6_MBrWG3Mu2T"
      },
      "execution_count": null,
      "outputs": []
    },
    {
      "cell_type": "code",
      "source": [
        "Stack_test.peek()"
      ],
      "metadata": {
        "colab": {
          "base_uri": "https://localhost:8080/"
        },
        "id": "rpOp78_sM0Ly",
        "outputId": "5eef3aab-3e49-4837-cc16-8037d1ba9fa0"
      },
      "execution_count": null,
      "outputs": [
        {
          "output_type": "execute_result",
          "data": {
            "text/plain": [
              "5"
            ]
          },
          "metadata": {},
          "execution_count": 18
        }
      ]
    },
    {
      "cell_type": "code",
      "source": [
        "Stack_test.push(2)"
      ],
      "metadata": {
        "id": "DfqdptQGMxvC"
      },
      "execution_count": null,
      "outputs": []
    },
    {
      "cell_type": "code",
      "source": [
        "Stack_test.peek()"
      ],
      "metadata": {
        "colab": {
          "base_uri": "https://localhost:8080/"
        },
        "id": "mabuErEHMpX1",
        "outputId": "04d57e97-f1a0-4d23-f274-b022ec59295d"
      },
      "execution_count": null,
      "outputs": [
        {
          "output_type": "execute_result",
          "data": {
            "text/plain": [
              "2"
            ]
          },
          "metadata": {},
          "execution_count": 20
        }
      ]
    },
    {
      "cell_type": "code",
      "source": [
        "Stack_test.pop()"
      ],
      "metadata": {
        "colab": {
          "base_uri": "https://localhost:8080/"
        },
        "id": "1vpUnZ35MsQq",
        "outputId": "9733608f-c496-4935-9fde-199fb9ec9c82"
      },
      "execution_count": null,
      "outputs": [
        {
          "output_type": "execute_result",
          "data": {
            "text/plain": [
              "2"
            ]
          },
          "metadata": {},
          "execution_count": 21
        }
      ]
    },
    {
      "cell_type": "code",
      "source": [
        "Stack_test.peek()"
      ],
      "metadata": {
        "colab": {
          "base_uri": "https://localhost:8080/"
        },
        "id": "OT3J_7_ZMtUs",
        "outputId": "b710f59a-5a62-4193-a70c-50d0880836a3"
      },
      "execution_count": null,
      "outputs": [
        {
          "output_type": "execute_result",
          "data": {
            "text/plain": [
              "5"
            ]
          },
          "metadata": {},
          "execution_count": 22
        }
      ]
    },
    {
      "cell_type": "markdown",
      "source": [
        "**Question**\n",
        "\n",
        "The following code shows you how to push() an element onto a stack and pop() an element from a stack using singly linked lists. Can you calculate the complexity of both methods using Big O Notation?\n",
        "\n",
        "```\n",
        "def push(self, data):\n",
        "    new_node = Node(data)\n",
        "    if self.top:\n",
        "      new_node.next = self.top\n",
        "    self.top = new_node\n",
        "```\n",
        "\n",
        "```\n",
        "def pop(self):\n",
        "    if self.top is None:\n",
        "      return None\n",
        "    else:\n",
        "      popped_node = self.top\n",
        "      self.top = self.top.next\n",
        "      popped_node.next = None\n",
        "      return popped_node.data \n",
        "```"
      ],
      "metadata": {
        "id": "vaG1LHkVKSSu"
      }
    },
    {
      "cell_type": "markdown",
      "source": [
        "**Answer**: O(1)"
      ],
      "metadata": {
        "id": "voc4AkSzK9J8"
      }
    },
    {
      "cell_type": "markdown",
      "source": [
        "In this exercise, you will work with Python's LifoQueue(). You will create a stack called my_book_stack to add books and remove them from it."
      ],
      "metadata": {
        "id": "0srqL13JNW1S"
      }
    },
    {
      "cell_type": "code",
      "source": [
        "# Import the module to work with Python's LifoQueue\n",
        "import queue\n",
        "\n",
        "# Create an infinite LifoQueue\n",
        "my_book_stack = queue.LifoQueue(maxsize=0)\n",
        "\n",
        "# Add an element to the stack\n",
        "my_book_stack.put(\"Don Quixote\")\n",
        "\n",
        "# Remove an element from the stack\n",
        "my_book_stack.get()"
      ],
      "metadata": {
        "colab": {
          "base_uri": "https://localhost:8080/",
          "height": 36
        },
        "id": "IE024zEqKGm3",
        "outputId": "a68ebba5-ccef-4555-bf8d-8dff80100c8c"
      },
      "execution_count": null,
      "outputs": [
        {
          "output_type": "execute_result",
          "data": {
            "text/plain": [
              "'Don Quixote'"
            ],
            "application/vnd.google.colaboratory.intrinsic+json": {
              "type": "string"
            }
          },
          "metadata": {},
          "execution_count": 25
        }
      ]
    },
    {
      "cell_type": "markdown",
      "source": [
        "## **Chapter 2: Queues, Hash Tables, Trees, Graphs, and Recursion**"
      ],
      "metadata": {
        "id": "22402Pg2OIBS"
      }
    },
    {
      "cell_type": "markdown",
      "source": [
        "#### **Working with queues**"
      ],
      "metadata": {
        "id": "VsynSAxoX9ES"
      }
    },
    {
      "cell_type": "markdown",
      "source": [
        "In this exercise, you will implement a class called PrinterTasks(), which will represent a simplified queue for a printer. Queue() clasы includes the following methods:\n",
        "\n",
        "* enqueue(data): adds an element to the queue\n",
        "* dequeue(): removes an element from the queue\n",
        "* has_elements(): checks if the queue has elements. \n",
        "\n",
        "\n",
        "You will start coding the PrinterTasks() class with its add_document() and print_documents() methods. After that, you will simulate the execution of a program that uses the PrinterTasks() class."
      ],
      "metadata": {
        "id": "GFqLSnNbQGmM"
      }
    },
    {
      "cell_type": "code",
      "source": [
        "class Node:\n",
        "  def __init__(self,data):    \n",
        "    self.data = data    \n",
        "    self.next = None\n",
        "    \n",
        "class Queue:\n",
        "  def __init__(self):    \n",
        "    self.head = None    \n",
        "    self.tail = None\n",
        "\n",
        "  def enqueue(self,data):  \n",
        "    new_node = Node(data)\n",
        "    if self.head == None:    \n",
        "      self.head = new_node    \n",
        "      self.tail = new_node\n",
        "    else:    \n",
        "      self.tail.next = new_node\n",
        "      self.tail = new_node \n",
        "\n",
        "    print(\"Head: \" + str(self.head) +\" Tail: \" + str(self.tail))\n",
        "\n",
        "  def dequeue(self):\n",
        "    if self.head:    \n",
        "      current_node = self.head    \n",
        "      self.head = current_node.next    \n",
        "      current_node.next = None\n",
        "\n",
        "    if self.head == None:      \n",
        "      self.tail = None \n",
        "\n",
        "    return current_node\n",
        "  \n",
        "  def has_elements(self):\n",
        "    return self.head != None"
      ],
      "metadata": {
        "id": "h2-m8NxJSLQa"
      },
      "execution_count": null,
      "outputs": []
    },
    {
      "cell_type": "code",
      "source": [
        "class PrinterTasks:\n",
        "  def __init__(self):\n",
        "    self.queue = Queue()\n",
        "      \n",
        "  def add_document(self, document):\n",
        "    # Add the document to the queue\n",
        "    self.queue.enqueue(document)\n",
        "      \n",
        "  def print_documents(self):\n",
        "    # Iterate over the queue while it has elements\n",
        "    while self.queue.has_elements():\n",
        "      # Remove the document from the queue\n",
        "      print(\"Printing\", self.queue.dequeue())"
      ],
      "metadata": {
        "id": "Fq0AJ_fGOL49"
      },
      "execution_count": null,
      "outputs": []
    },
    {
      "cell_type": "code",
      "source": [
        "printer_tasks = PrinterTasks()\n",
        "# Add some documents to print\n",
        "printer_tasks.add_document(\"Document 1\")"
      ],
      "metadata": {
        "colab": {
          "base_uri": "https://localhost:8080/"
        },
        "id": "4LdtFOBwRiPz",
        "outputId": "d72b1554-7a74-4d79-8db0-0703d84ceff4"
      },
      "execution_count": null,
      "outputs": [
        {
          "output_type": "stream",
          "name": "stdout",
          "text": [
            "Head: <__main__.Node object at 0x7f7e355a3430> Tail: <__main__.Node object at 0x7f7e355a3430>\n"
          ]
        }
      ]
    },
    {
      "cell_type": "code",
      "source": [
        "printer_tasks.add_document(\"Document 2\")"
      ],
      "metadata": {
        "colab": {
          "base_uri": "https://localhost:8080/"
        },
        "id": "b-D1BQxpU_fx",
        "outputId": "92bc5bda-fa42-4668-c546-15bd486f6e7c"
      },
      "execution_count": null,
      "outputs": [
        {
          "output_type": "stream",
          "name": "stdout",
          "text": [
            "Head: <__main__.Node object at 0x7f7e355a3430> Tail: <__main__.Node object at 0x7f7e355a3d60>\n"
          ]
        }
      ]
    },
    {
      "cell_type": "code",
      "source": [
        "printer_tasks.add_document(\"Document 3\")"
      ],
      "metadata": {
        "colab": {
          "base_uri": "https://localhost:8080/"
        },
        "id": "GOceWqVjVAfa",
        "outputId": "12aa874d-d415-45db-c402-cde25de3d1a7"
      },
      "execution_count": null,
      "outputs": [
        {
          "output_type": "stream",
          "name": "stdout",
          "text": [
            "Head: <__main__.Node object at 0x7f7e355a3430> Tail: <__main__.Node object at 0x7f7e355a3b50>\n"
          ]
        }
      ]
    },
    {
      "cell_type": "code",
      "source": [
        "# Print all the documents in the queue\n",
        "printer_tasks.print_documents()"
      ],
      "metadata": {
        "colab": {
          "base_uri": "https://localhost:8080/"
        },
        "id": "6w31I4dKTt4z",
        "outputId": "9426c319-e3be-4064-8be5-b4a1af7e308a"
      },
      "execution_count": null,
      "outputs": [
        {
          "output_type": "stream",
          "name": "stdout",
          "text": [
            "Printing <__main__.Node object at 0x7f7e355a3430>\n",
            "Printing <__main__.Node object at 0x7f7e355a3d60>\n",
            "Printing <__main__.Node object at 0x7f7e355a3b50>\n"
          ]
        }
      ]
    },
    {
      "cell_type": "markdown",
      "source": [
        "**Question**\n",
        "\n",
        "The following code shows you how to enqueue() an element into a queue and dequeue() an element from a queue using singly linked lists. Can you calculate the complexity of both methods using Big O Notation?\n",
        "\n",
        "```\n",
        "  def enqueue(self,data):\n",
        "    new_node = Node(data)\n",
        "    if self.head == None:\n",
        "      self.head = new_node\n",
        "      self.tail = new_node\n",
        "    else:\n",
        "      self.tail.next = new_node\n",
        "      self.tail = new_node\n",
        "```\n",
        "``` \n",
        "  def dequeue(self):\n",
        "    if self.head:\n",
        "      current_node = self.head\n",
        "      self.head = current_node.next\n",
        "      current_node.next = None\n",
        "\n",
        "      if self.head == None:\n",
        "        self.tail = None\n",
        "```"
      ],
      "metadata": {
        "id": "9MYrKcENRx0i"
      }
    },
    {
      "cell_type": "markdown",
      "source": [
        "**Answer**: O(1)"
      ],
      "metadata": {
        "id": "9fFuvHyiR-dZ"
      }
    },
    {
      "cell_type": "markdown",
      "source": [
        "In this exercise, you will work with Python's SimpleQueue(). You will create a queue called my_orders_queue to add the orders of a restaurant and remove them from it when required."
      ],
      "metadata": {
        "id": "hLaLk4aLXlz6"
      }
    },
    {
      "cell_type": "code",
      "source": [
        "import queue\n",
        "\n",
        "# Create the queue\n",
        "my_orders_queue = queue.SimpleQueue()\n",
        "\n",
        "# Add an element to the queue\n",
        "my_orders_queue.put(\"samosas\")\n",
        "\n",
        "# Remove an element from the queue\n",
        "my_orders_queue.get()"
      ],
      "metadata": {
        "colab": {
          "base_uri": "https://localhost:8080/",
          "height": 36
        },
        "id": "THN5Q363R87J",
        "outputId": "a1d23a01-199a-4543-8a98-7790f3a66f61"
      },
      "execution_count": null,
      "outputs": [
        {
          "output_type": "execute_result",
          "data": {
            "text/plain": [
              "'samosas'"
            ],
            "application/vnd.google.colaboratory.intrinsic+json": {
              "type": "string"
            }
          },
          "metadata": {},
          "execution_count": 112
        }
      ]
    },
    {
      "cell_type": "markdown",
      "source": [
        "#### **Correcting bugs in a dictionary**"
      ],
      "metadata": {
        "id": "ORfpTW3q_6KW"
      }
    },
    {
      "cell_type": "markdown",
      "source": [
        "You have been given a program that is supposed to iterate over the dishes of a menu, printing the name and its value. Correct the mistake in the for loop.\n",
        "Correct the mistake in the print() function."
      ],
      "metadata": {
        "id": "lZdFVn8nBEA6"
      }
    },
    {
      "cell_type": "code",
      "source": [
        "my_menu = {\n",
        "  'lasagna': 14.75,\n",
        "  'moussaka': 21.15,\n",
        "  'sushi': 16.05,\n",
        "  'paella': 21,\n",
        "  'samosas': 14\n",
        "}\n",
        "\n",
        "# Correct the mistake\n",
        "for key, value in my_menu.items():\n",
        "  # Correct the mistake\n",
        "  print(f\"The price of the {key} is {value}.\")"
      ],
      "metadata": {
        "colab": {
          "base_uri": "https://localhost:8080/"
        },
        "id": "5YvhmIJOAH0P",
        "outputId": "1cb8d137-303a-4327-b96a-f51f1cebec66"
      },
      "execution_count": null,
      "outputs": [
        {
          "output_type": "stream",
          "name": "stdout",
          "text": [
            "The price of the lasagna is 14.75.\n",
            "The price of the moussaka is 21.15.\n",
            "The price of the sushi is 16.05.\n",
            "The price of the paella is 21.\n",
            "The price of the samosas is 14.\n"
          ]
        }
      ]
    },
    {
      "cell_type": "markdown",
      "source": [
        "You are writing a program that iterates over the following nested dictionary to determine if the dishes need to be served cold or hot. Can you complete the program so that it outputs the following?\n",
        "```\n",
        "Sushi is best served cold.\n",
        "Paella is best served hot.\n",
        "Samosa is best served hot.\n",
        "Gazpacho is best served cold.\n",
        "```"
      ],
      "metadata": {
        "id": "9ZeUlzDOAXZE"
      }
    },
    {
      "cell_type": "code",
      "source": [
        "my_menu = {\n",
        "  'sushi' : {\n",
        "    'price' : 19.25,\n",
        "    'best_served' : 'cold'\n",
        "  },\n",
        "  'paella' : {\n",
        "    'price' : 15,\n",
        "    'best_served' : 'hot'\n",
        "  },\n",
        "  'samosa' : {\n",
        "    'price' : 14,\n",
        "    'best_served' : 'hot'\n",
        "  },\n",
        "  'gazpacho' : {\n",
        "    'price' : 8,\n",
        "    'best_served' : 'cold'\n",
        "  }\n",
        "}"
      ],
      "metadata": {
        "id": "OUmwCvmMAKv7"
      },
      "execution_count": null,
      "outputs": []
    },
    {
      "cell_type": "code",
      "source": [
        "# Iterate the elements of the menu\n",
        "for dish, values in my_menu.items():\n",
        "  # Print whether the dish must be served cold or hot\n",
        "  print(f\"{dish.title()} is best served {values['best_served']}.\")"
      ],
      "metadata": {
        "colab": {
          "base_uri": "https://localhost:8080/"
        },
        "id": "8emFV_XAAfFH",
        "outputId": "334b2609-da0f-4e86-8640-81b7c644a69c"
      },
      "execution_count": null,
      "outputs": [
        {
          "output_type": "stream",
          "name": "stdout",
          "text": [
            "Sushi is best served cold.\n",
            "Paella is best served hot.\n",
            "Samosa is best served hot.\n",
            "Gazpacho is best served cold.\n"
          ]
        }
      ]
    },
    {
      "cell_type": "markdown",
      "source": [
        "#### **Trees and graphs**"
      ],
      "metadata": {
        "id": "PAaVg22kA_IH"
      }
    },
    {
      "cell_type": "markdown",
      "source": [
        "You have been given a program that is supposed to create a simple binary tree:\n",
        "\n",
        "Testing it, you realize that the program is not correct. Could you correct it so that it works correctly?"
      ],
      "metadata": {
        "id": "J0cK8dGQBFn1"
      }
    },
    {
      "cell_type": "code",
      "source": [
        "class TreeNode:\n",
        "  \n",
        "  def __init__(self, data, left=None, right=None):\n",
        "    # Correct the mistakes\n",
        "    self.data = data\n",
        "    self.left_child = left\n",
        "    self.right_child = right\n",
        "    \n",
        "node1 = TreeNode(\"B\")\n",
        "node2 = TreeNode(\"C\")\n",
        "# Correct the mistake\n",
        "root_node = TreeNode(\"A\", node1, node2)"
      ],
      "metadata": {
        "id": "qcr2adkFAyDX"
      },
      "execution_count": 1,
      "outputs": []
    },
    {
      "cell_type": "markdown",
      "source": [
        "Building a weighted graph\n",
        "In the last video, you learned how to implement a graph in Python.\n",
        "```\n",
        "class Graph:\n",
        "  def __init__(self):\n",
        "    self.vertices = {}\n",
        "\n",
        "  def add_vertex(self, vertex):\n",
        "    self.vertices[vertex] = []\n",
        "\n",
        "  def add_edge(self, source, target):\n",
        "    self.vertices[source].append(target)\n",
        "```\n",
        "This exercise has two steps. In the first one, you will modify this code so that it can be used to create a weighted graph. To do this, you can use a hash table to represent the adjacent vertices with their weights. In the second step, you will build the weighted graph."
      ],
      "metadata": {
        "id": "uD0zx8H1yKZp"
      }
    },
    {
      "cell_type": "code",
      "source": [
        "class WeightedGraph:\n",
        "  def __init__(self):\n",
        "    self.vertices = {}\n",
        "  \n",
        "  def add_vertex(self, vertex):\n",
        "    # Set the data for the vertex\n",
        "    self.vertices[vertex] = []\n",
        "    \n",
        "  def add_edge(self, source, target, weight):\n",
        "    # Set the weight\n",
        "    self.vertices[source].append([target, weight])"
      ],
      "metadata": {
        "id": "p9_JGFYtyBaI"
      },
      "execution_count": 2,
      "outputs": []
    },
    {
      "cell_type": "code",
      "source": [
        "my_graph = WeightedGraph()\n",
        "\n",
        "# Create the vertices\n",
        "my_graph.add_vertex('Paris')\n",
        "my_graph.add_vertex('Toulouse')\n",
        "my_graph.add_vertex('Biarritz')\n",
        "\n",
        "# Create the edges\n",
        "my_graph.add_edge('Paris', 'Toulouse', 678)\n",
        "my_graph.add_edge('Toulouse', 'Biarritz', 312)\n",
        "my_graph.add_edge('Biarritz', 'Paris', 783)"
      ],
      "metadata": {
        "id": "iebg7uSzyWy9"
      },
      "execution_count": 3,
      "outputs": []
    },
    {
      "cell_type": "code",
      "source": [],
      "metadata": {
        "id": "g9HQK29EykfE"
      },
      "execution_count": null,
      "outputs": []
    }
  ]
}