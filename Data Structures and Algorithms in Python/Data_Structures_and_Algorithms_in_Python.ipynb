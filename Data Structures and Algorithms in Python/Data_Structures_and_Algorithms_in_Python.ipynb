{
  "nbformat": 4,
  "nbformat_minor": 0,
  "metadata": {
    "colab": {
      "provenance": []
    },
    "kernelspec": {
      "name": "python3",
      "display_name": "Python 3"
    },
    "language_info": {
      "name": "python"
    }
  },
  "cells": [
    {
      "cell_type": "markdown",
      "source": [
        "# **Data Structures and Algorithms in Python**\n",
        "\n",
        "#### **Implementing a linked list**\n",
        "\n",
        "In the first step, we will implement the Node() class, and in the second step the LinkedList() class. "
      ],
      "metadata": {
        "id": "2b2LueG-vBN5"
      }
    },
    {
      "cell_type": "code",
      "source": [
        "class Node:\n",
        "  def __init__(self, data):\n",
        "    self.value = data\n",
        "    # Leave the node initially without a next value\n",
        "    self.next = None\n",
        "\n",
        "class LinkedList:\n",
        "  def __init__(self):\n",
        "    # Set the head and the tail with null values\n",
        "    self.head = None\n",
        "    self.tail = None"
      ],
      "metadata": {
        "id": "arWAw3CwvLQW"
      },
      "execution_count": 3,
      "outputs": []
    },
    {
      "cell_type": "markdown",
      "source": [
        "In the previous exercise, you learned how to implement a Node() and LinkedList() class.\n",
        "\n",
        "In this exercise, you will prepare the code for the insert_at_beginning() method to add a new node at the beginning of a linked list.\n",
        "\n",
        "* Create the new node.\n",
        "* Check whether the linked list has a head node.\n",
        "* If the linked list has a head node, point the next node of the new node to the head."
      ],
      "metadata": {
        "id": "Dc7_ZwhUw2c8"
      }
    },
    {
      "cell_type": "code",
      "source": [
        "def insert_at_beginning(self, data):\n",
        "    # Create the new node\n",
        "    new_node = Node(data)\n",
        "    # Check whether the linked list has a head node\n",
        "    if self.head:\n",
        "      # Point the next node of the new node to the head\n",
        "      new_node.next = self.head\n",
        "      self.head = new_node\n",
        "    else:\n",
        "      self.tail = new_node      \n",
        "      self.head = new_node"
      ],
      "metadata": {
        "id": "q_XNWpRrvIdr"
      },
      "execution_count": 4,
      "outputs": []
    },
    {
      "cell_type": "markdown",
      "source": [
        "In this exercise, you will prepare the code for the remove_at_beginning() method. To do it, you will need to point the head of the linked list to the next node of the head"
      ],
      "metadata": {
        "id": "Rw5au7hexVWS"
      }
    },
    {
      "cell_type": "code",
      "execution_count": 5,
      "metadata": {
        "id": "vnRKQoTVu9b1"
      },
      "outputs": [],
      "source": [
        "def remove_at_beginning(self):\n",
        "    # The \"next\" node of the head becomes the new head node\n",
        "    self.head = self.head.next"
      ]
    },
    {
      "cell_type": "code",
      "source": [
        "def insert_at_end(self, data):    \n",
        "  new_node = Node(data)\n",
        "  if self.head:        \n",
        "    self.tail.next = new_node      \n",
        "    self.tail = new_node\n",
        "  else:      \n",
        "    self.head = new_node      \n",
        "    self.tail = new_node"
      ],
      "metadata": {
        "id": "FM504nyUxsSU"
      },
      "execution_count": 7,
      "outputs": []
    },
    {
      "cell_type": "code",
      "source": [
        "def search(self, data):  \n",
        "  current_node = self.head\n",
        "  while current_node:\n",
        "    if current_node.data == data:\n",
        "      return True\n",
        "    else:      \n",
        "      current_node = current_node.next\n",
        "  return False"
      ],
      "metadata": {
        "id": "TMIPIHwqx8Ks"
      },
      "execution_count": 8,
      "outputs": []
    },
    {
      "cell_type": "code",
      "source": [
        "class Node:\n",
        "  def __init__(self, data):\n",
        "    self.value = data\n",
        "    # Leave the node initially without a next value\n",
        "    self.next = None\n",
        "\n",
        "class LinkedList:\n",
        "  def __init__(self):\n",
        "    # Set the head and the tail with null values\n",
        "    self.head = None\n",
        "    self.tail = None\n",
        "\n",
        "  def insert_at_beginning(self, data):\n",
        "    # Create the new node\n",
        "    new_node = Node(data)\n",
        "    # Check whether the linked list has a head node\n",
        "    if self.head:\n",
        "      # Point the next node of the new node to the head\n",
        "      new_node.next = self.head\n",
        "      self.head = new_node\n",
        "    else:\n",
        "      self.tail = new_node      \n",
        "      self.head = new_node\n",
        "\n",
        "  def insert_at_end(self, data):    \n",
        "    new_node = Node(data)\n",
        "    if self.head:        \n",
        "      self.tail.next = new_node      \n",
        "      self.tail = new_node\n",
        "    else:      \n",
        "      self.head = new_node      \n",
        "      self.tail = new_node\n",
        "\n",
        "  def search(self, data):  \n",
        "    current_node = self.head\n",
        "    while current_node:\n",
        "      if current_node.value == data:\n",
        "        return True\n",
        "      else:      \n",
        "        current_node = current_node.next\n",
        "    return False"
      ],
      "metadata": {
        "id": "5d4rjMpRytiT"
      },
      "execution_count": 16,
      "outputs": []
    },
    {
      "cell_type": "code",
      "source": [
        "LinkedList_example = LinkedList()\n",
        "LinkedList_example.insert_at_end(1)\n",
        "LinkedList_example.insert_at_end(2) \n",
        "LinkedList_example.insert_at_beginning(3)"
      ],
      "metadata": {
        "id": "Z7TWcnW5yRa3"
      },
      "execution_count": 17,
      "outputs": []
    },
    {
      "cell_type": "code",
      "source": [
        "LinkedList_example.search(1)"
      ],
      "metadata": {
        "colab": {
          "base_uri": "https://localhost:8080/"
        },
        "id": "DgH2FqmzykjP",
        "outputId": "b19cf72f-1104-4c47-a7c8-d52098187b41"
      },
      "execution_count": 18,
      "outputs": [
        {
          "output_type": "execute_result",
          "data": {
            "text/plain": [
              "True"
            ]
          },
          "metadata": {},
          "execution_count": 18
        }
      ]
    },
    {
      "cell_type": "code",
      "source": [
        "LinkedList_example.search(0)"
      ],
      "metadata": {
        "colab": {
          "base_uri": "https://localhost:8080/"
        },
        "id": "LsE61SlwzC4K",
        "outputId": "182b58d8-9f16-4b15-96ab-ae9e418a57fa"
      },
      "execution_count": 19,
      "outputs": [
        {
          "output_type": "execute_result",
          "data": {
            "text/plain": [
              "False"
            ]
          },
          "metadata": {},
          "execution_count": 19
        }
      ]
    },
    {
      "cell_type": "code",
      "source": [
        "LinkedList_example.search(2)"
      ],
      "metadata": {
        "colab": {
          "base_uri": "https://localhost:8080/"
        },
        "id": "0HeGMbW20KEJ",
        "outputId": "4b66961c-9a5b-4cee-a565-7ba2e40a0f9a"
      },
      "execution_count": 20,
      "outputs": [
        {
          "output_type": "execute_result",
          "data": {
            "text/plain": [
              "True"
            ]
          },
          "metadata": {},
          "execution_count": 20
        }
      ]
    },
    {
      "cell_type": "code",
      "source": [
        "LinkedList_example.search(3)"
      ],
      "metadata": {
        "colab": {
          "base_uri": "https://localhost:8080/"
        },
        "id": "MYPswK2H0LEM",
        "outputId": "46f29778-cacb-45b8-8d91-871e10e1d29f"
      },
      "execution_count": 21,
      "outputs": [
        {
          "output_type": "execute_result",
          "data": {
            "text/plain": [
              "True"
            ]
          },
          "metadata": {},
          "execution_count": 21
        }
      ]
    },
    {
      "cell_type": "code",
      "source": [
        "LinkedList_example.search(5)"
      ],
      "metadata": {
        "colab": {
          "base_uri": "https://localhost:8080/"
        },
        "id": "eatJEtMO0LxE",
        "outputId": "ae889873-9ea3-4258-9439-25bae0e32a2f"
      },
      "execution_count": 22,
      "outputs": [
        {
          "output_type": "execute_result",
          "data": {
            "text/plain": [
              "False"
            ]
          },
          "metadata": {},
          "execution_count": 22
        }
      ]
    },
    {
      "cell_type": "markdown",
      "source": [
        "#### **Practicing with Big O Notation**"
      ],
      "metadata": {
        "id": "2562PjLd2_Xz"
      }
    },
    {
      "cell_type": "markdown",
      "source": [
        "**Question**\n",
        "\n",
        "The following algorithm shows you how to add a node at the beginning of a singly linked list using the Node() class and the insert_at_beginning() method. What is the complexity of this algorithm?\n",
        "```\n",
        " def insert_at_beginning(self,data):\n",
        "    new_node = Node(data)\n",
        "    if self.head:\n",
        "      new_node.next = self.head\n",
        "      self.head = new_node\n",
        "    else:\n",
        "      self.tail = new_node      \n",
        "      self.head = new_node\n",
        "```"
      ],
      "metadata": {
        "id": "AY55t95K3TFz"
      }
    },
    {
      "cell_type": "markdown",
      "source": [
        "**Answer:** O(1)"
      ],
      "metadata": {
        "id": "s6fFQGgM3b3g"
      }
    },
    {
      "cell_type": "markdown",
      "source": [
        "**Question**\n",
        "\n",
        "The following algorithm searches for a given value within a linked list. What is its complexity?\n",
        "\n",
        "This method uses the Node() class and search() method.\n",
        "\n",
        "```\n",
        "def search(self, data):\n",
        "    current_node = self.head\n",
        "    while current_node:\n",
        "        if current_node.data == data:\n",
        "            return True\n",
        "        else:\n",
        "            current_node = current_node.next\n",
        "    return False\n",
        "```"
      ],
      "metadata": {
        "id": "89n_tAZm3jOS"
      }
    },
    {
      "cell_type": "markdown",
      "source": [
        "**Answer:** O(n)"
      ],
      "metadata": {
        "id": "Sp9QsR1T3jVK"
      }
    }
  ]
}