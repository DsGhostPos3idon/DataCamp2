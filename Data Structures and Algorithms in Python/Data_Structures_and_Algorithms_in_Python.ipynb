{
  "nbformat": 4,
  "nbformat_minor": 0,
  "metadata": {
    "colab": {
      "provenance": []
    },
    "kernelspec": {
      "name": "python3",
      "display_name": "Python 3"
    },
    "language_info": {
      "name": "python"
    }
  },
  "cells": [
    {
      "cell_type": "markdown",
      "source": [
        "# **Data Structures and Algorithms in Python**"
      ],
      "metadata": {
        "id": "2b2LueG-vBN5"
      }
    },
    {
      "cell_type": "markdown",
      "source": [
        "## **Chapter 1: Work with Linked Lists and Stacks and Understand Big O notation**\n"
      ],
      "metadata": {
        "id": "wBNgEYA9YGiK"
      }
    },
    {
      "cell_type": "markdown",
      "source": [
        "\n",
        "#### **Implementing a linked list**"
      ],
      "metadata": {
        "id": "cajR-SzYYIfa"
      }
    },
    {
      "cell_type": "markdown",
      "source": [
        "In the first step, we will implement the Node() class, and in the second step the LinkedList() class. "
      ],
      "metadata": {
        "id": "pmEcy0WQYJyb"
      }
    },
    {
      "cell_type": "code",
      "source": [
        "class Node:\n",
        "  def __init__(self, data):\n",
        "    self.value = data\n",
        "    # Leave the node initially without a next value\n",
        "    self.next = None\n",
        "\n",
        "class LinkedList:\n",
        "  def __init__(self):\n",
        "    # Set the head and the tail with null values\n",
        "    self.head = None\n",
        "    self.tail = None"
      ],
      "metadata": {
        "id": "arWAw3CwvLQW"
      },
      "execution_count": null,
      "outputs": []
    },
    {
      "cell_type": "markdown",
      "source": [
        "In the previous exercise, you learned how to implement a Node() and LinkedList() class.\n",
        "\n",
        "In this exercise, you will prepare the code for the insert_at_beginning() method to add a new node at the beginning of a linked list.\n",
        "\n",
        "* Create the new node.\n",
        "* Check whether the linked list has a head node.\n",
        "* If the linked list has a head node, point the next node of the new node to the head."
      ],
      "metadata": {
        "id": "Dc7_ZwhUw2c8"
      }
    },
    {
      "cell_type": "code",
      "source": [
        "def insert_at_beginning(self, data):\n",
        "    # Create the new node\n",
        "    new_node = Node(data)\n",
        "    # Check whether the linked list has a head node\n",
        "    if self.head:\n",
        "      # Point the next node of the new node to the head\n",
        "      new_node.next = self.head\n",
        "      self.head = new_node\n",
        "    else:\n",
        "      self.tail = new_node      \n",
        "      self.head = new_node"
      ],
      "metadata": {
        "id": "q_XNWpRrvIdr"
      },
      "execution_count": null,
      "outputs": []
    },
    {
      "cell_type": "markdown",
      "source": [
        "In this exercise, you will prepare the code for the remove_at_beginning() method. To do it, you will need to point the head of the linked list to the next node of the head"
      ],
      "metadata": {
        "id": "Rw5au7hexVWS"
      }
    },
    {
      "cell_type": "code",
      "execution_count": null,
      "metadata": {
        "id": "vnRKQoTVu9b1"
      },
      "outputs": [],
      "source": [
        "def remove_at_beginning(self):\n",
        "    # The \"next\" node of the head becomes the new head node\n",
        "    self.head = self.head.next"
      ]
    },
    {
      "cell_type": "code",
      "source": [
        "def insert_at_end(self, data):    \n",
        "  new_node = Node(data)\n",
        "  if self.head:        \n",
        "    self.tail.next = new_node      \n",
        "    self.tail = new_node\n",
        "  else:      \n",
        "    self.head = new_node      \n",
        "    self.tail = new_node"
      ],
      "metadata": {
        "id": "FM504nyUxsSU"
      },
      "execution_count": null,
      "outputs": []
    },
    {
      "cell_type": "code",
      "source": [
        "def search(self, data):  \n",
        "  current_node = self.head\n",
        "  while current_node:\n",
        "    if current_node.data == data:\n",
        "      return True\n",
        "    else:      \n",
        "      current_node = current_node.next\n",
        "  return False"
      ],
      "metadata": {
        "id": "TMIPIHwqx8Ks"
      },
      "execution_count": null,
      "outputs": []
    },
    {
      "cell_type": "code",
      "source": [
        "class Node:\n",
        "  def __init__(self, data):\n",
        "    self.value = data\n",
        "    # Leave the node initially without a next value\n",
        "    self.next = None\n",
        "\n",
        "class LinkedList:\n",
        "  def __init__(self):\n",
        "    # Set the head and the tail with null values\n",
        "    self.head = None\n",
        "    self.tail = None\n",
        "\n",
        "  def insert_at_beginning(self, data):\n",
        "    # Create the new node\n",
        "    new_node = Node(data)\n",
        "    # Check whether the linked list has a head node\n",
        "    if self.head:\n",
        "      # Point the next node of the new node to the head\n",
        "      new_node.next = self.head\n",
        "      self.head = new_node\n",
        "    else:\n",
        "      self.tail = new_node      \n",
        "      self.head = new_node\n",
        "\n",
        "  def insert_at_end(self, data):    \n",
        "    new_node = Node(data)\n",
        "    if self.head:        \n",
        "      self.tail.next = new_node      \n",
        "      self.tail = new_node\n",
        "    else:      \n",
        "      self.head = new_node      \n",
        "      self.tail = new_node\n",
        "\n",
        "  def search(self, data):  \n",
        "    current_node = self.head\n",
        "    while current_node:\n",
        "      if current_node.value == data:\n",
        "        return True\n",
        "      else:      \n",
        "        current_node = current_node.next\n",
        "    return False"
      ],
      "metadata": {
        "id": "5d4rjMpRytiT"
      },
      "execution_count": null,
      "outputs": []
    },
    {
      "cell_type": "code",
      "source": [
        "LinkedList_example = LinkedList()\n",
        "LinkedList_example.insert_at_end(1)\n",
        "LinkedList_example.insert_at_end(2) \n",
        "LinkedList_example.insert_at_beginning(3)"
      ],
      "metadata": {
        "id": "Z7TWcnW5yRa3"
      },
      "execution_count": null,
      "outputs": []
    },
    {
      "cell_type": "code",
      "source": [
        "LinkedList_example.search(1)"
      ],
      "metadata": {
        "colab": {
          "base_uri": "https://localhost:8080/"
        },
        "id": "DgH2FqmzykjP",
        "outputId": "b19cf72f-1104-4c47-a7c8-d52098187b41"
      },
      "execution_count": null,
      "outputs": [
        {
          "output_type": "execute_result",
          "data": {
            "text/plain": [
              "True"
            ]
          },
          "metadata": {},
          "execution_count": 18
        }
      ]
    },
    {
      "cell_type": "code",
      "source": [
        "LinkedList_example.search(0)"
      ],
      "metadata": {
        "colab": {
          "base_uri": "https://localhost:8080/"
        },
        "id": "LsE61SlwzC4K",
        "outputId": "182b58d8-9f16-4b15-96ab-ae9e418a57fa"
      },
      "execution_count": null,
      "outputs": [
        {
          "output_type": "execute_result",
          "data": {
            "text/plain": [
              "False"
            ]
          },
          "metadata": {},
          "execution_count": 19
        }
      ]
    },
    {
      "cell_type": "code",
      "source": [
        "LinkedList_example.search(2)"
      ],
      "metadata": {
        "colab": {
          "base_uri": "https://localhost:8080/"
        },
        "id": "0HeGMbW20KEJ",
        "outputId": "4b66961c-9a5b-4cee-a565-7ba2e40a0f9a"
      },
      "execution_count": null,
      "outputs": [
        {
          "output_type": "execute_result",
          "data": {
            "text/plain": [
              "True"
            ]
          },
          "metadata": {},
          "execution_count": 20
        }
      ]
    },
    {
      "cell_type": "code",
      "source": [
        "LinkedList_example.search(3)"
      ],
      "metadata": {
        "colab": {
          "base_uri": "https://localhost:8080/"
        },
        "id": "MYPswK2H0LEM",
        "outputId": "46f29778-cacb-45b8-8d91-871e10e1d29f"
      },
      "execution_count": null,
      "outputs": [
        {
          "output_type": "execute_result",
          "data": {
            "text/plain": [
              "True"
            ]
          },
          "metadata": {},
          "execution_count": 21
        }
      ]
    },
    {
      "cell_type": "code",
      "source": [
        "LinkedList_example.search(5)"
      ],
      "metadata": {
        "colab": {
          "base_uri": "https://localhost:8080/"
        },
        "id": "eatJEtMO0LxE",
        "outputId": "ae889873-9ea3-4258-9439-25bae0e32a2f"
      },
      "execution_count": null,
      "outputs": [
        {
          "output_type": "execute_result",
          "data": {
            "text/plain": [
              "False"
            ]
          },
          "metadata": {},
          "execution_count": 22
        }
      ]
    },
    {
      "cell_type": "markdown",
      "source": [
        "#### **Practicing with Big O Notation**"
      ],
      "metadata": {
        "id": "2562PjLd2_Xz"
      }
    },
    {
      "cell_type": "markdown",
      "source": [
        "**Question**\n",
        "\n",
        "The following algorithm shows you how to add a node at the beginning of a singly linked list using the Node() class and the insert_at_beginning() method. What is the complexity of this algorithm?\n",
        "```\n",
        " def insert_at_beginning(self,data):\n",
        "    new_node = Node(data)\n",
        "    if self.head:\n",
        "      new_node.next = self.head\n",
        "      self.head = new_node\n",
        "    else:\n",
        "      self.tail = new_node      \n",
        "      self.head = new_node\n",
        "```"
      ],
      "metadata": {
        "id": "AY55t95K3TFz"
      }
    },
    {
      "cell_type": "markdown",
      "source": [
        "**Answer:** O(1)"
      ],
      "metadata": {
        "id": "s6fFQGgM3b3g"
      }
    },
    {
      "cell_type": "markdown",
      "source": [
        "**Question**\n",
        "\n",
        "The following algorithm searches for a given value within a linked list. What is its complexity?\n",
        "\n",
        "This method uses the Node() class and search() method.\n",
        "\n",
        "```\n",
        "def search(self, data):\n",
        "    current_node = self.head\n",
        "    while current_node:\n",
        "        if current_node.data == data:\n",
        "            return True\n",
        "        else:\n",
        "            current_node = current_node.next\n",
        "    return False\n",
        "```"
      ],
      "metadata": {
        "id": "89n_tAZm3jOS"
      }
    },
    {
      "cell_type": "markdown",
      "source": [
        "**Answer:** O(n)"
      ],
      "metadata": {
        "id": "Sp9QsR1T3jVK"
      }
    },
    {
      "cell_type": "markdown",
      "source": [
        "#### **Working with stacks**"
      ],
      "metadata": {
        "id": "SKBEiSFVIcs0"
      }
    },
    {
      "cell_type": "markdown",
      "source": [
        "In this exercise, you will follow two steps to implement a stack with the push() operation using a singly linked list. You will also define a new attribute called size to track the number of items in the stack. You will start coding the class to build a Stack(), and after that, you will implement the push() operation."
      ],
      "metadata": {
        "id": "6V5Nk7tdIc0F"
      }
    },
    {
      "cell_type": "code",
      "source": [
        "class Node:\n",
        "  def __init__(self, value):\n",
        "    self.data = value\n",
        "    self.next = None\n",
        "\n",
        "class Stack:\n",
        "  def __init__(self):\n",
        "    self.top = None\n",
        "    self.size = 0\n",
        "    \n",
        "  def push(self, data):\n",
        "    # Create a node with the data\n",
        "    new_node = Node(data)\n",
        "    if self.top:\n",
        "      new_node.next = self.top\n",
        "    # Set the created node to the top node\n",
        "    self.top = new_node\n",
        "    # Increase the size of the stack by one\n",
        "    self.size += 1"
      ],
      "metadata": {
        "id": "_IzQAVX9Ij3t"
      },
      "execution_count": null,
      "outputs": []
    },
    {
      "cell_type": "markdown",
      "source": [
        "In this exercise, you will implement the pop() operation for a stack. pop() will be used to remove an element from the top of the stack. Again, we will consider the size attribute to know the number of elements in the stack."
      ],
      "metadata": {
        "id": "10ZOhmBcJcok"
      }
    },
    {
      "cell_type": "code",
      "source": [
        "class Node:\n",
        "  def __init__(self, value):\n",
        "    self.data = value\n",
        "    self.next = None\n",
        "\n",
        "class Stack:\n",
        "  def __init__(self):\n",
        "    self.top = None\n",
        "    self.size = 0\n",
        "    \n",
        "  def push(self, data):\n",
        "    # Create a node with the data\n",
        "    new_node = Node(data)\n",
        "    if self.top:\n",
        "      new_node.next = self.top\n",
        "    # Set the created node to the top node\n",
        "    self.top = new_node\n",
        "    # Increase the size of the stack by one\n",
        "    self.size += 1\n",
        "\n",
        "  def pop(self):\n",
        "    # Check if there is a top element\n",
        "    if self.top is None:\n",
        "      return None\n",
        "    else:\n",
        "      popped_node = self.top\n",
        "      # Decrement the size of the stack\n",
        "      self.size -= 1\n",
        "      # Update the new value for the top node\n",
        "      self.top = self.top.next\n",
        "      popped_node.next = None\n",
        "      return popped_node.data \n",
        "    \n",
        "  def peek(self):\n",
        "    if self.top:\n",
        "      return self.top.data\n",
        "    else:\n",
        "      return None"
      ],
      "metadata": {
        "id": "yXpZ28kCJUcC"
      },
      "execution_count": null,
      "outputs": []
    },
    {
      "cell_type": "code",
      "source": [
        "Stack_test = Stack()\n",
        "Stack_test.push(1)"
      ],
      "metadata": {
        "id": "niWtPrG6L8wl"
      },
      "execution_count": null,
      "outputs": []
    },
    {
      "cell_type": "code",
      "source": [
        "Stack_test.peek()"
      ],
      "metadata": {
        "colab": {
          "base_uri": "https://localhost:8080/"
        },
        "id": "rQrSkbitMvaC",
        "outputId": "e1c84799-642e-4737-999f-427e92648735"
      },
      "execution_count": null,
      "outputs": [
        {
          "output_type": "execute_result",
          "data": {
            "text/plain": [
              "1"
            ]
          },
          "metadata": {},
          "execution_count": 16
        }
      ]
    },
    {
      "cell_type": "code",
      "source": [
        "Stack_test.push(5)"
      ],
      "metadata": {
        "id": "6_MBrWG3Mu2T"
      },
      "execution_count": null,
      "outputs": []
    },
    {
      "cell_type": "code",
      "source": [
        "Stack_test.peek()"
      ],
      "metadata": {
        "colab": {
          "base_uri": "https://localhost:8080/"
        },
        "id": "rpOp78_sM0Ly",
        "outputId": "5eef3aab-3e49-4837-cc16-8037d1ba9fa0"
      },
      "execution_count": null,
      "outputs": [
        {
          "output_type": "execute_result",
          "data": {
            "text/plain": [
              "5"
            ]
          },
          "metadata": {},
          "execution_count": 18
        }
      ]
    },
    {
      "cell_type": "code",
      "source": [
        "Stack_test.push(2)"
      ],
      "metadata": {
        "id": "DfqdptQGMxvC"
      },
      "execution_count": null,
      "outputs": []
    },
    {
      "cell_type": "code",
      "source": [
        "Stack_test.peek()"
      ],
      "metadata": {
        "colab": {
          "base_uri": "https://localhost:8080/"
        },
        "id": "mabuErEHMpX1",
        "outputId": "04d57e97-f1a0-4d23-f274-b022ec59295d"
      },
      "execution_count": null,
      "outputs": [
        {
          "output_type": "execute_result",
          "data": {
            "text/plain": [
              "2"
            ]
          },
          "metadata": {},
          "execution_count": 20
        }
      ]
    },
    {
      "cell_type": "code",
      "source": [
        "Stack_test.pop()"
      ],
      "metadata": {
        "colab": {
          "base_uri": "https://localhost:8080/"
        },
        "id": "1vpUnZ35MsQq",
        "outputId": "9733608f-c496-4935-9fde-199fb9ec9c82"
      },
      "execution_count": null,
      "outputs": [
        {
          "output_type": "execute_result",
          "data": {
            "text/plain": [
              "2"
            ]
          },
          "metadata": {},
          "execution_count": 21
        }
      ]
    },
    {
      "cell_type": "code",
      "source": [
        "Stack_test.peek()"
      ],
      "metadata": {
        "colab": {
          "base_uri": "https://localhost:8080/"
        },
        "id": "OT3J_7_ZMtUs",
        "outputId": "b710f59a-5a62-4193-a70c-50d0880836a3"
      },
      "execution_count": null,
      "outputs": [
        {
          "output_type": "execute_result",
          "data": {
            "text/plain": [
              "5"
            ]
          },
          "metadata": {},
          "execution_count": 22
        }
      ]
    },
    {
      "cell_type": "markdown",
      "source": [
        "**Question**\n",
        "\n",
        "The following code shows you how to push() an element onto a stack and pop() an element from a stack using singly linked lists. Can you calculate the complexity of both methods using Big O Notation?\n",
        "\n",
        "```\n",
        "def push(self, data):\n",
        "    new_node = Node(data)\n",
        "    if self.top:\n",
        "      new_node.next = self.top\n",
        "    self.top = new_node\n",
        "```\n",
        "\n",
        "```\n",
        "def pop(self):\n",
        "    if self.top is None:\n",
        "      return None\n",
        "    else:\n",
        "      popped_node = self.top\n",
        "      self.top = self.top.next\n",
        "      popped_node.next = None\n",
        "      return popped_node.data \n",
        "```"
      ],
      "metadata": {
        "id": "vaG1LHkVKSSu"
      }
    },
    {
      "cell_type": "markdown",
      "source": [
        "**Answer**: O(1)"
      ],
      "metadata": {
        "id": "voc4AkSzK9J8"
      }
    },
    {
      "cell_type": "markdown",
      "source": [
        "In this exercise, you will work with Python's LifoQueue(). You will create a stack called my_book_stack to add books and remove them from it."
      ],
      "metadata": {
        "id": "0srqL13JNW1S"
      }
    },
    {
      "cell_type": "code",
      "source": [
        "# Import the module to work with Python's LifoQueue\n",
        "import queue\n",
        "\n",
        "# Create an infinite LifoQueue\n",
        "my_book_stack = queue.LifoQueue(maxsize=0)\n",
        "\n",
        "# Add an element to the stack\n",
        "my_book_stack.put(\"Don Quixote\")\n",
        "\n",
        "# Remove an element from the stack\n",
        "my_book_stack.get()"
      ],
      "metadata": {
        "colab": {
          "base_uri": "https://localhost:8080/",
          "height": 36
        },
        "id": "IE024zEqKGm3",
        "outputId": "a68ebba5-ccef-4555-bf8d-8dff80100c8c"
      },
      "execution_count": null,
      "outputs": [
        {
          "output_type": "execute_result",
          "data": {
            "text/plain": [
              "'Don Quixote'"
            ],
            "application/vnd.google.colaboratory.intrinsic+json": {
              "type": "string"
            }
          },
          "metadata": {},
          "execution_count": 25
        }
      ]
    },
    {
      "cell_type": "markdown",
      "source": [
        "## **Chapter 2: Queues, Hash Tables, Trees, Graphs, and Recursion**"
      ],
      "metadata": {
        "id": "22402Pg2OIBS"
      }
    },
    {
      "cell_type": "markdown",
      "source": [
        "#### **Working with queues**"
      ],
      "metadata": {
        "id": "VsynSAxoX9ES"
      }
    },
    {
      "cell_type": "markdown",
      "source": [
        "In this exercise, you will implement a class called PrinterTasks(), which will represent a simplified queue for a printer. Queue() clasы includes the following methods:\n",
        "\n",
        "* enqueue(data): adds an element to the queue\n",
        "* dequeue(): removes an element from the queue\n",
        "* has_elements(): checks if the queue has elements. \n",
        "\n",
        "\n",
        "You will start coding the PrinterTasks() class with its add_document() and print_documents() methods. After that, you will simulate the execution of a program that uses the PrinterTasks() class."
      ],
      "metadata": {
        "id": "GFqLSnNbQGmM"
      }
    },
    {
      "cell_type": "code",
      "source": [
        "class Node:\n",
        "  def __init__(self,data):    \n",
        "    self.data = data    \n",
        "    self.next = None\n",
        "    \n",
        "class Queue:\n",
        "  def __init__(self):    \n",
        "    self.head = None    \n",
        "    self.tail = None\n",
        "\n",
        "  def enqueue(self,data):  \n",
        "    new_node = Node(data)\n",
        "    if self.head == None:    \n",
        "      self.head = new_node    \n",
        "      self.tail = new_node\n",
        "    else:    \n",
        "      self.tail.next = new_node\n",
        "      self.tail = new_node \n",
        "\n",
        "    print(\"Head: \" + str(self.head) +\" Tail: \" + str(self.tail))\n",
        "\n",
        "  def dequeue(self):\n",
        "    if self.head:    \n",
        "      current_node = self.head    \n",
        "      self.head = current_node.next    \n",
        "      current_node.next = None\n",
        "\n",
        "    if self.head == None:      \n",
        "      self.tail = None \n",
        "\n",
        "    return current_node\n",
        "  \n",
        "  def has_elements(self):\n",
        "    return self.head != None"
      ],
      "metadata": {
        "id": "h2-m8NxJSLQa"
      },
      "execution_count": null,
      "outputs": []
    },
    {
      "cell_type": "code",
      "source": [
        "class PrinterTasks:\n",
        "  def __init__(self):\n",
        "    self.queue = Queue()\n",
        "      \n",
        "  def add_document(self, document):\n",
        "    # Add the document to the queue\n",
        "    self.queue.enqueue(document)\n",
        "      \n",
        "  def print_documents(self):\n",
        "    # Iterate over the queue while it has elements\n",
        "    while self.queue.has_elements():\n",
        "      # Remove the document from the queue\n",
        "      print(\"Printing\", self.queue.dequeue())"
      ],
      "metadata": {
        "id": "Fq0AJ_fGOL49"
      },
      "execution_count": null,
      "outputs": []
    },
    {
      "cell_type": "code",
      "source": [
        "printer_tasks = PrinterTasks()\n",
        "# Add some documents to print\n",
        "printer_tasks.add_document(\"Document 1\")"
      ],
      "metadata": {
        "colab": {
          "base_uri": "https://localhost:8080/"
        },
        "id": "4LdtFOBwRiPz",
        "outputId": "d72b1554-7a74-4d79-8db0-0703d84ceff4"
      },
      "execution_count": null,
      "outputs": [
        {
          "output_type": "stream",
          "name": "stdout",
          "text": [
            "Head: <__main__.Node object at 0x7f7e355a3430> Tail: <__main__.Node object at 0x7f7e355a3430>\n"
          ]
        }
      ]
    },
    {
      "cell_type": "code",
      "source": [
        "printer_tasks.add_document(\"Document 2\")"
      ],
      "metadata": {
        "colab": {
          "base_uri": "https://localhost:8080/"
        },
        "id": "b-D1BQxpU_fx",
        "outputId": "92bc5bda-fa42-4668-c546-15bd486f6e7c"
      },
      "execution_count": null,
      "outputs": [
        {
          "output_type": "stream",
          "name": "stdout",
          "text": [
            "Head: <__main__.Node object at 0x7f7e355a3430> Tail: <__main__.Node object at 0x7f7e355a3d60>\n"
          ]
        }
      ]
    },
    {
      "cell_type": "code",
      "source": [
        "printer_tasks.add_document(\"Document 3\")"
      ],
      "metadata": {
        "colab": {
          "base_uri": "https://localhost:8080/"
        },
        "id": "GOceWqVjVAfa",
        "outputId": "12aa874d-d415-45db-c402-cde25de3d1a7"
      },
      "execution_count": null,
      "outputs": [
        {
          "output_type": "stream",
          "name": "stdout",
          "text": [
            "Head: <__main__.Node object at 0x7f7e355a3430> Tail: <__main__.Node object at 0x7f7e355a3b50>\n"
          ]
        }
      ]
    },
    {
      "cell_type": "code",
      "source": [
        "# Print all the documents in the queue\n",
        "printer_tasks.print_documents()"
      ],
      "metadata": {
        "colab": {
          "base_uri": "https://localhost:8080/"
        },
        "id": "6w31I4dKTt4z",
        "outputId": "9426c319-e3be-4064-8be5-b4a1af7e308a"
      },
      "execution_count": null,
      "outputs": [
        {
          "output_type": "stream",
          "name": "stdout",
          "text": [
            "Printing <__main__.Node object at 0x7f7e355a3430>\n",
            "Printing <__main__.Node object at 0x7f7e355a3d60>\n",
            "Printing <__main__.Node object at 0x7f7e355a3b50>\n"
          ]
        }
      ]
    },
    {
      "cell_type": "markdown",
      "source": [
        "**Question**\n",
        "\n",
        "The following code shows you how to enqueue() an element into a queue and dequeue() an element from a queue using singly linked lists. Can you calculate the complexity of both methods using Big O Notation?\n",
        "\n",
        "```\n",
        "  def enqueue(self,data):\n",
        "    new_node = Node(data)\n",
        "    if self.head == None:\n",
        "      self.head = new_node\n",
        "      self.tail = new_node\n",
        "    else:\n",
        "      self.tail.next = new_node\n",
        "      self.tail = new_node\n",
        "```\n",
        "``` \n",
        "  def dequeue(self):\n",
        "    if self.head:\n",
        "      current_node = self.head\n",
        "      self.head = current_node.next\n",
        "      current_node.next = None\n",
        "\n",
        "      if self.head == None:\n",
        "        self.tail = None\n",
        "```"
      ],
      "metadata": {
        "id": "9MYrKcENRx0i"
      }
    },
    {
      "cell_type": "markdown",
      "source": [
        "**Answer**: O(1)"
      ],
      "metadata": {
        "id": "9fFuvHyiR-dZ"
      }
    },
    {
      "cell_type": "markdown",
      "source": [
        "In this exercise, you will work with Python's SimpleQueue(). You will create a queue called my_orders_queue to add the orders of a restaurant and remove them from it when required."
      ],
      "metadata": {
        "id": "hLaLk4aLXlz6"
      }
    },
    {
      "cell_type": "code",
      "source": [
        "import queue\n",
        "\n",
        "# Create the queue\n",
        "my_orders_queue = queue.SimpleQueue()\n",
        "\n",
        "# Add an element to the queue\n",
        "my_orders_queue.put(\"samosas\")\n",
        "\n",
        "# Remove an element from the queue\n",
        "my_orders_queue.get()"
      ],
      "metadata": {
        "colab": {
          "base_uri": "https://localhost:8080/",
          "height": 36
        },
        "id": "THN5Q363R87J",
        "outputId": "a1d23a01-199a-4543-8a98-7790f3a66f61"
      },
      "execution_count": null,
      "outputs": [
        {
          "output_type": "execute_result",
          "data": {
            "text/plain": [
              "'samosas'"
            ],
            "application/vnd.google.colaboratory.intrinsic+json": {
              "type": "string"
            }
          },
          "metadata": {},
          "execution_count": 112
        }
      ]
    },
    {
      "cell_type": "markdown",
      "source": [
        "#### **Correcting bugs in a dictionary**"
      ],
      "metadata": {
        "id": "ORfpTW3q_6KW"
      }
    },
    {
      "cell_type": "markdown",
      "source": [
        "You have been given a program that is supposed to iterate over the dishes of a menu, printing the name and its value. Correct the mistake in the for loop.\n",
        "Correct the mistake in the print() function."
      ],
      "metadata": {
        "id": "lZdFVn8nBEA6"
      }
    },
    {
      "cell_type": "code",
      "source": [
        "my_menu = {\n",
        "  'lasagna': 14.75,\n",
        "  'moussaka': 21.15,\n",
        "  'sushi': 16.05,\n",
        "  'paella': 21,\n",
        "  'samosas': 14\n",
        "}\n",
        "\n",
        "# Correct the mistake\n",
        "for key, value in my_menu.items():\n",
        "  # Correct the mistake\n",
        "  print(f\"The price of the {key} is {value}.\")"
      ],
      "metadata": {
        "colab": {
          "base_uri": "https://localhost:8080/"
        },
        "id": "5YvhmIJOAH0P",
        "outputId": "1cb8d137-303a-4327-b96a-f51f1cebec66"
      },
      "execution_count": null,
      "outputs": [
        {
          "output_type": "stream",
          "name": "stdout",
          "text": [
            "The price of the lasagna is 14.75.\n",
            "The price of the moussaka is 21.15.\n",
            "The price of the sushi is 16.05.\n",
            "The price of the paella is 21.\n",
            "The price of the samosas is 14.\n"
          ]
        }
      ]
    },
    {
      "cell_type": "markdown",
      "source": [
        "You are writing a program that iterates over the following nested dictionary to determine if the dishes need to be served cold or hot. Can you complete the program so that it outputs the following?\n",
        "```\n",
        "Sushi is best served cold.\n",
        "Paella is best served hot.\n",
        "Samosa is best served hot.\n",
        "Gazpacho is best served cold.\n",
        "```"
      ],
      "metadata": {
        "id": "9ZeUlzDOAXZE"
      }
    },
    {
      "cell_type": "code",
      "source": [
        "my_menu = {\n",
        "  'sushi' : {\n",
        "    'price' : 19.25,\n",
        "    'best_served' : 'cold'\n",
        "  },\n",
        "  'paella' : {\n",
        "    'price' : 15,\n",
        "    'best_served' : 'hot'\n",
        "  },\n",
        "  'samosa' : {\n",
        "    'price' : 14,\n",
        "    'best_served' : 'hot'\n",
        "  },\n",
        "  'gazpacho' : {\n",
        "    'price' : 8,\n",
        "    'best_served' : 'cold'\n",
        "  }\n",
        "}"
      ],
      "metadata": {
        "id": "OUmwCvmMAKv7"
      },
      "execution_count": null,
      "outputs": []
    },
    {
      "cell_type": "code",
      "source": [
        "# Iterate the elements of the menu\n",
        "for dish, values in my_menu.items():\n",
        "  # Print whether the dish must be served cold or hot\n",
        "  print(f\"{dish.title()} is best served {values['best_served']}.\")"
      ],
      "metadata": {
        "colab": {
          "base_uri": "https://localhost:8080/"
        },
        "id": "8emFV_XAAfFH",
        "outputId": "334b2609-da0f-4e86-8640-81b7c644a69c"
      },
      "execution_count": null,
      "outputs": [
        {
          "output_type": "stream",
          "name": "stdout",
          "text": [
            "Sushi is best served cold.\n",
            "Paella is best served hot.\n",
            "Samosa is best served hot.\n",
            "Gazpacho is best served cold.\n"
          ]
        }
      ]
    },
    {
      "cell_type": "markdown",
      "source": [
        "#### **Trees and graphs**"
      ],
      "metadata": {
        "id": "PAaVg22kA_IH"
      }
    },
    {
      "cell_type": "markdown",
      "source": [
        "You have been given a program that is supposed to create a simple binary tree:\n",
        "\n",
        "Testing it, you realize that the program is not correct. Could you correct it so that it works correctly?"
      ],
      "metadata": {
        "id": "J0cK8dGQBFn1"
      }
    },
    {
      "cell_type": "code",
      "source": [
        "class TreeNode:\n",
        "  \n",
        "  def __init__(self, data, left=None, right=None):\n",
        "    # Correct the mistakes\n",
        "    self.data = data\n",
        "    self.left_child = left\n",
        "    self.right_child = right\n",
        "    \n",
        "node1 = TreeNode(\"B\")\n",
        "node2 = TreeNode(\"C\")\n",
        "# Correct the mistake\n",
        "root_node = TreeNode(\"A\", node1, node2)"
      ],
      "metadata": {
        "id": "qcr2adkFAyDX"
      },
      "execution_count": null,
      "outputs": []
    },
    {
      "cell_type": "markdown",
      "source": [
        "Building a weighted graph\n",
        "In the last video, you learned how to implement a graph in Python.\n",
        "```\n",
        "class Graph:\n",
        "  def __init__(self):\n",
        "    self.vertices = {}\n",
        "\n",
        "  def add_vertex(self, vertex):\n",
        "    self.vertices[vertex] = []\n",
        "\n",
        "  def add_edge(self, source, target):\n",
        "    self.vertices[source].append(target)\n",
        "```\n",
        "This exercise has two steps. In the first one, you will modify this code so that it can be used to create a weighted graph. To do this, you can use a hash table to represent the adjacent vertices with their weights. In the second step, you will build the weighted graph."
      ],
      "metadata": {
        "id": "uD0zx8H1yKZp"
      }
    },
    {
      "cell_type": "code",
      "source": [
        "class WeightedGraph:\n",
        "  def __init__(self):\n",
        "    self.vertices = {}\n",
        "  \n",
        "  def add_vertex(self, vertex):\n",
        "    # Set the data for the vertex\n",
        "    self.vertices[vertex] = []\n",
        "    \n",
        "  def add_edge(self, source, target, weight):\n",
        "    # Set the weight\n",
        "    self.vertices[source].append([target, weight])"
      ],
      "metadata": {
        "id": "p9_JGFYtyBaI"
      },
      "execution_count": null,
      "outputs": []
    },
    {
      "cell_type": "code",
      "source": [
        "my_graph = WeightedGraph()\n",
        "\n",
        "# Create the vertices\n",
        "my_graph.add_vertex('Paris')\n",
        "my_graph.add_vertex('Toulouse')\n",
        "my_graph.add_vertex('Biarritz')\n",
        "\n",
        "# Create the edges\n",
        "my_graph.add_edge('Paris', 'Toulouse', 678)\n",
        "my_graph.add_edge('Toulouse', 'Biarritz', 312)\n",
        "my_graph.add_edge('Biarritz', 'Paris', 783)"
      ],
      "metadata": {
        "id": "iebg7uSzyWy9"
      },
      "execution_count": null,
      "outputs": []
    },
    {
      "cell_type": "markdown",
      "source": [
        "#### **Understanding Recursion**"
      ],
      "metadata": {
        "id": "twRndZCMzB3s"
      }
    },
    {
      "cell_type": "markdown",
      "source": [
        "Fibonacci sequence\n",
        "\n",
        "In this exercise, you will implement the Fibonacci sequence, which is ubiquitous in nature. The sequence looks like this: \"0, 1, 1, 2, 3, 5, 8…\". You will create a recursive implementation of an algorithm that generates the sequence.\n",
        "\n",
        "The first numbers are 0 and 1, and the rest are the sum of the two preceding numbers.\n",
        "\n",
        "In the first step, you will code Fibonacci using recursion. In the second step, you will improve it by using dynamic programming, saving the solutions of the subproblems in the cache variable."
      ],
      "metadata": {
        "id": "E2nqBYX_zlD0"
      }
    },
    {
      "cell_type": "code",
      "source": [
        "def fibonacci(n):\n",
        "  # Define the base case\n",
        "  if n <= 1:\n",
        "    return n\n",
        "  else:\n",
        "    # Call recursively to fibonacci\n",
        "    return fibonacci(n-1) + fibonacci(n-2)\n",
        "    \n",
        "print(fibonacci(6))"
      ],
      "metadata": {
        "colab": {
          "base_uri": "https://localhost:8080/"
        },
        "id": "g9HQK29EykfE",
        "outputId": "1f00862c-3564-47e7-9a7f-24881a78d251"
      },
      "execution_count": null,
      "outputs": [
        {
          "output_type": "stream",
          "name": "stdout",
          "text": [
            "8\n"
          ]
        }
      ]
    },
    {
      "cell_type": "code",
      "source": [
        "for i in range(20):\n",
        "  print(fibonacci(i))"
      ],
      "metadata": {
        "colab": {
          "base_uri": "https://localhost:8080/"
        },
        "id": "GHtwH3S608Yu",
        "outputId": "b7cae727-7efd-4e58-da57-b8055f621db7"
      },
      "execution_count": null,
      "outputs": [
        {
          "output_type": "stream",
          "name": "stdout",
          "text": [
            "0\n",
            "1\n",
            "1\n",
            "2\n",
            "3\n",
            "5\n",
            "8\n",
            "13\n",
            "21\n",
            "34\n",
            "55\n",
            "89\n",
            "144\n",
            "233\n",
            "377\n",
            "610\n",
            "987\n",
            "1597\n",
            "2584\n",
            "4181\n"
          ]
        }
      ]
    },
    {
      "cell_type": "code",
      "source": [
        "cache = [None]*(100)\n",
        "\n",
        "def fibonacci(n): \n",
        "    if n <= 1:\n",
        "        return n\n",
        "    \n",
        "    # Check if the value exists\n",
        "    if not cache[n]:\n",
        "        # Save the result in cache\n",
        "        cache[n] = fibonacci(n-1) + fibonacci(n-2)\n",
        "    \n",
        "    return cache[n]\n",
        "    \n",
        "\n",
        "print(fibonacci(6))"
      ],
      "metadata": {
        "colab": {
          "base_uri": "https://localhost:8080/"
        },
        "id": "Lzsp8RAj0CQ7",
        "outputId": "2120dfc7-4376-49ae-8de8-ffa142dd3169"
      },
      "execution_count": null,
      "outputs": [
        {
          "output_type": "stream",
          "name": "stdout",
          "text": [
            "8\n"
          ]
        }
      ]
    },
    {
      "cell_type": "code",
      "source": [
        "for i in range(20):\n",
        "  print(fibonacci(i))"
      ],
      "metadata": {
        "colab": {
          "base_uri": "https://localhost:8080/"
        },
        "id": "Z_a0zCzf0fQ-",
        "outputId": "17f116d1-ea26-499b-9e40-15a28801b020"
      },
      "execution_count": null,
      "outputs": [
        {
          "output_type": "stream",
          "name": "stdout",
          "text": [
            "0\n",
            "1\n",
            "1\n",
            "2\n",
            "3\n",
            "5\n",
            "8\n",
            "13\n",
            "21\n",
            "34\n",
            "55\n",
            "89\n",
            "144\n",
            "233\n",
            "377\n",
            "610\n",
            "987\n",
            "1597\n",
            "2584\n",
            "4181\n"
          ]
        }
      ]
    },
    {
      "cell_type": "markdown",
      "source": [
        "Towers of Hanoi\n",
        "\n",
        "In this exercise, you will implement the Towers of Hanoi puzzle with a recursive algorithm. The aim of this game is to transfer all the disks from one of the three rods to another, following these rules:\n",
        "\n",
        "You can only move one disk at a time.\n",
        "You can only take the upper disk from one of the stacks and place it on top of another stack.\n",
        "You cannot put a larger disk on top of a smaller one.\n",
        "Picture of the game Tower of Hanoi\n",
        "\n",
        "The algorithm shown is an implementation of this game with four disks and three rods called 'A', 'B' and 'C'. The code contains two mistakes. In fact, if you execute it, it crashes the console because it exceeds the maximum recursion depth. Can you find the bugs and fix them?"
      ],
      "metadata": {
        "id": "TFXXW7JW3uFm"
      }
    },
    {
      "cell_type": "code",
      "source": [
        "def hanoi(num_disks, from_rod, to_rod, aux_rod):\n",
        "  # Correct the base case\n",
        "  if num_disks >= 1:\n",
        "    # Correct the calls to the hanoi function\n",
        "    hanoi(num_disks - 1, from_rod, aux_rod, to_rod)\n",
        "    print(\"Moving disk\", num_disks, \"from rod\", from_rod,\"to rod\",to_rod)\n",
        "    hanoi(num_disks - 1, aux_rod, to_rod, from_rod)   \n",
        "\n",
        "num_disks = 4\n",
        "source_rod = 'A'\n",
        "auxiliar_rod = 'B'\n",
        "target_rod = 'C'\n",
        "\n",
        "hanoi(num_disks, source_rod, target_rod, auxiliar_rod)"
      ],
      "metadata": {
        "colab": {
          "base_uri": "https://localhost:8080/"
        },
        "id": "xKqbQwoo1UB7",
        "outputId": "b8efcd41-0f42-46d4-f1df-a81f5ce8535a"
      },
      "execution_count": null,
      "outputs": [
        {
          "output_type": "stream",
          "name": "stdout",
          "text": [
            "Moving disk 1 from rod A to rod B\n",
            "Moving disk 2 from rod A to rod C\n",
            "Moving disk 1 from rod B to rod C\n",
            "Moving disk 3 from rod A to rod B\n",
            "Moving disk 1 from rod C to rod A\n",
            "Moving disk 2 from rod C to rod B\n",
            "Moving disk 1 from rod A to rod B\n",
            "Moving disk 4 from rod A to rod C\n",
            "Moving disk 1 from rod B to rod C\n",
            "Moving disk 2 from rod B to rod A\n",
            "Moving disk 1 from rod C to rod A\n",
            "Moving disk 3 from rod B to rod C\n",
            "Moving disk 1 from rod A to rod B\n",
            "Moving disk 2 from rod A to rod C\n",
            "Moving disk 1 from rod B to rod C\n"
          ]
        }
      ]
    },
    {
      "cell_type": "markdown",
      "source": [
        "## **Chapter 3: Searching algorithms**"
      ],
      "metadata": {
        "id": "Ji6mYPb3qlSj"
      }
    },
    {
      "cell_type": "markdown",
      "source": [
        "#### **Linear Search and Binary Search**"
      ],
      "metadata": {
        "id": "IsMDjyrgqujA"
      }
    },
    {
      "cell_type": "markdown",
      "source": [
        "Implementing binary search\n",
        "\n",
        "In this video, you learned how to implement linear search and binary search and saw the differences between them.\n",
        "\n",
        "In this exercise, you need to implement the binary_search() function."
      ],
      "metadata": {
        "id": "2sE6rTJXrqpM"
      }
    },
    {
      "cell_type": "code",
      "source": [
        "def binary_search(ordered_list, search_value):\n",
        "  first = 0\n",
        "  last = len(ordered_list) - 1\n",
        "  \n",
        "  while first <= last:\n",
        "    middle = (first + last)//2\n",
        "    # Check whether the search value equals the value in the middle\n",
        "    if search_value == ordered_list[middle]:\n",
        "      return True\n",
        "    # Check whether the search value is smaller than the value in the middle\n",
        "    elif search_value < ordered_list[middle]:\n",
        "      # Set last to the value of middle minus one\n",
        "      last = middle - 1\n",
        "    else:\n",
        "      first = middle + 1\n",
        "  return False\n",
        "  \n",
        "print(binary_search([1,5,8,9,15,20,70,72], 5))"
      ],
      "metadata": {
        "id": "kUuwlscq3xxF",
        "colab": {
          "base_uri": "https://localhost:8080/"
        },
        "outputId": "e3bc2bc6-9918-4492-a000-d89c4f2bbdc0"
      },
      "execution_count": null,
      "outputs": [
        {
          "output_type": "stream",
          "name": "stdout",
          "text": [
            "True\n"
          ]
        }
      ]
    },
    {
      "cell_type": "markdown",
      "source": [
        "Binary search using recursion\n",
        "\n",
        "In this exercise, you will implement the binary search algorithm you just learned using recursion. Recall that a recursive function refers to a function calling itself."
      ],
      "metadata": {
        "id": "i5C_I_iWr7c5"
      }
    },
    {
      "cell_type": "code",
      "source": [
        "def binary_search_recursive(ordered_list, search_value):\n",
        "  # Define the base case\n",
        "  if len(ordered_list) == 0:\n",
        "    return False\n",
        "  else:\n",
        "    middle = len(ordered_list)//2\n",
        "    # Check whether the search value equals the value in the middle\n",
        "    if search_value == ordered_list[middle]:\n",
        "        return True\n",
        "    elif search_value < ordered_list[middle]:\n",
        "        # Call recursively with the left half of the list\n",
        "        return binary_search_recursive(ordered_list[:middle], search_value)\n",
        "    else:\n",
        "        # Call recursively with the right half of the list\n",
        "        return binary_search_recursive(ordered_list[middle+1:], search_value)\n",
        "  \n",
        "print(binary_search_recursive([1,5,8,9,15,20,70,72], 5))"
      ],
      "metadata": {
        "colab": {
          "base_uri": "https://localhost:8080/"
        },
        "id": "aBu9K7mIr2hQ",
        "outputId": "64d46d6a-e920-47fa-ee00-a65a5d2794b0"
      },
      "execution_count": null,
      "outputs": [
        {
          "output_type": "stream",
          "name": "stdout",
          "text": [
            "True\n"
          ]
        }
      ]
    },
    {
      "cell_type": "markdown",
      "source": [
        "#### **Binary Search Tree (BST)**"
      ],
      "metadata": {
        "id": "5axdcYdGsa84"
      }
    },
    {
      "cell_type": "markdown",
      "source": [
        "Inserting a node into a binary search tree\n",
        "\n",
        "In the video, you learned what binary search trees (BSTs) are and how to implement their main operations.\n",
        "\n",
        "In this exercise, you will implement a function to insert a node into a BST.\n",
        "\n",
        "The nodes contain titles of books, building a BST based on alphabetical order.\n",
        "\n",
        "This tree has been preloaded in the bst variable:\n",
        "```\n",
        "bst = CreateTree()\n",
        "```\n",
        "You can check if the node is correctly inserted with this code:\n",
        "```\n",
        "bst.insert(\"Pride and Prejudice\")\n",
        "print(search(bst, \"Pride and Prejudice\"))\n",
        "```"
      ],
      "metadata": {
        "id": "EXln-Oc8uLnW"
      }
    },
    {
      "cell_type": "code",
      "source": [
        "class TreeNode:   \n",
        "  def __init__(self, data, left=None, right=None): \n",
        "    self.data = data \n",
        "    self.left_child = left \n",
        "    self.right_child = right "
      ],
      "metadata": {
        "id": "F82onNLxvAZg"
      },
      "execution_count": null,
      "outputs": []
    },
    {
      "cell_type": "markdown",
      "source": [
        "```\n",
        "import inspect\n",
        "source_text = inspect.getsource(CreateTree)\n",
        "print(source_text)\n",
        "```"
      ],
      "metadata": {
        "id": "F7ik6tP1wrni"
      }
    },
    {
      "cell_type": "code",
      "source": [
        "def CreateTree():\n",
        "  dracula = TreeNode(\"Dracula\")\n",
        "  jane = TreeNode(\"Jane Eyre\")\n",
        "  moby = TreeNode(\"Moby Dick\")\n",
        "  vanity = TreeNode(\"Vanity\")\n",
        "  heidi = TreeNode(\"Heidi\", dracula, jane)\n",
        "  oliver = TreeNode(\"Oliver Twist\", moby, vanity)\n",
        "  root_node = TreeNode(\"Little women\", heidi, oliver)\n",
        "  bst = BinarySearchTree()\n",
        "  bst.root = root_node\n",
        "  return bst"
      ],
      "metadata": {
        "id": "A9euhP1Xwuq1"
      },
      "execution_count": null,
      "outputs": []
    },
    {
      "cell_type": "code",
      "source": [
        "def search(bst, search_value):\n",
        "    current_node = bst.root\n",
        "    while current_node:\n",
        "      if search_value == current_node.data:\n",
        "        return True\n",
        "      elif search_value < current_node.data:\n",
        "        current_node = current_node.left_child\n",
        "      else:\n",
        "        current_node = current_node.right_child\n",
        "    return False"
      ],
      "metadata": {
        "id": "iBr6CbgEw-8J"
      },
      "execution_count": null,
      "outputs": []
    },
    {
      "cell_type": "code",
      "source": [
        "class BinarySearchTree:\n",
        "  def __init__(self):\n",
        "    self.root = None\n",
        "\n",
        "  def insert(self, data):\n",
        "    new_node = TreeNode(data)\n",
        "    # Check if the BST is empty\n",
        "    if self.root == None:\n",
        "      self.root = new_node\n",
        "      return\n",
        "    else:\n",
        "      current_node = self.root\n",
        "      while True:\n",
        "        # Check if the data to insert is smaller than the current node's data\n",
        "        if data < current_node.data:\n",
        "          if current_node.left_child == None:\n",
        "            current_node.left_child = new_node\n",
        "            return \n",
        "          else:\n",
        "            current_node = current_node.left_child\n",
        "        # Check if the data to insert is greater than the current node's data\n",
        "        elif data > current_node.data:\n",
        "          if current_node.right_child == None:\n",
        "            current_node.right_child = new_node\n",
        "            return\n",
        "          else:\n",
        "            current_node = current_node.right_child\n",
        "\n",
        "bst = CreateTree()\n",
        "bst.insert(\"Pride and Prejudice\")\n",
        "print(search(bst, \"Pride and Prejudice\"))"
      ],
      "metadata": {
        "colab": {
          "base_uri": "https://localhost:8080/"
        },
        "id": "INGeuQcysQyV",
        "outputId": "6f2abfc1-4506-4743-96ba-6fdf8e7cf5d0"
      },
      "execution_count": null,
      "outputs": [
        {
          "output_type": "stream",
          "name": "stdout",
          "text": [
            "True\n"
          ]
        }
      ]
    },
    {
      "cell_type": "code",
      "source": [
        "print(search(bst, \"Jenkins\"))"
      ],
      "metadata": {
        "colab": {
          "base_uri": "https://localhost:8080/"
        },
        "id": "oJGpD_jKxBEn",
        "outputId": "e31c8f5e-8e72-41ec-8ae8-302a1dec44d5"
      },
      "execution_count": null,
      "outputs": [
        {
          "output_type": "stream",
          "name": "stdout",
          "text": [
            "False\n"
          ]
        }
      ]
    },
    {
      "cell_type": "markdown",
      "source": [
        "Finding the minimum node of a BST\n",
        "\n",
        "In this exercise, you will practice on a BST to find the minimum node.\n",
        "\n",
        "You can print the result that returns the find_min() method with this code:\n",
        "```\n",
        "print(bst.find_min())\n",
        "```"
      ],
      "metadata": {
        "id": "g0i_z0UCxORo"
      }
    },
    {
      "cell_type": "code",
      "source": [
        "class BinarySearchTree:\n",
        "  def __init__(self):\n",
        "    self.root = None\n",
        "\n",
        "  def find_min(self):\n",
        "    # Set current_node as the root\n",
        "    current_node = self.root\n",
        "    # Iterate over the nodes of the appropriate subtree\n",
        "    while current_node.left_child:\n",
        "      # Update the value for current_node\n",
        "      current_node = current_node.left_child\n",
        "    return current_node.data\n",
        "  \n",
        "bst = CreateTree()\n",
        "print(bst.find_min())"
      ],
      "metadata": {
        "colab": {
          "base_uri": "https://localhost:8080/"
        },
        "id": "jZLu6g7hxExB",
        "outputId": "4d69d128-d61e-47f6-c3b6-098ce2213809"
      },
      "execution_count": null,
      "outputs": [
        {
          "output_type": "stream",
          "name": "stdout",
          "text": [
            "Dracula\n"
          ]
        }
      ]
    },
    {
      "cell_type": "markdown",
      "source": [
        "#### **Depth First Search (DFS)**"
      ],
      "metadata": {
        "id": "2FrYgRfQyh2p"
      }
    },
    {
      "cell_type": "markdown",
      "source": [
        "Printing book titles in alphabetical order\n",
        "\n",
        "This video taught you three ways of implementing the depth first search traversal into binary trees: in-order, pre-order, and post-order.\n",
        "\n",
        "In the following binary search tree, you have stored the titles of some books.\n",
        "\n",
        "Can you apply the in-order traversal so that the titles of the books appear alphabetically ordered?"
      ],
      "metadata": {
        "id": "eWeIIe3Bs-Gn"
      }
    },
    {
      "cell_type": "code",
      "source": [
        "class BinarySearchTree:\n",
        "  def __init__(self):\n",
        "    self.root = None\n",
        "\n",
        "  def in_order(self, current_node):\n",
        "    # Check if current_node exists\n",
        "    if current_node:\n",
        "      # Call recursively with the appropriate half of the tree\n",
        "      self.in_order(current_node.left_child)\n",
        "      # Print the value of the current_node\n",
        "      print(current_node.data)\n",
        "      # Call recursively with the appropriate half of the tree\n",
        "      self.in_order(current_node.right_child)\n",
        "  \n",
        "bst = CreateTree()\n",
        "bst.in_order(bst.root)"
      ],
      "metadata": {
        "colab": {
          "base_uri": "https://localhost:8080/"
        },
        "id": "wdzVYumPthJ3",
        "outputId": "e5f70d76-fc15-447f-c623-bc75a95397bf"
      },
      "execution_count": null,
      "outputs": [
        {
          "output_type": "stream",
          "name": "stdout",
          "text": [
            "Dracula\n",
            "Heidi\n",
            "Jane Eyre\n",
            "Little women\n",
            "Moby Dick\n",
            "Oliver Twist\n",
            "Vanity\n"
          ]
        }
      ]
    },
    {
      "cell_type": "markdown",
      "source": [
        "Using pre-order traversal with Polish notation\n",
        "\n",
        "Expression trees are a kind of binary tree that represent arithmetic expressions.\n",
        "\n",
        "By applying in-order traversal to an expression tree, you can obtain the infix notation. This notation for the given tree will be (10-5)*3.\n",
        "\n",
        "By applying pre-order traversal to an expression tree, you can obtain the prefix notation, aka Polish notation, where the operator appears before its operands. This notation for the given tree will be *-10 5 3.\n",
        "\n",
        "By applying post-order traversal to an expression tree, you can obtain the postfix notation, aka reverse Polish notation, where the operator appears after its operands. This notation for the given tree will be 10 5- 3*.\n",
        "\n",
        "Code the pre-order traversal so that you can obtain the prefix notation of this expression tree."
      ],
      "metadata": {
        "id": "ofQqJPoGt4mu"
      }
    },
    {
      "cell_type": "code",
      "source": [
        "class TreeNode:   \n",
        "  def __init__(self, data, left=None, right=None): \n",
        "    self.data = data \n",
        "    self.left_child = left \n",
        "    self.right_child = right "
      ],
      "metadata": {
        "id": "17xzTT3ns70q"
      },
      "execution_count": null,
      "outputs": []
    },
    {
      "cell_type": "code",
      "source": [
        "def CreateExpressionTree():    \n",
        "  node10 = TreeNode(\"10\")\n",
        "  node5 = TreeNode(\"5\")\n",
        "  node_minus = TreeNode(\"-\", node10, node5)\n",
        "\n",
        "  node3 = TreeNode(\"3\")\n",
        "  root_node = TreeNode(\"*\", node_minus, node3)\n",
        "  \n",
        "  et = ExpressionTree()\n",
        "  et.root = root_node\n",
        "  return et"
      ],
      "metadata": {
        "id": "cDTELH7rw9QN"
      },
      "execution_count": null,
      "outputs": []
    },
    {
      "cell_type": "code",
      "source": [
        "import queue\n",
        "\n",
        "class ExpressionTree:\n",
        "  def __init__(self):\n",
        "    self.root = None\n",
        "\n",
        "  def pre_order(self, current_node):\n",
        "    # Check if current_node exists\n",
        "    if current_node:\n",
        "      # Print the value of the current_node\n",
        "      print(current_node.data)\n",
        "      # Call pre_order recursively on the appropriate half of the tree\n",
        "      self.pre_order(current_node.left_child)\n",
        "      self.pre_order(current_node.right_child)\n",
        "          \n",
        "et = CreateExpressionTree()\n",
        "et.pre_order(et.root)"
      ],
      "metadata": {
        "colab": {
          "base_uri": "https://localhost:8080/"
        },
        "id": "35D7hCwlw0pW",
        "outputId": "fbd746b6-74af-4c96-b9d3-2379019add2f"
      },
      "execution_count": null,
      "outputs": [
        {
          "output_type": "stream",
          "name": "stdout",
          "text": [
            "*\n",
            "-\n",
            "10\n",
            "5\n",
            "3\n"
          ]
        }
      ]
    },
    {
      "cell_type": "markdown",
      "source": [
        "Implementing DFS for graphs\n",
        "\n",
        "In this exercise, you will implement a depth first search algorithm to traverse a graph.\n",
        "\n",
        "Recall the steps:\n",
        "\n",
        "Start at any vertex\n",
        "1) Add the vertex to the visited vertices list\n",
        "2) For each current node's adjacent vertex\n",
        "* If it has been visited -> ignore it\n",
        "* If it hasn't been visited -> recursively perform DFS\n",
        "\n",
        "To help you test your code, the following graph has been loaded using a dictionary.\n",
        "\n",
        "```\n",
        "graph = {\n",
        "  '0' : ['1','2'],\n",
        "  '1' : ['0', '2', '3'],\n",
        "  '2' : ['0', '1', '4'],\n",
        "  '3' : ['1', '4'],\n",
        "  '4' : ['2', '3']\n",
        "}\n",
        "```"
      ],
      "metadata": {
        "id": "5iTnZTPhxc2m"
      }
    },
    {
      "cell_type": "code",
      "source": [
        "graph = {\n",
        "  '0' : ['1','2'],\n",
        "  '1' : ['0', '2', '3'],\n",
        "  '2' : ['0', '1', '4'],\n",
        "  '3' : ['1', '4'],\n",
        "  '4' : ['2', '3']\n",
        "}"
      ],
      "metadata": {
        "id": "UQaJe0ePxDuf"
      },
      "execution_count": null,
      "outputs": []
    },
    {
      "cell_type": "code",
      "source": [
        "def dfs(visited_vertices, graph, current_vertex):\n",
        "    # Check if current_vertex hasn't been visited yet\n",
        "    if current_vertex not in visited_vertices:\n",
        "        print(current_vertex)\n",
        "        # Add current_vertex to visited_vertices\n",
        "        visited_vertices.add(current_vertex)\n",
        "        for adjacent_vertex in graph[current_vertex]:\n",
        "            # Call recursively with the appropriate values\n",
        "            dfs(visited_vertices, graph, adjacent_vertex)\n",
        "            \n",
        "dfs(set(), graph, '0')"
      ],
      "metadata": {
        "colab": {
          "base_uri": "https://localhost:8080/"
        },
        "id": "yJtx7QEUxbmS",
        "outputId": "907d3fcc-59de-4e5b-e4c2-9525680ec65a"
      },
      "execution_count": null,
      "outputs": [
        {
          "output_type": "stream",
          "name": "stdout",
          "text": [
            "0\n",
            "1\n",
            "2\n",
            "4\n",
            "3\n"
          ]
        }
      ]
    },
    {
      "cell_type": "markdown",
      "source": [
        "Finding a graph vertex using BFS\n",
        "\n",
        "In this exercise, you will modify the BFS algorithm to search for a given vertex within a graph.\n",
        "\n",
        "To help you test your code, the following graph has been loaded using a dictionary.\n",
        "```\n",
        "graph = {\n",
        "  '4' : ['6','7'],\n",
        "  '6' : ['4', '7', '8'],\n",
        "  '7' : ['4', '6', '9'],\n",
        "  '8' : ['6', '9'],\n",
        "  '9' : ['7', '8']\n",
        "}\n",
        "```"
      ],
      "metadata": {
        "id": "ykgcOU-X0K9v"
      }
    },
    {
      "cell_type": "code",
      "source": [
        "graph = {\n",
        "  '4' : ['6','7'],\n",
        "  '6' : ['4', '7', '8'],\n",
        "  '7' : ['4', '6', '9'],\n",
        "  '8' : ['6', '9'],\n",
        "  '9' : ['7', '8']\n",
        "}"
      ],
      "metadata": {
        "id": "8MY2WKbyySLw"
      },
      "execution_count": null,
      "outputs": []
    },
    {
      "cell_type": "code",
      "source": [
        "import queue\n",
        "\n",
        "def bfs(graph, initial_vertex, search_value):\n",
        "  visited_vertices = []\n",
        "  bfs_queue = queue.SimpleQueue()\n",
        "  visited_vertices.append(initial_vertex)\n",
        "  bfs_queue.put(initial_vertex)\n",
        "\n",
        "  while not bfs_queue.empty():\n",
        "    current_vertex = bfs_queue.get()\n",
        "    # Check if you found the search value\n",
        "    if search_value == current_vertex:\n",
        "      # Return True if you find the search value\n",
        "      return True    \n",
        "    for adjacent_vertex in graph[current_vertex]:\n",
        "      # Check if the adjacent vertex has been visited\n",
        "      if adjacent_vertex not in visited_vertices:\n",
        "        visited_vertices.append(adjacent_vertex)\n",
        "        bfs_queue.put(adjacent_vertex)\n",
        "  # Return False if you didn't find the search value\n",
        "  return False\n",
        "\n",
        "print(bfs(graph, '4', '8'))"
      ],
      "metadata": {
        "colab": {
          "base_uri": "https://localhost:8080/"
        },
        "id": "1eEemi1q0PQj",
        "outputId": "13074054-6233-43a4-ff28-b7aab382618b"
      },
      "execution_count": null,
      "outputs": [
        {
          "output_type": "stream",
          "name": "stdout",
          "text": [
            "True\n"
          ]
        }
      ]
    },
    {
      "cell_type": "code",
      "source": [
        "print(bfs(graph, '4', '1'))"
      ],
      "metadata": {
        "colab": {
          "base_uri": "https://localhost:8080/"
        },
        "id": "5xvjuqu10c3F",
        "outputId": "1cac96df-8c8f-4d84-e469-91e9c8753ee2"
      },
      "execution_count": null,
      "outputs": [
        {
          "output_type": "stream",
          "name": "stdout",
          "text": [
            "False\n"
          ]
        }
      ]
    },
    {
      "cell_type": "code",
      "source": [
        "print(bfs(graph, '4', '9'))"
      ],
      "metadata": {
        "colab": {
          "base_uri": "https://localhost:8080/"
        },
        "id": "_1dAB1Y30gIL",
        "outputId": "3cab1f51-315c-48d4-9bbe-2b8942d473fa"
      },
      "execution_count": null,
      "outputs": [
        {
          "output_type": "stream",
          "name": "stdout",
          "text": [
            "True\n"
          ]
        }
      ]
    },
    {
      "cell_type": "markdown",
      "source": [
        "## **Chapter 4: Sorting algorithms**"
      ],
      "metadata": {
        "id": "kOclt9y-13f3"
      }
    },
    {
      "cell_type": "markdown",
      "source": [
        "#### **Bubble sort**"
      ],
      "metadata": {
        "id": "XrmtQkuJqAz4"
      }
    },
    {
      "cell_type": "markdown",
      "source": [
        "Correcting a bug in the bubble sort algorithm\n",
        "\n",
        "You have been given a program that sorts a list of numbers using the bubble sort algorithm. While testing it, you realize that the code is not correct. Could you correct the algorithm so that it works correctly?"
      ],
      "metadata": {
        "id": "L4eJ14k7p_tr"
      }
    },
    {
      "cell_type": "code",
      "source": [
        "def bubble_sort(my_list):\n",
        "  list_length = len(my_list)\n",
        "  # Correct the mistake\n",
        "  is_sorted = False\n",
        "  while not is_sorted:\n",
        "    is_sorted = True\n",
        "    for i in range(list_length-1):\n",
        "      # Correct the mistake\n",
        "      if my_list[i] > my_list[i+1]:\n",
        "        my_list[i] , my_list[i+1] = my_list[i+1] , my_list[i]\n",
        "        is_sorted = False\n",
        "    # Correct the mistake\n",
        "    list_length -= 1\n",
        "  return my_list\n",
        "\n",
        "print(bubble_sort([5, 7, 9, 1, 4, 2]))"
      ],
      "metadata": {
        "id": "R_rJcQFp0kaP",
        "colab": {
          "base_uri": "https://localhost:8080/"
        },
        "outputId": "7f9434e3-ff94-465f-ad4d-108f01732b3a"
      },
      "execution_count": null,
      "outputs": [
        {
          "output_type": "stream",
          "name": "stdout",
          "text": [
            "[1, 2, 4, 5, 7, 9]\n"
          ]
        }
      ]
    },
    {
      "cell_type": "markdown",
      "source": [
        "#### **Selection Sort**"
      ],
      "metadata": {
        "id": "PdgvNpJhuFBY"
      }
    },
    {
      "cell_type": "code",
      "source": [
        "def selection_sort(my_list):\n",
        "  list_length = len(my_list)\n",
        "  for i in range(list_length - 1):\n",
        "    # Set lowest to the element of the list located at index i\n",
        "    lowest = my_list[i]\n",
        "    index = i\n",
        "    # Iterate again over the list starting on the next position of the i variable\n",
        "    for j in range(i+1, list_length):\n",
        "      # Compare whether the element of the list located at index j is smaller than lowest\n",
        "      if my_list[j] < lowest:\n",
        "        index = j\n",
        "        lowest = my_list[j]\n",
        "    my_list[i] , my_list[index] = my_list[index] , my_list[i]\n",
        "  return my_list\n",
        "\n",
        "my_list = [6, 2, 9, 7, 4, 8] \n",
        "selection_sort(my_list)\n",
        "print(my_list)"
      ],
      "metadata": {
        "colab": {
          "base_uri": "https://localhost:8080/"
        },
        "id": "IUO44R7-t9hs",
        "outputId": "8bbf4faf-2a48-4219-e99e-13c18089e115"
      },
      "execution_count": null,
      "outputs": [
        {
          "output_type": "stream",
          "name": "stdout",
          "text": [
            "[2, 4, 6, 7, 8, 9]\n"
          ]
        }
      ]
    },
    {
      "cell_type": "code",
      "source": [
        "def insertion_sort(my_list): \n",
        "  for i in range(1, len(my_list)):  \n",
        "      number_to_order = my_list[i]  \n",
        "      j = i - 1  \n",
        "      while j >= 0 and number_to_order < my_list[j]:  \n",
        "          my_list[j + 1] = my_list[j]  \n",
        "          j -= 1  \n",
        "      my_list[j + 1] = number_to_order  \n",
        "  return my_list "
      ],
      "metadata": {
        "id": "WSsq4p9z7PjO"
      },
      "execution_count": null,
      "outputs": []
    },
    {
      "cell_type": "code",
      "source": [
        "my_list = [6, 2, 9, 7, 4, 8] \n",
        "insertion_sort(my_list)\n",
        "print(my_list)"
      ],
      "metadata": {
        "colab": {
          "base_uri": "https://localhost:8080/"
        },
        "id": "1L1BqJ4r7ciH",
        "outputId": "9f0ada35-b0a8-469e-92c8-51946ffcc708"
      },
      "execution_count": null,
      "outputs": [
        {
          "output_type": "stream",
          "name": "stdout",
          "text": [
            "[2, 4, 6, 7, 8, 9]\n"
          ]
        }
      ]
    },
    {
      "cell_type": "markdown",
      "source": [
        "#### **Merge Sort**"
      ],
      "metadata": {
        "id": "j17XnTfW5S_G"
      }
    },
    {
      "cell_type": "code",
      "source": [
        "def merge_sort(my_list):\n",
        "    if len(my_list) > 1: \n",
        "        mid = len(my_list)//2\n",
        "        left_half = my_list[:mid]\n",
        "        right_half = my_list[mid:]\n",
        "        \n",
        "        merge_sort(left_half)\n",
        "        merge_sort(right_half)\n",
        " \n",
        "        i = j = k = 0\n",
        " \n",
        "        while i < len(left_half) and j < len(right_half):\n",
        "            if left_half[i] < right_half[j]:\n",
        "                my_list[k] = left_half[i]                \n",
        "                i += 1\n",
        "            else:\n",
        "                my_list[k] = right_half[j]\n",
        "                j += 1\n",
        "            k += 1\n",
        "            \n",
        "        while i < len(left_half):\n",
        "            my_list[k] = left_half[i]\n",
        "            i += 1\n",
        "            k += 1\n",
        " \n",
        "        while j < len(right_half):\n",
        "            my_list[k] = right_half[j]\n",
        "            j += 1\n",
        "            k += 1\n",
        "\n",
        "my_list = [35,22,90,4,50,20,30,40,1]\n",
        "merge_sort(my_list)\n",
        "print(my_list)"
      ],
      "metadata": {
        "colab": {
          "base_uri": "https://localhost:8080/"
        },
        "id": "NRTNmKEc5OD8",
        "outputId": "afd44a0d-c403-4551-c453-405e6afcbc2d"
      },
      "execution_count": null,
      "outputs": [
        {
          "output_type": "stream",
          "name": "stdout",
          "text": [
            "[1, 4, 20, 22, 30, 35, 40, 50, 90]\n"
          ]
        }
      ]
    },
    {
      "cell_type": "markdown",
      "source": [
        "#### **Implementing the quicksort algorithm**"
      ],
      "metadata": {
        "id": "pQiXiPYcEXF5"
      }
    },
    {
      "cell_type": "markdown",
      "source": [
        "In this exercise, you will implement the quicksort algorithm to sort a list of numbers.\n",
        "\n",
        "In the first step, you will implement the partition() function, which returns the index of the pivot after having processed the list of numbers so that all the elements that are to the left of the pivot are less than the pivot and all the elements that are to the right of the pivot are greater than the pivot.\n",
        "\n",
        "In the second step, you will implement the quicksort() function, which will call the partition() function."
      ],
      "metadata": {
        "id": "dhjm0J9nEVuS"
      }
    },
    {
      "cell_type": "code",
      "source": [
        "def partition(my_list, first_index, last_index):\n",
        "  pivot = my_list[first_index]\n",
        "  left_pointer = first_index + 1\n",
        "  right_pointer = last_index\n",
        " \n",
        "  while True:\n",
        "    while pivot < my_list[left_pointer] and last_index < left_pointer:\n",
        "      left_pointer += 1\n",
        "    \n",
        "    while my_list[right_pointer] > pivot and right_pointer >= first_index:\n",
        "      right_pointer -= 1 \n",
        "    if left_pointer >= right_pointer:\n",
        "        break\n",
        "    my_list[left_pointer], my_list[right_pointer] = my_list[right_pointer], my_list[left_pointer]\n",
        "   \n",
        "  my_list[first_index], my_list[right_pointer] = my_list[right_pointer], my_list[first_index]\n",
        "  return right_pointer"
      ],
      "metadata": {
        "id": "ahk5YD3z8Jzq"
      },
      "execution_count": null,
      "outputs": []
    },
    {
      "cell_type": "code",
      "source": [
        "def quicksort(my_list, first_index, last_index):\n",
        "  if first_index < last_index:\n",
        "    # Call the partition() function with the appropriate parameters\n",
        "    partition_index = partition(my_list, first_index, last_index)\n",
        "    # Call quicksort() on the elements to the left of the partition\n",
        "    quicksort(my_list, first_index, partition_index)\n",
        "    quicksort(my_list, partition_index + 1, last_index)\n",
        "    \n",
        "my_list = [6, 2, 9, 7] \n",
        "quicksort(my_list, 0, len(my_list) - 1)\n",
        "print(my_list)"
      ],
      "metadata": {
        "colab": {
          "base_uri": "https://localhost:8080/"
        },
        "id": "lKtc7eRoE5jT",
        "outputId": "fbb4769d-8d36-4c10-88a3-4be69bb1d921"
      },
      "execution_count": null,
      "outputs": [
        {
          "output_type": "stream",
          "name": "stdout",
          "text": [
            "[2, 6, 7, 9]\n"
          ]
        }
      ]
    }
  ]
}