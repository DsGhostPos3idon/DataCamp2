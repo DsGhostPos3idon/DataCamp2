{
  "nbformat": 4,
  "nbformat_minor": 0,
  "metadata": {
    "colab": {
      "provenance": []
    },
    "kernelspec": {
      "name": "python3",
      "display_name": "Python 3"
    },
    "language_info": {
      "name": "python"
    }
  },
  "cells": [
    {
      "cell_type": "markdown",
      "source": [
        "# **Introduction to Portfolio Analysis in Python**"
      ],
      "metadata": {
        "id": "hbZ-IKkq6BYc"
      }
    },
    {
      "cell_type": "markdown",
      "source": [
        "## **Chapter 4 - Portfolio Optimization**"
      ],
      "metadata": {
        "id": "9OJTKpki6HL2"
      }
    },
    {
      "cell_type": "markdown",
      "source": [
        "The optimization problem: finding optimal weights\n",
        "\n",
        "\\begin{align}\n",
        "\\text{minimise } & w^T {\\sum_{}w}\n",
        "\\end{align}\n",
        "\\begin{align}\n",
        "\\text{subject to } & w^T\\mu >= \\mu^*\n",
        "\\end{align}\n",
        "\\begin{align}\n",
        "w^T1=1\n",
        "\\end{align}\n",
        "\\begin{align}\n",
        "w_i>=0\n",
        "\\end{align}\n",
        "\n",
        "In words:\n",
        "- Minimize the portfolio variance, subject to:\n",
        "- The expected mean return is at least some target return\n",
        "- The weights sum up to 100%\n",
        "- At least some weights are positive"
      ],
      "metadata": {
        "id": "1LF5-omr7EPR"
      }
    },
    {
      "cell_type": "code",
      "execution_count": 4,
      "metadata": {
        "id": "JB-v9LQ24GTS",
        "colab": {
          "base_uri": "https://localhost:8080/"
        },
        "outputId": "6afa0d91-72bc-49e4-f4c1-5d0d81f40ea1"
      },
      "outputs": [
        {
          "output_type": "stream",
          "name": "stdout",
          "text": [
            "Collecting PyPortfolioOpt\n",
            "  Downloading pyportfolioopt-1.5.5-py3-none-any.whl (61 kB)\n",
            "\u001b[?25l     \u001b[90m━━━━━━━━━━━━━━━━━━━━━━━━━━━━━━━━━━━━━━━━\u001b[0m \u001b[32m0.0/61.9 kB\u001b[0m \u001b[31m?\u001b[0m eta \u001b[36m-:--:--\u001b[0m\r\u001b[2K     \u001b[91m━━━━━━━━━━━━━━━━━━━━━━━━━━━━━━━━━━━━━━━\u001b[0m\u001b[91m╸\u001b[0m \u001b[32m61.4/61.9 kB\u001b[0m \u001b[31m1.9 MB/s\u001b[0m eta \u001b[36m0:00:01\u001b[0m\r\u001b[2K     \u001b[90m━━━━━━━━━━━━━━━━━━━━━━━━━━━━━━━━━━━━━━━━\u001b[0m \u001b[32m61.9/61.9 kB\u001b[0m \u001b[31m1.4 MB/s\u001b[0m eta \u001b[36m0:00:00\u001b[0m\n",
            "\u001b[?25hRequirement already satisfied: cvxpy<2.0.0,>=1.1.19 in /usr/local/lib/python3.10/dist-packages (from PyPortfolioOpt) (1.3.2)\n",
            "Requirement already satisfied: numpy<2.0.0,>=1.22.4 in /usr/local/lib/python3.10/dist-packages (from PyPortfolioOpt) (1.23.5)\n",
            "Requirement already satisfied: pandas>=0.19 in /usr/local/lib/python3.10/dist-packages (from PyPortfolioOpt) (1.5.3)\n",
            "Requirement already satisfied: scipy<2.0,>=1.3 in /usr/local/lib/python3.10/dist-packages (from PyPortfolioOpt) (1.11.3)\n",
            "Requirement already satisfied: osqp>=0.4.1 in /usr/local/lib/python3.10/dist-packages (from cvxpy<2.0.0,>=1.1.19->PyPortfolioOpt) (0.6.2.post8)\n",
            "Requirement already satisfied: ecos>=2 in /usr/local/lib/python3.10/dist-packages (from cvxpy<2.0.0,>=1.1.19->PyPortfolioOpt) (2.0.12)\n",
            "Requirement already satisfied: scs>=1.1.6 in /usr/local/lib/python3.10/dist-packages (from cvxpy<2.0.0,>=1.1.19->PyPortfolioOpt) (3.2.3)\n",
            "Requirement already satisfied: setuptools>65.5.1 in /usr/local/lib/python3.10/dist-packages (from cvxpy<2.0.0,>=1.1.19->PyPortfolioOpt) (67.7.2)\n",
            "Requirement already satisfied: python-dateutil>=2.8.1 in /usr/local/lib/python3.10/dist-packages (from pandas>=0.19->PyPortfolioOpt) (2.8.2)\n",
            "Requirement already satisfied: pytz>=2020.1 in /usr/local/lib/python3.10/dist-packages (from pandas>=0.19->PyPortfolioOpt) (2023.3.post1)\n",
            "Requirement already satisfied: qdldl in /usr/local/lib/python3.10/dist-packages (from osqp>=0.4.1->cvxpy<2.0.0,>=1.1.19->PyPortfolioOpt) (0.1.7.post0)\n",
            "Requirement already satisfied: six>=1.5 in /usr/local/lib/python3.10/dist-packages (from python-dateutil>=2.8.1->pandas>=0.19->PyPortfolioOpt) (1.16.0)\n",
            "Installing collected packages: PyPortfolioOpt\n",
            "Successfully installed PyPortfolioOpt-1.5.5\n"
          ]
        }
      ],
      "source": [
        "!python3 -m pip install PyPortfolioOpt"
      ]
    },
    {
      "cell_type": "markdown",
      "source": [
        "https://pyportfolioopt.readthedocs.io/en/latest/"
      ],
      "metadata": {
        "id": "t14Grvd76APc"
      }
    },
    {
      "cell_type": "markdown",
      "source": [
        "**Calculating expected risk and returns**\n",
        "\n",
        "For this exercise, you're going to start with the raw price data. Wha\n",
        "t you'll need for portfolio optimization, is the expected risk and return from this data.\n",
        "\n",
        "With PyPortfolioOpt, you can calculate the expected risk and return in just one line of code, so that makes it very easy for you. The library you need is called pypfopt in short. FYI, you'll see in the next exercise that PyPortfolioOpt gives you the same output if you were to calculate it by hand. Let's give it a try!"
      ],
      "metadata": {
        "id": "6CtAL_eK6NBh"
      }
    },
    {
      "cell_type": "code",
      "source": [
        "import pandas as pd\n",
        "\n",
        "stock_prices = pd.read_csv(\"small_portfolio.csv\")\n",
        "stock_prices.head()"
      ],
      "metadata": {
        "colab": {
          "base_uri": "https://localhost:8080/",
          "height": 206
        },
        "id": "hkvCt5SZ5e-L",
        "outputId": "28b0eb24-64c0-45c8-f510-26ab65658742"
      },
      "execution_count": 5,
      "outputs": [
        {
          "output_type": "execute_result",
          "data": {
            "text/plain": [
              "         date     GE    JPM    MSFT     PG\n",
              "0  2015-01-02  25.06  62.49  46.760  90.44\n",
              "1  2015-01-05  24.60  60.55  46.325  90.01\n",
              "2  2015-01-06  24.07  58.98  45.650  89.60\n",
              "3  2015-01-07  24.08  59.07  46.230  90.07\n",
              "4  2015-01-08  24.37  60.39  47.590  91.10"
            ],
            "text/html": [
              "\n",
              "  <div id=\"df-21005ca6-7c1e-4265-8777-560b2627b5ed\" class=\"colab-df-container\">\n",
              "    <div>\n",
              "<style scoped>\n",
              "    .dataframe tbody tr th:only-of-type {\n",
              "        vertical-align: middle;\n",
              "    }\n",
              "\n",
              "    .dataframe tbody tr th {\n",
              "        vertical-align: top;\n",
              "    }\n",
              "\n",
              "    .dataframe thead th {\n",
              "        text-align: right;\n",
              "    }\n",
              "</style>\n",
              "<table border=\"1\" class=\"dataframe\">\n",
              "  <thead>\n",
              "    <tr style=\"text-align: right;\">\n",
              "      <th></th>\n",
              "      <th>date</th>\n",
              "      <th>GE</th>\n",
              "      <th>JPM</th>\n",
              "      <th>MSFT</th>\n",
              "      <th>PG</th>\n",
              "    </tr>\n",
              "  </thead>\n",
              "  <tbody>\n",
              "    <tr>\n",
              "      <th>0</th>\n",
              "      <td>2015-01-02</td>\n",
              "      <td>25.06</td>\n",
              "      <td>62.49</td>\n",
              "      <td>46.760</td>\n",
              "      <td>90.44</td>\n",
              "    </tr>\n",
              "    <tr>\n",
              "      <th>1</th>\n",
              "      <td>2015-01-05</td>\n",
              "      <td>24.60</td>\n",
              "      <td>60.55</td>\n",
              "      <td>46.325</td>\n",
              "      <td>90.01</td>\n",
              "    </tr>\n",
              "    <tr>\n",
              "      <th>2</th>\n",
              "      <td>2015-01-06</td>\n",
              "      <td>24.07</td>\n",
              "      <td>58.98</td>\n",
              "      <td>45.650</td>\n",
              "      <td>89.60</td>\n",
              "    </tr>\n",
              "    <tr>\n",
              "      <th>3</th>\n",
              "      <td>2015-01-07</td>\n",
              "      <td>24.08</td>\n",
              "      <td>59.07</td>\n",
              "      <td>46.230</td>\n",
              "      <td>90.07</td>\n",
              "    </tr>\n",
              "    <tr>\n",
              "      <th>4</th>\n",
              "      <td>2015-01-08</td>\n",
              "      <td>24.37</td>\n",
              "      <td>60.39</td>\n",
              "      <td>47.590</td>\n",
              "      <td>91.10</td>\n",
              "    </tr>\n",
              "  </tbody>\n",
              "</table>\n",
              "</div>\n",
              "    <div class=\"colab-df-buttons\">\n",
              "\n",
              "  <div class=\"colab-df-container\">\n",
              "    <button class=\"colab-df-convert\" onclick=\"convertToInteractive('df-21005ca6-7c1e-4265-8777-560b2627b5ed')\"\n",
              "            title=\"Convert this dataframe to an interactive table.\"\n",
              "            style=\"display:none;\">\n",
              "\n",
              "  <svg xmlns=\"http://www.w3.org/2000/svg\" height=\"24px\" viewBox=\"0 -960 960 960\">\n",
              "    <path d=\"M120-120v-720h720v720H120Zm60-500h600v-160H180v160Zm220 220h160v-160H400v160Zm0 220h160v-160H400v160ZM180-400h160v-160H180v160Zm440 0h160v-160H620v160ZM180-180h160v-160H180v160Zm440 0h160v-160H620v160Z\"/>\n",
              "  </svg>\n",
              "    </button>\n",
              "\n",
              "  <style>\n",
              "    .colab-df-container {\n",
              "      display:flex;\n",
              "      gap: 12px;\n",
              "    }\n",
              "\n",
              "    .colab-df-convert {\n",
              "      background-color: #E8F0FE;\n",
              "      border: none;\n",
              "      border-radius: 50%;\n",
              "      cursor: pointer;\n",
              "      display: none;\n",
              "      fill: #1967D2;\n",
              "      height: 32px;\n",
              "      padding: 0 0 0 0;\n",
              "      width: 32px;\n",
              "    }\n",
              "\n",
              "    .colab-df-convert:hover {\n",
              "      background-color: #E2EBFA;\n",
              "      box-shadow: 0px 1px 2px rgba(60, 64, 67, 0.3), 0px 1px 3px 1px rgba(60, 64, 67, 0.15);\n",
              "      fill: #174EA6;\n",
              "    }\n",
              "\n",
              "    .colab-df-buttons div {\n",
              "      margin-bottom: 4px;\n",
              "    }\n",
              "\n",
              "    [theme=dark] .colab-df-convert {\n",
              "      background-color: #3B4455;\n",
              "      fill: #D2E3FC;\n",
              "    }\n",
              "\n",
              "    [theme=dark] .colab-df-convert:hover {\n",
              "      background-color: #434B5C;\n",
              "      box-shadow: 0px 1px 3px 1px rgba(0, 0, 0, 0.15);\n",
              "      filter: drop-shadow(0px 1px 2px rgba(0, 0, 0, 0.3));\n",
              "      fill: #FFFFFF;\n",
              "    }\n",
              "  </style>\n",
              "\n",
              "    <script>\n",
              "      const buttonEl =\n",
              "        document.querySelector('#df-21005ca6-7c1e-4265-8777-560b2627b5ed button.colab-df-convert');\n",
              "      buttonEl.style.display =\n",
              "        google.colab.kernel.accessAllowed ? 'block' : 'none';\n",
              "\n",
              "      async function convertToInteractive(key) {\n",
              "        const element = document.querySelector('#df-21005ca6-7c1e-4265-8777-560b2627b5ed');\n",
              "        const dataTable =\n",
              "          await google.colab.kernel.invokeFunction('convertToInteractive',\n",
              "                                                    [key], {});\n",
              "        if (!dataTable) return;\n",
              "\n",
              "        const docLinkHtml = 'Like what you see? Visit the ' +\n",
              "          '<a target=\"_blank\" href=https://colab.research.google.com/notebooks/data_table.ipynb>data table notebook</a>'\n",
              "          + ' to learn more about interactive tables.';\n",
              "        element.innerHTML = '';\n",
              "        dataTable['output_type'] = 'display_data';\n",
              "        await google.colab.output.renderOutput(dataTable, element);\n",
              "        const docLink = document.createElement('div');\n",
              "        docLink.innerHTML = docLinkHtml;\n",
              "        element.appendChild(docLink);\n",
              "      }\n",
              "    </script>\n",
              "  </div>\n",
              "\n",
              "\n",
              "<div id=\"df-88f2f2aa-0684-4374-821a-84ec254aae2a\">\n",
              "  <button class=\"colab-df-quickchart\" onclick=\"quickchart('df-88f2f2aa-0684-4374-821a-84ec254aae2a')\"\n",
              "            title=\"Suggest charts.\"\n",
              "            style=\"display:none;\">\n",
              "\n",
              "<svg xmlns=\"http://www.w3.org/2000/svg\" height=\"24px\"viewBox=\"0 0 24 24\"\n",
              "     width=\"24px\">\n",
              "    <g>\n",
              "        <path d=\"M19 3H5c-1.1 0-2 .9-2 2v14c0 1.1.9 2 2 2h14c1.1 0 2-.9 2-2V5c0-1.1-.9-2-2-2zM9 17H7v-7h2v7zm4 0h-2V7h2v10zm4 0h-2v-4h2v4z\"/>\n",
              "    </g>\n",
              "</svg>\n",
              "  </button>\n",
              "\n",
              "<style>\n",
              "  .colab-df-quickchart {\n",
              "      --bg-color: #E8F0FE;\n",
              "      --fill-color: #1967D2;\n",
              "      --hover-bg-color: #E2EBFA;\n",
              "      --hover-fill-color: #174EA6;\n",
              "      --disabled-fill-color: #AAA;\n",
              "      --disabled-bg-color: #DDD;\n",
              "  }\n",
              "\n",
              "  [theme=dark] .colab-df-quickchart {\n",
              "      --bg-color: #3B4455;\n",
              "      --fill-color: #D2E3FC;\n",
              "      --hover-bg-color: #434B5C;\n",
              "      --hover-fill-color: #FFFFFF;\n",
              "      --disabled-bg-color: #3B4455;\n",
              "      --disabled-fill-color: #666;\n",
              "  }\n",
              "\n",
              "  .colab-df-quickchart {\n",
              "    background-color: var(--bg-color);\n",
              "    border: none;\n",
              "    border-radius: 50%;\n",
              "    cursor: pointer;\n",
              "    display: none;\n",
              "    fill: var(--fill-color);\n",
              "    height: 32px;\n",
              "    padding: 0;\n",
              "    width: 32px;\n",
              "  }\n",
              "\n",
              "  .colab-df-quickchart:hover {\n",
              "    background-color: var(--hover-bg-color);\n",
              "    box-shadow: 0 1px 2px rgba(60, 64, 67, 0.3), 0 1px 3px 1px rgba(60, 64, 67, 0.15);\n",
              "    fill: var(--button-hover-fill-color);\n",
              "  }\n",
              "\n",
              "  .colab-df-quickchart-complete:disabled,\n",
              "  .colab-df-quickchart-complete:disabled:hover {\n",
              "    background-color: var(--disabled-bg-color);\n",
              "    fill: var(--disabled-fill-color);\n",
              "    box-shadow: none;\n",
              "  }\n",
              "\n",
              "  .colab-df-spinner {\n",
              "    border: 2px solid var(--fill-color);\n",
              "    border-color: transparent;\n",
              "    border-bottom-color: var(--fill-color);\n",
              "    animation:\n",
              "      spin 1s steps(1) infinite;\n",
              "  }\n",
              "\n",
              "  @keyframes spin {\n",
              "    0% {\n",
              "      border-color: transparent;\n",
              "      border-bottom-color: var(--fill-color);\n",
              "      border-left-color: var(--fill-color);\n",
              "    }\n",
              "    20% {\n",
              "      border-color: transparent;\n",
              "      border-left-color: var(--fill-color);\n",
              "      border-top-color: var(--fill-color);\n",
              "    }\n",
              "    30% {\n",
              "      border-color: transparent;\n",
              "      border-left-color: var(--fill-color);\n",
              "      border-top-color: var(--fill-color);\n",
              "      border-right-color: var(--fill-color);\n",
              "    }\n",
              "    40% {\n",
              "      border-color: transparent;\n",
              "      border-right-color: var(--fill-color);\n",
              "      border-top-color: var(--fill-color);\n",
              "    }\n",
              "    60% {\n",
              "      border-color: transparent;\n",
              "      border-right-color: var(--fill-color);\n",
              "    }\n",
              "    80% {\n",
              "      border-color: transparent;\n",
              "      border-right-color: var(--fill-color);\n",
              "      border-bottom-color: var(--fill-color);\n",
              "    }\n",
              "    90% {\n",
              "      border-color: transparent;\n",
              "      border-bottom-color: var(--fill-color);\n",
              "    }\n",
              "  }\n",
              "</style>\n",
              "\n",
              "  <script>\n",
              "    async function quickchart(key) {\n",
              "      const quickchartButtonEl =\n",
              "        document.querySelector('#' + key + ' button');\n",
              "      quickchartButtonEl.disabled = true;  // To prevent multiple clicks.\n",
              "      quickchartButtonEl.classList.add('colab-df-spinner');\n",
              "      try {\n",
              "        const charts = await google.colab.kernel.invokeFunction(\n",
              "            'suggestCharts', [key], {});\n",
              "      } catch (error) {\n",
              "        console.error('Error during call to suggestCharts:', error);\n",
              "      }\n",
              "      quickchartButtonEl.classList.remove('colab-df-spinner');\n",
              "      quickchartButtonEl.classList.add('colab-df-quickchart-complete');\n",
              "    }\n",
              "    (() => {\n",
              "      let quickchartButtonEl =\n",
              "        document.querySelector('#df-88f2f2aa-0684-4374-821a-84ec254aae2a button');\n",
              "      quickchartButtonEl.style.display =\n",
              "        google.colab.kernel.accessAllowed ? 'block' : 'none';\n",
              "    })();\n",
              "  </script>\n",
              "</div>\n",
              "    </div>\n",
              "  </div>\n"
            ]
          },
          "metadata": {},
          "execution_count": 5
        }
      ]
    },
    {
      "cell_type": "code",
      "source": [
        "stock_prices = stock_prices.set_index('date')\n",
        "stock_prices.head()"
      ],
      "metadata": {
        "colab": {
          "base_uri": "https://localhost:8080/",
          "height": 237
        },
        "id": "3nQ7xtNz5ofu",
        "outputId": "253e8686-00be-4120-c8b3-99454ee61fe1"
      },
      "execution_count": 6,
      "outputs": [
        {
          "output_type": "execute_result",
          "data": {
            "text/plain": [
              "               GE    JPM    MSFT     PG\n",
              "date                                   \n",
              "2015-01-02  25.06  62.49  46.760  90.44\n",
              "2015-01-05  24.60  60.55  46.325  90.01\n",
              "2015-01-06  24.07  58.98  45.650  89.60\n",
              "2015-01-07  24.08  59.07  46.230  90.07\n",
              "2015-01-08  24.37  60.39  47.590  91.10"
            ],
            "text/html": [
              "\n",
              "  <div id=\"df-5d1a3430-1c29-40de-b511-a1bc558c8dea\" class=\"colab-df-container\">\n",
              "    <div>\n",
              "<style scoped>\n",
              "    .dataframe tbody tr th:only-of-type {\n",
              "        vertical-align: middle;\n",
              "    }\n",
              "\n",
              "    .dataframe tbody tr th {\n",
              "        vertical-align: top;\n",
              "    }\n",
              "\n",
              "    .dataframe thead th {\n",
              "        text-align: right;\n",
              "    }\n",
              "</style>\n",
              "<table border=\"1\" class=\"dataframe\">\n",
              "  <thead>\n",
              "    <tr style=\"text-align: right;\">\n",
              "      <th></th>\n",
              "      <th>GE</th>\n",
              "      <th>JPM</th>\n",
              "      <th>MSFT</th>\n",
              "      <th>PG</th>\n",
              "    </tr>\n",
              "    <tr>\n",
              "      <th>date</th>\n",
              "      <th></th>\n",
              "      <th></th>\n",
              "      <th></th>\n",
              "      <th></th>\n",
              "    </tr>\n",
              "  </thead>\n",
              "  <tbody>\n",
              "    <tr>\n",
              "      <th>2015-01-02</th>\n",
              "      <td>25.06</td>\n",
              "      <td>62.49</td>\n",
              "      <td>46.760</td>\n",
              "      <td>90.44</td>\n",
              "    </tr>\n",
              "    <tr>\n",
              "      <th>2015-01-05</th>\n",
              "      <td>24.60</td>\n",
              "      <td>60.55</td>\n",
              "      <td>46.325</td>\n",
              "      <td>90.01</td>\n",
              "    </tr>\n",
              "    <tr>\n",
              "      <th>2015-01-06</th>\n",
              "      <td>24.07</td>\n",
              "      <td>58.98</td>\n",
              "      <td>45.650</td>\n",
              "      <td>89.60</td>\n",
              "    </tr>\n",
              "    <tr>\n",
              "      <th>2015-01-07</th>\n",
              "      <td>24.08</td>\n",
              "      <td>59.07</td>\n",
              "      <td>46.230</td>\n",
              "      <td>90.07</td>\n",
              "    </tr>\n",
              "    <tr>\n",
              "      <th>2015-01-08</th>\n",
              "      <td>24.37</td>\n",
              "      <td>60.39</td>\n",
              "      <td>47.590</td>\n",
              "      <td>91.10</td>\n",
              "    </tr>\n",
              "  </tbody>\n",
              "</table>\n",
              "</div>\n",
              "    <div class=\"colab-df-buttons\">\n",
              "\n",
              "  <div class=\"colab-df-container\">\n",
              "    <button class=\"colab-df-convert\" onclick=\"convertToInteractive('df-5d1a3430-1c29-40de-b511-a1bc558c8dea')\"\n",
              "            title=\"Convert this dataframe to an interactive table.\"\n",
              "            style=\"display:none;\">\n",
              "\n",
              "  <svg xmlns=\"http://www.w3.org/2000/svg\" height=\"24px\" viewBox=\"0 -960 960 960\">\n",
              "    <path d=\"M120-120v-720h720v720H120Zm60-500h600v-160H180v160Zm220 220h160v-160H400v160Zm0 220h160v-160H400v160ZM180-400h160v-160H180v160Zm440 0h160v-160H620v160ZM180-180h160v-160H180v160Zm440 0h160v-160H620v160Z\"/>\n",
              "  </svg>\n",
              "    </button>\n",
              "\n",
              "  <style>\n",
              "    .colab-df-container {\n",
              "      display:flex;\n",
              "      gap: 12px;\n",
              "    }\n",
              "\n",
              "    .colab-df-convert {\n",
              "      background-color: #E8F0FE;\n",
              "      border: none;\n",
              "      border-radius: 50%;\n",
              "      cursor: pointer;\n",
              "      display: none;\n",
              "      fill: #1967D2;\n",
              "      height: 32px;\n",
              "      padding: 0 0 0 0;\n",
              "      width: 32px;\n",
              "    }\n",
              "\n",
              "    .colab-df-convert:hover {\n",
              "      background-color: #E2EBFA;\n",
              "      box-shadow: 0px 1px 2px rgba(60, 64, 67, 0.3), 0px 1px 3px 1px rgba(60, 64, 67, 0.15);\n",
              "      fill: #174EA6;\n",
              "    }\n",
              "\n",
              "    .colab-df-buttons div {\n",
              "      margin-bottom: 4px;\n",
              "    }\n",
              "\n",
              "    [theme=dark] .colab-df-convert {\n",
              "      background-color: #3B4455;\n",
              "      fill: #D2E3FC;\n",
              "    }\n",
              "\n",
              "    [theme=dark] .colab-df-convert:hover {\n",
              "      background-color: #434B5C;\n",
              "      box-shadow: 0px 1px 3px 1px rgba(0, 0, 0, 0.15);\n",
              "      filter: drop-shadow(0px 1px 2px rgba(0, 0, 0, 0.3));\n",
              "      fill: #FFFFFF;\n",
              "    }\n",
              "  </style>\n",
              "\n",
              "    <script>\n",
              "      const buttonEl =\n",
              "        document.querySelector('#df-5d1a3430-1c29-40de-b511-a1bc558c8dea button.colab-df-convert');\n",
              "      buttonEl.style.display =\n",
              "        google.colab.kernel.accessAllowed ? 'block' : 'none';\n",
              "\n",
              "      async function convertToInteractive(key) {\n",
              "        const element = document.querySelector('#df-5d1a3430-1c29-40de-b511-a1bc558c8dea');\n",
              "        const dataTable =\n",
              "          await google.colab.kernel.invokeFunction('convertToInteractive',\n",
              "                                                    [key], {});\n",
              "        if (!dataTable) return;\n",
              "\n",
              "        const docLinkHtml = 'Like what you see? Visit the ' +\n",
              "          '<a target=\"_blank\" href=https://colab.research.google.com/notebooks/data_table.ipynb>data table notebook</a>'\n",
              "          + ' to learn more about interactive tables.';\n",
              "        element.innerHTML = '';\n",
              "        dataTable['output_type'] = 'display_data';\n",
              "        await google.colab.output.renderOutput(dataTable, element);\n",
              "        const docLink = document.createElement('div');\n",
              "        docLink.innerHTML = docLinkHtml;\n",
              "        element.appendChild(docLink);\n",
              "      }\n",
              "    </script>\n",
              "  </div>\n",
              "\n",
              "\n",
              "<div id=\"df-90367e2e-4c64-4990-9937-8c964f4cdb41\">\n",
              "  <button class=\"colab-df-quickchart\" onclick=\"quickchart('df-90367e2e-4c64-4990-9937-8c964f4cdb41')\"\n",
              "            title=\"Suggest charts.\"\n",
              "            style=\"display:none;\">\n",
              "\n",
              "<svg xmlns=\"http://www.w3.org/2000/svg\" height=\"24px\"viewBox=\"0 0 24 24\"\n",
              "     width=\"24px\">\n",
              "    <g>\n",
              "        <path d=\"M19 3H5c-1.1 0-2 .9-2 2v14c0 1.1.9 2 2 2h14c1.1 0 2-.9 2-2V5c0-1.1-.9-2-2-2zM9 17H7v-7h2v7zm4 0h-2V7h2v10zm4 0h-2v-4h2v4z\"/>\n",
              "    </g>\n",
              "</svg>\n",
              "  </button>\n",
              "\n",
              "<style>\n",
              "  .colab-df-quickchart {\n",
              "      --bg-color: #E8F0FE;\n",
              "      --fill-color: #1967D2;\n",
              "      --hover-bg-color: #E2EBFA;\n",
              "      --hover-fill-color: #174EA6;\n",
              "      --disabled-fill-color: #AAA;\n",
              "      --disabled-bg-color: #DDD;\n",
              "  }\n",
              "\n",
              "  [theme=dark] .colab-df-quickchart {\n",
              "      --bg-color: #3B4455;\n",
              "      --fill-color: #D2E3FC;\n",
              "      --hover-bg-color: #434B5C;\n",
              "      --hover-fill-color: #FFFFFF;\n",
              "      --disabled-bg-color: #3B4455;\n",
              "      --disabled-fill-color: #666;\n",
              "  }\n",
              "\n",
              "  .colab-df-quickchart {\n",
              "    background-color: var(--bg-color);\n",
              "    border: none;\n",
              "    border-radius: 50%;\n",
              "    cursor: pointer;\n",
              "    display: none;\n",
              "    fill: var(--fill-color);\n",
              "    height: 32px;\n",
              "    padding: 0;\n",
              "    width: 32px;\n",
              "  }\n",
              "\n",
              "  .colab-df-quickchart:hover {\n",
              "    background-color: var(--hover-bg-color);\n",
              "    box-shadow: 0 1px 2px rgba(60, 64, 67, 0.3), 0 1px 3px 1px rgba(60, 64, 67, 0.15);\n",
              "    fill: var(--button-hover-fill-color);\n",
              "  }\n",
              "\n",
              "  .colab-df-quickchart-complete:disabled,\n",
              "  .colab-df-quickchart-complete:disabled:hover {\n",
              "    background-color: var(--disabled-bg-color);\n",
              "    fill: var(--disabled-fill-color);\n",
              "    box-shadow: none;\n",
              "  }\n",
              "\n",
              "  .colab-df-spinner {\n",
              "    border: 2px solid var(--fill-color);\n",
              "    border-color: transparent;\n",
              "    border-bottom-color: var(--fill-color);\n",
              "    animation:\n",
              "      spin 1s steps(1) infinite;\n",
              "  }\n",
              "\n",
              "  @keyframes spin {\n",
              "    0% {\n",
              "      border-color: transparent;\n",
              "      border-bottom-color: var(--fill-color);\n",
              "      border-left-color: var(--fill-color);\n",
              "    }\n",
              "    20% {\n",
              "      border-color: transparent;\n",
              "      border-left-color: var(--fill-color);\n",
              "      border-top-color: var(--fill-color);\n",
              "    }\n",
              "    30% {\n",
              "      border-color: transparent;\n",
              "      border-left-color: var(--fill-color);\n",
              "      border-top-color: var(--fill-color);\n",
              "      border-right-color: var(--fill-color);\n",
              "    }\n",
              "    40% {\n",
              "      border-color: transparent;\n",
              "      border-right-color: var(--fill-color);\n",
              "      border-top-color: var(--fill-color);\n",
              "    }\n",
              "    60% {\n",
              "      border-color: transparent;\n",
              "      border-right-color: var(--fill-color);\n",
              "    }\n",
              "    80% {\n",
              "      border-color: transparent;\n",
              "      border-right-color: var(--fill-color);\n",
              "      border-bottom-color: var(--fill-color);\n",
              "    }\n",
              "    90% {\n",
              "      border-color: transparent;\n",
              "      border-bottom-color: var(--fill-color);\n",
              "    }\n",
              "  }\n",
              "</style>\n",
              "\n",
              "  <script>\n",
              "    async function quickchart(key) {\n",
              "      const quickchartButtonEl =\n",
              "        document.querySelector('#' + key + ' button');\n",
              "      quickchartButtonEl.disabled = true;  // To prevent multiple clicks.\n",
              "      quickchartButtonEl.classList.add('colab-df-spinner');\n",
              "      try {\n",
              "        const charts = await google.colab.kernel.invokeFunction(\n",
              "            'suggestCharts', [key], {});\n",
              "      } catch (error) {\n",
              "        console.error('Error during call to suggestCharts:', error);\n",
              "      }\n",
              "      quickchartButtonEl.classList.remove('colab-df-spinner');\n",
              "      quickchartButtonEl.classList.add('colab-df-quickchart-complete');\n",
              "    }\n",
              "    (() => {\n",
              "      let quickchartButtonEl =\n",
              "        document.querySelector('#df-90367e2e-4c64-4990-9937-8c964f4cdb41 button');\n",
              "      quickchartButtonEl.style.display =\n",
              "        google.colab.kernel.accessAllowed ? 'block' : 'none';\n",
              "    })();\n",
              "  </script>\n",
              "</div>\n",
              "    </div>\n",
              "  </div>\n"
            ]
          },
          "metadata": {},
          "execution_count": 6
        }
      ]
    },
    {
      "cell_type": "code",
      "source": [
        "# Import the packages\n",
        "from pypfopt import risk_models\n",
        "from pypfopt import expected_returns\n",
        "from pypfopt.efficient_frontier import EfficientFrontier\n",
        "\n",
        "# Calculate expected returns mu\n",
        "mu = expected_returns.mean_historical_return(stock_prices)\n",
        "\n",
        "# Calculate the covariance matrix S\n",
        "Sigma = risk_models.sample_cov(stock_prices)\n",
        "\n",
        "# Obtain the efficient frontier\n",
        "ef = EfficientFrontier(mu, Sigma)\n",
        "print (mu, Sigma)"
      ],
      "metadata": {
        "colab": {
          "base_uri": "https://localhost:8080/"
        },
        "id": "0WkRD2dG5RFY",
        "outputId": "db9d77e9-9d04-430a-bbb2-8146ab6b4feb"
      },
      "execution_count": 9,
      "outputs": [
        {
          "output_type": "stream",
          "name": "stdout",
          "text": [
            "GE     -0.175812\n",
            "JPM     0.185643\n",
            "MSFT    0.223083\n",
            "PG     -0.045684\n",
            "dtype: float64             GE       JPM      MSFT        PG\n",
            "GE    0.046355  0.023011  0.016415  0.010182\n",
            "JPM   0.023011  0.047033  0.024328  0.010899\n",
            "MSFT  0.016415  0.024328  0.054486  0.014257\n",
            "PG    0.010182  0.010899  0.014257  0.020810\n"
          ]
        }
      ]
    },
    {
      "cell_type": "markdown",
      "source": [
        "**PyPortfolioOpt risk functions**\n",
        "\n",
        "The objective of the Markowitz portfolio optimization problem is to minimize the portfolio variance, given a bunch of constraints. Do you remember how you calculate this from chapter 2? Portfolio variance = weights transposed * covariance matrix * weights. WithPyPortfolioOpt we call the covariance matrix sigma, to denote that this is a sample covariance\n",
        ".\n",
        "\n",
        "In this exercise you will see that thePyPortfolioOpt functions to calculate sigma, gives the exact same result if you were to calculate the covariance by hand. The same goes for the expected return calculations, you can also verifyPyPortfolioOpt gives the same output as calculating annualized daily returns by hand. Available are the stock_prices. Let's explore this a bit further…"
      ],
      "metadata": {
        "id": "qqJ7NuNq6TyL"
      }
    },
    {
      "cell_type": "code",
      "source": [
        "# Get the returns from the stock price data\n",
        "returns=stock_prices.pct_change()\n",
        "\n",
        "# Calculate the annualized covariance matrix\n",
        "covMatrix = returns.cov()*252\n",
        "\n",
        "# Calculate the covariance matrix Sigma from a`PyPortfolioOpt` function\n",
        "Sigma = risk_models.sample_cov(stock_prices)\n",
        "\n",
        "# Print both covariance matrices\n",
        "print (covMatrix, Sigma)"
      ],
      "metadata": {
        "colab": {
          "base_uri": "https://localhost:8080/"
        },
        "id": "4j8T-ixT5RPS",
        "outputId": "7fee1351-d05a-4677-c08b-f70697ae2066"
      },
      "execution_count": 10,
      "outputs": [
        {
          "output_type": "stream",
          "name": "stdout",
          "text": [
            "            GE       JPM      MSFT        PG\n",
            "GE    0.046355  0.023011  0.016415  0.010182\n",
            "JPM   0.023011  0.047033  0.024328  0.010899\n",
            "MSFT  0.016415  0.024328  0.054486  0.014257\n",
            "PG    0.010182  0.010899  0.014257  0.020810             GE       JPM      MSFT        PG\n",
            "GE    0.046355  0.023011  0.016415  0.010182\n",
            "JPM   0.023011  0.047033  0.024328  0.010899\n",
            "MSFT  0.016415  0.024328  0.054486  0.014257\n",
            "PG    0.010182  0.010899  0.014257  0.020810\n"
          ]
        }
      ]
    },
    {
      "cell_type": "markdown",
      "source": [
        "**Optimal portfolio performance**\n",
        "\n",
        "Let's now continue with the efficient frontier ef that you calculated in a previous exercise for the small portfolio. You still need to select an optimal portfolio from that efficient frontier ef, and check its performance. Let's use the efficient_return option. This function selects the portfolio with the minimized risk given a target return. A portfolio manager is often asked to manage a portfolio under certain risk and return constraints, so this is a very useful function for that.\n",
        "\n",
        "mu and Sigma are already calculated for you and ef is also available."
      ],
      "metadata": {
        "id": "BQR-wyff6jI8"
      }
    },
    {
      "cell_type": "code",
      "source": [
        "# Get the minimum risk portfolio for a target return\n",
        "weights = ef.efficient_return(0.2)\n",
        "print (weights)\n",
        "\n",
        "# Show portfolio performance\n",
        "ef.portfolio_performance(verbose=True)"
      ],
      "metadata": {
        "colab": {
          "base_uri": "https://localhost:8080/"
        },
        "id": "woU8XK1V6cPz",
        "outputId": "3a13fa73-08b2-4b96-9f0a-dbbdf045d1d3"
      },
      "execution_count": 11,
      "outputs": [
        {
          "output_type": "stream",
          "name": "stdout",
          "text": [
            "OrderedDict([('GE', 0.0), ('JPM', 0.4926529085352376), ('MSFT', 0.4900890447252643), ('PG', 0.017258046739498)])\n",
            "Expected annual return: 20.0%\n",
            "Annual volatility: 19.2%\n",
            "Sharpe Ratio: 0.94\n"
          ]
        },
        {
          "output_type": "execute_result",
          "data": {
            "text/plain": [
              "(0.19999999999999998, 0.19152666984849026, 0.9398168941296343)"
            ]
          },
          "metadata": {},
          "execution_count": 11
        }
      ]
    },
    {
      "cell_type": "markdown",
      "source": [
        "**Portfolio optimization: Max Sharpe**\n",
        "\n",
        "In this exercise, you're going to calculate the portfolio that gives the Maximum Sharpe ratio. Often, this is the portfolio the investor wants to invest in, as it provides the highest possible return to risk ratio.PyPortfolioOpt makes it very easy to calculate this portfolio from a set of historical price data.\n",
        "\n",
        "Available for you are the mean historic return for a small portfolio of stocks under mu and a covariance matrix belonging to our portfolio under Sigma. You'll need these as inputs to calculate the Efficient Frontier and Maximum Sharpe portfolio. Let's try it!"
      ],
      "metadata": {
        "id": "A9kKuZ1u-76M"
      }
    },
    {
      "cell_type": "code",
      "source": [
        "# Define the efficient frontier\n",
        "ef = EfficientFrontier(mu, Sigma)\n",
        "\n",
        "# Calculate weights for the maximum Sharpe ratio portfolio\n",
        "raw_weights_maxsharpe = ef.max_sharpe()\n",
        "cleaned_weights_maxsharpe = ef.clean_weights()\n",
        "print (raw_weights_maxsharpe, cleaned_weights_maxsharpe)"
      ],
      "metadata": {
        "colab": {
          "base_uri": "https://localhost:8080/"
        },
        "id": "xQzadfBY6shD",
        "outputId": "15cf59f3-8d95-45fe-b5cf-53036fc596ce"
      },
      "execution_count": 12,
      "outputs": [
        {
          "output_type": "stream",
          "name": "stdout",
          "text": [
            "OrderedDict([('GE', 0.0), ('JPM', 0.4251955192429594), ('MSFT', 0.5748044807570406), ('PG', 0.0)]) OrderedDict([('GE', 0.0), ('JPM', 0.4252), ('MSFT', 0.5748), ('PG', 0.0)])\n"
          ]
        }
      ]
    },
    {
      "cell_type": "markdown",
      "source": [
        "**Question:** Why are some of the weights in the Maximum Sharpe portfolio zero?\n",
        "\n",
        "**Answer:** Some of the expected returns of the stocks are negative. That does not necessarily exclude them from the Maximum Sharpe portfolio, but in this case, those negative stocks just lower returns without lowering the risk of the portfolio. That's why they are not of the optimal risk-return portfolio."
      ],
      "metadata": {
        "id": "1LOsyzME_D1c"
      }
    },
    {
      "cell_type": "markdown",
      "source": [
        "**Minimum volatility optimization**\n",
        "\n",
        "In this exercise, you're going to compare the minimum volatility and the Maximum Sharpe portfolios. As a portfolio manager you often want to understand how your chosen portfolio measures up to the minimum volatility portfolio. WithPyPortfolioOpt you can compare the two quickly, without having to write two different constrained optimization problems, which can be quite complex. Available for you is the efficient frontier from the previous exercise under ef. Let's give it a try!"
      ],
      "metadata": {
        "id": "jDA0xiX2_scG"
      }
    },
    {
      "cell_type": "code",
      "source": [
        "# Calculate expected returns mu\n",
        "mu = expected_returns.mean_historical_return(stock_prices)\n",
        "\n",
        "# Calculate the covariance matrix S\n",
        "Sigma = risk_models.sample_cov(stock_prices)\n",
        "\n",
        "# Obtain the efficient frontier\n",
        "ef = EfficientFrontier(mu, Sigma)\n",
        "\n",
        "# Calculate weights for the maximum Sharpe ratio portfolio\n",
        "raw_weights_maxsharpe = ef.max_sharpe()\n",
        "cleaned_weights_maxsharpe = ef.clean_weights()\n",
        "\n",
        "# Show portfolio performance\n",
        "print(cleaned_weights_maxsharpe)\n",
        "perf_max_sharpe = ef.portfolio_performance(verbose=True)\n",
        "perf_max_sharpe"
      ],
      "metadata": {
        "colab": {
          "base_uri": "https://localhost:8080/"
        },
        "id": "Lk5wa-WJ--T-",
        "outputId": "8c3065df-7872-4346-ec7a-0d88100f7e84"
      },
      "execution_count": 18,
      "outputs": [
        {
          "output_type": "stream",
          "name": "stdout",
          "text": [
            "OrderedDict([('GE', 0.0), ('JPM', 0.4252), ('MSFT', 0.5748), ('PG', 0.0)])\n",
            "Expected annual return: 20.7%\n",
            "Annual volatility: 19.6%\n",
            "Sharpe Ratio: 0.96\n"
          ]
        },
        {
          "output_type": "execute_result",
          "data": {
            "text/plain": [
              "(0.20716402573897588, 0.1959516973774276, 0.9551538886569299)"
            ]
          },
          "metadata": {},
          "execution_count": 18
        }
      ]
    },
    {
      "cell_type": "code",
      "source": [
        "# Adding constraints to an already solved problem might have\n",
        "# unintended consequences. A new instance should be created\n",
        "# for the new set of constraints.\n",
        "\n",
        "# Calculate expected returns mu\n",
        "mu = expected_returns.mean_historical_return(stock_prices)\n",
        "\n",
        "# Calculate the covariance matrix S\n",
        "Sigma = risk_models.sample_cov(stock_prices)\n",
        "\n",
        "# Obtain the efficient frontier\n",
        "ef = EfficientFrontier(mu, Sigma)\n",
        "\n",
        "# Calculate weights for the minimum volatility portfolio\n",
        "raw_weights_minvol = ef.min_volatility()\n",
        "cleaned_weights_minvol = ef.clean_weights()\n",
        "\n",
        "# Show portfolio performance\n",
        "print(cleaned_weights_minvol)\n",
        "perf_min_volatility = ef.portfolio_performance(verbose=True)\n",
        "perf_min_volatility"
      ],
      "metadata": {
        "colab": {
          "base_uri": "https://localhost:8080/"
        },
        "id": "v2iCP7ZG_v2t",
        "outputId": "f9048d05-7541-43a3-d7c5-d37e9a54e55d"
      },
      "execution_count": 19,
      "outputs": [
        {
          "output_type": "stream",
          "name": "stdout",
          "text": [
            "OrderedDict([('GE', 0.15732), ('JPM', 0.11714), ('MSFT', 0.04704), ('PG', 0.6785)])\n",
            "Expected annual return: -2.6%\n",
            "Annual volatility: 13.3%\n",
            "Sharpe Ratio: -0.35\n"
          ]
        },
        {
          "output_type": "execute_result",
          "data": {
            "text/plain": [
              "(-0.026415861751657263, 0.13292386607830184, -0.3491913312566078)"
            ]
          },
          "metadata": {},
          "execution_count": 19
        }
      ]
    },
    {
      "cell_type": "markdown",
      "source": [
        "**Comparing max Sharpe to min vol**\n",
        "\n",
        "In this exercise let's have a closer look at the weights and performance of the Maximum Sharpe and minimum volatility portfolios, and compare them. This exercise will help you understand the characteristics of these two different portfolios. Available are cleaned_weights_minvol, cleaned_weights_maxsharpe, perf_min_volatility, and perf_max_sharpe."
      ],
      "metadata": {
        "id": "RjMj_HtTAR5O"
      }
    },
    {
      "cell_type": "code",
      "source": [
        "# Print min vol and max sharpe results\n",
        "print(cleaned_weights_minvol,cleaned_weights_maxsharpe,perf_min_volatility,perf_max_sharpe, sep=\"\\n\")"
      ],
      "metadata": {
        "colab": {
          "base_uri": "https://localhost:8080/"
        },
        "id": "93tWinPD_56J",
        "outputId": "3c8b0364-847c-4ebe-e364-c7c2b613f103"
      },
      "execution_count": 20,
      "outputs": [
        {
          "output_type": "stream",
          "name": "stdout",
          "text": [
            "OrderedDict([('GE', 0.15732), ('JPM', 0.11714), ('MSFT', 0.04704), ('PG', 0.6785)])\n",
            "OrderedDict([('GE', 0.0), ('JPM', 0.4252), ('MSFT', 0.5748), ('PG', 0.0)])\n",
            "(-0.026415861751657263, 0.13292386607830184, -0.3491913312566078)\n",
            "(0.20716402573897588, 0.1959516973774276, 0.9551538886569299)\n"
          ]
        }
      ]
    },
    {
      "cell_type": "markdown",
      "source": [
        "**Question:** Which statement correctly describes the difference between the maximum Sharpe portfolio and the minimum volatility portfolio you calculated in the previous exercises?\n",
        "\n",
        "**Answer:** The min volatility portfolio has a lower performance but lower risk, since all stocks have a positive weight in the min vol portfolio and some stocks have a negative expected return."
      ],
      "metadata": {
        "id": "E8GfYoh0AuWv"
      }
    },
    {
      "cell_type": "markdown",
      "source": [
        "**Exponentially weighted returns and risk**\n",
        "\n",
        "In this exercise, you're going to perform portfolio optimization with a slightly different way of estimating risk and returns; you're going to give more weight to recent data in the optimization.\n",
        "\n",
        "This is a smart way to deal with stock data that is typically non-stationary, i.e., when the distribution changes over time. Implementation can be quickly done by changing the risk model you use to calculate Sigma, and the returns calculation you use to get mu. The stock prices dataset is available as stock_prices. Let's try!"
      ],
      "metadata": {
        "id": "jwx7R25RDdhG"
      }
    },
    {
      "cell_type": "code",
      "source": [
        "# Define exponentially weightedSigma and mu using stock_prices\n",
        "Sigma = risk_models.exp_cov(stock_prices, span=180, frequency=252)\n",
        "mu = expected_returns.ema_historical_return(stock_prices, frequency=252, span=180)\n",
        "\n",
        "# Calculate the efficient frontier\n",
        "ef = EfficientFrontier(mu, Sigma)\n",
        "\n",
        "# Calculate weights for the maximum sharpe ratio optimization\n",
        "raw_weights_maxsharpe = ef.max_sharpe()\n",
        "\n",
        "# Show portfolio performance\n",
        "ef.portfolio_performance(verbose=True)"
      ],
      "metadata": {
        "colab": {
          "base_uri": "https://localhost:8080/"
        },
        "id": "Q8ilGE6dAVeH",
        "outputId": "3db4b96c-dc47-43ec-9fa1-eee5f9e3b419"
      },
      "execution_count": 36,
      "outputs": [
        {
          "output_type": "stream",
          "name": "stdout",
          "text": [
            "Expected annual return: 27.1%\n",
            "Annual volatility: 24.4%\n",
            "Sharpe Ratio: 1.03\n"
          ]
        },
        {
          "output_type": "execute_result",
          "data": {
            "text/plain": [
              "(0.27060086764443547, 0.24440611989379227, 1.0253461237113668)"
            ]
          },
          "metadata": {},
          "execution_count": 36
        }
      ]
    },
    {
      "cell_type": "markdown",
      "source": [
        "**Comparing approaches**\n",
        "\n",
        "In this exercise, you're going to investigate whether the maximum Sharpe portfolios differ when you are using the normal historic expected risk and returns, and when using the exponentially weighted risk and returns. You saw during the video that the exponentially weighted volatility follows the real volatility much closer, but do you actually see a big difference in the portfolio weights when using one, or the other? That's what you'll find out.\n",
        "\n",
        "The exponentially weighted risk and return have been calculated using a span of 252 trading days, so it looks back through a maximum period of a year. Available for you are: cleaned_weights_maxsharpe, perf_max_sharpe, cleaned_weights_maxsharpe_EW, perf_max_sharpe_EW. The _EW part stands for exponentially weighted."
      ],
      "metadata": {
        "id": "BpSkkbJwDquV"
      }
    },
    {
      "cell_type": "code",
      "source": [
        "# Define exponentially weightedSigma and mu using stock_prices\n",
        "Sigma = risk_models.exp_cov(stock_prices, span=252, frequency=252)\n",
        "mu = expected_returns.ema_historical_return(stock_prices, frequency=252, span=252)\n",
        "\n",
        "# Calculate the efficient frontier\n",
        "ef_2 = EfficientFrontier(mu, Sigma)\n",
        "\n",
        "# Calculate weights for the maximum sharpe ratio optimization\n",
        "raw_weights_maxsharpe = ef_2.max_sharpe()\n",
        "cleaned_weights_maxsharpe_EW = ef_2.clean_weights()\n",
        "\n",
        "# Show portfolio performance\n",
        "perf_max_sharpe_EW = ef_2.portfolio_performance(verbose=True)\n",
        "perf_max_sharpe_EW"
      ],
      "metadata": {
        "colab": {
          "base_uri": "https://localhost:8080/"
        },
        "id": "2nC6CsrbEc29",
        "outputId": "4937eca4-7ab8-4947-9f50-dbf45b6afd4c"
      },
      "execution_count": 40,
      "outputs": [
        {
          "output_type": "stream",
          "name": "stdout",
          "text": [
            "Expected annual return: 29.0%\n",
            "Annual volatility: 20.6%\n",
            "Sharpe Ratio: 1.31\n"
          ]
        },
        {
          "output_type": "execute_result",
          "data": {
            "text/plain": [
              "(0.2895438012913622, 0.20602625377451866, 1.3082983180694974)"
            ]
          },
          "metadata": {},
          "execution_count": 40
        }
      ]
    },
    {
      "cell_type": "code",
      "source": [
        "# Print the weights of both portfolios types\n",
        "print(cleaned_weights_maxsharpe, cleaned_weights_maxsharpe_EW, sep=\"\\n\")"
      ],
      "metadata": {
        "colab": {
          "base_uri": "https://localhost:8080/"
        },
        "id": "YhCKAbOlDcfh",
        "outputId": "751f6b19-b69a-4661-df9c-0b96e79c9743"
      },
      "execution_count": 41,
      "outputs": [
        {
          "output_type": "stream",
          "name": "stdout",
          "text": [
            "OrderedDict([('GE', 0.0), ('JPM', 0.4252), ('MSFT', 0.5748), ('PG', 0.0)])\n",
            "OrderedDict([('GE', 0.0), ('JPM', 0.34629), ('MSFT', 0.65371), ('PG', 0.0)])\n"
          ]
        }
      ]
    },
    {
      "cell_type": "code",
      "source": [
        "# Calculate expected returns mu\n",
        "mu = expected_returns.mean_historical_return(stock_prices)\n",
        "# Calculate the covariance matrix S\n",
        "Sigma = risk_models.sample_cov(stock_prices)\n",
        "# Obtain the efficient frontier\n",
        "ef_1 = EfficientFrontier(mu, Sigma)\n",
        "raw_weights_maxsharpe = ef_1.max_sharpe()"
      ],
      "metadata": {
        "id": "NB1gtxhUFmAo"
      },
      "execution_count": 48,
      "outputs": []
    },
    {
      "cell_type": "code",
      "source": [
        "# Print the performance of both portfolios types\n",
        "perf_max_sharpe = ef_1.portfolio_performance(verbose=True)\n",
        "perf_max_sharpe_EW = ef_2.portfolio_performance(verbose=True)"
      ],
      "metadata": {
        "colab": {
          "base_uri": "https://localhost:8080/"
        },
        "id": "uDQI18suDu5C",
        "outputId": "8dfdf3c3-d56d-449a-9739-eb8c67d55f6d"
      },
      "execution_count": 49,
      "outputs": [
        {
          "output_type": "stream",
          "name": "stdout",
          "text": [
            "Expected annual return: 20.7%\n",
            "Annual volatility: 19.6%\n",
            "Sharpe Ratio: 0.96\n",
            "Expected annual return: 29.0%\n",
            "Annual volatility: 20.6%\n",
            "Sharpe Ratio: 1.31\n"
          ]
        }
      ]
    },
    {
      "cell_type": "markdown",
      "source": [
        "**Question:** What could be a reason why the two portfolios are actually not that different to each other?\n",
        "\n",
        "**Answer:**\n",
        "- The span of 252 is pretty long relative the full dataset, which means both are calculated  with largerly the same data input.\n",
        "- The trends in the data are relatively persistent: that's why weights for example GE and PG are zero for both portfolios, and both portfolios only invest in JPM and MSFT."
      ],
      "metadata": {
        "id": "8CDnL9EYGJQ1"
      }
    },
    {
      "cell_type": "markdown",
      "source": [
        "**Changing the span**\n",
        "\n",
        "At the last exercise you discovered that the span of the exponentially weighted risk and return can have an impact on what the optimal portfolio looks like. In fact, the span has a very big influence! By setting the span, you can either use data for say only the most recent days, or use data from the most recent years. In the limit, when the span is as long as the full sample, it will be equal to using the normal historic mean.\n",
        "\n",
        "Now let's get a feel for how a short and long span changes your optimal portfolio. Available is the stock_prices data."
      ],
      "metadata": {
        "id": "GZ1fnoFnG2pn"
      }
    },
    {
      "cell_type": "code",
      "source": [
        "# Calculate expected returns and sample covariance\n",
        "mu_ema = expected_returns.ema_historical_return(stock_prices, span=504 ,frequency=252)\n",
        "Sigma_ew = risk_models.exp_cov(stock_prices, span=504, frequency=252)\n",
        "ef_2 = EfficientFrontier(mu_ema, Sigma_ew)\n",
        "\n",
        "# Calculate weights for the maximum Sharpe ratio portfolio\n",
        "weights = ef_2.max_sharpe()\n",
        "cleaned_weights_maxsharpe_EW = ef_2.clean_weights()\n",
        "perf_max_sharpe_EW = ef_2.portfolio_performance(verbose=True)"
      ],
      "metadata": {
        "colab": {
          "base_uri": "https://localhost:8080/"
        },
        "id": "XreNopT8GI-U",
        "outputId": "609b3e7d-4d2d-4af2-da53-355e7479d43d"
      },
      "execution_count": 50,
      "outputs": [
        {
          "output_type": "stream",
          "name": "stdout",
          "text": [
            "Expected annual return: 30.3%\n",
            "Annual volatility: 18.5%\n",
            "Sharpe Ratio: 1.53\n"
          ]
        }
      ]
    },
    {
      "cell_type": "code",
      "source": [
        "# Calculate expected returns and sample covariance\n",
        "mu_ema = expected_returns.ema_historical_return(stock_prices, span=10 ,frequency=252)\n",
        "Sigma_ew = risk_models.exp_cov(stock_prices, span=10, frequency=252)\n",
        "ef_2 = EfficientFrontier(mu_ema, Sigma_ew)\n",
        "\n",
        "# Calculate weights for the maximum Sharpe ratio portfolio\n",
        "weights = ef_2.max_sharpe()\n",
        "cleaned_weights_maxsharpe_EW = ef_2.clean_weights()\n",
        "perf_max_sharpe_EW = ef_2.portfolio_performance(verbose=True)"
      ],
      "metadata": {
        "colab": {
          "base_uri": "https://localhost:8080/"
        },
        "id": "jtg5bu8nEwx6",
        "outputId": "671382c4-d4dd-4aba-ad15-621aea3dceb4"
      },
      "execution_count": 51,
      "outputs": [
        {
          "output_type": "stream",
          "name": "stdout",
          "text": [
            "Expected annual return: 12.8%\n",
            "Annual volatility: 17.0%\n",
            "Sharpe Ratio: 0.63\n"
          ]
        }
      ]
    },
    {
      "cell_type": "code",
      "source": [
        "import matplotlib.pyplot as plt\n",
        "from pypfopt import plotting\n",
        "\n",
        "fig, ax = plt.subplots()\n",
        "mu_ema = expected_returns.ema_historical_return(stock_prices, span=10 ,frequency=252)\n",
        "Sigma_ew = risk_models.exp_cov(stock_prices, span=10, frequency=252)\n",
        "ef_2 = EfficientFrontier(mu_ema, Sigma_ew)\n",
        "plotting.plot_efficient_frontier(ef_2, ax=ax, show_assets=True)\n",
        "plt.show()"
      ],
      "metadata": {
        "colab": {
          "base_uri": "https://localhost:8080/",
          "height": 487
        },
        "id": "aXc-3sSsG73m",
        "outputId": "8281b077-f423-4d7e-a577-de9332bc0da9"
      },
      "execution_count": 55,
      "outputs": [
        {
          "output_type": "display_data",
          "data": {
            "text/plain": [
              "<Figure size 640x480 with 1 Axes>"
            ],
            "image/png": "[encoded data removed]"
          },
          "metadata": {}
        }
      ]
    },
    {
      "cell_type": "code",
      "source": [
        "mu_ema = expected_returns.ema_historical_return(stock_prices, span=504 ,frequency=252)\n",
        "Sigma_ew = risk_models.exp_cov(stock_prices, span=504, frequency=252)\n",
        "ef_2 = EfficientFrontier(mu_ema, Sigma_ew)\n",
        "\n",
        "fig, ax = plt.subplots()\n",
        "plotting.plot_efficient_frontier(ef_2, ax=ax, show_assets=True)\n",
        "plt.show()"
      ],
      "metadata": {
        "colab": {
          "base_uri": "https://localhost:8080/",
          "height": 487
        },
        "id": "m2rFwiVkIig1",
        "outputId": "5130e69a-68d3-4323-fbdc-5927f86cf19d"
      },
      "execution_count": 56,
      "outputs": [
        {
          "output_type": "display_data",
          "data": {
            "text/plain": [
              "<Figure size 640x480 with 1 Axes>"
            ],
            "image/png": "[encoded data removed]"
          },
          "metadata": {}
        }
      ]
    },
    {
      "cell_type": "markdown",
      "source": [
        "**Using downside risk in the optimizatio**\n",
        "\n",
        "PyPortfolioOpt allows you to use semicovariance in the optimization (measure for downside risk)\n",
        "\n",
        "https://pyportfolioopt.readthedocs.io/en/latest/RiskModels.html"
      ],
      "metadata": {
        "id": "imlPojd-JfH1"
      }
    },
    {
      "cell_type": "code",
      "source": [
        "mu_ema = expected_returns.ema_historical_return(stock_prices, span=252,frequency=252)\n",
        "Sigma_ew = risk_models.semicovariance(stock_prices, span=252, frequency=252)\n",
        "ef = EfficientFrontier(mu_ema, Sigma_ew)\n",
        "\n",
        "weights = ef.max_sharpe()\n",
        "cleaned_weights_maxsharpe_EW = ef.clean_weights()\n",
        "perf_max_sharpe_EW = ef.portfolio_performance(verbose=True)"
      ],
      "metadata": {
        "colab": {
          "base_uri": "https://localhost:8080/"
        },
        "id": "sH_FUZloIopr",
        "outputId": "b91751de-44f2-4e22-e668-0623fc5beac4"
      },
      "execution_count": 61,
      "outputs": [
        {
          "output_type": "stream",
          "name": "stdout",
          "text": [
            "Expected annual return: 30.6%\n",
            "Annual volatility: 14.5%\n",
            "Sharpe Ratio: 1.98\n"
          ]
        }
      ]
    },
    {
      "cell_type": "code",
      "source": [
        "mu_ema = expected_returns.ema_historical_return(stock_prices, span=252,frequency=252)\n",
        "Sigma_ew = risk_models.semicovariance(stock_prices, span=252, frequency=252)\n",
        "ef = EfficientFrontier(mu_ema, Sigma_ew)\n",
        "\n",
        "fig, ax = plt.subplots()\n",
        "plotting.plot_efficient_frontier(ef, ax=ax, show_assets=True)\n",
        "plt.show()"
      ],
      "metadata": {
        "colab": {
          "base_uri": "https://localhost:8080/",
          "height": 487
        },
        "id": "4HUlbQldJ7VF",
        "outputId": "5eff0652-c876-4618-8afc-438b407a51aa"
      },
      "execution_count": 63,
      "outputs": [
        {
          "output_type": "display_data",
          "data": {
            "text/plain": [
              "<Figure size 640x480 with 1 Axes>"
            ],
            "image/png": "[encoded data removed]"
          },
          "metadata": {}
        }
      ]
    }
  ]
}