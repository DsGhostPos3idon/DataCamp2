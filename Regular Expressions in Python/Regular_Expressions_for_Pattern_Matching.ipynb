{
  "nbformat": 4,
  "nbformat_minor": 0,
  "metadata": {
    "colab": {
      "name": "Regular Expressions for Pattern Matching.ipynb",
      "provenance": [],
      "collapsed_sections": []
    },
    "kernelspec": {
      "name": "python3",
      "display_name": "Python 3"
    },
    "language_info": {
      "name": "python"
    }
  },
  "cells": [
    {
      "cell_type": "markdown",
      "source": [
        "#**Are they bots?**\n",
        "The company that you are working for asked you to perform a sentiment analysis using a dataset with tweets. First of all, you need to do some cleaning and extract some information.\n",
        "While printing out some text, you realize that some tweets contain user mentions. Some of these mentions follow a very strange pattern. A few examples that you notice: @robot3!, @robot5& and @robot7#\n",
        "\n",
        "To analyze if those users are bots, you will do a proof of concept with one tweet and extract them using the .findall() method.\n",
        "\n",
        "You write down some helpful metacharacters to help you later:\n",
        "\n",
        "* \\d: digit\n",
        "* \\w: word character\n",
        "* \\W: non-word character\n",
        "* \\s: whitespace\n",
        "\n",
        "The text of one tweet was saved in the variable sentiment_analysis."
      ],
      "metadata": {
        "id": "Xa91EsZadKzz"
      }
    },
    {
      "cell_type": "code",
      "execution_count": 1,
      "metadata": {
        "id": "MAOSN__pdJSG"
      },
      "outputs": [],
      "source": [
        "sentiment_analysis = '@robot9! @robot4& I have a good feeling that the show isgoing to be amazing! @robot9$ @robot7%'"
      ]
    },
    {
      "cell_type": "code",
      "source": [
        "# Import the re module\n",
        "import re\n",
        "\n",
        "# Write the regex\n",
        "sentiment_analysis = '@robot9! @robot4& I have a good feeling that the show isgoing to be amazing! @robot9$ @robot7%'\n",
        "regex = r\"@robot\\d\\W\"\n",
        "\n",
        "# Find all matches of regex\n",
        "print(re.findall(regex, sentiment_analysis))"
      ],
      "metadata": {
        "colab": {
          "base_uri": "https://localhost:8080/"
        },
        "id": "okxedxnGAKvv",
        "outputId": "360ba54f-27bd-4615-8aa2-c5f153480b7b"
      },
      "execution_count": 2,
      "outputs": [
        {
          "output_type": "stream",
          "name": "stdout",
          "text": [
            "['@robot9!', '@robot4&', '@robot9$', '@robot7%']\n"
          ]
        }
      ]
    },
    {
      "cell_type": "markdown",
      "source": [
        "#**Find the numbers**\n",
        "While examining the tweet text in your dataset, you detect that some tweets carry more information. The text contains the number of retweets, user mentions, and likes. You decide to extract this important information that is given as in this example:\n",
        "\n",
        "Agh,snow! User_mentions:9, likes: 5, number of retweets: 4\n",
        "\n",
        "You pull a list of metacharacters:\\d digit,\\w word character,\\s whitespace.\n",
        "\n",
        "Always indicate whitespace with metacharacters."
      ],
      "metadata": {
        "id": "IJhE18AUASN6"
      }
    },
    {
      "cell_type": "code",
      "source": [
        "sentiment_analysis = \"Unfortunately one of those moments wasn't a giant squid monster. User_mentions:2, likes: 9, number of retweets: 7\""
      ],
      "metadata": {
        "id": "RpUWIiYYANdu"
      },
      "execution_count": 3,
      "outputs": []
    },
    {
      "cell_type": "code",
      "source": [
        "# Write a regex to obtain user mentions\n",
        "sentiment_analysis = \"Unfortunately one of those moments wasn't a giant squid monster. User_mentions:2, likes: 9, number of retweets: 7\"\n",
        "print(re.findall(r\"User_mentions:\\d\", sentiment_analysis))"
      ],
      "metadata": {
        "colab": {
          "base_uri": "https://localhost:8080/"
        },
        "id": "ik4nVE68AWzn",
        "outputId": "ecb6cac9-a36a-4c77-bd83-b75aa5a8b164"
      },
      "execution_count": 4,
      "outputs": [
        {
          "output_type": "stream",
          "name": "stdout",
          "text": [
            "['User_mentions:2']\n"
          ]
        }
      ]
    },
    {
      "cell_type": "code",
      "source": [
        "# Write a regex to obtain number of likes\n",
        "print(re.findall(r\"likes:\\s\\d\", sentiment_analysis))"
      ],
      "metadata": {
        "colab": {
          "base_uri": "https://localhost:8080/"
        },
        "id": "C0gtfnenAcY_",
        "outputId": "008c455d-0753-4639-d31b-e205ee87949d"
      },
      "execution_count": 5,
      "outputs": [
        {
          "output_type": "stream",
          "name": "stdout",
          "text": [
            "['likes: 9']\n"
          ]
        }
      ]
    },
    {
      "cell_type": "code",
      "source": [
        "# Write a regex to obtain number of retweets\n",
        "print(re.findall(r\"number\\sof\\sretweets:\\s\\d\", sentiment_analysis))"
      ],
      "metadata": {
        "colab": {
          "base_uri": "https://localhost:8080/"
        },
        "id": "_W2YqtMWAep8",
        "outputId": "7793acba-12f6-4bab-9dfb-7f9487355223"
      },
      "execution_count": 6,
      "outputs": [
        {
          "output_type": "stream",
          "name": "stdout",
          "text": [
            "['number of retweets: 7']\n"
          ]
        }
      ]
    },
    {
      "cell_type": "markdown",
      "source": [
        "#**Match and split**\n",
        "Some of the tweets in your dataset were downloaded incorrectly. Instead of having spaces to separate words, they have strange characters. You decide to use regular expressions to handle this situation. You print some of these tweets to understand which pattern you need to match.\n",
        "\n",
        "You notice that the sentences are always separated by a special character, followed by a number, the word break, and after that, another special character, e.g &4break!. The words are always separated by a special character, the word new, and a normal random character, e.g #newH."
      ],
      "metadata": {
        "id": "cELPw5nRAkxn"
      }
    },
    {
      "cell_type": "code",
      "source": [
        "# Write a regex to match pattern separating sentences\n",
        "sentiment_analysis = 'He#newHis%newTin love with$newPscrappy. #8break%He is&newYmissing him@newLalready'"
      ],
      "metadata": {
        "id": "SebsUZmuAg8t"
      },
      "execution_count": 10,
      "outputs": []
    },
    {
      "cell_type": "code",
      "source": [
        "# Write a regex to match pattern separating sentences\n",
        "regex_sentence = r\"\\W\\dbreak\\W\"\n",
        "\n",
        "# Replace the regex_sentence with a space\n",
        "sentiment_sub = re.sub(regex_sentence, \" \", sentiment_analysis)\n",
        "\n",
        "# Write a regex to match pattern separating words\n",
        "regex_words = r\"\\Wnew\\w\"\n",
        "\n",
        "# Replace the regex_words and print the result\n",
        "sentiment_final = re.sub(regex_words, \" \", sentiment_sub)\n",
        "print(sentiment_final)"
      ],
      "metadata": {
        "colab": {
          "base_uri": "https://localhost:8080/"
        },
        "id": "iRsNXDmiAsfq",
        "outputId": "1e4aa8d9-43fe-457e-d7af-47a6323c3bcc"
      },
      "execution_count": 11,
      "outputs": [
        {
          "output_type": "stream",
          "name": "stdout",
          "text": [
            "He is in love with scrappy.  He is missing him already\n"
          ]
        }
      ]
    },
    {
      "cell_type": "markdown",
      "source": [
        "#**Everything clean**\n",
        "Back to your Twitter sentiment analysis project! There are several types of strings that increase your sentiment analysis complexity. But these strings do not provide any useful sentiment. Among them, we can have links and user mentions.\n",
        "\n",
        "In order to clean the tweets, you want to extract some examples first. You know that most of the times links start with http and do not contain any whitespace, e.g. https://www.datacamp.com. User mentions start with @ and can have letters and numbers only, e.g. @johnsmith3.\n",
        "\n",
        "You write down some helpful quantifiers to help you: * zero or more times, + once or more, ? zero or once."
      ],
      "metadata": {
        "id": "FlgcBLe4A1Uz"
      }
    },
    {
      "cell_type": "code",
      "source": [
        "sentiment_analysis = [\n",
        "                      'Boredd. Colddd @blueKnight39 Internet keeps stuffing up. Save me! https://www.tellyourstory.com',\n",
        "                      \"I had a horrible nightmare last night @anitaLopez98 @MyredHat31 which affected my sleep, now I'm really tired\",\n",
        "                      'im lonely  keep me company @YourBestCompany! @foxRadio https://radio.foxnews.com 22 female, new york'\n",
        "]"
      ],
      "metadata": {
        "id": "GXBvw1IVA-19"
      },
      "execution_count": 12,
      "outputs": []
    },
    {
      "cell_type": "code",
      "source": [
        "# Import re module\n",
        "import re\n",
        "\n",
        "for tweet in sentiment_analysis:\n",
        "\t# Write regex to match http links and print out result\n",
        "\tprint(re.findall(r\"https://\\S+\", tweet))\n",
        "\n",
        "\t# Write regex to match user mentions and print out result\n",
        "\tprint(re.findall(r\"@\\w+\", tweet))"
      ],
      "metadata": {
        "colab": {
          "base_uri": "https://localhost:8080/"
        },
        "id": "K2Ls2ByZA0UM",
        "outputId": "6fe98784-c3cd-4381-de17-c2036c301d73"
      },
      "execution_count": 13,
      "outputs": [
        {
          "output_type": "stream",
          "name": "stdout",
          "text": [
            "['https://www.tellyourstory.com']\n",
            "['@blueKnight39']\n",
            "[]\n",
            "['@anitaLopez98', '@MyredHat31']\n",
            "['https://radio.foxnews.com']\n",
            "['@YourBestCompany', '@foxRadio']\n"
          ]
        }
      ]
    },
    {
      "cell_type": "markdown",
      "source": [
        "#**Some time ago**\n",
        "You are interested in knowing when the tweets were posted. After reading a little bit more, you learn that dates are provided in different ways. You decide to extract the dates using .findall() so you can normalize them afterwards to make them all look the same.\n",
        "\n",
        "You realize that the dates are always presented in one of the following ways:\n",
        "\n",
        "27 minutes ago\n",
        "\n",
        "4 hours ago\n",
        "\n",
        "23rd june 2018\n",
        "\n",
        "1st september 2019 17:25"
      ],
      "metadata": {
        "id": "AwZrgfPPBcXj"
      }
    },
    {
      "cell_type": "code",
      "source": [
        "sentiment_analysis = [\n",
        "                     'I would like to apologize for the repeated Video Games Live related tweets. 32 minutes ago',\n",
        "                      '@zaydia but i cant figure out how to get there / back / pay for a hotel 1st May 2019',\n",
        "                      'FML: So much for seniority, bc of technological ineptness 23rd June 2018 17:54'\n",
        "]"
      ],
      "metadata": {
        "id": "NKtoyEmqBt-D"
      },
      "execution_count": 14,
      "outputs": []
    },
    {
      "cell_type": "code",
      "source": [
        "#Complete the for-loop with a regex that finds all dates in a format similar to 27 minutes ago or 4 hours ago.\n",
        "\n",
        "# Complete the for loop with a regex to find dates\n",
        "for date in sentiment_analysis:\n",
        "\tprint(re.findall(r\"\\d{1,2}\\s\\w+\\s\\w+\", date))"
      ],
      "metadata": {
        "colab": {
          "base_uri": "https://localhost:8080/"
        },
        "id": "lI8opBkLBcjd",
        "outputId": "44e58494-a7b1-4f4d-8146-48b0ee1ae594"
      },
      "execution_count": 15,
      "outputs": [
        {
          "output_type": "stream",
          "name": "stdout",
          "text": [
            "['32 minutes ago']\n",
            "[]\n",
            "[]\n"
          ]
        }
      ]
    },
    {
      "cell_type": "code",
      "source": [
        "#Complete the for-loop with a regex that finds all dates in a format similar to 23rd june 2018.\n",
        "\n",
        "# Complete the for loop with a regex to find dates\n",
        "for date in sentiment_analysis:\n",
        "\tprint(re.findall(r\"\\d{1,2}\\w+\\s\\w+\\s\\d{4}\", date))"
      ],
      "metadata": {
        "colab": {
          "base_uri": "https://localhost:8080/"
        },
        "id": "UG7YmESrBYOH",
        "outputId": "5239f844-7ea4-4e35-83ae-8950e70ec637"
      },
      "execution_count": 16,
      "outputs": [
        {
          "output_type": "stream",
          "name": "stdout",
          "text": [
            "[]\n",
            "['1st May 2019']\n",
            "['23rd June 2018']\n"
          ]
        }
      ]
    },
    {
      "cell_type": "code",
      "source": [
        "#Complete the for-loop with a regex that finds all dates in a format similar to 1st september 2019 17:25.\n",
        "\n",
        "# Complete the for loop with a regex to find dates\n",
        "for date in sentiment_analysis:\n",
        "\tprint(re.findall(r\"\\d{1,2}\\w+\\s\\w+\\s\\d{4}\\s\\d{2}:\\d{1,2}\", date))"
      ],
      "metadata": {
        "colab": {
          "base_uri": "https://localhost:8080/"
        },
        "id": "X5as0dGJBpFw",
        "outputId": "e2b76cbb-db75-4325-c937-0de4299425bb"
      },
      "execution_count": 17,
      "outputs": [
        {
          "output_type": "stream",
          "name": "stdout",
          "text": [
            "[]\n",
            "[]\n",
            "['23rd June 2018 17:54']\n"
          ]
        }
      ]
    },
    {
      "cell_type": "markdown",
      "source": [
        "#**Getting tokens**\n",
        "Your next step is to tokenize the text of your tweets. Tokenization is the process of breaking a string into lexical units or, in simpler terms, words. But first, you need to remove hashtags so they do not cloud your process. You realize that hashtags start with a # symbol and contain letters and numbers but never whitespace. After that, you plan to split the text at whitespace matches to get the tokens.\n",
        "\n",
        "You bring your list of quantifiers to help you: * zero or more times, + once or more, ? zero or once, {n, m} minimum n, maximum m."
      ],
      "metadata": {
        "id": "iPq8zTEICI7Z"
      }
    },
    {
      "cell_type": "code",
      "source": [
        "sentiment_analysis = 'ITS NOT ENOUGH TO SAY THAT IMISS U #MissYou #SoMuch #Friendship #Forever'"
      ],
      "metadata": {
        "id": "nYZY5223CRHe"
      },
      "execution_count": 18,
      "outputs": []
    },
    {
      "cell_type": "code",
      "source": [
        "# Write a regex matching the hashtag pattern\n",
        "regex = r\"#\\w+\"\n",
        "\n",
        "# Replace the regex by an empty string\n",
        "no_hashtag = re.sub(regex, \"\", sentiment_analysis)\n",
        "\n",
        "# Get tokens by splitting text\n",
        "print(re.split(r\"\\s+\", no_hashtag))"
      ],
      "metadata": {
        "colab": {
          "base_uri": "https://localhost:8080/"
        },
        "id": "f_8HJNc6CDGU",
        "outputId": "bcbc7e76-42bf-4149-81c4-a91d8ed3235b"
      },
      "execution_count": 19,
      "outputs": [
        {
          "output_type": "stream",
          "name": "stdout",
          "text": [
            "['ITS', 'NOT', 'ENOUGH', 'TO', 'SAY', 'THAT', 'IMISS', 'U', '']\n"
          ]
        }
      ]
    },
    {
      "cell_type": "markdown",
      "source": [
        "#**Finding files**\n",
        "You are not satisfied with your tweets dataset cleaning. There are still extra strings that do not provide any sentiment. Among them are strings that refer to text file names.\n",
        "\n",
        "You also find a way to detect them:\n",
        "\n",
        "* They appear at the start of the string.\n",
        "* They always start with a sequence of 2 or 3 upper or lowercase vowels (a e i o u).\n",
        "* They always finish with the txt ending.\n",
        "\n",
        "You are not sure if you should remove them directly. So you write a script to find and store them in a separate dataset.\n",
        "\n",
        "You write down some metacharacters to help you: ^ anchor to beginning, . any character."
      ],
      "metadata": {
        "id": "cxchRiowCXnv"
      }
    },
    {
      "cell_type": "code",
      "source": [
        ""
      ],
      "metadata": {
        "id": "JgwaXTp-CWwG"
      },
      "execution_count": null,
      "outputs": []
    },
    {
      "cell_type": "code",
      "source": [
        "sentiment_analysis = [\n",
        "                      'AIshadowhunters.txt aaaaand back to my literature review. At least i have a friendly cup of coffee to keep me company',\n",
        "                      \"ouMYTAXES.txt I am worried that I won't get my $900 even though I paid tax last year\"\n",
        "]"
      ],
      "metadata": {
        "id": "6Us1BbfbDFH-"
      },
      "execution_count": 20,
      "outputs": []
    },
    {
      "cell_type": "code",
      "source": [
        "# Write a regex to match text file name\n",
        "regex = r\"^[aeiouAEIOU]{2,3}\\w+\\.txt\"\n",
        "\n",
        "for text in sentiment_analysis:\n",
        "\t# Find all matches of the regex\n",
        "\tprint(re.findall(regex, text))\n",
        "    \n",
        "\t# Replace all matches with empty string\n",
        "\tprint(re.sub(regex, \"\", text))"
      ],
      "metadata": {
        "colab": {
          "base_uri": "https://localhost:8080/"
        },
        "id": "-69n-exlDAgH",
        "outputId": "93f83b72-7753-4796-9972-17f5d6d5873e"
      },
      "execution_count": 21,
      "outputs": [
        {
          "output_type": "stream",
          "name": "stdout",
          "text": [
            "['AIshadowhunters.txt']\n",
            " aaaaand back to my literature review. At least i have a friendly cup of coffee to keep me company\n",
            "['ouMYTAXES.txt']\n",
            " I am worried that I won't get my $900 even though I paid tax last year\n"
          ]
        }
      ]
    },
    {
      "cell_type": "markdown",
      "source": [
        "#**Give me your email**\n",
        "A colleague has asked for your help! When a user signs up on the company website, they must provide a valid email address.\n",
        "The company puts some rules in place to verify that the given email address is valid:\n",
        "\n",
        "The first part can contain:\n",
        "\n",
        "* Upper A-Z or lowercase letters a-z\n",
        "* Numbers\n",
        "* Characters: !, #, %, &, *, $, .\n",
        "* Must have @\n",
        "\n",
        "Domain:\n",
        "* Can contain any word characters\n",
        "* But only .com ending is allowed\n",
        "\n",
        "The project consists of writing a script that checks if the email address follow the correct pattern. Your colleague gave you a list of email addresses as examples to test."
      ],
      "metadata": {
        "id": "Ncto07QVDXaJ"
      }
    },
    {
      "cell_type": "code",
      "source": [
        "emails = ['n.john.smith@gmail.com', '87victory@hotmail.com', '!#mary-=@msca.net']"
      ],
      "metadata": {
        "id": "0wPfaTaKDTyM"
      },
      "execution_count": 22,
      "outputs": []
    },
    {
      "cell_type": "code",
      "source": [
        "# Write a regex to match a valid email address\n",
        "regex = r\"[a-zA-Z\\d!#%&*$\\.]+@\\w+\\.com\"\n",
        "\n",
        "for example in emails:\n",
        "  \t# Match the regex to the string\n",
        "    if re.findall(regex, example):\n",
        "        # Complete the format method to print out the result\n",
        "      \tprint(\"The email {email_example} is a valid email\".format(email_example=example))\n",
        "    else:\n",
        "      \tprint(\"The email {email_example} is invalid\".format(email_example=example))   "
      ],
      "metadata": {
        "colab": {
          "base_uri": "https://localhost:8080/"
        },
        "id": "NJ6aK6D-DvVH",
        "outputId": "5db56c2d-2ac6-4cad-973c-69e30d400260"
      },
      "execution_count": 23,
      "outputs": [
        {
          "output_type": "stream",
          "name": "stdout",
          "text": [
            "The email n.john.smith@gmail.com is a valid email\n",
            "The email 87victory@hotmail.com is a valid email\n",
            "The email !#mary-=@msca.net is invalid\n"
          ]
        }
      ]
    },
    {
      "cell_type": "markdown",
      "source": [
        "#**Invalid password**\n",
        "The second part of the website project is to write a script that validates the password entered by the user. The company also puts some rules in order to verify valid passwords:\n",
        "\n",
        "* It can contain lowercase a-z and uppercase letters A-Z\n",
        "* It can contain numbers\n",
        "* It can contain the symbols: *, #, $, %, !, &, .\n",
        "* It must be at least 8 characters long but not more than 20\n",
        "\n",
        "Your colleague also gave you a list of passwords as examples to test."
      ],
      "metadata": {
        "id": "qn4nAcnbD0eY"
      }
    },
    {
      "cell_type": "code",
      "source": [
        "passwords = ['Apple34!rose', 'My87hou#4$', 'abc123']"
      ],
      "metadata": {
        "id": "9Qc2zTNtD8Hm"
      },
      "execution_count": 24,
      "outputs": []
    },
    {
      "cell_type": "code",
      "source": [
        "# Write a regex to check if the password is valid\n",
        "regex = r\"[a-zA-Z0-9*#\\$%!&\\.]{8,20}\"\n",
        "\n",
        "for example in passwords:\n",
        "  \t# Scan the strings to find a match\n",
        "    if re.search(regex, example):\n",
        "        # Complete the format method to print out the result\n",
        "      \tprint(\"The password {pass_example} is a valid password\".format(pass_example=example))\n",
        "    else:\n",
        "      \tprint(\"The password {pass_example} is invalid\".format(pass_example=example))   "
      ],
      "metadata": {
        "colab": {
          "base_uri": "https://localhost:8080/"
        },
        "id": "NnXPM98XDwMg",
        "outputId": "e61fa6c7-4e01-40fe-961f-e74b04593498"
      },
      "execution_count": 25,
      "outputs": [
        {
          "output_type": "stream",
          "name": "stdout",
          "text": [
            "The password Apple34!rose is a valid password\n",
            "The password My87hou#4$ is a valid password\n",
            "The password abc123 is invalid\n"
          ]
        }
      ]
    },
    {
      "cell_type": "markdown",
      "source": [
        "#**Understanding the difference**\n",
        "You need to keep working and cleaning your tweets dataset. You realize that there are some HTML tags present. You need to remove them but keep the inside content as they are useful for analysis.\n",
        "\n",
        "Let's take a look at this sentence containing an HTML tag:\n",
        "\n",
        "`I want to see that <strong>amazing show</strong> again!.`\n",
        "\n",
        "You know that to get the HTML tag you need to match anything that sits inside angle brackets < >. But the biggest problem is that the closing tag has the same structure. If you match too much, you will end up removing key information. So you need to decide whether to use a greedy or a lazy quantifier."
      ],
      "metadata": {
        "id": "dQ-D7XYlEFYu"
      }
    },
    {
      "cell_type": "code",
      "source": [
        "string  ='I want to see that <strong>amazing show</strong> again!'"
      ],
      "metadata": {
        "id": "YggGI0v5ERF9"
      },
      "execution_count": 26,
      "outputs": []
    },
    {
      "cell_type": "code",
      "source": [
        "# Write a regex to eliminate tags\n",
        "string_notags = re.sub(r\"<.+?>\", \"\", string)\n",
        "\n",
        "# Print out the result\n",
        "print(string_notags)"
      ],
      "metadata": {
        "colab": {
          "base_uri": "https://localhost:8080/"
        },
        "id": "Zxlsz6FQD_jy",
        "outputId": "51de1b6f-860f-4850-b322-4e5fac7689f9"
      },
      "execution_count": 28,
      "outputs": [
        {
          "output_type": "stream",
          "name": "stdout",
          "text": [
            "I want to see that amazing show again!\n"
          ]
        }
      ]
    },
    {
      "cell_type": "markdown",
      "source": [
        "#**Greedy matching**\n",
        "Next, you see that numbers still appear in the text of the tweets. So, you decide to find all of them.\n",
        "\n",
        "Let's imagine that you want to extract the number contained in the sentence I was born on April 24th. A lazy quantifier will make the regex return 2 and 4, because they will match as few characters as needed. However, a greedy quantifier will return the entire 24 due to its need to match as much as possible."
      ],
      "metadata": {
        "id": "7swjZnrwEZGG"
      }
    },
    {
      "cell_type": "code",
      "source": [
        "sentiment_analysis = 'Was intending to finish editing my 536-page novel manuscript tonight, but that will probably not happen. And only 12 pages are left '"
      ],
      "metadata": {
        "id": "PD_81yP8ETPl"
      },
      "execution_count": 29,
      "outputs": []
    },
    {
      "cell_type": "code",
      "source": [
        "#Use a lazy quantifier to match all numbers that appear in the variable sentiment_analysis\n",
        "\n",
        "# Write a lazy regex expression \n",
        "numbers_found_lazy = re.findall(r\"\\d+?\", sentiment_analysis)\n",
        "\n",
        "# Print out the result\n",
        "print(numbers_found_lazy)\n",
        "\n",
        "#Now, use a greedy quantifier to match all numbers that appear in the variable sentiment_analysis.\n",
        "\n",
        "# Write a greedy regex expression \n",
        "numbers_found_greedy = re.findall(r\"\\d+\", sentiment_analysis)\n",
        "\n",
        "# Print out the result\n",
        "print(numbers_found_greedy)"
      ],
      "metadata": {
        "colab": {
          "base_uri": "https://localhost:8080/"
        },
        "id": "xOV-FJvZEeAl",
        "outputId": "04ddfc6e-f0e4-46fe-e3ba-0e949cd53434"
      },
      "execution_count": 30,
      "outputs": [
        {
          "output_type": "stream",
          "name": "stdout",
          "text": [
            "['5', '3', '6', '1', '2']\n",
            "['536', '12']\n"
          ]
        }
      ]
    },
    {
      "cell_type": "markdown",
      "source": [
        "#**Lazy approach**\n",
        "You have done some cleaning in your dataset but you are worried that there are sentences encased in parentheses that may cloud your analysis.\n",
        "\n",
        "Again, a greedy or a lazy quantifier may lead to different results.\n",
        "\n",
        "For example, if you want to extract a word starting with a and ending with e in the string I like apple pie, you may think that applying the greedy regex a.+e will return apple. However, your match will be apple pie. A way to overcome this is to make it lazy by using ? which will return apple."
      ],
      "metadata": {
        "id": "-WBE23JcEsyt"
      }
    },
    {
      "cell_type": "code",
      "source": [
        "sentiment_analysis = \"Put vacation photos online (They were so cute) a few yrs ago. PC crashed, and now I forget the name of the site (I'm crying). \""
      ],
      "metadata": {
        "id": "o3R4C71wEnvO"
      },
      "execution_count": 33,
      "outputs": []
    },
    {
      "cell_type": "code",
      "source": [
        "#Use a greedy quantifier to match text that appears within parentheses in the variable sentiment_analysis.\n",
        "\n",
        "# Write a greedy regex expression to match \n",
        "sentences_found_greedy = re.findall(r\"\\(.+\\)\", sentiment_analysis)\n",
        "\n",
        "# Print out the result\n",
        "print(sentences_found_greedy)\n",
        "\n",
        "#Now, use a lazy quantifier to match text that appears within parentheses in the variable sentiment_analysis.\n",
        "\n",
        "# Write a lazy regex expression\n",
        "sentences_found_lazy = re.findall(r\"\\(.+?\\)\", sentiment_analysis)\n",
        "\n",
        "# Print out the results\n",
        "print(sentences_found_lazy)"
      ],
      "metadata": {
        "colab": {
          "base_uri": "https://localhost:8080/"
        },
        "id": "-qfEaXpOEwfy",
        "outputId": "ee8a5194-d53c-470c-fd5e-b803193c28f5"
      },
      "execution_count": 34,
      "outputs": [
        {
          "output_type": "stream",
          "name": "stdout",
          "text": [
            "[\"(They were so cute) a few yrs ago. PC crashed, and now I forget the name of the site (I'm crying)\"]\n",
            "['(They were so cute)', \"(I'm crying)\"]\n"
          ]
        }
      ]
    }
  ]
}