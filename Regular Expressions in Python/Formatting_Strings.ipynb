{
  "nbformat": 4,
  "nbformat_minor": 0,
  "metadata": {
    "colab": {
      "name": "Formatting Strings.ipynb",
      "provenance": [],
      "collapsed_sections": []
    },
    "kernelspec": {
      "name": "python3",
      "display_name": "Python 3"
    },
    "language_info": {
      "name": "python"
    }
  },
  "cells": [
    {
      "cell_type": "markdown",
      "source": [
        "#**Put it in order!**\n",
        "Your company is analyzing the best way to provide users with different online courses. Your job is to scrape Wikipedia pages searching for tools used in Data Science subfields. You'll store the tool and field name in a database. After a text analysis, you realize that the information is provided in a specific position of the text but sometimes the field name is given first and the tool after that, while in other cases it's the other way around.\n",
        "\n",
        "You decide to use positional formatting to handle these situations because it provides a way to reorder placeholders."
      ],
      "metadata": {
        "id": "iZBuFOpFEN1e"
      }
    },
    {
      "cell_type": "code",
      "execution_count": 2,
      "metadata": {
        "colab": {
          "base_uri": "https://localhost:8080/"
        },
        "id": "LYCB_t7BEJEB",
        "outputId": "a0f44f2d-088d-4530-f016-8a4efd5c7b5a"
      },
      "outputs": [
        {
          "output_type": "stream",
          "name": "stdout",
          "text": [
            "The tool computer science is used in artificial intelligence\n",
            "The tool artificial intelligence is used in computer science\n"
          ]
        }
      ],
      "source": [
        "wikipedia_article = 'In computer science, artificial intelligence (AI), sometimes called machine intelligence, is intelligence demonstrated by machines, in contrast to the natural intelligence displayed by humans and animals.'\n",
        "\n",
        "my_list = []\n",
        "\n",
        "# Assign the substrings to the variables\n",
        "first_pos = wikipedia_article[3:19].lower()\n",
        "second_pos = wikipedia_article[21:44].lower()\n",
        "\n",
        "# Define string with placeholders \n",
        "my_list.append(\"The tool {} is used in {}\")\n",
        "\n",
        "# Define string with rearranged placeholders\n",
        "my_list.append(\"The tool {1} is used in {0}\")\n",
        "\n",
        "# Use format to print strings\n",
        "for my_string in my_list:\n",
        "  \tprint(my_string.format(first_pos, second_pos))"
      ]
    },
    {
      "cell_type": "markdown",
      "source": [
        "#**Calling by its name**\n",
        "You have created your database with the tools and the different Data Science subfields they are used in. The company is considering creating courses using these tools and sending personalized emails to the users recommending the different topics. They have asked you to make this process more time-efficient. To do this, you want to create a template email with a standard message changing the different tools and corresponding field name.\n",
        "\n",
        "First, you want to try doing this with just one example as a proof of concept. You use positional formatting and named placeholders to call the variables in a dictionary."
      ],
      "metadata": {
        "id": "VLgzbIX_EjAK"
      }
    },
    {
      "cell_type": "code",
      "source": [
        "courses = ['artificial intelligence', 'neural networks']\n",
        "\n",
        "# Create a dictionary\n",
        "plan = {\n",
        "  \t    \"field\": courses[0],\n",
        "        \"tool\": courses[1]\n",
        "        }\n",
        "\n",
        "# Complete the placeholders accessing elements of field and tool keys in the data dictionary\n",
        "my_message = \"If you are interested in {data[field]}, you can take the course related to {data[tool]}\"\n",
        "\n",
        "# Use the plan dictionary to replace placeholders\n",
        "print(my_message.format(data=plan))"
      ],
      "metadata": {
        "colab": {
          "base_uri": "https://localhost:8080/"
        },
        "id": "cxduaH6JEbQF",
        "outputId": "e1426332-3ac9-43b6-c23f-a972a62bc43f"
      },
      "execution_count": 4,
      "outputs": [
        {
          "output_type": "stream",
          "name": "stdout",
          "text": [
            "If you are interested in artificial intelligence, you can take the course related to neural networks\n"
          ]
        }
      ]
    },
    {
      "cell_type": "markdown",
      "source": [
        "#**What day is today?**\n",
        "It's lunch time and you are talking with some of your colleagues. They comment that they feel that every morning someone should send them a reminder of what day it is so they can check in the calendar what their assignments are for that day.\n",
        "\n",
        "You want to help out and decide to write a small script that takes the date and time of the day so that every morning, a message is sent to your colleagues. You can use the module datetime along with named placeholders to achieve your goal.\n",
        "\n",
        "The date should be expressed as Month day, year, e.g. April 16, 2019 and the time as hh:mm, e.g. 16:30.\n",
        "\n",
        "You write down some specifiers to help you: %d(day), %B (monthname), %m (monthnumber), %Y(year), %H (hour) and %M(minutes)"
      ],
      "metadata": {
        "id": "myySfO2MEwEI"
      }
    },
    {
      "cell_type": "code",
      "source": [
        "# Import datetime \n",
        "from datetime import datetime\n",
        "\n",
        "# Assign date to get_date\n",
        "get_date = datetime.now()\n",
        "\n",
        "# Add named placeholders with format specifiers\n",
        "message = \"Good morning. Today is {today:%B %d, %Y}. It's {today:%H:%M} ... time to work!\"\n",
        "\n",
        "# Use the format method replacing the placeholder with get_date\n",
        "print(message.format(today=get_date))"
      ],
      "metadata": {
        "colab": {
          "base_uri": "https://localhost:8080/"
        },
        "id": "6q08G1ROEpLR",
        "outputId": "61bddaf9-d444-4b3b-fc7d-aee4f5e574df"
      },
      "execution_count": 5,
      "outputs": [
        {
          "output_type": "stream",
          "name": "stdout",
          "text": [
            "Good morning. Today is April 23, 2022. It's 20:18 ... time to work!\n"
          ]
        }
      ]
    },
    {
      "cell_type": "markdown",
      "source": [
        "#**Literally formatting**\n",
        "While analyzing the text from Wikipedia pages, you read that Python 3.6 introduced f-strings.\n",
        "\n",
        "You remember that you've created a website that displayed data science facts but it was too slow. You think that it could be due to the string formatting you used. Because f-strings are very fast and easy to use, you decide to rewrite that project.\n",
        "\n",
        "The variables field1, field2 and field3 containing character strings as well as the numeric variables fact1, fact2, fact3 and fact4 have been saved."
      ],
      "metadata": {
        "id": "yCIE3H34E5dj"
      }
    },
    {
      "cell_type": "code",
      "source": [
        "field1 = 'sexiest job'\n",
        "field2 = 'data is produced daily'\n",
        "field3 =  'Individuals'\n",
        "\n",
        "fact1, fact2, fact3, fact4 = 21, 2500000000000000000, 72.41415415151, 1.09"
      ],
      "metadata": {
        "id": "yAU_O2_HE4d-"
      },
      "execution_count": 8,
      "outputs": []
    },
    {
      "cell_type": "code",
      "source": [
        "# Complete the f-string\n",
        "print(f\"Data science is considered {field1!r} in the {fact1}st century\")\n",
        "\n",
        "# Complete the f-string\n",
        "print(f\"About {fact2:e} of {field2} in the world\")\n",
        "\n",
        "# Complete the f-string\n",
        "print(f\"{field3} create around {fact3:.2f}% of the data but only {fact4:.1f}% is analyzed\")"
      ],
      "metadata": {
        "colab": {
          "base_uri": "https://localhost:8080/"
        },
        "id": "vC-NUceDFaQM",
        "outputId": "88539841-cb93-41bd-9305-70c7d3c2cecf"
      },
      "execution_count": 9,
      "outputs": [
        {
          "output_type": "stream",
          "name": "stdout",
          "text": [
            "Data science is considered 'sexiest job' in the 21st century\n",
            "About 2.500000e+18 of data is produced daily in the world\n",
            "Individuals create around 72.41% of the data but only 1.1% is analyzed\n"
          ]
        }
      ]
    },
    {
      "cell_type": "markdown",
      "source": [
        "#**Make this function**\n",
        "Wow! You are excited to see how fast and easy f-strings worked. So you plan to rewrite some more of your old code.\n",
        "\n",
        "Now you know that f-strings allow you to evaluate expressions where they appear and include function and method calls. You decide to use them in a project where you analyze 120 tweets to check if they include links to different news. In that way, you expect the code to be cleaner and more readable.\n",
        "\n",
        "The variables number1, number2,string1, and list_links have already been pre-loaded."
      ],
      "metadata": {
        "id": "--1A1HGGFsoq"
      }
    },
    {
      "cell_type": "code",
      "source": [
        "number1, number2 = 120, 7\n",
        "string1 = 'httpswww.datacamp.com'\n",
        "list_links = ['www.news.com',\n",
        " 'www.google.com',\n",
        " 'www.yahoo.com',\n",
        " 'www.bbc.com',\n",
        " 'www.msn.com',\n",
        " 'www.facebook.com',\n",
        " 'www.news.google.com']"
      ],
      "metadata": {
        "id": "ERGehbz7FgF7"
      },
      "execution_count": 10,
      "outputs": []
    },
    {
      "cell_type": "code",
      "source": [
        "# Include both variables and the result of dividing them \n",
        "print(f\"{number1} tweets were downloaded in {number2} minutes indicating a speed of {number1/number2:.1f} tweets per min\")\n",
        "\n",
        "# Replace the substring https by an empty string\n",
        "print(f\"{string1.replace('https', '')}\")\n",
        "\n",
        "# Divide the length of list by 120 rounded to two decimals\n",
        "print(f\"Only {len(list_links)*100/120:.2f}% of the posts contain links\")"
      ],
      "metadata": {
        "colab": {
          "base_uri": "https://localhost:8080/"
        },
        "id": "gsDxsuxdF_ok",
        "outputId": "3bc93599-704c-4272-9801-b0fde54e46fb"
      },
      "execution_count": 11,
      "outputs": [
        {
          "output_type": "stream",
          "name": "stdout",
          "text": [
            "120 tweets were downloaded in 7 minutes indicating a speed of 17.1 tweets per min\n",
            "www.datacamp.com\n",
            "Only 5.83% of the posts contain links\n"
          ]
        }
      ]
    },
    {
      "cell_type": "markdown",
      "source": [
        "#**On time**\n",
        "Lastly, you want to rewrite an old real estate prediction project. At the time, you obtained historical information about house prices and used it to make a prediction on future values.\n",
        "\n",
        "The date was in the datetime format: datetime.datetime(1990, 3, 17) but to print it out, you format it as 3-17-1990. You also remember that you defined a dictionary for each neighborhood. Now, you believe that you can handle both type of data better with f-strings.\n",
        "\n",
        "Two dictionaries, east and west, both with the keys date and price, have already been loaded. You can use print() to view them in the IPython Shell."
      ],
      "metadata": {
        "id": "E53mkc4kGHZD"
      }
    },
    {
      "cell_type": "code",
      "source": [
        "import datetime\n",
        "\n",
        "east = {'date': datetime.datetime(2007, 4, 20, 0, 0), 'price': 1232443}\n",
        "west = {'date': datetime.datetime(2006, 5, 26, 0, 0), 'price': 1432673} "
      ],
      "metadata": {
        "id": "tCD8qe_5GGYy"
      },
      "execution_count": 13,
      "outputs": []
    },
    {
      "cell_type": "code",
      "source": [
        "# Access values of date and price in east dictionary\n",
        "print(f\"The price for a house in the east neighborhood was ${east['price']} in {east['date']:%m-%d-%Y}\")\n",
        "\n",
        "# Access values of date and price in west dictionary\n",
        "print(f\"The price for a house in the west neighborhood was ${west['price']} in {west['date']:%m-%d-%Y}.\")"
      ],
      "metadata": {
        "colab": {
          "base_uri": "https://localhost:8080/"
        },
        "id": "AoGQJE2OGXSC",
        "outputId": "a9f153c3-5818-4fe2-bae6-1091e7e3fe29"
      },
      "execution_count": 14,
      "outputs": [
        {
          "output_type": "stream",
          "name": "stdout",
          "text": [
            "The price for a house in the east neighborhood was $1232443 in 04-20-2007\n",
            "The price for a house in the west neighborhood was $1432673 in 05-26-2006.\n"
          ]
        }
      ]
    },
    {
      "cell_type": "markdown",
      "source": [
        "#**Preparing a report**\n",
        "Once again, you scraped Wikipedia pages. This time, you searched for the description of useful tools used for text mining. Your first task is to prepare a report about different tools you found. You want to format the information contained in the dataset to be printed out as: (tool) is a (description).\n",
        "\n",
        "In this case, template strings are the best solution to interpolate data generated by external sources into an already created template.\n",
        "\n",
        "For this example, the variables tool1, tool2 and tool3 contain three article titles. Each variable description1, description2 and description3 contains the corresponding article description."
      ],
      "metadata": {
        "id": "Lr9afi1VGh34"
      }
    },
    {
      "cell_type": "code",
      "source": [
        "tool1 = 'Natural Language Toolkit'\n",
        "tool2 = 'TextBlob'\n",
        "tool3 = 'Gensim'\n",
        "\n",
        "description1 = 'suite of libraries and programs for symbolic and statistical natural language processing (NLP) for English written in the Python programming language. It was developed by Steven Bird and Edward Loper in the Department of Computer and Information Science at the University of Pennsylvania.'\n",
        "description2 = 'Python library for processing textual data. It provides a simple API for diving into common natural language processing tasks such as part-of-speech tagging, noun phrase extraction, sentiment analysis, classification, translation, and more.'\n",
        "description3 = 'robust open-source vector space modeling and topic modeling toolkit implemented in Python. It uses NumPy, SciPy and optionally Cython for performance. Gensim is specifically designed to handle large text collections, using data streaming and efficient incremental algorithms, which differentiates it from most other scientific software packages that only target batch and in-memory processing.'"
      ],
      "metadata": {
        "id": "utwF3caeGgz1"
      },
      "execution_count": 15,
      "outputs": []
    },
    {
      "cell_type": "code",
      "source": [
        "# Import Template\n",
        "from string import Template\n",
        "\n",
        "# Create a template\n",
        "wikipedia = Template(\"$tool is a $description\")\n",
        "\n",
        "# Substitute variables in template\n",
        "print(wikipedia.substitute(tool=tool1, description=description1))\n",
        "print(wikipedia.substitute(tool=tool2, description=description2))\n",
        "print(wikipedia.substitute(tool=tool3, description=description3))"
      ],
      "metadata": {
        "colab": {
          "base_uri": "https://localhost:8080/"
        },
        "id": "B67W7VAZHBP9",
        "outputId": "232a6706-54d3-4163-f2b0-333fff43c494"
      },
      "execution_count": 16,
      "outputs": [
        {
          "output_type": "stream",
          "name": "stdout",
          "text": [
            "Natural Language Toolkit is a suite of libraries and programs for symbolic and statistical natural language processing (NLP) for English written in the Python programming language. It was developed by Steven Bird and Edward Loper in the Department of Computer and Information Science at the University of Pennsylvania.\n",
            "TextBlob is a Python library for processing textual data. It provides a simple API for diving into common natural language processing tasks such as part-of-speech tagging, noun phrase extraction, sentiment analysis, classification, translation, and more.\n",
            "Gensim is a robust open-source vector space modeling and topic modeling toolkit implemented in Python. It uses NumPy, SciPy and optionally Cython for performance. Gensim is specifically designed to handle large text collections, using data streaming and efficient incremental algorithms, which differentiates it from most other scientific software packages that only target batch and in-memory processing.\n"
          ]
        }
      ]
    },
    {
      "cell_type": "markdown",
      "source": [
        "#**Identifying prices**\n",
        "After you showed your report to your boss, he came up with the idea of offering courses to the company's users on some of the tools you studied. In order to make a pilot test, you will send an email offering a course about one of the tools, randomly chosen from your dataset. You also mention that the estimated fee needs to be paid on a monthly basis.\n",
        "\n",
        "For writing the email, you will use Template strings. You remember that you need to be careful when you use the dollar sign since it is used for identifiers in this case.\n",
        "\n",
        "For this example, the list tools contains the corresponding tool name, fee and payment type for the product offer. "
      ],
      "metadata": {
        "id": "bbhgH6xaHHMB"
      }
    },
    {
      "cell_type": "code",
      "source": [
        "tools = ['Natural Language Toolkit', '20', 'month']\n",
        "\n",
        "# Import template\n",
        "from string import Template\n",
        "\n",
        "# Select variables\n",
        "our_tool = tools[0]\n",
        "our_fee = tools[1]\n",
        "our_pay = tools[2]\n",
        "\n",
        "# Create template\n",
        "course = Template(\"We are offering a 3-month beginner course on $tool just for $$ $fee ${pay}ly\")\n",
        "\n",
        "# Substitute identifiers with three variables\n",
        "print(course.substitute(tool=our_tool, fee=our_fee, pay=our_pay))"
      ],
      "metadata": {
        "colab": {
          "base_uri": "https://localhost:8080/"
        },
        "id": "z1HsYhMQHGS4",
        "outputId": "40f3384a-8432-4001-ff21-7382388f75d7"
      },
      "execution_count": 17,
      "outputs": [
        {
          "output_type": "stream",
          "name": "stdout",
          "text": [
            "We are offering a 3-month beginner course on Natural Language Toolkit just for $ 20 monthly\n"
          ]
        }
      ]
    },
    {
      "cell_type": "markdown",
      "source": [
        "#**Playing safe**\n",
        "You are in charge of a new project! Your job is to start collecting information from the company's main application users. You will make an online quiz and ask your users to voluntarily answer two questions. However, it is not mandatory for the user to answer both. You will be handling user-provided strings so you decide to use the Template method to print the input information. This allows users to double-check their answers before submitting them."
      ],
      "metadata": {
        "id": "JkmcrEELHT3G"
      }
    },
    {
      "cell_type": "code",
      "source": [
        "answers = {'answer1': 'I really like the app. But there are some features that can be improved'}"
      ],
      "metadata": {
        "id": "uHQXVtIqHSjV"
      },
      "execution_count": 18,
      "outputs": []
    },
    {
      "cell_type": "code",
      "source": [
        "# Import template\n",
        "from string import Template\n",
        "\n",
        "# Complete template string using identifiers\n",
        "the_answers = Template(\"Check your answer 1: $answer1, and your answer 2: $answer2\")\n",
        "print(the_answers)"
      ],
      "metadata": {
        "colab": {
          "base_uri": "https://localhost:8080/"
        },
        "id": "qLke0mvkHhs7",
        "outputId": "62c14b5a-4f91-4b17-a2d5-184add54590e"
      },
      "execution_count": 19,
      "outputs": [
        {
          "output_type": "stream",
          "name": "stdout",
          "text": [
            "<string.Template object at 0x7f06ee2f2f50>\n"
          ]
        }
      ]
    },
    {
      "cell_type": "code",
      "source": [
        "# Complete template string using identifiers\n",
        "the_answers = Template(\"Check your answer 1: $answer1, and your answer 2: $answer2\")\n",
        "\n",
        "# Use substitute to replace identifiers\n",
        "try:\n",
        "    print(the_answers.substitute(answers))\n",
        "except KeyError:\n",
        "    print(\"Missing information\")"
      ],
      "metadata": {
        "colab": {
          "base_uri": "https://localhost:8080/"
        },
        "id": "yKbifCzzJz8d",
        "outputId": "68f7fdf7-8848-4bf1-9220-2a404dc9f9e8"
      },
      "execution_count": 20,
      "outputs": [
        {
          "output_type": "stream",
          "name": "stdout",
          "text": [
            "Missing information\n"
          ]
        }
      ]
    },
    {
      "cell_type": "code",
      "source": [
        "# Import template\n",
        "from string import Template\n",
        "\n",
        "# Complete template string using identifiers\n",
        "the_answers = Template(\"Check your answer 1: $answer1, and your answer 2: $answer2\")\n",
        "\n",
        "# Use safe_substitute to replace identifiers\n",
        "try:\n",
        "    print(the_answers.safe_substitute(answers))\n",
        "except KeyError:\n",
        "    print(\"Missing information\")"
      ],
      "metadata": {
        "colab": {
          "base_uri": "https://localhost:8080/"
        },
        "id": "zXHlABazJ2dr",
        "outputId": "1a2ed042-d978-41e0-ec5a-1bd9c74d6946"
      },
      "execution_count": 21,
      "outputs": [
        {
          "output_type": "stream",
          "name": "stdout",
          "text": [
            "Check your answer 1: I really like the app. But there are some features that can be improved, and your answer 2: $answer2\n"
          ]
        }
      ]
    }
  ]
}