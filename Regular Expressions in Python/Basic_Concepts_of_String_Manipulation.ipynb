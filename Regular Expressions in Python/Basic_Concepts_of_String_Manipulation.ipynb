{
  "nbformat": 4,
  "nbformat_minor": 0,
  "metadata": {
    "colab": {
      "name": "Basic Concepts of String Manipulation.ipynb",
      "provenance": [],
      "collapsed_sections": []
    },
    "kernelspec": {
      "name": "python3",
      "display_name": "Python 3"
    },
    "language_info": {
      "name": "python"
    }
  },
  "cells": [
    {
      "cell_type": "markdown",
      "source": [
        "#**First day!**\n",
        "Congratulations! It's your first day as a data scientist in the company! Your first project is to build a model for predicting if a movie will get a positive or negative review.\n",
        "You need to start exploring your dataset. In order to create a function that will scan each movie review, you want to know how many characters every string has and print the result out together with a statement that indicate what the number refers to. To test if your function works correctly, you are going to start by analyzing only one example."
      ],
      "metadata": {
        "id": "8c0PwBxuAb8j"
      }
    },
    {
      "cell_type": "code",
      "execution_count": 1,
      "metadata": {
        "colab": {
          "base_uri": "https://localhost:8080/"
        },
        "id": "2qLSpf8QmOPl",
        "outputId": "1a2bbbde-a5e0-4a0b-83ad-06afea7755db"
      },
      "outputs": [
        {
          "output_type": "stream",
          "name": "stdout",
          "text": [
            "Number of characters in this review: 135\n"
          ]
        }
      ],
      "source": [
        "movie = \"fox and kelley soon become bitter rivals because the new fox books store is opening up right across the block from the small business .\"\n",
        "\n",
        "# Find characters in movie variable\n",
        "length_string = len(movie)\n",
        "\n",
        "# Convert to string\n",
        "to_string = str(length_string)\n",
        "\n",
        "# Predefined variable\n",
        "statement = \"Number of characters in this review:\"\n",
        "\n",
        "# Concatenate strings and print result\n",
        "print(statement + ' ' + to_string)"
      ]
    },
    {
      "cell_type": "markdown",
      "source": [
        "#**Artificial reviews**\n",
        "While checking out the movie reviews in your dataset, you realize that some of them show an atypical pattern. Since you should only include true reviews in your analysis, you decide to extract the suspicious ones that follow this pattern. You want to see if it is possible to artificially create reviews by using the first and last part of one example review and changing a keyword in the middle."
      ],
      "metadata": {
        "id": "mUXAeRzCAox6"
      }
    },
    {
      "cell_type": "code",
      "source": [
        "movie1 = 'the most significant tension of _election_ is the potential relationship between a teacher and his student .'\n",
        "movie2 = 'the most significant tension of _rushmore_ is the potential relationship between a teacher and his student .'\n",
        "\n",
        "# Select the first 32 characters of movie1\n",
        "first_part = movie1[:32]\n",
        "\n",
        "# Select from 43rd character to the end of movie1\n",
        "last_part = movie1[42:]\n",
        "\n",
        "# Select from 33rd to the 42nd character\n",
        "middle_part = movie2[32:42]\n",
        "\n",
        "# Print concatenation and movie2 variable\n",
        "print(first_part+middle_part+last_part) \n",
        "print(movie2)"
      ],
      "metadata": {
        "colab": {
          "base_uri": "https://localhost:8080/"
        },
        "id": "RM4sAhcNAnee",
        "outputId": "9e329058-ff1f-4b67-fea5-17eb95cca97a"
      },
      "execution_count": 2,
      "outputs": [
        {
          "output_type": "stream",
          "name": "stdout",
          "text": [
            "the most significant tension of _rushmore_ is the potential relationship between a teacher and his student .\n",
            "the most significant tension of _rushmore_ is the potential relationship between a teacher and his student .\n"
          ]
        }
      ]
    },
    {
      "cell_type": "markdown",
      "source": [
        "#**Palindromes**\n",
        "Next, you are committed to finding any peculiarity in the words included in the movie review dataset. A palindrome is a sequence of characters that can be read the same backward as forward, for example: Madam or No lemon, no melon. You realize that some funny movie names can have this characteristic. You want to make a list of all movie titles that are funny palindromes but you will start by analyzing one example.\n",
        "\n",
        "In python, you can also specify steps by using a third index. If you don't specify the first or second index and the third one is negative, it will return the characters jumping and backward."
      ],
      "metadata": {
        "id": "cSQq0r2XBH-O"
      }
    },
    {
      "cell_type": "code",
      "source": [
        "movie = 'oh my God! desserts I stressed was an ugly movie'\n",
        "\n",
        "# Get the word\n",
        "movie_title = movie[11:30]\n",
        "\n",
        "# Obtain the palindrome\n",
        "palindrome = movie_title[::-1]\n",
        "\n",
        "# Print the word if it's a palindrome\n",
        "if movie_title == palindrome:\n",
        "\tprint(movie_title)"
      ],
      "metadata": {
        "colab": {
          "base_uri": "https://localhost:8080/"
        },
        "id": "R7WLd-jDA_oh",
        "outputId": "a05a32a8-fa01-4272-e42c-04a566b13227"
      },
      "execution_count": 4,
      "outputs": [
        {
          "output_type": "stream",
          "name": "stdout",
          "text": [
            "desserts I stressed\n"
          ]
        }
      ]
    },
    {
      "cell_type": "markdown",
      "source": [
        "#**Normalizing reviews**\n",
        "It's time to extract some important words present in your movie review dataset. First, you need to normalize them and then, count their frequency. Part of the normalization implies converting all the words to lowercase, removing special characters and extracting the root of a word so you count the variants as one.\n",
        "\n",
        "So imagine you have the following reviews: The movie surprises me very much and Marvel movies always surprise their audience. If you count the word frequency, you will count surprises one time and surprise one time. However, the verb surprise appears in both and its frequency should be two."
      ],
      "metadata": {
        "id": "RJ12pTImBVo5"
      }
    },
    {
      "cell_type": "code",
      "source": [
        "movie = '$I supposed that coming from MTV Films I should expect no less$'\n",
        "\n",
        "# Convert to lowercase and print the result\n",
        "movie_lower = movie.lower()\n",
        "print(movie_lower)\n",
        "\n",
        "# Remove specified character and print the result\n",
        "movie_no_sign = movie_lower.strip(\"$\")\n",
        "print(movie_no_sign)\n",
        "\n",
        "# Split the string into substrings and print the result\n",
        "movie_split = movie_no_sign.split()\n",
        "print(movie_split)\n",
        "\n",
        "# Select root word and print the result\n",
        "word_root = movie_split[1][::len(movie_split)]\n",
        "print(word_root)"
      ],
      "metadata": {
        "colab": {
          "base_uri": "https://localhost:8080/"
        },
        "id": "llUAEpoaBN5L",
        "outputId": "d8c88f1d-345c-400e-df02-fbe744f78c25"
      },
      "execution_count": 5,
      "outputs": [
        {
          "output_type": "stream",
          "name": "stdout",
          "text": [
            "$i supposed that coming from mtv films i should expect no less$\n",
            "i supposed that coming from mtv films i should expect no less\n",
            "['i', 'supposed', 'that', 'coming', 'from', 'mtv', 'films', 'i', 'should', 'expect', 'no', 'less']\n",
            "s\n"
          ]
        }
      ]
    },
    {
      "cell_type": "markdown",
      "source": [
        "#**Time to join!**\n",
        "While normalizing your text, you noticed that one review had a particular structure. This review ends with the HTML tag <\\i> and it has a lot of commas in different places of the sentence. You decide to remove the tag from the end and use the strategy of splitting the string and joining it back again without the commas."
      ],
      "metadata": {
        "id": "QTEJq01zBlNd"
      }
    },
    {
      "cell_type": "code",
      "source": [
        "movie = 'the film,however,is all good<\\\\i>'\n",
        "\n",
        "# Remove tags happening at the end and print results\n",
        "movie_tag = movie.rstrip(\"<\\i>\")\n",
        "print(movie_tag)\n",
        "\n",
        "# Split the string using commas and print results\n",
        "movie_no_comma = movie_tag.split(\",\")\n",
        "print(movie_no_comma)\n",
        "\n",
        "# Join back together and print results\n",
        "movie_join = \" \".join(movie_no_comma)\n",
        "print(movie_join)"
      ],
      "metadata": {
        "colab": {
          "base_uri": "https://localhost:8080/"
        },
        "id": "Rpd2qGE7BkDm",
        "outputId": "7b6a509d-d87f-4f41-af75-eae12d13b37a"
      },
      "execution_count": 6,
      "outputs": [
        {
          "output_type": "stream",
          "name": "stdout",
          "text": [
            "the film,however,is all good\n",
            "['the film', 'however', 'is all good']\n",
            "the film however is all good\n"
          ]
        }
      ]
    },
    {
      "cell_type": "markdown",
      "source": [
        "#**Split lines or split the line?**\n",
        "You are about to leave work when a colleague asks you to use your string manipulation skills to help him. You need to read strings from a file in a way that if the file contains strings on different lines, they are stored as separate elements. He also wants you to break the strings into pieces if you see that they contain commas."
      ],
      "metadata": {
        "id": "25X7kUpFB0G4"
      }
    },
    {
      "cell_type": "code",
      "source": [
        "file = 'mtv films election, a high school comedy, is a current example\\nfrom there, director steven spielberg wastes no time, taking us into the water on a midnight swim'\n",
        "\n",
        "# Split string at line boundaries\n",
        "file_split = file.splitlines()\n",
        "\n",
        "# Print file_split\n",
        "print(file_split)\n",
        "\n",
        "# Complete for-loop to split by commas\n",
        "for substring in file_split:\n",
        "    substring_split = substring.split(sep=\",\")\n",
        "    print(substring_split)"
      ],
      "metadata": {
        "colab": {
          "base_uri": "https://localhost:8080/"
        },
        "id": "zAwxaQNpByq6",
        "outputId": "2cd56cb1-5d24-4dd4-f924-caacab65d44b"
      },
      "execution_count": 7,
      "outputs": [
        {
          "output_type": "stream",
          "name": "stdout",
          "text": [
            "['mtv films election, a high school comedy, is a current example', 'from there, director steven spielberg wastes no time, taking us into the water on a midnight swim']\n",
            "['mtv films election', ' a high school comedy', ' is a current example']\n",
            "['from there', ' director steven spielberg wastes no time', ' taking us into the water on a midnight swim']\n"
          ]
        }
      ]
    },
    {
      "cell_type": "markdown",
      "source": [
        "#**Finding a substring**\n",
        "It's a new day at work and you need to continue cleaning your dataset for the movie prediction project. While exploring the dataset, you notice a strange pattern: there are some repeated, consecutive words occurring between the character at position 37 and the character at position 41. You decide to write a function to find out which movie reviews show this peculiarity, remembering that the ending position you specify is not inclusive. If you detect the word, you also want to change the string by replacing it with only one instance of the word.\n",
        "\n",
        "Complete the if-else statement following the instructions."
      ],
      "metadata": {
        "id": "gZ3D2jwdCBI4"
      }
    },
    {
      "cell_type": "code",
      "source": [
        "movies = [\"it's clear that he's passionate about his beliefs , and that he's not just a punk looking for an excuse to beat people up .\", \n",
        "          'I believe you I always said that the actor actor actor is amazing in every movie he has played',\n",
        "          \"it's astonishing how frightening the actor actor norton looks with a shaved head and a swastika on his chest.\"\n",
        "]\n",
        "\n",
        "for movie in movies:\n",
        "  \t# If actor is not found between character 37 and 41 inclusive\n",
        "    # Print word not found\n",
        "    if movie.find(\"actor\", 37, 42) == -1:\n",
        "        print(\"Word not found\")\n",
        "    # Count occurrences and replace two with one\n",
        "    elif movie.count(\"actor\") == 2:  \n",
        "        print(movie.replace(\"actor actor\", \"actor\"))\n",
        "    else:\n",
        "        # Replace three occurrences with one\n",
        "        print(movie.replace(\"actor actor actor\", \"actor\"))"
      ],
      "metadata": {
        "colab": {
          "base_uri": "https://localhost:8080/"
        },
        "id": "tPyDOnXMCAI1",
        "outputId": "3559f205-d803-4779-b178-25e84fd42d13"
      },
      "execution_count": 8,
      "outputs": [
        {
          "output_type": "stream",
          "name": "stdout",
          "text": [
            "Word not found\n",
            "I believe you I always said that the actor is amazing in every movie he has played\n",
            "it's astonishing how frightening the actor norton looks with a shaved head and a swastika on his chest.\n"
          ]
        }
      ]
    },
    {
      "cell_type": "markdown",
      "source": [
        "#**Where's the word?**\n",
        "Before finishing cleaning your dataset, you want to check if a specific word occurs in the reviews. You noticed earlier a specific pattern in the strings. Now, you want to create a function to check if a word is present between characters with index 12, and 50, remembering that ending position is exclusive, and print out the lowest index where this word occurs. There are two methods to handle this situation. You want to see which one works best."
      ],
      "metadata": {
        "id": "20bn6N3wCoIq"
      }
    },
    {
      "cell_type": "code",
      "source": [
        "movies = [\"heck , jackie doesn't even have enough money for a haircut , looks like , much less a personal hairstylist .\",\n",
        "         \"in condor , chan plays the same character he's always played , himself , a mixture of bruce lee and tim allen , a master of both kung-fu and slapstick-fu .\"\n",
        "]\n",
        "\n",
        "for movie in movies:\n",
        "  # Find the first occurrence of word\n",
        "  print(movie.find(\"money\", 12, 51))"
      ],
      "metadata": {
        "colab": {
          "base_uri": "https://localhost:8080/"
        },
        "id": "QhZ_XI08Ce0b",
        "outputId": "3a9bc650-f756-4f52-e1d7-e6798a614e7e"
      },
      "execution_count": 11,
      "outputs": [
        {
          "output_type": "stream",
          "name": "stdout",
          "text": [
            "39\n",
            "-1\n"
          ]
        }
      ]
    },
    {
      "cell_type": "code",
      "source": [
        "for movie in movies:\n",
        "  try:\n",
        "    # Find the first occurrence of word\n",
        "  \tprint(movie.index(\"money\", 12, 51))\n",
        "  except ValueError:\n",
        "    print(\"substring not found\")"
      ],
      "metadata": {
        "colab": {
          "base_uri": "https://localhost:8080/"
        },
        "id": "QNS-SJfwC8DZ",
        "outputId": "dc157efe-fe8e-4b8f-dcf9-0c5dcb9251bf"
      },
      "execution_count": 12,
      "outputs": [
        {
          "output_type": "stream",
          "name": "stdout",
          "text": [
            "39\n",
            "substring not found\n"
          ]
        }
      ]
    },
    {
      "cell_type": "markdown",
      "source": [
        "#**Replacing negations**\n",
        "In order to keep working with your prediction project, your next task is to figure out how to handle negations that occur in your dataset. Some algorithms for prediction do not work well with negations, so a good way to handle this is to remove either not or n't, and to replace the next word by its antonym.\n",
        "\n",
        "Let's imagine that you have the string: The movie isn't good. You will need to remove n't and replace good for bad. This way, your string ends up being The movie is bad. You notice that in the first column of the dataset, you have a string that uses the word isn't followed by important."
      ],
      "metadata": {
        "id": "fIWmqw8nDDt9"
      }
    },
    {
      "cell_type": "code",
      "source": [
        "movies = \"the rest of the story isn't important because all it does is serve as a mere backdrop for the two stars to share the screen .\"\n",
        "\n",
        "# Replace negations \n",
        "movies_no_negation = movies.replace(\"isn't\", \"is\")\n",
        "\n",
        "# Replace important\n",
        "movies_antonym = movies_no_negation.replace(\"important\", \"insignificant\")\n",
        "\n",
        "# Print out\n",
        "print(movies_antonym)"
      ],
      "metadata": {
        "colab": {
          "base_uri": "https://localhost:8080/"
        },
        "id": "YIw08vwxC9DZ",
        "outputId": "c1ff9039-66e8-43dd-f172-596431180206"
      },
      "execution_count": 13,
      "outputs": [
        {
          "output_type": "stream",
          "name": "stdout",
          "text": [
            "the rest of the story is insignificant because all it does is serve as a mere backdrop for the two stars to share the screen .\n"
          ]
        }
      ]
    }
  ]
}