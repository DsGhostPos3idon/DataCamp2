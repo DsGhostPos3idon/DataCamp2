{
  "nbformat": 4,
  "nbformat_minor": 0,
  "metadata": {
    "colab": {
      "provenance": []
    },
    "kernelspec": {
      "name": "python3",
      "display_name": "Python 3"
    },
    "language_info": {
      "name": "python"
    }
  },
  "cells": [
    {
      "cell_type": "markdown",
      "source": [
        "# **Chapter 1 - Selecting columns and rows efficiently**"
      ],
      "metadata": {
        "id": "SG55xS4Xsx5-"
      }
    },
    {
      "cell_type": "markdown",
      "source": [
        "## **Measuring time I**\n"
      ],
      "metadata": {
        "id": "BboruQ63tJgm"
      }
    },
    {
      "cell_type": "markdown",
      "source": [
        "\n",
        "In the lecture slides, you saw how the time.time() function can be loaded and used to assess the time required to perform a basic mathematical operation.\n",
        "\n",
        "Now, you will use the same strategy to assess two different methods for solving a similar problem: calculate the sum of squares of all the positive integers from 1 to 1 million (1,000,000).\n",
        "\n",
        "Similar to what you saw in the video, you will compare two methods; one that uses brute force and one more mathematically sophisticated."
      ],
      "metadata": {
        "id": "Xuop-Bb-tN8r"
      }
    },
    {
      "cell_type": "code",
      "execution_count": 1,
      "metadata": {
        "id": "jhD6Kt8ssxQl"
      },
      "outputs": [],
      "source": [
        "def formula(N):\n",
        "    return N*(N+1)*(2*N+1)/6"
      ]
    },
    {
      "cell_type": "code",
      "source": [
        "def brute_force(N):\n",
        "    res = 0\n",
        "    UL = N+1\n",
        "    for i in range(1,UL):\n",
        "        res+=i^2\n",
        "    return res"
      ],
      "metadata": {
        "id": "aogV9sHytozp"
      },
      "execution_count": 2,
      "outputs": []
    },
    {
      "cell_type": "code",
      "source": [
        "import time\n",
        "\n",
        "# Calculate the result of the problem using formula() and print the time required\n",
        "N = 1000000\n",
        "fm_start_time = time.time()\n",
        "first_method = formula(N)\n",
        "print(\"Time using formula: {} sec\".format(time.time() - fm_start_time))\n",
        "\n",
        "# Calculate the result of the problem using brute_force() and print the time required\n",
        "sm_start_time = time.time()\n",
        "second_method = brute_force(N)\n",
        "print(\"Time using the brute force: {} sec\".format(time.time() - sm_start_time))"
      ],
      "metadata": {
        "colab": {
          "base_uri": "https://localhost:8080/"
        },
        "id": "tj8qQWnmtspF",
        "outputId": "38504643-3005-4e89-8e90-64b80d27a17f"
      },
      "execution_count": 4,
      "outputs": [
        {
          "output_type": "stream",
          "name": "stdout",
          "text": [
            "Time using formula: 0.0001628398895263672 sec\n",
            "Time using the brute force: 0.23894858360290527 sec\n"
          ]
        }
      ]
    },
    {
      "cell_type": "markdown",
      "source": [
        "## **Measuring time II**"
      ],
      "metadata": {
        "id": "6TtuT9kMt92m"
      }
    },
    {
      "cell_type": "markdown",
      "source": [
        "\n",
        "As we discussed in the lectures, in the majority of cases, a list comprehension is faster than a for loop.\n",
        "\n",
        "In this demonstration, you will see a case where a list comprehension and a for loop have so small difference in efficiency that choosing either method will perform this simple task instantly.\n",
        "\n",
        "In the list words, there are random words downloaded from the Internet. We are interested to create another list called listlet in which we only keep the words that start with the letter b."
      ],
      "metadata": {
        "id": "I6GQvJ-Rt_kj"
      }
    },
    {
      "cell_type": "code",
      "source": [
        "words = ['<html>', '<head><title>404 Not Found</title></head>', '<body>', '<center><h1>404 Not Found</h1></center>', '<hr><center>nginx</center>', '</body>', '</html>']"
      ],
      "metadata": {
        "id": "Qb2h_QHPuXcz"
      },
      "execution_count": 6,
      "outputs": []
    },
    {
      "cell_type": "code",
      "source": [
        "# Store the time before the execution\n",
        "start_time = time.time()\n",
        "\n",
        "# Execute the operation\n",
        "letlist = [wrd for wrd in words if wrd.startswith('b')]\n",
        "\n",
        "# Store and print the difference between the start and the current time\n",
        "total_time_lc = time.time() - start_time\n",
        "print('Time using list comprehension: {} sec'.format(total_time_lc))"
      ],
      "metadata": {
        "colab": {
          "base_uri": "https://localhost:8080/"
        },
        "id": "d_aIOk35twyz",
        "outputId": "76e73a86-8ee1-427d-ae8d-9d508853ce07"
      },
      "execution_count": 10,
      "outputs": [
        {
          "output_type": "stream",
          "name": "stdout",
          "text": [
            "Time using list comprehension: 0.000152587890625 sec\n"
          ]
        }
      ]
    },
    {
      "cell_type": "code",
      "source": [
        "\n",
        "# Store the time before the execution\n",
        "start_time = time.time()\n",
        "\n",
        "# Execute the operation\n",
        "letlist = []\n",
        "for wrd in words:\n",
        "    if wrd.startswith('b'):\n",
        "        letlist.append(wrd)\n",
        "        \n",
        "# Print the difference between the start and the current time\n",
        "total_time_fl = time.time() - start_time\n",
        "print('Time using for loop: {} sec'.format(total_time_fl))"
      ],
      "metadata": {
        "colab": {
          "base_uri": "https://localhost:8080/"
        },
        "id": "cq4_wvrOuawN",
        "outputId": "a3218cbb-946f-47ef-a88f-73f4ade60baa"
      },
      "execution_count": 11,
      "outputs": [
        {
          "output_type": "stream",
          "name": "stdout",
          "text": [
            "Time using for loop: 0.0002186298370361328 sec\n"
          ]
        }
      ]
    },
    {
      "cell_type": "markdown",
      "source": [
        "## **Row selection: loc[] vs iloc[]**"
      ],
      "metadata": {
        "id": "HQN5HSniuqpW"
      }
    },
    {
      "cell_type": "markdown",
      "source": [
        "\n",
        "A big part of working with DataFrames is to locate specific entries in the dataset. You can locate rows in two ways:\n",
        "\n",
        "By a specific value of a column (feature).\n",
        "By the index of the rows (index). In this exercise, we will focus on the second way.\n",
        "If you have previous experience with pandas, you should be familiar with the .loc and .iloc indexers, which stands for 'location' and 'index location' respectively. In most cases, the indices will be the same as the position of each row in the Dataframe (e.g. the row with index 13 will be the 14th entry).\n",
        "\n",
        "While we can use both functions to perform the same task, we are interested in which is the most efficient in terms of speed"
      ],
      "metadata": {
        "id": "XHfaMig9uq0b"
      }
    },
    {
      "cell_type": "code",
      "source": [
        "import pandas as pd\n",
        "\n",
        "poker_hands = pd.read_csv('poker_hand.csv')"
      ],
      "metadata": {
        "id": "swdWtJweugcH"
      },
      "execution_count": 13,
      "outputs": []
    },
    {
      "cell_type": "code",
      "source": [
        "poker_hands.head()"
      ],
      "metadata": {
        "colab": {
          "base_uri": "https://localhost:8080/",
          "height": 206
        },
        "id": "87xMNeiA4Wkm",
        "outputId": "aca694e7-ce63-4926-cf2e-d0843948c81c"
      },
      "execution_count": 14,
      "outputs": [
        {
          "output_type": "execute_result",
          "data": {
            "text/plain": [
              "   S1  R1  S2  R2  S3  R3  S4  R4  S5  R5  Class\n",
              "0   1  10   1  11   1  13   1  12   1   1      9\n",
              "1   2  11   2  13   2  10   2  12   2   1      9\n",
              "2   3  12   3  11   3  13   3  10   3   1      9\n",
              "3   4  10   4  11   4   1   4  13   4  12      9\n",
              "4   4   1   4  13   4  12   4  11   4  10      9"
            ],
            "text/html": [
              "\n",
              "  <div id=\"df-3aec9138-350e-4e58-a1cc-bdf43f748338\">\n",
              "    <div class=\"colab-df-container\">\n",
              "      <div>\n",
              "<style scoped>\n",
              "    .dataframe tbody tr th:only-of-type {\n",
              "        vertical-align: middle;\n",
              "    }\n",
              "\n",
              "    .dataframe tbody tr th {\n",
              "        vertical-align: top;\n",
              "    }\n",
              "\n",
              "    .dataframe thead th {\n",
              "        text-align: right;\n",
              "    }\n",
              "</style>\n",
              "<table border=\"1\" class=\"dataframe\">\n",
              "  <thead>\n",
              "    <tr style=\"text-align: right;\">\n",
              "      <th></th>\n",
              "      <th>S1</th>\n",
              "      <th>R1</th>\n",
              "      <th>S2</th>\n",
              "      <th>R2</th>\n",
              "      <th>S3</th>\n",
              "      <th>R3</th>\n",
              "      <th>S4</th>\n",
              "      <th>R4</th>\n",
              "      <th>S5</th>\n",
              "      <th>R5</th>\n",
              "      <th>Class</th>\n",
              "    </tr>\n",
              "  </thead>\n",
              "  <tbody>\n",
              "    <tr>\n",
              "      <th>0</th>\n",
              "      <td>1</td>\n",
              "      <td>10</td>\n",
              "      <td>1</td>\n",
              "      <td>11</td>\n",
              "      <td>1</td>\n",
              "      <td>13</td>\n",
              "      <td>1</td>\n",
              "      <td>12</td>\n",
              "      <td>1</td>\n",
              "      <td>1</td>\n",
              "      <td>9</td>\n",
              "    </tr>\n",
              "    <tr>\n",
              "      <th>1</th>\n",
              "      <td>2</td>\n",
              "      <td>11</td>\n",
              "      <td>2</td>\n",
              "      <td>13</td>\n",
              "      <td>2</td>\n",
              "      <td>10</td>\n",
              "      <td>2</td>\n",
              "      <td>12</td>\n",
              "      <td>2</td>\n",
              "      <td>1</td>\n",
              "      <td>9</td>\n",
              "    </tr>\n",
              "    <tr>\n",
              "      <th>2</th>\n",
              "      <td>3</td>\n",
              "      <td>12</td>\n",
              "      <td>3</td>\n",
              "      <td>11</td>\n",
              "      <td>3</td>\n",
              "      <td>13</td>\n",
              "      <td>3</td>\n",
              "      <td>10</td>\n",
              "      <td>3</td>\n",
              "      <td>1</td>\n",
              "      <td>9</td>\n",
              "    </tr>\n",
              "    <tr>\n",
              "      <th>3</th>\n",
              "      <td>4</td>\n",
              "      <td>10</td>\n",
              "      <td>4</td>\n",
              "      <td>11</td>\n",
              "      <td>4</td>\n",
              "      <td>1</td>\n",
              "      <td>4</td>\n",
              "      <td>13</td>\n",
              "      <td>4</td>\n",
              "      <td>12</td>\n",
              "      <td>9</td>\n",
              "    </tr>\n",
              "    <tr>\n",
              "      <th>4</th>\n",
              "      <td>4</td>\n",
              "      <td>1</td>\n",
              "      <td>4</td>\n",
              "      <td>13</td>\n",
              "      <td>4</td>\n",
              "      <td>12</td>\n",
              "      <td>4</td>\n",
              "      <td>11</td>\n",
              "      <td>4</td>\n",
              "      <td>10</td>\n",
              "      <td>9</td>\n",
              "    </tr>\n",
              "  </tbody>\n",
              "</table>\n",
              "</div>\n",
              "      <button class=\"colab-df-convert\" onclick=\"convertToInteractive('df-3aec9138-350e-4e58-a1cc-bdf43f748338')\"\n",
              "              title=\"Convert this dataframe to an interactive table.\"\n",
              "              style=\"display:none;\">\n",
              "        \n",
              "  <svg xmlns=\"http://www.w3.org/2000/svg\" height=\"24px\"viewBox=\"0 0 24 24\"\n",
              "       width=\"24px\">\n",
              "    <path d=\"M0 0h24v24H0V0z\" fill=\"none\"/>\n",
              "    <path d=\"M18.56 5.44l.94 2.06.94-2.06 2.06-.94-2.06-.94-.94-2.06-.94 2.06-2.06.94zm-11 1L8.5 8.5l.94-2.06 2.06-.94-2.06-.94L8.5 2.5l-.94 2.06-2.06.94zm10 10l.94 2.06.94-2.06 2.06-.94-2.06-.94-.94-2.06-.94 2.06-2.06.94z\"/><path d=\"M17.41 7.96l-1.37-1.37c-.4-.4-.92-.59-1.43-.59-.52 0-1.04.2-1.43.59L10.3 9.45l-7.72 7.72c-.78.78-.78 2.05 0 2.83L4 21.41c.39.39.9.59 1.41.59.51 0 1.02-.2 1.41-.59l7.78-7.78 2.81-2.81c.8-.78.8-2.07 0-2.86zM5.41 20L4 18.59l7.72-7.72 1.47 1.35L5.41 20z\"/>\n",
              "  </svg>\n",
              "      </button>\n",
              "      \n",
              "  <style>\n",
              "    .colab-df-container {\n",
              "      display:flex;\n",
              "      flex-wrap:wrap;\n",
              "      gap: 12px;\n",
              "    }\n",
              "\n",
              "    .colab-df-convert {\n",
              "      background-color: #E8F0FE;\n",
              "      border: none;\n",
              "      border-radius: 50%;\n",
              "      cursor: pointer;\n",
              "      display: none;\n",
              "      fill: #1967D2;\n",
              "      height: 32px;\n",
              "      padding: 0 0 0 0;\n",
              "      width: 32px;\n",
              "    }\n",
              "\n",
              "    .colab-df-convert:hover {\n",
              "      background-color: #E2EBFA;\n",
              "      box-shadow: 0px 1px 2px rgba(60, 64, 67, 0.3), 0px 1px 3px 1px rgba(60, 64, 67, 0.15);\n",
              "      fill: #174EA6;\n",
              "    }\n",
              "\n",
              "    [theme=dark] .colab-df-convert {\n",
              "      background-color: #3B4455;\n",
              "      fill: #D2E3FC;\n",
              "    }\n",
              "\n",
              "    [theme=dark] .colab-df-convert:hover {\n",
              "      background-color: #434B5C;\n",
              "      box-shadow: 0px 1px 3px 1px rgba(0, 0, 0, 0.15);\n",
              "      filter: drop-shadow(0px 1px 2px rgba(0, 0, 0, 0.3));\n",
              "      fill: #FFFFFF;\n",
              "    }\n",
              "  </style>\n",
              "\n",
              "      <script>\n",
              "        const buttonEl =\n",
              "          document.querySelector('#df-3aec9138-350e-4e58-a1cc-bdf43f748338 button.colab-df-convert');\n",
              "        buttonEl.style.display =\n",
              "          google.colab.kernel.accessAllowed ? 'block' : 'none';\n",
              "\n",
              "        async function convertToInteractive(key) {\n",
              "          const element = document.querySelector('#df-3aec9138-350e-4e58-a1cc-bdf43f748338');\n",
              "          const dataTable =\n",
              "            await google.colab.kernel.invokeFunction('convertToInteractive',\n",
              "                                                     [key], {});\n",
              "          if (!dataTable) return;\n",
              "\n",
              "          const docLinkHtml = 'Like what you see? Visit the ' +\n",
              "            '<a target=\"_blank\" href=https://colab.research.google.com/notebooks/data_table.ipynb>data table notebook</a>'\n",
              "            + ' to learn more about interactive tables.';\n",
              "          element.innerHTML = '';\n",
              "          dataTable['output_type'] = 'display_data';\n",
              "          await google.colab.output.renderOutput(dataTable, element);\n",
              "          const docLink = document.createElement('div');\n",
              "          docLink.innerHTML = docLinkHtml;\n",
              "          element.appendChild(docLink);\n",
              "        }\n",
              "      </script>\n",
              "    </div>\n",
              "  </div>\n",
              "  "
            ]
          },
          "metadata": {},
          "execution_count": 14
        }
      ]
    },
    {
      "cell_type": "code",
      "source": [
        "poker_hands.tail()"
      ],
      "metadata": {
        "colab": {
          "base_uri": "https://localhost:8080/",
          "height": 206
        },
        "id": "zXJWBZhJ4ZOd",
        "outputId": "2ae1a39b-61fe-4fe1-8703-8e741b9287bb"
      },
      "execution_count": 15,
      "outputs": [
        {
          "output_type": "execute_result",
          "data": {
            "text/plain": [
              "       S1  R1  S2  R2  S3  R3  S4  R4  S5  R5  Class\n",
              "25005   3   9   2   6   4  11   4  12   2   4      0\n",
              "25006   4   1   4  10   3  13   3   4   1  10      1\n",
              "25007   2   1   2  10   4   4   4   1   4  13      1\n",
              "25008   2  12   4   3   1  10   1  12   4   9      1\n",
              "25009   1   7   3  11   3   3   4   8   3   7      1"
            ],
            "text/html": [
              "\n",
              "  <div id=\"df-105f44b1-8a94-4ee3-b2ee-3750adb540de\">\n",
              "    <div class=\"colab-df-container\">\n",
              "      <div>\n",
              "<style scoped>\n",
              "    .dataframe tbody tr th:only-of-type {\n",
              "        vertical-align: middle;\n",
              "    }\n",
              "\n",
              "    .dataframe tbody tr th {\n",
              "        vertical-align: top;\n",
              "    }\n",
              "\n",
              "    .dataframe thead th {\n",
              "        text-align: right;\n",
              "    }\n",
              "</style>\n",
              "<table border=\"1\" class=\"dataframe\">\n",
              "  <thead>\n",
              "    <tr style=\"text-align: right;\">\n",
              "      <th></th>\n",
              "      <th>S1</th>\n",
              "      <th>R1</th>\n",
              "      <th>S2</th>\n",
              "      <th>R2</th>\n",
              "      <th>S3</th>\n",
              "      <th>R3</th>\n",
              "      <th>S4</th>\n",
              "      <th>R4</th>\n",
              "      <th>S5</th>\n",
              "      <th>R5</th>\n",
              "      <th>Class</th>\n",
              "    </tr>\n",
              "  </thead>\n",
              "  <tbody>\n",
              "    <tr>\n",
              "      <th>25005</th>\n",
              "      <td>3</td>\n",
              "      <td>9</td>\n",
              "      <td>2</td>\n",
              "      <td>6</td>\n",
              "      <td>4</td>\n",
              "      <td>11</td>\n",
              "      <td>4</td>\n",
              "      <td>12</td>\n",
              "      <td>2</td>\n",
              "      <td>4</td>\n",
              "      <td>0</td>\n",
              "    </tr>\n",
              "    <tr>\n",
              "      <th>25006</th>\n",
              "      <td>4</td>\n",
              "      <td>1</td>\n",
              "      <td>4</td>\n",
              "      <td>10</td>\n",
              "      <td>3</td>\n",
              "      <td>13</td>\n",
              "      <td>3</td>\n",
              "      <td>4</td>\n",
              "      <td>1</td>\n",
              "      <td>10</td>\n",
              "      <td>1</td>\n",
              "    </tr>\n",
              "    <tr>\n",
              "      <th>25007</th>\n",
              "      <td>2</td>\n",
              "      <td>1</td>\n",
              "      <td>2</td>\n",
              "      <td>10</td>\n",
              "      <td>4</td>\n",
              "      <td>4</td>\n",
              "      <td>4</td>\n",
              "      <td>1</td>\n",
              "      <td>4</td>\n",
              "      <td>13</td>\n",
              "      <td>1</td>\n",
              "    </tr>\n",
              "    <tr>\n",
              "      <th>25008</th>\n",
              "      <td>2</td>\n",
              "      <td>12</td>\n",
              "      <td>4</td>\n",
              "      <td>3</td>\n",
              "      <td>1</td>\n",
              "      <td>10</td>\n",
              "      <td>1</td>\n",
              "      <td>12</td>\n",
              "      <td>4</td>\n",
              "      <td>9</td>\n",
              "      <td>1</td>\n",
              "    </tr>\n",
              "    <tr>\n",
              "      <th>25009</th>\n",
              "      <td>1</td>\n",
              "      <td>7</td>\n",
              "      <td>3</td>\n",
              "      <td>11</td>\n",
              "      <td>3</td>\n",
              "      <td>3</td>\n",
              "      <td>4</td>\n",
              "      <td>8</td>\n",
              "      <td>3</td>\n",
              "      <td>7</td>\n",
              "      <td>1</td>\n",
              "    </tr>\n",
              "  </tbody>\n",
              "</table>\n",
              "</div>\n",
              "      <button class=\"colab-df-convert\" onclick=\"convertToInteractive('df-105f44b1-8a94-4ee3-b2ee-3750adb540de')\"\n",
              "              title=\"Convert this dataframe to an interactive table.\"\n",
              "              style=\"display:none;\">\n",
              "        \n",
              "  <svg xmlns=\"http://www.w3.org/2000/svg\" height=\"24px\"viewBox=\"0 0 24 24\"\n",
              "       width=\"24px\">\n",
              "    <path d=\"M0 0h24v24H0V0z\" fill=\"none\"/>\n",
              "    <path d=\"M18.56 5.44l.94 2.06.94-2.06 2.06-.94-2.06-.94-.94-2.06-.94 2.06-2.06.94zm-11 1L8.5 8.5l.94-2.06 2.06-.94-2.06-.94L8.5 2.5l-.94 2.06-2.06.94zm10 10l.94 2.06.94-2.06 2.06-.94-2.06-.94-.94-2.06-.94 2.06-2.06.94z\"/><path d=\"M17.41 7.96l-1.37-1.37c-.4-.4-.92-.59-1.43-.59-.52 0-1.04.2-1.43.59L10.3 9.45l-7.72 7.72c-.78.78-.78 2.05 0 2.83L4 21.41c.39.39.9.59 1.41.59.51 0 1.02-.2 1.41-.59l7.78-7.78 2.81-2.81c.8-.78.8-2.07 0-2.86zM5.41 20L4 18.59l7.72-7.72 1.47 1.35L5.41 20z\"/>\n",
              "  </svg>\n",
              "      </button>\n",
              "      \n",
              "  <style>\n",
              "    .colab-df-container {\n",
              "      display:flex;\n",
              "      flex-wrap:wrap;\n",
              "      gap: 12px;\n",
              "    }\n",
              "\n",
              "    .colab-df-convert {\n",
              "      background-color: #E8F0FE;\n",
              "      border: none;\n",
              "      border-radius: 50%;\n",
              "      cursor: pointer;\n",
              "      display: none;\n",
              "      fill: #1967D2;\n",
              "      height: 32px;\n",
              "      padding: 0 0 0 0;\n",
              "      width: 32px;\n",
              "    }\n",
              "\n",
              "    .colab-df-convert:hover {\n",
              "      background-color: #E2EBFA;\n",
              "      box-shadow: 0px 1px 2px rgba(60, 64, 67, 0.3), 0px 1px 3px 1px rgba(60, 64, 67, 0.15);\n",
              "      fill: #174EA6;\n",
              "    }\n",
              "\n",
              "    [theme=dark] .colab-df-convert {\n",
              "      background-color: #3B4455;\n",
              "      fill: #D2E3FC;\n",
              "    }\n",
              "\n",
              "    [theme=dark] .colab-df-convert:hover {\n",
              "      background-color: #434B5C;\n",
              "      box-shadow: 0px 1px 3px 1px rgba(0, 0, 0, 0.15);\n",
              "      filter: drop-shadow(0px 1px 2px rgba(0, 0, 0, 0.3));\n",
              "      fill: #FFFFFF;\n",
              "    }\n",
              "  </style>\n",
              "\n",
              "      <script>\n",
              "        const buttonEl =\n",
              "          document.querySelector('#df-105f44b1-8a94-4ee3-b2ee-3750adb540de button.colab-df-convert');\n",
              "        buttonEl.style.display =\n",
              "          google.colab.kernel.accessAllowed ? 'block' : 'none';\n",
              "\n",
              "        async function convertToInteractive(key) {\n",
              "          const element = document.querySelector('#df-105f44b1-8a94-4ee3-b2ee-3750adb540de');\n",
              "          const dataTable =\n",
              "            await google.colab.kernel.invokeFunction('convertToInteractive',\n",
              "                                                     [key], {});\n",
              "          if (!dataTable) return;\n",
              "\n",
              "          const docLinkHtml = 'Like what you see? Visit the ' +\n",
              "            '<a target=\"_blank\" href=https://colab.research.google.com/notebooks/data_table.ipynb>data table notebook</a>'\n",
              "            + ' to learn more about interactive tables.';\n",
              "          element.innerHTML = '';\n",
              "          dataTable['output_type'] = 'display_data';\n",
              "          await google.colab.output.renderOutput(dataTable, element);\n",
              "          const docLink = document.createElement('div');\n",
              "          docLink.innerHTML = docLinkHtml;\n",
              "          element.appendChild(docLink);\n",
              "        }\n",
              "      </script>\n",
              "    </div>\n",
              "  </div>\n",
              "  "
            ]
          },
          "metadata": {},
          "execution_count": 15
        }
      ]
    },
    {
      "cell_type": "code",
      "source": [
        "# Define the range of rows to select: row_nums\n",
        "row_nums = range(0, 1000)\n",
        "\n",
        "# Select the rows using .loc[] and row_nums and record the time before and after\n",
        "loc_start_time = time.time()\n",
        "rows = poker_hands.loc[row_nums]\n",
        "loc_end_time = time.time()\n",
        "\n",
        "# Print the time it took to select the rows using .loc\n",
        "print(\"Time using .loc[]: {} sec\".format(loc_end_time - loc_start_time))\n",
        "\n",
        "# Select the rows using .iloc[] and row_nums and record the time before and after\n",
        "iloc_start_time = time.time()\n",
        "rows = poker_hands.iloc[row_nums]\n",
        "iloc_end_time = time.time()\n",
        "\n",
        "# Print the time it took to select the rows using .iloc\n",
        "print(\"Time using .iloc[]: {} sec\".format(iloc_end_time-iloc_start_time))"
      ],
      "metadata": {
        "colab": {
          "base_uri": "https://localhost:8080/"
        },
        "id": "6sRPiS-N36BP",
        "outputId": "345c592e-cc99-41b5-f0ba-99d7e1de449a"
      },
      "execution_count": 16,
      "outputs": [
        {
          "output_type": "stream",
          "name": "stdout",
          "text": [
            "Time using .loc[]: 0.010109424591064453 sec\n",
            "Time using .iloc[]: 0.001100778579711914 sec\n"
          ]
        }
      ]
    },
    {
      "cell_type": "markdown",
      "source": [
        "## **Column selection: .iloc[] vs by name**"
      ],
      "metadata": {
        "id": "H_xbNLbe4nu_"
      }
    },
    {
      "cell_type": "markdown",
      "source": [
        "In the previous exercise, you saw how the .loc[] and .iloc[] functions can be used to locate specific rows of a DataFrame (based on the index). Turns out, the .iloc[] function performs a lot faster (~ 2 times) for this task!\n",
        "\n",
        "Another important task is to find the faster function to select the targeted features (columns) of a DataFrame. In this exercise, we will compare the following:\n",
        "\n",
        "* using the index locator .iloc()\n",
        "* using the names of the columns While we can use both functions to perform the same task, we are interested in which is the most efficient in terms of speed.\n",
        "\n",
        "In this exercise, you will continue working with the poker data which is stored in poker_hands. "
      ],
      "metadata": {
        "id": "90J8ivK74qA1"
      }
    },
    {
      "cell_type": "code",
      "source": [
        "# Use .iloc to select the first, fourth, fifth, seventh and eighth column and record the times before and after\n",
        "iloc_start_time = time.time()\n",
        "cols = poker_hands.iloc[:,[0,3,4,6,7]]\n",
        "iloc_end_time = time.time()\n",
        "\n",
        "# Print the time it took\n",
        "print(\"Time using .iloc[] : {} sec\".format(iloc_end_time - iloc_start_time))"
      ],
      "metadata": {
        "colab": {
          "base_uri": "https://localhost:8080/"
        },
        "id": "eM70TWjg4cI_",
        "outputId": "47bc875c-19a9-42c3-8d95-4088c1105f2a"
      },
      "execution_count": 20,
      "outputs": [
        {
          "output_type": "stream",
          "name": "stdout",
          "text": [
            "Time using .iloc[] : 0.0024666786193847656 sec\n"
          ]
        }
      ]
    },
    {
      "cell_type": "code",
      "source": [
        "# Use simple column selection to select the first, fourth, fifth, seventh and eighth column and record the times before and after\n",
        "names_start_time = time.time()\n",
        "cols = poker_hands[['S1', 'S2', 'R2', 'R3', 'S4']]\n",
        "names_end_time = time.time()\n",
        "\n",
        "# Print the time it took\n",
        "print(\"Time using selection by name : {} sec\".format(names_end_time - names_start_time))"
      ],
      "metadata": {
        "colab": {
          "base_uri": "https://localhost:8080/"
        },
        "id": "0j6xVSqPQXRs",
        "outputId": "2f5f27b3-5b6d-4b69-97c4-109d2d8d62cd"
      },
      "execution_count": 21,
      "outputs": [
        {
          "output_type": "stream",
          "name": "stdout",
          "text": [
            "Time using selection by name : 0.0017745494842529297 sec\n"
          ]
        }
      ]
    },
    {
      "cell_type": "markdown",
      "source": [
        "There is an explanation for that: with .iloc we need to specify both the rows and columns needed, and this takes more time! It might seem insignificant here, but it will make a huge difference in bigger datasets!"
      ],
      "metadata": {
        "id": "ATpTAZnEQkXF"
      }
    },
    {
      "cell_type": "markdown",
      "source": [
        "## **Random row selection**"
      ],
      "metadata": {
        "id": "tE5dw_HhRJbM"
      }
    },
    {
      "cell_type": "markdown",
      "source": [
        "In this exercise, you will compare the two methods described for selecting random rows (entries) with replacement in a pandas DataFrame:\n",
        "\n",
        "* The built-in pandas function .random()\n",
        "* The NumPy random integer number generator np.random.randint()\n",
        "Generally, in the fields of statistics and machine learning, when we need to train an algorithm, we train the algorithm on the 75% of the available data and then test the performance on the remaining 25% of the data.\n",
        "\n",
        "For this exercise, we will randomly sample the 75% percent of all the played poker hands available, using each of the above methods, and check which method is more efficient in terms of speed."
      ],
      "metadata": {
        "id": "HuJWXuV4RJUy"
      }
    },
    {
      "cell_type": "code",
      "source": [
        "import numpy as np\n",
        "\n",
        "# Extract number of rows in dataset\n",
        "N=poker_hands.shape[0]\n",
        "\n",
        "# Select and time the selection of the 75% of the dataset's rows\n",
        "rand_start_time = time.time()\n",
        "poker_hands.iloc[np.random.randint(low=0, high=N, size=int(0.75 * N))]\n",
        "print(\"Time using Numpy: {} sec\".format(time.time() - rand_start_time))"
      ],
      "metadata": {
        "colab": {
          "base_uri": "https://localhost:8080/"
        },
        "id": "jgPN-A4vQR4o",
        "outputId": "153c7c1d-477c-4863-a7f9-ca4f006aef8e"
      },
      "execution_count": 28,
      "outputs": [
        {
          "output_type": "stream",
          "name": "stdout",
          "text": [
            "Time using Numpy: 0.0028679370880126953 sec\n"
          ]
        }
      ]
    },
    {
      "cell_type": "code",
      "source": [
        "\n",
        "# Select and time the selection of the 75% of the dataset's rows using sample()\n",
        "samp_start_time = time.time()\n",
        "poker_hands.sample(int(0.75 * N), axis=0, replace = True)\n",
        "print(\"Time using .sample: {} sec\".format(time.time() - samp_start_time))"
      ],
      "metadata": {
        "colab": {
          "base_uri": "https://localhost:8080/"
        },
        "id": "uYBy9sDSS2sF",
        "outputId": "a1ede10e-bdf4-4f50-ae52-2b82de4ed9c2"
      },
      "execution_count": 29,
      "outputs": [
        {
          "output_type": "stream",
          "name": "stdout",
          "text": [
            "Time using .sample: 0.005263566970825195 sec\n"
          ]
        }
      ]
    },
    {
      "cell_type": "markdown",
      "source": [
        "## **Random column selection**"
      ],
      "metadata": {
        "id": "GX7yhHkaTAoE"
      }
    },
    {
      "cell_type": "markdown",
      "source": [
        "\n",
        "In the previous exercise, we examined two ways to select random rows from a pandas DataFrame. We can use the same functions to randomly select columns in a pandas DataFrame.\n",
        "\n",
        "To randomly select 4 columns out of the poker dataset, you will use the following two functions:\n",
        "\n",
        "The built-in pandas function .sample()\n",
        "The NumPy random integer number generator np.random.randint()"
      ],
      "metadata": {
        "id": "JPQx7BrtTB-v"
      }
    },
    {
      "cell_type": "code",
      "source": [
        "# Extract number of columns in dataset\n",
        "D=poker_hands.shape[1]\n",
        "\n",
        "# Select and time the selection of 4 of the dataset's columns using NumPy\n",
        "np_start_time = time.time()\n",
        "poker_hands.iloc[:,np.random.randint(low=0, high=D, size=4)]\n",
        "print(\"Time using NymPy's random.randint(): {} sec\".format(time.time() - np_start_time))"
      ],
      "metadata": {
        "colab": {
          "base_uri": "https://localhost:8080/"
        },
        "id": "b_McD17QSwB1",
        "outputId": "c4c8dd8e-6a81-443f-9b74-f69dd97301ce"
      },
      "execution_count": 41,
      "outputs": [
        {
          "output_type": "stream",
          "name": "stdout",
          "text": [
            "Time using NymPy's random.randint(): 0.001390695571899414 sec\n"
          ]
        }
      ]
    },
    {
      "cell_type": "code",
      "source": [
        "# Select and time the selection of 4 of the dataset's columns using pandas\n",
        "pd_start_time = time.time()\n",
        "poker_hands.sample(4, axis=1)\n",
        "print(\"Time using panda's .sample(): {} sec\".format(time.time() - pd_start_time))"
      ],
      "metadata": {
        "colab": {
          "base_uri": "https://localhost:8080/"
        },
        "id": "5zr_xGmAToCa",
        "outputId": "87d45762-b620-44ce-a47d-c99245c86aef"
      },
      "execution_count": 42,
      "outputs": [
        {
          "output_type": "stream",
          "name": "stdout",
          "text": [
            "Time using panda's .sample(): 0.0010151863098144531 sec\n"
          ]
        }
      ]
    }
  ]
}