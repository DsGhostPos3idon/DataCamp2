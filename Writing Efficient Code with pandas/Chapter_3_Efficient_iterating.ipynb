{
  "nbformat": 4,
  "nbformat_minor": 0,
  "metadata": {
    "colab": {
      "provenance": []
    },
    "kernelspec": {
      "name": "python3",
      "display_name": "Python 3"
    },
    "language_info": {
      "name": "python"
    }
  },
  "cells": [
    {
      "cell_type": "markdown",
      "source": [
        "# **Chapter 3 - Efficient iterating**"
      ],
      "metadata": {
        "id": "5MIJ4PZv-amI"
      }
    },
    {
      "cell_type": "markdown",
      "source": [
        "## **Create a generator for a pandas DataFrame**"
      ],
      "metadata": {
        "id": "FIe4lUmv_gz8"
      }
    },
    {
      "cell_type": "markdown",
      "source": [
        "\n",
        "As you've seen in the video, you can easily create a generator out of a pandas DataFrame. Each time you iterate through it, it will yield two elements:\n",
        "\n",
        "the index of the respective row\n",
        "a pandas Series with all the elements of that row\n",
        "You are going to create a generator over the poker dataset, imported as poker_hands. Then, you will print all the elements of the 2nd row, using the generator.\n",
        "\n",
        "Remember you can always explore the dataset and see how it changes in the IPython Shell, and refer to the slides in the Slides tab."
      ],
      "metadata": {
        "id": "mf66edHo_fhd"
      }
    },
    {
      "cell_type": "code",
      "execution_count": 2,
      "metadata": {
        "colab": {
          "base_uri": "https://localhost:8080/",
          "height": 206
        },
        "id": "PVEosNVv-E9u",
        "outputId": "424673d2-d8d2-47af-e64c-df24c0d69d1a"
      },
      "outputs": [
        {
          "output_type": "execute_result",
          "data": {
            "text/plain": [
              "   S1  R1  S2  R2  S3  R3  S4  R4  S5  R5  Class\n",
              "0   1  10   1  11   1  13   1  12   1   1      9\n",
              "1   2  11   2  13   2  10   2  12   2   1      9\n",
              "2   3  12   3  11   3  13   3  10   3   1      9\n",
              "3   4  10   4  11   4   1   4  13   4  12      9\n",
              "4   4   1   4  13   4  12   4  11   4  10      9"
            ],
            "text/html": [
              "\n",
              "  <div id=\"df-1ae98a09-2541-4f3a-b169-ff163d7223f5\">\n",
              "    <div class=\"colab-df-container\">\n",
              "      <div>\n",
              "<style scoped>\n",
              "    .dataframe tbody tr th:only-of-type {\n",
              "        vertical-align: middle;\n",
              "    }\n",
              "\n",
              "    .dataframe tbody tr th {\n",
              "        vertical-align: top;\n",
              "    }\n",
              "\n",
              "    .dataframe thead th {\n",
              "        text-align: right;\n",
              "    }\n",
              "</style>\n",
              "<table border=\"1\" class=\"dataframe\">\n",
              "  <thead>\n",
              "    <tr style=\"text-align: right;\">\n",
              "      <th></th>\n",
              "      <th>S1</th>\n",
              "      <th>R1</th>\n",
              "      <th>S2</th>\n",
              "      <th>R2</th>\n",
              "      <th>S3</th>\n",
              "      <th>R3</th>\n",
              "      <th>S4</th>\n",
              "      <th>R4</th>\n",
              "      <th>S5</th>\n",
              "      <th>R5</th>\n",
              "      <th>Class</th>\n",
              "    </tr>\n",
              "  </thead>\n",
              "  <tbody>\n",
              "    <tr>\n",
              "      <th>0</th>\n",
              "      <td>1</td>\n",
              "      <td>10</td>\n",
              "      <td>1</td>\n",
              "      <td>11</td>\n",
              "      <td>1</td>\n",
              "      <td>13</td>\n",
              "      <td>1</td>\n",
              "      <td>12</td>\n",
              "      <td>1</td>\n",
              "      <td>1</td>\n",
              "      <td>9</td>\n",
              "    </tr>\n",
              "    <tr>\n",
              "      <th>1</th>\n",
              "      <td>2</td>\n",
              "      <td>11</td>\n",
              "      <td>2</td>\n",
              "      <td>13</td>\n",
              "      <td>2</td>\n",
              "      <td>10</td>\n",
              "      <td>2</td>\n",
              "      <td>12</td>\n",
              "      <td>2</td>\n",
              "      <td>1</td>\n",
              "      <td>9</td>\n",
              "    </tr>\n",
              "    <tr>\n",
              "      <th>2</th>\n",
              "      <td>3</td>\n",
              "      <td>12</td>\n",
              "      <td>3</td>\n",
              "      <td>11</td>\n",
              "      <td>3</td>\n",
              "      <td>13</td>\n",
              "      <td>3</td>\n",
              "      <td>10</td>\n",
              "      <td>3</td>\n",
              "      <td>1</td>\n",
              "      <td>9</td>\n",
              "    </tr>\n",
              "    <tr>\n",
              "      <th>3</th>\n",
              "      <td>4</td>\n",
              "      <td>10</td>\n",
              "      <td>4</td>\n",
              "      <td>11</td>\n",
              "      <td>4</td>\n",
              "      <td>1</td>\n",
              "      <td>4</td>\n",
              "      <td>13</td>\n",
              "      <td>4</td>\n",
              "      <td>12</td>\n",
              "      <td>9</td>\n",
              "    </tr>\n",
              "    <tr>\n",
              "      <th>4</th>\n",
              "      <td>4</td>\n",
              "      <td>1</td>\n",
              "      <td>4</td>\n",
              "      <td>13</td>\n",
              "      <td>4</td>\n",
              "      <td>12</td>\n",
              "      <td>4</td>\n",
              "      <td>11</td>\n",
              "      <td>4</td>\n",
              "      <td>10</td>\n",
              "      <td>9</td>\n",
              "    </tr>\n",
              "  </tbody>\n",
              "</table>\n",
              "</div>\n",
              "      <button class=\"colab-df-convert\" onclick=\"convertToInteractive('df-1ae98a09-2541-4f3a-b169-ff163d7223f5')\"\n",
              "              title=\"Convert this dataframe to an interactive table.\"\n",
              "              style=\"display:none;\">\n",
              "        \n",
              "  <svg xmlns=\"http://www.w3.org/2000/svg\" height=\"24px\"viewBox=\"0 0 24 24\"\n",
              "       width=\"24px\">\n",
              "    <path d=\"M0 0h24v24H0V0z\" fill=\"none\"/>\n",
              "    <path d=\"M18.56 5.44l.94 2.06.94-2.06 2.06-.94-2.06-.94-.94-2.06-.94 2.06-2.06.94zm-11 1L8.5 8.5l.94-2.06 2.06-.94-2.06-.94L8.5 2.5l-.94 2.06-2.06.94zm10 10l.94 2.06.94-2.06 2.06-.94-2.06-.94-.94-2.06-.94 2.06-2.06.94z\"/><path d=\"M17.41 7.96l-1.37-1.37c-.4-.4-.92-.59-1.43-.59-.52 0-1.04.2-1.43.59L10.3 9.45l-7.72 7.72c-.78.78-.78 2.05 0 2.83L4 21.41c.39.39.9.59 1.41.59.51 0 1.02-.2 1.41-.59l7.78-7.78 2.81-2.81c.8-.78.8-2.07 0-2.86zM5.41 20L4 18.59l7.72-7.72 1.47 1.35L5.41 20z\"/>\n",
              "  </svg>\n",
              "      </button>\n",
              "      \n",
              "  <style>\n",
              "    .colab-df-container {\n",
              "      display:flex;\n",
              "      flex-wrap:wrap;\n",
              "      gap: 12px;\n",
              "    }\n",
              "\n",
              "    .colab-df-convert {\n",
              "      background-color: #E8F0FE;\n",
              "      border: none;\n",
              "      border-radius: 50%;\n",
              "      cursor: pointer;\n",
              "      display: none;\n",
              "      fill: #1967D2;\n",
              "      height: 32px;\n",
              "      padding: 0 0 0 0;\n",
              "      width: 32px;\n",
              "    }\n",
              "\n",
              "    .colab-df-convert:hover {\n",
              "      background-color: #E2EBFA;\n",
              "      box-shadow: 0px 1px 2px rgba(60, 64, 67, 0.3), 0px 1px 3px 1px rgba(60, 64, 67, 0.15);\n",
              "      fill: #174EA6;\n",
              "    }\n",
              "\n",
              "    [theme=dark] .colab-df-convert {\n",
              "      background-color: #3B4455;\n",
              "      fill: #D2E3FC;\n",
              "    }\n",
              "\n",
              "    [theme=dark] .colab-df-convert:hover {\n",
              "      background-color: #434B5C;\n",
              "      box-shadow: 0px 1px 3px 1px rgba(0, 0, 0, 0.15);\n",
              "      filter: drop-shadow(0px 1px 2px rgba(0, 0, 0, 0.3));\n",
              "      fill: #FFFFFF;\n",
              "    }\n",
              "  </style>\n",
              "\n",
              "      <script>\n",
              "        const buttonEl =\n",
              "          document.querySelector('#df-1ae98a09-2541-4f3a-b169-ff163d7223f5 button.colab-df-convert');\n",
              "        buttonEl.style.display =\n",
              "          google.colab.kernel.accessAllowed ? 'block' : 'none';\n",
              "\n",
              "        async function convertToInteractive(key) {\n",
              "          const element = document.querySelector('#df-1ae98a09-2541-4f3a-b169-ff163d7223f5');\n",
              "          const dataTable =\n",
              "            await google.colab.kernel.invokeFunction('convertToInteractive',\n",
              "                                                     [key], {});\n",
              "          if (!dataTable) return;\n",
              "\n",
              "          const docLinkHtml = 'Like what you see? Visit the ' +\n",
              "            '<a target=\"_blank\" href=https://colab.research.google.com/notebooks/data_table.ipynb>data table notebook</a>'\n",
              "            + ' to learn more about interactive tables.';\n",
              "          element.innerHTML = '';\n",
              "          dataTable['output_type'] = 'display_data';\n",
              "          await google.colab.output.renderOutput(dataTable, element);\n",
              "          const docLink = document.createElement('div');\n",
              "          docLink.innerHTML = docLinkHtml;\n",
              "          element.appendChild(docLink);\n",
              "        }\n",
              "      </script>\n",
              "    </div>\n",
              "  </div>\n",
              "  "
            ]
          },
          "metadata": {},
          "execution_count": 2
        }
      ],
      "source": [
        "import pandas as pd\n",
        "poker_hands = pd.read_csv('poker_hand.csv')\n",
        "poker_hands.head()"
      ]
    },
    {
      "cell_type": "code",
      "source": [
        "# Create a generator over the rows\n",
        "generator = poker_hands.iterrows()\n",
        "\n",
        "# Access the elements of the 2nd row\n",
        "first_element = next(generator)\n",
        "second_element = next(generator)\n",
        "print(first_element, second_element)"
      ],
      "metadata": {
        "colab": {
          "base_uri": "https://localhost:8080/"
        },
        "id": "5WWtu_E6_xNI",
        "outputId": "8311b5ee-a543-45c1-ebfc-414ffc052a76"
      },
      "execution_count": 3,
      "outputs": [
        {
          "output_type": "stream",
          "name": "stdout",
          "text": [
            "(0, S1        1\n",
            "R1       10\n",
            "S2        1\n",
            "R2       11\n",
            "S3        1\n",
            "R3       13\n",
            "S4        1\n",
            "R4       12\n",
            "S5        1\n",
            "R5        1\n",
            "Class     9\n",
            "Name: 0, dtype: int64) (1, S1        2\n",
            "R1       11\n",
            "S2        2\n",
            "R2       13\n",
            "S3        2\n",
            "R3       10\n",
            "S4        2\n",
            "R4       12\n",
            "S5        2\n",
            "R5        1\n",
            "Class     9\n",
            "Name: 1, dtype: int64)\n"
          ]
        }
      ]
    },
    {
      "cell_type": "markdown",
      "source": [
        "## **The iterrows() function for looping**"
      ],
      "metadata": {
        "id": "J4QrmrVlAUDE"
      }
    },
    {
      "cell_type": "markdown",
      "source": [
        "\n",
        "You just saw how to create a generator out of a pandas DataFrame. You will now use this generator and see how to take advantage of that method of looping through a pandas DataFrame, still using the poker_hands dataset.\n",
        "\n",
        "Specifically, we want the sum of the ranks of all the cards, if the index of the hand is an odd number. The ranks of the cards are located in the odd columns of the DataFrame."
      ],
      "metadata": {
        "id": "5xOhdlMNASyp"
      }
    },
    {
      "cell_type": "code",
      "source": [
        "data_generator = poker_hands.iterrows()\n",
        "\n",
        "for index, values in data_generator:\n",
        "  \t# Check if index is odd\n",
        "    if index % 2 != 0:\n",
        "      \t# Sum the ranks of all the cards\n",
        "        hand_sum = sum([values[1], values[3], values[5], values[7], values[9]])"
      ],
      "metadata": {
        "id": "aRsXl3C6_8S1"
      },
      "execution_count": 4,
      "outputs": []
    },
    {
      "cell_type": "markdown",
      "source": [
        "## **.apply() function in every cell**"
      ],
      "metadata": {
        "id": "h5tSj34wBpzt"
      }
    },
    {
      "cell_type": "markdown",
      "source": [
        "\n",
        "As you saw in the lesson, you can use .apply() to map a function to every cell of the DataFrame, regardless the column or the row.\n",
        "\n",
        "You're going to try it out on the poker_hands dataset. You will use .apply() to square every cell of the DataFrame. The native Python way to square a number n is n**2."
      ],
      "metadata": {
        "id": "V7EwuPBgBtbN"
      }
    },
    {
      "cell_type": "code",
      "source": [
        "# Define the lambda transformation\n",
        "get_square = lambda x: x**2\n",
        "\n",
        "# Apply the transformation\n",
        "data_sum = poker_hands.apply(get_square)\n",
        "print(data_sum.head())"
      ],
      "metadata": {
        "colab": {
          "base_uri": "https://localhost:8080/"
        },
        "id": "KzTxZTz5A47z",
        "outputId": "70ae9d5a-317d-4518-cf08-273ddfb53647"
      },
      "execution_count": 5,
      "outputs": [
        {
          "output_type": "stream",
          "name": "stdout",
          "text": [
            "   S1   R1  S2   R2  S3   R3  S4   R4  S5   R5  Class\n",
            "0   1  100   1  121   1  169   1  144   1    1     81\n",
            "1   4  121   4  169   4  100   4  144   4    1     81\n",
            "2   9  144   9  121   9  169   9  100   9    1     81\n",
            "3  16  100  16  121  16    1  16  169  16  144     81\n",
            "4  16    1  16  169  16  144  16  121  16  100     81\n"
          ]
        }
      ]
    },
    {
      "cell_type": "markdown",
      "source": [
        "## **.apply() for rows iteration**"
      ],
      "metadata": {
        "id": "E8H1AXxLB191"
      }
    },
    {
      "cell_type": "markdown",
      "source": [
        ".apply() is a very useful to iterate through the rows of a DataFrame and apply a specific function.\n"
      ],
      "metadata": {
        "id": "6Se_04luB6DN"
      }
    },
    {
      "cell_type": "code",
      "source": [
        "import numpy as np\n",
        "# Define the lambda transformation\n",
        "get_variance = lambda x: np.var(x)\n",
        "\n",
        "# Apply the transformation\n",
        "data_tr = poker_hands[['R1', 'R2', 'R3', 'R4', 'R5']].apply(get_variance, axis=1)\n",
        "print(data_tr.head())"
      ],
      "metadata": {
        "colab": {
          "base_uri": "https://localhost:8080/"
        },
        "id": "XTw1u9NcBx3O",
        "outputId": "db4e33d2-62bd-4e81-9b16-91758cd4e928"
      },
      "execution_count": 7,
      "outputs": [
        {
          "output_type": "stream",
          "name": "stdout",
          "text": [
            "0    18.64\n",
            "1    18.64\n",
            "2    18.64\n",
            "3    18.64\n",
            "4    18.64\n",
            "dtype: float64\n"
          ]
        }
      ]
    },
    {
      "cell_type": "code",
      "source": [
        "get_variance = lambda x: np.var(x)\n",
        "\n",
        "# Apply the transformation\n",
        "data_tr = poker_hands[['R1', 'R2', 'R3', 'R4', 'R5']].apply(get_variance, axis=0)\n",
        "print(data_tr.head())"
      ],
      "metadata": {
        "colab": {
          "base_uri": "https://localhost:8080/"
        },
        "id": "ODdLwpysCNB5",
        "outputId": "69f1bf75-81c8-46dd-b806-ad026fcb045f"
      },
      "execution_count": 8,
      "outputs": [
        {
          "output_type": "stream",
          "name": "stdout",
          "text": [
            "R1    14.060473\n",
            "R2    14.189523\n",
            "R3    14.024270\n",
            "R4    14.040552\n",
            "R5    13.998851\n",
            "dtype: float64\n"
          ]
        }
      ]
    },
    {
      "cell_type": "markdown",
      "source": [
        "## **pandas vectorization in action**"
      ],
      "metadata": {
        "id": "K0qcqxyzCZwr"
      }
    },
    {
      "cell_type": "markdown",
      "source": [
        "In this exercise, you will apply vectorization over pandas series to:\n",
        "\n",
        "calculate the mean rank of all the cards in each hand (row)\n",
        "calculate the mean rank of each of the 5 cards in each hand (column)\n",
        "You will use the poker_hands dataset once again to compare both methods' efficiency."
      ],
      "metadata": {
        "id": "74a5gYw-CZ9P"
      }
    },
    {
      "cell_type": "code",
      "source": [
        "import time as time\n",
        "\n",
        "# Calculate the mean rank in each hand\n",
        "row_start_time = time.time()\n",
        "mean_r = poker_hands[['R1', 'R2', 'R3', 'R4', 'R5']].mean(axis=1)\n",
        "print(\"Time using pandas vectorization for rows: {} sec\".format(time.time() - row_start_time))\n",
        "print(mean_r.head())\n",
        "\n",
        "# Calculate the mean rank of each of the 5 card in all hands\n",
        "col_start_time = time.time()\n",
        "mean_c = poker_hands[['R1', 'R2', 'R3', 'R4', 'R5']].mean(axis=0)\n",
        "print(\"Time using pandas vectorization for columns: {} sec\".format(time.time() - col_start_time))\n",
        "print(mean_c.head())"
      ],
      "metadata": {
        "colab": {
          "base_uri": "https://localhost:8080/"
        },
        "id": "W5YiD562CV0n",
        "outputId": "7641450e-1fbf-450d-aec8-d17610341592"
      },
      "execution_count": 11,
      "outputs": [
        {
          "output_type": "stream",
          "name": "stdout",
          "text": [
            "Time using pandas vectorization for rows: 0.007816314697265625 sec\n",
            "0    9.4\n",
            "1    9.4\n",
            "2    9.4\n",
            "3    9.4\n",
            "4    9.4\n",
            "dtype: float64\n",
            "Time using pandas vectorization for columns: 0.0030629634857177734 sec\n",
            "R1    6.995242\n",
            "R2    7.014194\n",
            "R3    7.014154\n",
            "R4    6.942463\n",
            "R5    6.962735\n",
            "dtype: float64\n"
          ]
        }
      ]
    },
    {
      "cell_type": "markdown",
      "source": [
        "## **Vectorization methods for looping a DataFrame**"
      ],
      "metadata": {
        "id": "ykSjxAfGCauM"
      }
    },
    {
      "cell_type": "markdown",
      "source": [
        "Now that you're familiar with vectorization in pandas and NumPy, you're going to compare their respective performances yourself.\n",
        "\n",
        "Your task is to calculate the variance of all the hands in each hand using the vectorization over pandas Series and then modify your code using the vectorization over Numpy ndarrays method."
      ],
      "metadata": {
        "id": "4sx-6EWcCa2l"
      }
    },
    {
      "cell_type": "code",
      "source": [
        "# Calculate the variance in each hand\n",
        "start_time = time.time()\n",
        "poker_var = poker_hands[['R1', 'R2', 'R3', 'R4', 'R5']].var(axis=1)\n",
        "print(\"Time using pandas vectorization: {} sec\".format(time.time() - start_time))\n",
        "print(poker_var.head())"
      ],
      "metadata": {
        "colab": {
          "base_uri": "https://localhost:8080/"
        },
        "id": "KZ6d3ZZQCbIe",
        "outputId": "568ba0a3-7545-4f17-ec5b-73b1b27cb24a"
      },
      "execution_count": 12,
      "outputs": [
        {
          "output_type": "stream",
          "name": "stdout",
          "text": [
            "Time using pandas vectorization: 0.011697769165039062 sec\n",
            "0    23.3\n",
            "1    23.3\n",
            "2    23.3\n",
            "3    23.3\n",
            "4    23.3\n",
            "dtype: float64\n"
          ]
        }
      ]
    },
    {
      "cell_type": "code",
      "source": [
        "# Calculate the variance in each hand\n",
        "start_time = time.time()\n",
        "poker_var = poker_hands[['R1', 'R2', 'R3', 'R4', 'R5']].values.var(axis=1, ddof=1)\n",
        "print(\"Time using NumPy vectorization: {} sec\".format(time.time() - start_time))\n",
        "print(poker_var[0:5])"
      ],
      "metadata": {
        "colab": {
          "base_uri": "https://localhost:8080/"
        },
        "id": "Ur1LzgMvEKoI",
        "outputId": "be1bd9ae-688c-451b-b224-ac0a40328624"
      },
      "execution_count": 13,
      "outputs": [
        {
          "output_type": "stream",
          "name": "stdout",
          "text": [
            "Time using NumPy vectorization: 0.00751805305480957 sec\n",
            "[23.3 23.3 23.3 23.3 23.3]\n"
          ]
        }
      ]
    }
  ]
}